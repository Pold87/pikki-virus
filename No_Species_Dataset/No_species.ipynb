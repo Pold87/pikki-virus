{
 "cells": [
  {
   "cell_type": "code",
   "execution_count": 5,
   "metadata": {
    "collapsed": true
   },
   "outputs": [],
   "source": [
    "import pandas as pd"
   ]
  },
  {
   "cell_type": "code",
   "execution_count": 6,
   "metadata": {
    "collapsed": true
   },
   "outputs": [],
   "source": [
    "train = pd.read_csv('train_with_additional_values_only_use_for_non_time_series_analysis.csv')"
   ]
  },
  {
   "cell_type": "code",
   "execution_count": 7,
   "metadata": {
    "collapsed": false
   },
   "outputs": [
    {
     "data": {
      "text/plain": [
       "Index(['Id', '10_week_avrgPrecipTotal', '10_week_avrgTavg', '11_week_avrgPrecipTotal', '11_week_avrgTavg', '12_week_avrgPrecipTotal', '12_week_avrgTavg', '13_week_avrgPrecipTotal', '13_week_avrgTavg', '14_week_avrgPrecipTotal', '14_week_avrgTavg', '15_week_avrgPrecipTotal', '15_week_avrgTavg', '16_week_avrgPrecipTotal', '16_week_avrgTavg', '17_week_avrgPrecipTotal', '17_week_avrgTavg', '18_week_avrgPrecipTotal', '18_week_avrgTavg', '19_week_avrgPrecipTotal', '19_week_avrgTavg', '1_week_avrgPrecipTotal', '1_week_avrgTavg', '20_week_avrgPrecipTotal', '20_week_avrgTavg', '21_week_avrgPrecipTotal', '21_week_avrgTavg', '22_week_avrgPrecipTotal', '22_week_avrgTavg', '23_week_avrgPrecipTotal', '23_week_avrgTavg', '2_week_avrgPrecipTotal', '2_week_avrgTavg', '3_week_avrgPrecipTotal', '3_week_avrgTavg', '4_week_avrgPrecipTotal', '4_week_avrgTavg', '5_week_avrgPrecipTotal', '5_week_avrgTavg', '6_week_avrgPrecipTotal', '6_week_avrgTavg', '7_week_avrgPrecipTotal', '7_week_avrgTavg', '8_week_avrgPrecipTotal', '8_week_avrgTavg', '9_week_avrgPrecipTotal', '9_week_avrgTavg', 'Address', 'AddressAccuracy', 'AddressNumberAndStreet', 'AvgSpeed', 'Block', 'CodeSum', 'Cool', 'Date', 'Depart', 'Depth', 'DewPoint', 'Heat', 'Id.1', 'Latitude', 'Longitude', 'Month', 'NumMosquitos', 'PrecipTotal', 'ResultDir', 'ResultSpeed', 'SeaLevel', 'SnowFall', 'Species', 'Station', 'StnPressure', 'Street', 'Sunrise', 'Sunset', 'Tavg', 'Tavg_week', 'Tmax', 'Tmin', 'Trap', 'WetBulb', 'WnvPresent', 'Year', 'cool_dw', 'heat_dw', 'precip_week'], dtype='object')"
      ]
     },
     "execution_count": 7,
     "metadata": {},
     "output_type": "execute_result"
    }
   ],
   "source": [
    "train.columns"
   ]
  },
  {
   "cell_type": "code",
   "execution_count": 8,
   "metadata": {
    "collapsed": true
   },
   "outputs": [],
   "source": [
    "train = train.drop('Species',axis=1)\n",
    "train = train.drop('Id',axis=1)"
   ]
  },
  {
   "cell_type": "code",
   "execution_count": 10,
   "metadata": {
    "collapsed": true
   },
   "outputs": [],
   "source": [
    "train.to_csv('without_Species.csv',index_label='Id')"
   ]
  },
  {
   "cell_type": "code",
   "execution_count": null,
   "metadata": {
    "collapsed": true
   },
   "outputs": [],
   "source": []
  }
 ],
 "metadata": {
  "kernelspec": {
   "display_name": "Python 3",
   "language": "python",
   "name": "python3"
  },
  "language_info": {
   "codemirror_mode": {
    "name": "ipython",
    "version": 3
   },
   "file_extension": ".py",
   "mimetype": "text/x-python",
   "name": "python",
   "nbconvert_exporter": "python",
   "pygments_lexer": "ipython3",
   "version": "3.4.3"
  }
 },
 "nbformat": 4,
 "nbformat_minor": 0
}
