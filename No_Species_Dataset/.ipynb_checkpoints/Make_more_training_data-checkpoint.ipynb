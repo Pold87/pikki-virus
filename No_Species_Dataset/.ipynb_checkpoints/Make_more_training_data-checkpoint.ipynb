{
 "cells": [
  {
   "cell_type": "code",
   "execution_count": 1,
   "metadata": {
    "collapsed": true
   },
   "outputs": [],
   "source": [
    "import pandas as pd\n"
   ]
  },
  {
   "cell_type": "code",
   "execution_count": 37,
   "metadata": {
    "collapsed": false
   },
   "outputs": [],
   "source": [
    "train = pd.read_csv('../Data_with_NumMosquitos/aggregated_train_NumMosquito_no_strings.csv')\n",
    "test = pd.read_csv('../Data_with_NumMosquitos/aggregated_test_NumMosquito_no_strings.csv')"
   ]
  },
  {
   "cell_type": "code",
   "execution_count": 29,
   "metadata": {
    "collapsed": true
   },
   "outputs": [],
   "source": [
    "support = pd.read_csv('../test.csv')"
   ]
  },
  {
   "cell_type": "code",
   "execution_count": 38,
   "metadata": {
    "collapsed": false
   },
   "outputs": [
    {
     "data": {
      "text/plain": [
       "Species\n",
       "0          0.000000\n",
       "1          0.088922\n",
       "2          0.055135\n",
       "3          0.017883\n",
       "4          0.000000\n",
       "5          0.000000\n",
       "6          0.000000\n",
       "Name: WnvPresent, dtype: float64"
      ]
     },
     "execution_count": 38,
     "metadata": {},
     "output_type": "execute_result"
    }
   ],
   "source": [
    "pd.pivot_table(train, values= 'WnvPresent',index=['Species'])"
   ]
  },
  {
   "cell_type": "code",
   "execution_count": 55,
   "metadata": {
    "collapsed": false
   },
   "outputs": [
    {
     "data": {
      "text/plain": [
       "(14345, 116293)"
      ]
     },
     "execution_count": 55,
     "metadata": {},
     "output_type": "execute_result"
    }
   ],
   "source": [
    "\n",
    "\n",
    "bla = test[support.Species == 'CULEX ERRATICUS']\n",
    "len(bla),len(test)"
   ]
  },
  {
   "cell_type": "code",
   "execution_count": 56,
   "metadata": {
    "collapsed": false
   },
   "outputs": [
    {
     "data": {
      "text/plain": [
       "28700"
      ]
     },
     "execution_count": 56,
     "metadata": {},
     "output_type": "execute_result"
    }
   ],
   "source": [
    "bla = bla.append(test[support.Species == 'CULEX SALINARIUS'])\n",
    "len(bla)"
   ]
  },
  {
   "cell_type": "code",
   "execution_count": 57,
   "metadata": {
    "collapsed": false
   },
   "outputs": [
    {
     "data": {
      "text/plain": [
       "43047"
      ]
     },
     "execution_count": 57,
     "metadata": {},
     "output_type": "execute_result"
    }
   ],
   "source": [
    "bla = bla.append(test[support.Species == 'CULEX TARSALIS'])\n",
    "len(bla)"
   ]
  },
  {
   "cell_type": "code",
   "execution_count": 59,
   "metadata": {
    "collapsed": false
   },
   "outputs": [
    {
     "data": {
      "text/plain": [
       "57398"
      ]
     },
     "execution_count": 59,
     "metadata": {},
     "output_type": "execute_result"
    }
   ],
   "source": [
    "bla = bla.append(test[support.Species == 'CULEX TERRITANS'])\n",
    "len(bla)"
   ]
  },
  {
   "cell_type": "code",
   "execution_count": 47,
   "metadata": {
    "collapsed": false
   },
   "outputs": [
    {
     "data": {
      "text/html": [
       "<div style=\"max-height:1000px;max-width:1500px;overflow:auto;\">\n",
       "<table border=\"1\" class=\"dataframe\">\n",
       "  <thead>\n",
       "    <tr style=\"text-align: right;\">\n",
       "      <th></th>\n",
       "      <th>Id</th>\n",
       "      <th>Date</th>\n",
       "      <th>Address</th>\n",
       "      <th>Block</th>\n",
       "      <th>Street</th>\n",
       "      <th>Trap</th>\n",
       "      <th>AddressNumberAndStreet</th>\n",
       "      <th>Latitude</th>\n",
       "      <th>Longitude</th>\n",
       "      <th>AddressAccuracy</th>\n",
       "    </tr>\n",
       "    <tr>\n",
       "      <th>Species</th>\n",
       "      <th></th>\n",
       "      <th></th>\n",
       "      <th></th>\n",
       "      <th></th>\n",
       "      <th></th>\n",
       "      <th></th>\n",
       "      <th></th>\n",
       "      <th></th>\n",
       "      <th></th>\n",
       "      <th></th>\n",
       "    </tr>\n",
       "  </thead>\n",
       "  <tbody>\n",
       "    <tr>\n",
       "      <th>CULEX ERRATICUS</th>\n",
       "      <td> 14345</td>\n",
       "      <td> 14345</td>\n",
       "      <td> 14345</td>\n",
       "      <td> 14345</td>\n",
       "      <td> 14345</td>\n",
       "      <td> 14345</td>\n",
       "      <td> 14345</td>\n",
       "      <td> 14345</td>\n",
       "      <td> 14345</td>\n",
       "      <td> 14345</td>\n",
       "    </tr>\n",
       "    <tr>\n",
       "      <th>CULEX PIPIENS</th>\n",
       "      <td> 14521</td>\n",
       "      <td> 14521</td>\n",
       "      <td> 14521</td>\n",
       "      <td> 14521</td>\n",
       "      <td> 14521</td>\n",
       "      <td> 14521</td>\n",
       "      <td> 14521</td>\n",
       "      <td> 14521</td>\n",
       "      <td> 14521</td>\n",
       "      <td> 14521</td>\n",
       "    </tr>\n",
       "    <tr>\n",
       "      <th>CULEX PIPIENS/RESTUANS</th>\n",
       "      <td> 15359</td>\n",
       "      <td> 15359</td>\n",
       "      <td> 15359</td>\n",
       "      <td> 15359</td>\n",
       "      <td> 15359</td>\n",
       "      <td> 15359</td>\n",
       "      <td> 15359</td>\n",
       "      <td> 15359</td>\n",
       "      <td> 15359</td>\n",
       "      <td> 15359</td>\n",
       "    </tr>\n",
       "    <tr>\n",
       "      <th>CULEX RESTUANS</th>\n",
       "      <td> 14670</td>\n",
       "      <td> 14670</td>\n",
       "      <td> 14670</td>\n",
       "      <td> 14670</td>\n",
       "      <td> 14670</td>\n",
       "      <td> 14670</td>\n",
       "      <td> 14670</td>\n",
       "      <td> 14670</td>\n",
       "      <td> 14670</td>\n",
       "      <td> 14670</td>\n",
       "    </tr>\n",
       "    <tr>\n",
       "      <th>CULEX SALINARIUS</th>\n",
       "      <td> 14355</td>\n",
       "      <td> 14355</td>\n",
       "      <td> 14355</td>\n",
       "      <td> 14355</td>\n",
       "      <td> 14355</td>\n",
       "      <td> 14355</td>\n",
       "      <td> 14355</td>\n",
       "      <td> 14355</td>\n",
       "      <td> 14355</td>\n",
       "      <td> 14355</td>\n",
       "    </tr>\n",
       "    <tr>\n",
       "      <th>CULEX TARSALIS</th>\n",
       "      <td> 14347</td>\n",
       "      <td> 14347</td>\n",
       "      <td> 14347</td>\n",
       "      <td> 14347</td>\n",
       "      <td> 14347</td>\n",
       "      <td> 14347</td>\n",
       "      <td> 14347</td>\n",
       "      <td> 14347</td>\n",
       "      <td> 14347</td>\n",
       "      <td> 14347</td>\n",
       "    </tr>\n",
       "    <tr>\n",
       "      <th>CULEX TERRITANS</th>\n",
       "      <td> 14351</td>\n",
       "      <td> 14351</td>\n",
       "      <td> 14351</td>\n",
       "      <td> 14351</td>\n",
       "      <td> 14351</td>\n",
       "      <td> 14351</td>\n",
       "      <td> 14351</td>\n",
       "      <td> 14351</td>\n",
       "      <td> 14351</td>\n",
       "      <td> 14351</td>\n",
       "    </tr>\n",
       "    <tr>\n",
       "      <th>UNSPECIFIED CULEX</th>\n",
       "      <td> 14345</td>\n",
       "      <td> 14345</td>\n",
       "      <td> 14345</td>\n",
       "      <td> 14345</td>\n",
       "      <td> 14345</td>\n",
       "      <td> 14345</td>\n",
       "      <td> 14345</td>\n",
       "      <td> 14345</td>\n",
       "      <td> 14345</td>\n",
       "      <td> 14345</td>\n",
       "    </tr>\n",
       "  </tbody>\n",
       "</table>\n",
       "</div>"
      ],
      "text/plain": [
       "                           Id   Date  Address  Block  Street   Trap  \\\n",
       "Species                                                               \n",
       "CULEX ERRATICUS         14345  14345    14345  14345   14345  14345   \n",
       "CULEX PIPIENS           14521  14521    14521  14521   14521  14521   \n",
       "CULEX PIPIENS/RESTUANS  15359  15359    15359  15359   15359  15359   \n",
       "CULEX RESTUANS          14670  14670    14670  14670   14670  14670   \n",
       "CULEX SALINARIUS        14355  14355    14355  14355   14355  14355   \n",
       "CULEX TARSALIS          14347  14347    14347  14347   14347  14347   \n",
       "CULEX TERRITANS         14351  14351    14351  14351   14351  14351   \n",
       "UNSPECIFIED CULEX       14345  14345    14345  14345   14345  14345   \n",
       "\n",
       "                        AddressNumberAndStreet  Latitude  Longitude  \\\n",
       "Species                                                               \n",
       "CULEX ERRATICUS                          14345     14345      14345   \n",
       "CULEX PIPIENS                            14521     14521      14521   \n",
       "CULEX PIPIENS/RESTUANS                   15359     15359      15359   \n",
       "CULEX RESTUANS                           14670     14670      14670   \n",
       "CULEX SALINARIUS                         14355     14355      14355   \n",
       "CULEX TARSALIS                           14347     14347      14347   \n",
       "CULEX TERRITANS                          14351     14351      14351   \n",
       "UNSPECIFIED CULEX                        14345     14345      14345   \n",
       "\n",
       "                        AddressAccuracy  \n",
       "Species                                  \n",
       "CULEX ERRATICUS                   14345  \n",
       "CULEX PIPIENS                     14521  \n",
       "CULEX PIPIENS/RESTUANS            15359  \n",
       "CULEX RESTUANS                    14670  \n",
       "CULEX SALINARIUS                  14355  \n",
       "CULEX TARSALIS                    14347  \n",
       "CULEX TERRITANS                   14351  \n",
       "UNSPECIFIED CULEX                 14345  "
      ]
     },
     "execution_count": 47,
     "metadata": {},
     "output_type": "execute_result"
    }
   ],
   "source": [
    "support.groupby('Species').count()"
   ]
  },
  {
   "cell_type": "code",
   "execution_count": 60,
   "metadata": {
    "collapsed": true
   },
   "outputs": [],
   "source": [
    "bla['WnvPresent'] = 0"
   ]
  },
  {
   "cell_type": "code",
   "execution_count": 61,
   "metadata": {
    "collapsed": true
   },
   "outputs": [],
   "source": [
    "inlength = len(test)"
   ]
  },
  {
   "cell_type": "code",
   "execution_count": 64,
   "metadata": {
    "collapsed": false
   },
   "outputs": [
    {
     "data": {
      "text/plain": [
       "Int64Index([232593, 232601, 232609, 232617, 232625, 232633, 232641, 232649, 232657, 232665, 232673, 232681, 232689, 232697, 232705, 232713, 232721, 232729, 232737, 232745, 232753, 232761, 232769, 232777, 232785, 232793, 232801, 232809, 232817, 232825, 232833, 232841, 232849, 232857, 232865, 232873, 232881, 232889, 232897, 232905, 232913, 232921, 232929, 232937, 232945, 232953, 232961, 232969, 232977, 232985, 232993, 233001, 233009, 233017, 233025, 233033, 233041, 233049, 233057, 233065, 233073, 233081, 233089, 233097, 233105, 233113, 233121, 233129, 233137, 233145, 233153, 233161, 233169, 233177, 233185, 233193, 233201, 233209, 233217, 233225, 233233, 233241, 233249, 233257, 233265, 233273, 233281, 233289, 233297, 233305, 233313, 233321, 233329, 233337, 233345, 233353, 233361, 233369, 233377, 233385, ...], dtype='int64')"
      ]
     },
     "execution_count": 64,
     "metadata": {},
     "output_type": "execute_result"
    }
   ],
   "source": [
    "bla.index += inlength\n",
    "bla.index"
   ]
  },
  {
   "cell_type": "code",
   "execution_count": 72,
   "metadata": {
    "collapsed": false
   },
   "outputs": [],
   "source": [
    "a = train.columns"
   ]
  },
  {
   "cell_type": "code",
   "execution_count": 73,
   "metadata": {
    "collapsed": true
   },
   "outputs": [],
   "source": [
    "b = bla.columns"
   ]
  },
  {
   "cell_type": "code",
   "execution_count": 74,
   "metadata": {
    "collapsed": false
   },
   "outputs": [
    {
     "data": {
      "text/plain": [
       "[]"
      ]
     },
     "execution_count": 74,
     "metadata": {},
     "output_type": "execute_result"
    }
   ],
   "source": [
    "[var for var in a if not var in b]"
   ]
  },
  {
   "cell_type": "code",
   "execution_count": 75,
   "metadata": {
    "collapsed": false
   },
   "outputs": [
    {
     "data": {
      "text/plain": [
       "[]"
      ]
     },
     "execution_count": 75,
     "metadata": {},
     "output_type": "execute_result"
    }
   ],
   "source": [
    "[var for var in b if not var in a]"
   ]
  },
  {
   "cell_type": "code",
   "execution_count": 80,
   "metadata": {
    "collapsed": false
   },
   "outputs": [
    {
     "data": {
      "text/plain": [
       "(10506, 85)"
      ]
     },
     "execution_count": 80,
     "metadata": {},
     "output_type": "execute_result"
    }
   ],
   "source": [
    "train.shape"
   ]
  },
  {
   "cell_type": "code",
   "execution_count": 81,
   "metadata": {
    "collapsed": false
   },
   "outputs": [
    {
     "data": {
      "text/plain": [
       "(57398, 85)"
      ]
     },
     "execution_count": 81,
     "metadata": {},
     "output_type": "execute_result"
    }
   ],
   "source": [
    "bla.shape"
   ]
  },
  {
   "cell_type": "code",
   "execution_count": 83,
   "metadata": {
    "collapsed": true
   },
   "outputs": [],
   "source": [
    "train2 = train.append(bla)"
   ]
  },
  {
   "cell_type": "code",
   "execution_count": 84,
   "metadata": {
    "collapsed": false
   },
   "outputs": [
    {
     "data": {
      "text/plain": [
       "(125302, 85)"
      ]
     },
     "execution_count": 84,
     "metadata": {},
     "output_type": "execute_result"
    }
   ],
   "source": [
    "train2.shape"
   ]
  },
  {
   "cell_type": "code",
   "execution_count": 85,
   "metadata": {
    "collapsed": true
   },
   "outputs": [],
   "source": [
    "train2.to_csv('train_with_additional_values_only_use_for_non_time_series_analysis.csv')"
   ]
  },
  {
   "cell_type": "code",
   "execution_count": 34,
   "metadata": {
    "collapsed": false
   },
   "outputs": [
    {
     "data": {
      "text/plain": [
       "Species\n",
       "0          11.604328\n",
       "1          11.644290\n",
       "2          12.123942\n",
       "3          10.838968\n",
       "4          10.768284\n",
       "5          11.319080\n",
       "6          11.921946\n",
       "7          11.921454\n",
       "Name: NumMosquitos, dtype: float64"
      ]
     },
     "execution_count": 34,
     "metadata": {},
     "output_type": "execute_result"
    }
   ],
   "source": [
    "pd.pivot_table(test, values = 'NumMosquitos',index=['Species'])"
   ]
  },
  {
   "cell_type": "code",
   "execution_count": null,
   "metadata": {
    "collapsed": true
   },
   "outputs": [],
   "source": []
  }
 ],
 "metadata": {
  "kernelspec": {
   "display_name": "Python 3",
   "language": "python",
   "name": "python3"
  },
  "language_info": {
   "codemirror_mode": {
    "name": "ipython",
    "version": 3
   },
   "file_extension": ".py",
   "mimetype": "text/x-python",
   "name": "python",
   "nbconvert_exporter": "python",
   "pygments_lexer": "ipython3",
   "version": "3.4.3"
  }
 },
 "nbformat": 4,
 "nbformat_minor": 0
}
