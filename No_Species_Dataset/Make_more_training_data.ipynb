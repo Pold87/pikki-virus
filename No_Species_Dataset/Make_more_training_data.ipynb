{
 "cells": [
  {
   "cell_type": "code",
   "execution_count": 1,
   "metadata": {
    "collapsed": true
   },
   "outputs": [],
   "source": [
    "import pandas as pd\n"
   ]
  },
  {
   "cell_type": "code",
   "execution_count": 2,
   "metadata": {
    "collapsed": false
   },
   "outputs": [],
   "source": [
    "train = pd.read_csv('../Data_with_NumMosquitos/aggregated_train_NumMosquito_no_strings.csv')\n",
    "test = pd.read_csv('../Data_with_NumMosquitos/aggregated_test_NumMosquito_no_strings.csv')"
   ]
  },
  {
   "cell_type": "code",
   "execution_count": 3,
   "metadata": {
    "collapsed": true
   },
   "outputs": [],
   "source": [
    "support = pd.read_csv('../test.csv')"
   ]
  },
  {
   "cell_type": "code",
   "execution_count": 4,
   "metadata": {
    "collapsed": false
   },
   "outputs": [
    {
     "data": {
      "text/plain": [
       "Species\n",
       "0          0.000000\n",
       "1          0.088922\n",
       "2          0.055135\n",
       "3          0.017883\n",
       "4          0.000000\n",
       "5          0.000000\n",
       "6          0.000000\n",
       "Name: WnvPresent, dtype: float64"
      ]
     },
     "execution_count": 4,
     "metadata": {},
     "output_type": "execute_result"
    }
   ],
   "source": [
    "pd.pivot_table(train, values= 'WnvPresent',index=['Species'])"
   ]
  },
  {
   "cell_type": "code",
   "execution_count": 5,
   "metadata": {
    "collapsed": false
   },
   "outputs": [
    {
     "data": {
      "text/plain": [
       "(14345, 116293)"
      ]
     },
     "execution_count": 5,
     "metadata": {},
     "output_type": "execute_result"
    }
   ],
   "source": [
    "\n",
    "\n",
    "bla = test[support.Species == 'CULEX ERRATICUS']\n",
    "len(bla),len(test)"
   ]
  },
  {
   "cell_type": "code",
   "execution_count": 6,
   "metadata": {
    "collapsed": false
   },
   "outputs": [
    {
     "data": {
      "text/plain": [
       "28700"
      ]
     },
     "execution_count": 6,
     "metadata": {},
     "output_type": "execute_result"
    }
   ],
   "source": [
    "bla = bla.append(test[support.Species == 'CULEX SALINARIUS'])\n",
    "len(bla)"
   ]
  },
  {
   "cell_type": "code",
   "execution_count": 7,
   "metadata": {
    "collapsed": false
   },
   "outputs": [
    {
     "data": {
      "text/plain": [
       "43047"
      ]
     },
     "execution_count": 7,
     "metadata": {},
     "output_type": "execute_result"
    }
   ],
   "source": [
    "bla = bla.append(test[support.Species == 'CULEX TARSALIS'])\n",
    "len(bla)"
   ]
  },
  {
   "cell_type": "code",
   "execution_count": 8,
   "metadata": {
    "collapsed": false
   },
   "outputs": [
    {
     "data": {
      "text/plain": [
       "57398"
      ]
     },
     "execution_count": 8,
     "metadata": {},
     "output_type": "execute_result"
    }
   ],
   "source": [
    "bla = bla.append(test[support.Species == 'CULEX TERRITANS'])\n",
    "len(bla)"
   ]
  },
  {
   "cell_type": "code",
   "execution_count": 9,
   "metadata": {
    "collapsed": false
   },
   "outputs": [
    {
     "data": {
      "text/html": [
       "<div style=\"max-height:1000px;max-width:1500px;overflow:auto;\">\n",
       "<table border=\"1\" class=\"dataframe\">\n",
       "  <thead>\n",
       "    <tr style=\"text-align: right;\">\n",
       "      <th></th>\n",
       "      <th>Id</th>\n",
       "      <th>Date</th>\n",
       "      <th>Address</th>\n",
       "      <th>Block</th>\n",
       "      <th>Street</th>\n",
       "      <th>Trap</th>\n",
       "      <th>AddressNumberAndStreet</th>\n",
       "      <th>Latitude</th>\n",
       "      <th>Longitude</th>\n",
       "      <th>AddressAccuracy</th>\n",
       "    </tr>\n",
       "    <tr>\n",
       "      <th>Species</th>\n",
       "      <th></th>\n",
       "      <th></th>\n",
       "      <th></th>\n",
       "      <th></th>\n",
       "      <th></th>\n",
       "      <th></th>\n",
       "      <th></th>\n",
       "      <th></th>\n",
       "      <th></th>\n",
       "      <th></th>\n",
       "    </tr>\n",
       "  </thead>\n",
       "  <tbody>\n",
       "    <tr>\n",
       "      <th>CULEX ERRATICUS</th>\n",
       "      <td> 14345</td>\n",
       "      <td> 14345</td>\n",
       "      <td> 14345</td>\n",
       "      <td> 14345</td>\n",
       "      <td> 14345</td>\n",
       "      <td> 14345</td>\n",
       "      <td> 14345</td>\n",
       "      <td> 14345</td>\n",
       "      <td> 14345</td>\n",
       "      <td> 14345</td>\n",
       "    </tr>\n",
       "    <tr>\n",
       "      <th>CULEX PIPIENS</th>\n",
       "      <td> 14521</td>\n",
       "      <td> 14521</td>\n",
       "      <td> 14521</td>\n",
       "      <td> 14521</td>\n",
       "      <td> 14521</td>\n",
       "      <td> 14521</td>\n",
       "      <td> 14521</td>\n",
       "      <td> 14521</td>\n",
       "      <td> 14521</td>\n",
       "      <td> 14521</td>\n",
       "    </tr>\n",
       "    <tr>\n",
       "      <th>CULEX PIPIENS/RESTUANS</th>\n",
       "      <td> 15359</td>\n",
       "      <td> 15359</td>\n",
       "      <td> 15359</td>\n",
       "      <td> 15359</td>\n",
       "      <td> 15359</td>\n",
       "      <td> 15359</td>\n",
       "      <td> 15359</td>\n",
       "      <td> 15359</td>\n",
       "      <td> 15359</td>\n",
       "      <td> 15359</td>\n",
       "    </tr>\n",
       "    <tr>\n",
       "      <th>CULEX RESTUANS</th>\n",
       "      <td> 14670</td>\n",
       "      <td> 14670</td>\n",
       "      <td> 14670</td>\n",
       "      <td> 14670</td>\n",
       "      <td> 14670</td>\n",
       "      <td> 14670</td>\n",
       "      <td> 14670</td>\n",
       "      <td> 14670</td>\n",
       "      <td> 14670</td>\n",
       "      <td> 14670</td>\n",
       "    </tr>\n",
       "    <tr>\n",
       "      <th>CULEX SALINARIUS</th>\n",
       "      <td> 14355</td>\n",
       "      <td> 14355</td>\n",
       "      <td> 14355</td>\n",
       "      <td> 14355</td>\n",
       "      <td> 14355</td>\n",
       "      <td> 14355</td>\n",
       "      <td> 14355</td>\n",
       "      <td> 14355</td>\n",
       "      <td> 14355</td>\n",
       "      <td> 14355</td>\n",
       "    </tr>\n",
       "    <tr>\n",
       "      <th>CULEX TARSALIS</th>\n",
       "      <td> 14347</td>\n",
       "      <td> 14347</td>\n",
       "      <td> 14347</td>\n",
       "      <td> 14347</td>\n",
       "      <td> 14347</td>\n",
       "      <td> 14347</td>\n",
       "      <td> 14347</td>\n",
       "      <td> 14347</td>\n",
       "      <td> 14347</td>\n",
       "      <td> 14347</td>\n",
       "    </tr>\n",
       "    <tr>\n",
       "      <th>CULEX TERRITANS</th>\n",
       "      <td> 14351</td>\n",
       "      <td> 14351</td>\n",
       "      <td> 14351</td>\n",
       "      <td> 14351</td>\n",
       "      <td> 14351</td>\n",
       "      <td> 14351</td>\n",
       "      <td> 14351</td>\n",
       "      <td> 14351</td>\n",
       "      <td> 14351</td>\n",
       "      <td> 14351</td>\n",
       "    </tr>\n",
       "    <tr>\n",
       "      <th>UNSPECIFIED CULEX</th>\n",
       "      <td> 14345</td>\n",
       "      <td> 14345</td>\n",
       "      <td> 14345</td>\n",
       "      <td> 14345</td>\n",
       "      <td> 14345</td>\n",
       "      <td> 14345</td>\n",
       "      <td> 14345</td>\n",
       "      <td> 14345</td>\n",
       "      <td> 14345</td>\n",
       "      <td> 14345</td>\n",
       "    </tr>\n",
       "  </tbody>\n",
       "</table>\n",
       "</div>"
      ],
      "text/plain": [
       "                           Id   Date  Address  Block  Street   Trap  \\\n",
       "Species                                                               \n",
       "CULEX ERRATICUS         14345  14345    14345  14345   14345  14345   \n",
       "CULEX PIPIENS           14521  14521    14521  14521   14521  14521   \n",
       "CULEX PIPIENS/RESTUANS  15359  15359    15359  15359   15359  15359   \n",
       "CULEX RESTUANS          14670  14670    14670  14670   14670  14670   \n",
       "CULEX SALINARIUS        14355  14355    14355  14355   14355  14355   \n",
       "CULEX TARSALIS          14347  14347    14347  14347   14347  14347   \n",
       "CULEX TERRITANS         14351  14351    14351  14351   14351  14351   \n",
       "UNSPECIFIED CULEX       14345  14345    14345  14345   14345  14345   \n",
       "\n",
       "                        AddressNumberAndStreet  Latitude  Longitude  \\\n",
       "Species                                                               \n",
       "CULEX ERRATICUS                          14345     14345      14345   \n",
       "CULEX PIPIENS                            14521     14521      14521   \n",
       "CULEX PIPIENS/RESTUANS                   15359     15359      15359   \n",
       "CULEX RESTUANS                           14670     14670      14670   \n",
       "CULEX SALINARIUS                         14355     14355      14355   \n",
       "CULEX TARSALIS                           14347     14347      14347   \n",
       "CULEX TERRITANS                          14351     14351      14351   \n",
       "UNSPECIFIED CULEX                        14345     14345      14345   \n",
       "\n",
       "                        AddressAccuracy  \n",
       "Species                                  \n",
       "CULEX ERRATICUS                   14345  \n",
       "CULEX PIPIENS                     14521  \n",
       "CULEX PIPIENS/RESTUANS            15359  \n",
       "CULEX RESTUANS                    14670  \n",
       "CULEX SALINARIUS                  14355  \n",
       "CULEX TARSALIS                    14347  \n",
       "CULEX TERRITANS                   14351  \n",
       "UNSPECIFIED CULEX                 14345  "
      ]
     },
     "execution_count": 9,
     "metadata": {},
     "output_type": "execute_result"
    }
   ],
   "source": [
    "support.groupby('Species').count()"
   ]
  },
  {
   "cell_type": "code",
   "execution_count": 10,
   "metadata": {
    "collapsed": true
   },
   "outputs": [],
   "source": [
    "bla['WnvPresent'] = 0"
   ]
  },
  {
   "cell_type": "code",
   "execution_count": 11,
   "metadata": {
    "collapsed": true
   },
   "outputs": [],
   "source": [
    "inlength = len(test)"
   ]
  },
  {
   "cell_type": "code",
   "execution_count": 12,
   "metadata": {
    "collapsed": false
   },
   "outputs": [
    {
     "data": {
      "text/plain": [
       "Int64Index([116300, 116308, 116316, 116324, 116332, 116340, 116348, 116356, 116364, 116372, 116380, 116388, 116396, 116404, 116412, 116420, 116428, 116436, 116444, 116452, 116460, 116468, 116476, 116484, 116492, 116500, 116508, 116516, 116524, 116532, 116540, 116548, 116556, 116564, 116572, 116580, 116588, 116596, 116604, 116612, 116620, 116628, 116636, 116644, 116652, 116660, 116668, 116676, 116684, 116692, 116700, 116708, 116716, 116724, 116732, 116740, 116748, 116756, 116764, 116772, 116780, 116788, 116796, 116804, 116812, 116820, 116828, 116836, 116844, 116852, 116860, 116868, 116876, 116884, 116892, 116900, 116908, 116916, 116924, 116932, 116940, 116948, 116956, 116964, 116972, 116980, 116988, 116996, 117004, 117012, 117020, 117028, 117036, 117044, 117052, 117060, 117068, 117076, 117084, 117092, ...], dtype='int64')"
      ]
     },
     "execution_count": 12,
     "metadata": {},
     "output_type": "execute_result"
    }
   ],
   "source": [
    "bla.index += inlength\n",
    "bla.index"
   ]
  },
  {
   "cell_type": "code",
   "execution_count": 13,
   "metadata": {
    "collapsed": false
   },
   "outputs": [],
   "source": [
    "a = train.columns"
   ]
  },
  {
   "cell_type": "code",
   "execution_count": 14,
   "metadata": {
    "collapsed": true
   },
   "outputs": [],
   "source": [
    "b = bla.columns"
   ]
  },
  {
   "cell_type": "code",
   "execution_count": 15,
   "metadata": {
    "collapsed": false
   },
   "outputs": [
    {
     "data": {
      "text/plain": [
       "[]"
      ]
     },
     "execution_count": 15,
     "metadata": {},
     "output_type": "execute_result"
    }
   ],
   "source": [
    "[var for var in a if not var in b]"
   ]
  },
  {
   "cell_type": "code",
   "execution_count": 16,
   "metadata": {
    "collapsed": false
   },
   "outputs": [
    {
     "data": {
      "text/plain": [
       "[]"
      ]
     },
     "execution_count": 16,
     "metadata": {},
     "output_type": "execute_result"
    }
   ],
   "source": [
    "[var for var in b if not var in a]"
   ]
  },
  {
   "cell_type": "code",
   "execution_count": 17,
   "metadata": {
    "collapsed": false
   },
   "outputs": [
    {
     "data": {
      "text/plain": [
       "(10506, 85)"
      ]
     },
     "execution_count": 17,
     "metadata": {},
     "output_type": "execute_result"
    }
   ],
   "source": [
    "train.shape"
   ]
  },
  {
   "cell_type": "code",
   "execution_count": 18,
   "metadata": {
    "collapsed": false
   },
   "outputs": [
    {
     "data": {
      "text/plain": [
       "(57398, 85)"
      ]
     },
     "execution_count": 18,
     "metadata": {},
     "output_type": "execute_result"
    }
   ],
   "source": [
    "bla.shape"
   ]
  },
  {
   "cell_type": "code",
   "execution_count": 19,
   "metadata": {
    "collapsed": true
   },
   "outputs": [],
   "source": [
    "train2 = train.append(bla)"
   ]
  },
  {
   "cell_type": "code",
   "execution_count": 20,
   "metadata": {
    "collapsed": false
   },
   "outputs": [
    {
     "data": {
      "text/plain": [
       "(67904, 85)"
      ]
     },
     "execution_count": 20,
     "metadata": {},
     "output_type": "execute_result"
    }
   ],
   "source": [
    "train2.shape"
   ]
  },
  {
   "cell_type": "code",
   "execution_count": 21,
   "metadata": {
    "collapsed": true
   },
   "outputs": [],
   "source": [
    "train2.to_csv('train_with_additional_values_only_use_for_non_time_series_analysis.csv',index_label = 'Id')"
   ]
  },
  {
   "cell_type": "code",
   "execution_count": 22,
   "metadata": {
    "collapsed": false
   },
   "outputs": [
    {
     "data": {
      "text/plain": [
       "Species\n",
       "0          11.603772\n",
       "1          11.639856\n",
       "2          12.009092\n",
       "3          10.767124\n",
       "4          10.737047\n",
       "5          11.265539\n",
       "6          11.906496\n",
       "Name: NumMosquitos, dtype: float64"
      ]
     },
     "execution_count": 22,
     "metadata": {},
     "output_type": "execute_result"
    }
   ],
   "source": [
    "pd.pivot_table(test, values = 'NumMosquitos',index=['Species'])"
   ]
  },
  {
   "cell_type": "code",
   "execution_count": null,
   "metadata": {
    "collapsed": true
   },
   "outputs": [],
   "source": []
  }
 ],
 "metadata": {
  "kernelspec": {
   "display_name": "Python 3",
   "language": "python",
   "name": "python3"
  },
  "language_info": {
   "codemirror_mode": {
    "name": "ipython",
    "version": 3
   },
   "file_extension": ".py",
   "mimetype": "text/x-python",
   "name": "python",
   "nbconvert_exporter": "python",
   "pygments_lexer": "ipython3",
   "version": "3.4.3"
  }
 },
 "nbformat": 4,
 "nbformat_minor": 0
}
