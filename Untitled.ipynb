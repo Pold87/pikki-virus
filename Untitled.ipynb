{
 "cells": [
  {
   "cell_type": "code",
   "execution_count": 1,
   "metadata": {
    "collapsed": true
   },
   "outputs": [],
   "source": [
    "import pandas as pd\n",
    "import numpy as np"
   ]
  },
  {
   "cell_type": "code",
   "execution_count": 9,
   "metadata": {
    "collapsed": true
   },
   "outputs": [],
   "source": [
    "def get_year(dt):\n",
    "    return int(str.split(dt, '-')[0])\n",
    "\n",
    "def year_train_test_split(train, y, test_size, year):\n",
    "    train['year'] = train.Date.apply(get_year)\n",
    "    msk = train.year == year\n",
    "    print(msk)\n",
    "    test = train[msk]\n",
    "    train = train[~msk]\n",
    "\n",
    "    return train, test"
   ]
  },
  {
   "cell_type": "code",
   "execution_count": 10,
   "metadata": {
    "collapsed": true
   },
   "outputs": [],
   "source": [
    "train = pd.read_csv(\"train.csv\")\n",
    "test = pd.read_csv(\"test.csv\")"
   ]
  },
  {
   "cell_type": "code",
   "execution_count": 11,
   "metadata": {
    "collapsed": false
   },
   "outputs": [
    {
     "name": "stdout",
     "output_type": "stream",
     "text": [
      "0         True\n",
      "1         True\n",
      "2         True\n",
      "3         True\n",
      "4         True\n",
      "5         True\n",
      "6         True\n",
      "7         True\n",
      "8         True\n",
      "9         True\n",
      "10        True\n",
      "11        True\n",
      "12        True\n",
      "13        True\n",
      "14        True\n",
      "15        True\n",
      "16        True\n",
      "17        True\n",
      "18        True\n",
      "19        True\n",
      "20        True\n",
      "21        True\n",
      "22        True\n",
      "23        True\n",
      "24        True\n",
      "25        True\n",
      "26        True\n",
      "27        True\n",
      "28        True\n",
      "29        True\n",
      "         ...  \n",
      "10476    False\n",
      "10477    False\n",
      "10478    False\n",
      "10479    False\n",
      "10480    False\n",
      "10481    False\n",
      "10482    False\n",
      "10483    False\n",
      "10484    False\n",
      "10485    False\n",
      "10486    False\n",
      "10487    False\n",
      "10488    False\n",
      "10489    False\n",
      "10490    False\n",
      "10491    False\n",
      "10492    False\n",
      "10493    False\n",
      "10494    False\n",
      "10495    False\n",
      "10496    False\n",
      "10497    False\n",
      "10498    False\n",
      "10499    False\n",
      "10500    False\n",
      "10501    False\n",
      "10502    False\n",
      "10503    False\n",
      "10504    False\n",
      "10505    False\n",
      "Name: year, dtype: bool\n"
     ]
    }
   ],
   "source": [
    "train_year, test_year = year_train_test_split(train, train.WnvPresent, 20, 2007)"
   ]
  },
  {
   "cell_type": "code",
   "execution_count": null,
   "metadata": {
    "collapsed": true
   },
   "outputs": [],
   "source": []
  }
 ],
 "metadata": {
  "kernelspec": {
   "display_name": "Python 2",
   "language": "python",
   "name": "python2"
  },
  "language_info": {
   "codemirror_mode": {
    "name": "ipython",
    "version": 2
   },
   "file_extension": ".py",
   "mimetype": "text/x-python",
   "name": "python",
   "nbconvert_exporter": "python",
   "pygments_lexer": "ipython2",
   "version": "2.7.9"
  }
 },
 "nbformat": 4,
 "nbformat_minor": 0
}
