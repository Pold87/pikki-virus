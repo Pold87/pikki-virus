{
 "cells": [
  {
   "cell_type": "code",
   "execution_count": 1,
   "metadata": {
    "collapsed": true
   },
   "outputs": [],
   "source": [
    "import statsmodels\n"
   ]
  },
  {
   "cell_type": "markdown",
   "metadata": {
    "collapsed": true
   },
   "source": [
    "# Statsmodels timeseries analysis\n"
   ]
  },
  {
   "cell_type": "markdown",
   "metadata": {},
   "source": [
    "##Todo\n",
    "make different classifiers for each year, look which years are most similar, use model only for nearest years. Maybe use EM for that\n",
    "\n",
    "compute priors for traps/locations"
   ]
  },
  {
   "cell_type": "markdown",
   "metadata": {},
   "source": [
    "http://www.pymix.org/pymix/index.php?n=PyMix.Tutorial\n",
    "\n",
    "check this out for EM, maybe over yhat?!"
   ]
  },
  {
   "cell_type": "markdown",
   "metadata": {
    "collapsed": true
   },
   "source": [
    "## is there such a thing\n",
    "as sinoid stretch of the space? if so, we can probably use linreg better!"
   ]
  },
  {
   "cell_type": "markdown",
   "metadata": {},
   "source": [
    "get prior: Look at \"plotmelike\".That counting can work really well, create prior distribution for every variable, use it as feature grpupby([WnvPresent,Feature]).count() -> assign 0/1 then divide 1/0 (build prior +1/+n). try submitting linear combination of priors(which basically means naive bayes ) .\n",
    "\n",
    "Definitely work in frequency domain, idiot."
   ]
  },
  {
   "cell_type": "markdown",
   "metadata": {},
   "source": [
    "specisprior = df.groupby(['Species'])['WnvPresent'].sum()/df.groupby(['Species'])['WnvPresent'].count()\n",
    "\n",
    "sum over all priors = NaiveBayes. Generally: Put putcomes of one classifier into the feature set of the last one. Of course for that, you need to .predict proba() from the Training set (just use without y!)"
   ]
  },
  {
   "cell_type": "markdown",
   "metadata": {},
   "source": [
    "'Deep': Use ONLY probas from previos classifiers as features!"
   ]
  },
  {
   "cell_type": "markdown",
   "metadata": {},
   "source": [
    "forestclassifier.fit([Naivebayes.predict_proba, Logreg.predi\n",
    "ct_proba, .....])"
   ]
  },
  {
   "cell_type": "code",
   "execution_count": null,
   "metadata": {
    "collapsed": true
   },
   "outputs": [],
   "source": []
  }
 ],
 "metadata": {
  "kernelspec": {
   "display_name": "Python 3",
   "language": "python",
   "name": "python3"
  },
  "language_info": {
   "codemirror_mode": {
    "name": "ipython",
    "version": 3
   },
   "file_extension": ".py",
   "mimetype": "text/x-python",
   "name": "python",
   "nbconvert_exporter": "python",
   "pygments_lexer": "ipython3",
   "version": "3.4.3"
  }
 },
 "nbformat": 4,
 "nbformat_minor": 0
}
