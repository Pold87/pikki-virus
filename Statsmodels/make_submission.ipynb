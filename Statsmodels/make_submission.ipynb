{
 "cells": [
  {
   "cell_type": "code",
   "execution_count": 22,
   "metadata": {
    "collapsed": false
   },
   "outputs": [],
   "source": [
    "import pandas as pd\n",
    "import numpy as np\n",
    "from sklearn import cross_validation, preprocessing, metrics\n",
    "df_train = pd.read_csv('../Data_with_NumMosquitos/new_train_priors.csv')\n",
    "#df_train_nomosq = pd.read_csv('../train_filled_new.csv')\n",
    "df_test = pd.read_csv('../Data_with_NumMosquitos/new_test_priors.csv')\n",
    "#df_test_nomosq = pd.read_csv('../test_filled_new.csv')"
   ]
  },
  {
   "cell_type": "code",
   "execution_count": 23,
   "metadata": {
    "collapsed": false
   },
   "outputs": [],
   "source": [
    "from sklearn.ensemble import RandomForestClassifier"
   ]
  },
  {
   "cell_type": "code",
   "execution_count": 24,
   "metadata": {
    "collapsed": true
   },
   "outputs": [],
   "source": [
    "clf = RandomForestClassifier(n_estimators = 1000,n_jobs = 2)"
   ]
  },
  {
   "cell_type": "code",
   "execution_count": 25,
   "metadata": {
    "collapsed": false
   },
   "outputs": [
    {
     "data": {
      "text/plain": [
       "Series([], dtype: object)"
      ]
     },
     "execution_count": 25,
     "metadata": {},
     "output_type": "execute_result"
    }
   ],
   "source": [
    "df_train.dtypes[df_train.dtypes == 'object']"
   ]
  },
  {
   "cell_type": "code",
   "execution_count": 26,
   "metadata": {
    "collapsed": false
   },
   "outputs": [
    {
     "data": {
      "text/plain": [
       "Series([], dtype: object)"
      ]
     },
     "execution_count": 26,
     "metadata": {},
     "output_type": "execute_result"
    }
   ],
   "source": [
    "df_test.dtypes[df_test.dtypes == 'object']"
   ]
  },
  {
   "cell_type": "code",
   "execution_count": 15,
   "metadata": {
    "collapsed": false
   },
   "outputs": [],
   "source": [
    "#strlist = ['Date','Unnamed: 0','Unnamed: 0.1','Id']\n",
    "\n",
    "#df_test = df_test.drop(strlist,axis=1)\n",
    "#df_train = df_train.drop(strlist,axis=1)"
   ]
  },
  {
   "cell_type": "code",
   "execution_count": 28,
   "metadata": {
    "collapsed": false
   },
   "outputs": [
    {
     "data": {
      "text/plain": [
       "(array([2, 3, 3, ..., 2, 2, 2]), array([2, 3, 1, ..., 5, 2, 0]))"
      ]
     },
     "execution_count": 28,
     "metadata": {},
     "output_type": "execute_result"
    }
   ],
   "source": [
    "df_train.Species.values, df_test.Species.values"
   ]
  },
  {
   "cell_type": "code",
   "execution_count": 29,
   "metadata": {
    "collapsed": false
   },
   "outputs": [],
   "source": [
    "#species_encoder = preprocessing.LabelEncoder()\n",
    "\n",
    "#df_train.Species = species_encoder.fit_transform(df_train.Species)\n",
    "from sklearn.preprocessing import scale\n",
    "X = scale(df_train)\n",
    "X_test = scale(df_test)"
   ]
  },
  {
   "cell_type": "code",
   "execution_count": 30,
   "metadata": {
    "collapsed": false
   },
   "outputs": [],
   "source": [
    "y = df_train.WnvPresent\n",
    "\n",
    "#string_features = ['Date','Address','Street','AddressNumberAndStreet','CodeSum']\n",
    "#df_train = df_train.drop(string_features,axis= 1)\n",
    "#df_test = df_test.drop(string_features,axis=1)\n",
    "#df_test = df_test.drop(st_f[1:],axis=1)\n",
    "df_train2 = df_train.drop('count_mosquitos',axis=1)\n",
    "df_test2 = df_test.drop('count_mosquitos',axis=1)\n",
    "X_list = [(df_train.drop('WnvPresent',axis=1),df_test),\n",
    "          (df_train2.drop('WnvPresent',axis=1), df_test2)]\n"
   ]
  },
  {
   "cell_type": "code",
   "execution_count": 32,
   "metadata": {
    "collapsed": false
   },
   "outputs": [],
   "source": [
    "#df_train.dtypes"
   ]
  },
  {
   "cell_type": "code",
   "execution_count": null,
   "metadata": {
    "collapsed": false
   },
   "outputs": [],
   "source": []
  },
  {
   "cell_type": "code",
   "execution_count": 33,
   "metadata": {
    "collapsed": false
   },
   "outputs": [
    {
     "data": {
      "text/plain": [
       "0.052446221206929371"
      ]
     },
     "execution_count": 33,
     "metadata": {},
     "output_type": "execute_result"
    }
   ],
   "source": [
    "np.mean(y)"
   ]
  },
  {
   "cell_type": "code",
   "execution_count": null,
   "metadata": {
    "collapsed": false
   },
   "outputs": [],
   "source": []
  },
  {
   "cell_type": "code",
   "execution_count": 34,
   "metadata": {
    "collapsed": false
   },
   "outputs": [
    {
     "data": {
      "text/plain": [
       "array(['CULEX PIPIENS/RESTUANS', 'CULEX RESTUANS', 'CULEX PIPIENS', ...,\n",
       "       'CULEX TARSALIS', 'UNSPECIFIED CULEX', 'CULEX ERRATICUS'], dtype=object)"
      ]
     },
     "execution_count": 34,
     "metadata": {},
     "output_type": "execute_result"
    }
   ],
   "source": [
    "df_support = pd.read_csv('../test.csv')\n",
    "df_support.Species.values"
   ]
  },
  {
   "cell_type": "code",
   "execution_count": 35,
   "metadata": {
    "collapsed": false
   },
   "outputs": [
    {
     "name": "stdout",
     "output_type": "stream",
     "text": [
      "WnvPresent    0.090505\n",
      "dtype: float64\n",
      "WnvPresent    0.088188\n",
      "dtype: float64\n"
     ]
    }
   ],
   "source": [
    "import numpy as np\n",
    "i = 1\n",
    "for X,X_test in X_list:\n",
    "    i +=  1\n",
    "    clf.fit(X,y)\n",
    "    yhat = clf.predict_proba(X_test)[:,1]\n",
    "    yhat = pd.DataFrame(yhat,columns=['WnvPresent'])\n",
    "    yhat[df_support.Species=='CULEX TARSALIS']=0\n",
    "    yhat[df_support.Species=='CULEX ERRATICUS']=0\n",
    "    yhat[df_support.Species=='UNSPECIFIED CULEX']=0\n",
    "\n",
    "    yhat.index +=1\n",
    "\n",
    "    #yhat[df_support.Species=='CULEX TARSALIS']=0\n",
    "    print(np.mean(yhat))\n",
    "    yhat.to_csv(str(i) + 'submission.csv',index_label = 'Id')"
   ]
  },
  {
   "cell_type": "code",
   "execution_count": 36,
   "metadata": {
    "collapsed": false
   },
   "outputs": [
    {
     "data": {
      "text/plain": [
       "WnvPresent    0.088188\n",
       "dtype: float64"
      ]
     },
     "execution_count": 36,
     "metadata": {},
     "output_type": "execute_result"
    }
   ],
   "source": [
    "yhat.mean()"
   ]
  },
  {
   "cell_type": "code",
   "execution_count": 37,
   "metadata": {
    "collapsed": false
   },
   "outputs": [
    {
     "data": {
      "text/html": [
       "<div style=\"max-height:1000px;max-width:1500px;overflow:auto;\">\n",
       "<table border=\"1\" class=\"dataframe\">\n",
       "  <thead>\n",
       "    <tr style=\"text-align: right;\">\n",
       "      <th></th>\n",
       "      <th>WnvPresent</th>\n",
       "    </tr>\n",
       "  </thead>\n",
       "  <tbody>\n",
       "    <tr>\n",
       "      <th>1</th>\n",
       "      <td>0.019</td>\n",
       "    </tr>\n",
       "    <tr>\n",
       "      <th>2</th>\n",
       "      <td>0.016</td>\n",
       "    </tr>\n",
       "    <tr>\n",
       "      <th>3</th>\n",
       "      <td>0.019</td>\n",
       "    </tr>\n",
       "    <tr>\n",
       "      <th>4</th>\n",
       "      <td>0.016</td>\n",
       "    </tr>\n",
       "    <tr>\n",
       "      <th>5</th>\n",
       "      <td>0.016</td>\n",
       "    </tr>\n",
       "  </tbody>\n",
       "</table>\n",
       "</div>"
      ],
      "text/plain": [
       "   WnvPresent\n",
       "1       0.019\n",
       "2       0.016\n",
       "3       0.019\n",
       "4       0.016\n",
       "5       0.016"
      ]
     },
     "execution_count": 37,
     "metadata": {},
     "output_type": "execute_result"
    }
   ],
   "source": [
    "yhat.head()"
   ]
  },
  {
   "cell_type": "code",
   "execution_count": null,
   "metadata": {
    "collapsed": true
   },
   "outputs": [],
   "source": []
  }
 ],
 "metadata": {
  "kernelspec": {
   "display_name": "Python 3",
   "language": "python",
   "name": "python3"
  },
  "language_info": {
   "codemirror_mode": {
    "name": "ipython",
    "version": 3
   },
   "file_extension": ".py",
   "mimetype": "text/x-python",
   "name": "python",
   "nbconvert_exporter": "python",
   "pygments_lexer": "ipython3",
   "version": "3.4.3"
  }
 },
 "nbformat": 4,
 "nbformat_minor": 0
}
