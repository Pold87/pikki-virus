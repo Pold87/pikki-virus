{
 "cells": [
  {
   "cell_type": "code",
   "execution_count": 65,
   "metadata": {
    "collapsed": false
   },
   "outputs": [
    {
     "name": "stdout",
     "output_type": "stream",
     "text": [
      "[NbConvertApp] Using existing profile dir: '/home/thomas/.ipython/profile_default'\n",
      "[NbConvertApp] Converting notebook randomforestcv.ipynb to python\n",
      "[NbConvertApp] Support files will be in randomforestcv_files/\n",
      "[NbConvertApp] Loaded template python.tpl\n",
      "[NbConvertApp] Writing 978 bytes to randomforestcv.py\n"
     ]
    }
   ],
   "source": [
    "!ipython nbconvert --to=python randomforestcv.ipynb"
   ]
  },
  {
   "cell_type": "code",
   "execution_count": 26,
   "metadata": {
    "collapsed": true
   },
   "outputs": [],
   "source": [
    "import pandas as pd"
   ]
  },
  {
   "cell_type": "code",
   "execution_count": 27,
   "metadata": {
    "collapsed": true
   },
   "outputs": [],
   "source": [
    "train = pd.read_csv('../No_Species_Dataset/train_without_Species.csv')"
   ]
  },
  {
   "cell_type": "code",
   "execution_count": 28,
   "metadata": {
    "collapsed": true
   },
   "outputs": [],
   "source": [
    "df_test = pd.read_csv('../No_Species_Dataset/test_agg_without.csv')"
   ]
  },
  {
   "cell_type": "code",
   "execution_count": 29,
   "metadata": {
    "collapsed": false
   },
   "outputs": [
    {
     "data": {
      "text/plain": [
       "False"
      ]
     },
     "execution_count": 29,
     "metadata": {},
     "output_type": "execute_result"
    }
   ],
   "source": [
    "'Species' in train.columns"
   ]
  },
  {
   "cell_type": "code",
   "execution_count": 30,
   "metadata": {
    "collapsed": true
   },
   "outputs": [],
   "source": [
    "y = train.WnvPresent"
   ]
  },
  {
   "cell_type": "code",
   "execution_count": 31,
   "metadata": {
    "collapsed": true
   },
   "outputs": [],
   "source": [
    "X = train.copy()"
   ]
  },
  {
   "cell_type": "code",
   "execution_count": 32,
   "metadata": {
    "collapsed": false
   },
   "outputs": [],
   "source": [
    "X = X.drop('WnvPresent',axis=1)"
   ]
  },
  {
   "cell_type": "code",
   "execution_count": 33,
   "metadata": {
    "collapsed": true
   },
   "outputs": [],
   "source": [
    "strin = ['CodeSum',  'AddressNumberAndStreet' ,'Address', 'Street','Date']"
   ]
  },
  {
   "cell_type": "code",
   "execution_count": 34,
   "metadata": {
    "collapsed": false
   },
   "outputs": [],
   "source": [
    "X = X.drop(strin, axis=1)\n",
    "df_test = df_test.drop(strin,axis=1)"
   ]
  },
  {
   "cell_type": "code",
   "execution_count": 35,
   "metadata": {
    "collapsed": false
   },
   "outputs": [
    {
     "data": {
      "text/plain": [
       "Id                           int64\n",
       "10_week_avrgPrecipTotal    float64\n",
       "10_week_avrgTavg           float64\n",
       "11_week_avrgPrecipTotal    float64\n",
       "11_week_avrgTavg           float64\n",
       "12_week_avrgPrecipTotal    float64\n",
       "12_week_avrgTavg           float64\n",
       "13_week_avrgPrecipTotal    float64\n",
       "13_week_avrgTavg           float64\n",
       "14_week_avrgPrecipTotal    float64\n",
       "14_week_avrgTavg           float64\n",
       "15_week_avrgPrecipTotal    float64\n",
       "15_week_avrgTavg           float64\n",
       "16_week_avrgPrecipTotal    float64\n",
       "16_week_avrgTavg           float64\n",
       "...\n",
       "NumMosquitos    float64\n",
       "PrecipTotal     float64\n",
       "ResultDir         int64\n",
       "ResultSpeed     float64\n",
       "SeaLevel        float64\n",
       "SnowFall        float64\n",
       "Station           int64\n",
       "StnPressure     float64\n",
       "Sunrise         float64\n",
       "Sunset          float64\n",
       "Tavg            float64\n",
       "Tavg_week       float64\n",
       "Tmax              int64\n",
       "Tmin              int64\n",
       "Trap              int64\n",
       "Length: 74, dtype: object"
      ]
     },
     "execution_count": 35,
     "metadata": {},
     "output_type": "execute_result"
    }
   ],
   "source": [
    "X.dtypes[:-5]"
   ]
  },
  {
   "cell_type": "code",
   "execution_count": 36,
   "metadata": {
    "collapsed": true
   },
   "outputs": [],
   "source": [
    "from sklearn.cross_validation import train_test_split, ShuffleSplit,cross_val_score\n",
    "from sklearn.ensemble import GradientBoostingClassifier, RandomForestClassifier\n",
    "from sklearn.metrics import roc_auc_score"
   ]
  },
  {
   "cell_type": "code",
   "execution_count": 37,
   "metadata": {
    "collapsed": true
   },
   "outputs": [],
   "source": [
    "X_train, X_test, y_train, y_test = train_test_split(X,y,test_size=.3)"
   ]
  },
  {
   "cell_type": "code",
   "execution_count": 38,
   "metadata": {
    "collapsed": false
   },
   "outputs": [
    {
     "data": {
      "text/plain": [
       "67904"
      ]
     },
     "execution_count": 38,
     "metadata": {},
     "output_type": "execute_result"
    }
   ],
   "source": [
    "len(X)"
   ]
  },
  {
   "cell_type": "code",
   "execution_count": 39,
   "metadata": {
    "collapsed": true
   },
   "outputs": [],
   "source": [
    "cv = ShuffleSplit(len(X))"
   ]
  },
  {
   "cell_type": "code",
   "execution_count": 40,
   "metadata": {
    "collapsed": false
   },
   "outputs": [],
   "source": [
    "clf = GradientBoostingClassifier()\n",
    "clf = RandomForestClassifier(n_estimators=100,n_jobs = -1,verbose = 2)"
   ]
  },
  {
   "cell_type": "code",
   "execution_count": 41,
   "metadata": {
    "collapsed": false
   },
   "outputs": [
    {
     "data": {
      "text/plain": [
       "(67904,)"
      ]
     },
     "execution_count": 41,
     "metadata": {},
     "output_type": "execute_result"
    }
   ],
   "source": [
    "y.shape"
   ]
  },
  {
   "cell_type": "code",
   "execution_count": 42,
   "metadata": {
    "collapsed": false
   },
   "outputs": [
    {
     "name": "stdout",
     "output_type": "stream",
     "text": [
      "building tree 1 of 25\n",
      "building tree 1 of 25\n",
      "building tree 1 of 25\n",
      "building tree 1 of 25\n",
      "building tree 1 of 25\n",
      "building tree 1 of 25\n",
      "building tree 1 of 25\n",
      "building tree 1 of 25\n",
      "building tree 1 of 25\n",
      "building tree 1 of 25\n",
      "building tree 1 of 25\n",
      "building tree 1 of 25\n",
      "building tree 1 of 25\n",
      "building tree 1 of 25\n",
      "building tree 1 of 25\n",
      "building tree 1 of 25\n",
      "building tree 2 of 25building tree 2 of 25building tree 2 of 25building tree 2 of 25\n",
      "\n",
      "\n",
      "\n",
      "building tree 2 of 25\n",
      "building tree 2 of 25\n",
      "building tree 2 of 25building tree 2 of 25\n",
      "building tree 2 of 25\n",
      "building tree 3 of 25\n",
      "building tree 2 of 25\n",
      "building tree 3 of 25\n",
      "building tree 2 of 25building tree 2 of 25\n",
      "\n",
      "building tree 2 of 25\n",
      "building tree 3 of 25building tree 3 of 25\n",
      "building tree 2 of 25\n",
      "\n",
      "building tree 2 of 25\n",
      "building tree 3 of 25building tree 2 of 25\n",
      "\n",
      "building tree 3 of 25\n",
      "building tree 3 of 25\n",
      "building tree 3 of 25\n",
      "\n",
      "building tree 4 of 25building tree 4 of 25building tree 4 of 25building tree 3 of 25\n",
      "\n",
      "building tree 4 of 25\n",
      "\n",
      "\n",
      "building tree 3 of 25building tree 4 of 25building tree 3 of 25\n",
      "\n",
      "\n",
      "building tree 3 of 25building tree 3 of 25building tree 3 of 25building tree 5 of 25\n",
      "\n",
      "\n",
      "\n",
      "building tree 4 of 25building tree 5 of 25\n",
      "building tree 4 of 25\n",
      "building tree 4 of 25\n",
      "building tree 5 of 25\n",
      "building tree 4 of 25\n",
      "\n",
      "building tree 6 of 25\n",
      "building tree 3 of 25building tree 4 of 25building tree 4 of 25\n",
      "building tree 5 of 25\n",
      "building tree 5 of 25\n",
      "\n",
      "building tree 5 of 25\n",
      "building tree 6 of 25\n",
      "building tree 7 of 25\n",
      "\n",
      "building tree 4 of 25\n",
      "building tree 4 of 25building tree 8 of 25building tree 4 of 25building tree 5 of 25\n",
      "\n",
      "\n",
      "\n",
      "building tree 5 of 25building tree 3 of 25\n",
      "building tree 4 of 25building tree 6 of 25\n",
      "building tree 6 of 25\n",
      "\n",
      "building tree 5 of 25\n",
      "building tree 7 of 25building tree 6 of 25\n",
      "building tree 5 of 25\n",
      "\n",
      "building tree 6 of 25building tree 9 of 25\n",
      "\n",
      "building tree 6 of 25building tree 5 of 25\n",
      "building tree 5 of 25\n",
      "\n",
      "\n",
      "building tree 6 of 25building tree 7 of 25building tree 7 of 25\n",
      "\n",
      "\n",
      "building tree 6 of 25building tree 7 of 25building tree 7 of 25building tree 4 of 25\n",
      "\n",
      "\n",
      "\n",
      "building tree 10 of 25building tree 5 of 25building tree 5 of 25\n",
      "building tree 7 of 25\n",
      "\n",
      "\n",
      "building tree 8 of 25building tree 6 of 25\n",
      "building tree 6 of 25building tree 8 of 25\n",
      "\n",
      "building tree 5 of 25\n",
      "\n",
      "building tree 7 of 25building tree 6 of 25building tree 8 of 25building tree 8 of 25\n",
      "\n",
      "\n",
      "\n",
      "building tree 7 of 25building tree 9 of 25building tree 6 of 25building tree 11 of 25\n",
      "\n",
      "\n",
      "\n",
      "building tree 9 of 25building tree 7 of 25building tree 7 of 25building tree 5 of 25\n",
      "\n",
      "\n",
      "\n",
      "building tree 8 of 25building tree 8 of 25building tree 8 of 25\n",
      "building tree 7 of 25\n",
      "\n",
      "building tree 9 of 25building tree 9 of 25\n",
      "\n",
      "building tree 8 of 25\n",
      "building tree 6 of 25\n",
      "building tree 6 of 25\n",
      "building tree 8 of 25building tree 8 of 25\n",
      "building tree 8 of 25\n",
      "\n",
      "building tree 9 of 25\n",
      "building tree 9 of 25building tree 6 of 25\n",
      "building tree 7 of 25\n",
      "\n",
      "building tree 10 of 25\n",
      "building tree 7 of 25\n",
      "building tree 10 of 25\n",
      "building tree 9 of 25\n",
      "building tree 8 of 25\n",
      "building tree 9 of 25building tree 10 of 25\n",
      "building tree 12 of 25\n",
      "\n",
      "building tree 10 of 25\n",
      "building tree 7 of 25\n",
      "building tree 8 of 25\n",
      "building tree 13 of 25building tree 10 of 25\n",
      "building tree 9 of 25\n",
      "\n",
      "building tree 9 of 25\n",
      "building tree 14 of 25building tree 8 of 25\n",
      "building tree 9 of 25\n",
      "\n",
      "building tree 9 of 25\n",
      "building tree 9 of 25\n",
      "building tree 10 of 25\n",
      "\n",
      "building tree 10 of 25\n",
      "building tree 7 of 25\n",
      "building tree 11 of 25building tree 10 of 25building tree 10 of 25building tree 11 of 25\n",
      "\n",
      "\n",
      "\n"
     ]
    },
    {
     "name": "stderr",
     "output_type": "stream",
     "text": [
      "[Parallel(n_jobs=4)]: Done   1 out of   4 | elapsed:   17.6s remaining:   52.9s\n",
      "[Parallel(n_jobs=4)]: Done   1 out of   4 | elapsed:   17.7s remaining:   53.2s\n",
      "[Parallel(n_jobs=4)]: Done   1 out of   4 | elapsed:   20.0s remaining:   59.9s\n",
      "[Parallel(n_jobs=4)]: Done   3 out of   4 | elapsed:   19.4s remaining:    6.5s\n",
      "[Parallel(n_jobs=4)]: Done   3 out of   4 | elapsed:   17.9s remaining:    6.0s\n",
      "[Parallel(n_jobs=4)]: Done   3 out of   4 | elapsed:   18.5s remaining:    6.2s\n",
      "[Parallel(n_jobs=4)]: Done   3 out of   4 | elapsed:   20.3s remaining:    6.8s\n",
      "[Parallel(n_jobs=4)]: Done   1 out of   4 | elapsed:   20.5s remaining:  1.0min\n",
      "[Parallel(n_jobs=4)]: Done   4 out of   4 | elapsed:   19.3s finished\n",
      "[Parallel(n_jobs=4)]: Done   4 out of   4 | elapsed:   18.7s finished\n",
      "[Parallel(n_jobs=4)]: Done   4 out of   4 | elapsed:   20.3s finished\n",
      "[Parallel(n_jobs=4)]: Done   4 out of   4 | elapsed:   20.5s finished\n",
      "/home/thomas/anaconda3/lib/python3.4/site-packages/sklearn/metrics/metrics.py:464: FutureWarning: comparison to `None` will result in an elementwise object comparison in the future.\n",
      "  if average not in average_options:\n",
      "/home/thomas/anaconda3/lib/python3.4/site-packages/sklearn/metrics/metrics.py:464: FutureWarning: comparison to `None` will result in an elementwise object comparison in the future.\n",
      "  if average not in average_options:\n",
      "/home/thomas/anaconda3/lib/python3.4/site-packages/sklearn/metrics/metrics.py:464: FutureWarning: comparison to `None` will result in an elementwise object comparison in the future.\n",
      "  if average not in average_options:\n",
      "/home/thomas/anaconda3/lib/python3.4/site-packages/sklearn/metrics/metrics.py:464: FutureWarning: comparison to `None` will result in an elementwise object comparison in the future.\n",
      "  if average not in average_options:\n"
     ]
    },
    {
     "ename": "JoblibValueError",
     "evalue": "JoblibValueError\n___________________________________________________________________________\nMultiprocessing exception:\n    ...........................................................................\n/home/thomas/anaconda3/lib/python3.4/runpy.py in _run_module_as_main(mod_name='IPython.kernel.__main__', alter_argv=1)\n    165         sys.exit(msg)\n    166     main_globals = sys.modules[\"__main__\"].__dict__\n    167     if alter_argv:\n    168         sys.argv[0] = mod_spec.origin\n    169     return _run_code(code, main_globals, None,\n--> 170                      \"__main__\", mod_spec)\n        mod_spec = ModuleSpec(name='IPython.kernel.__main__', loade...hon3.4/site-packages/IPython/kernel/__main__.py')\n    171 \n    172 def run_module(mod_name, init_globals=None,\n    173                run_name=None, alter_sys=False):\n    174     \"\"\"Execute a module's code without importing it\n\n...........................................................................\n/home/thomas/anaconda3/lib/python3.4/runpy.py in _run_code(code=<code object <module> at 0x7f6e69880a50, file \"/...ite-packages/IPython/kernel/__main__.py\", line 1>, run_globals={'__builtins__': <module 'builtins' (built-in)>, '__cached__': '/home/thomas/anaconda3/lib/python3.4/site-packag...Python/kernel/__pycache__/__main__.cpython-34.pyc', '__doc__': None, '__file__': '/home/thomas/anaconda3/lib/python3.4/site-packages/IPython/kernel/__main__.py', '__loader__': <_frozen_importlib.SourceFileLoader object>, '__name__': '__main__', '__package__': 'IPython.kernel', '__spec__': ModuleSpec(name='IPython.kernel.__main__', loade...hon3.4/site-packages/IPython/kernel/__main__.py'), 'app': <module 'IPython.kernel.zmq.kernelapp' from '/ho...4/site-packages/IPython/kernel/zmq/kernelapp.py'>}, init_globals=None, mod_name='__main__', mod_spec=ModuleSpec(name='IPython.kernel.__main__', loade...hon3.4/site-packages/IPython/kernel/__main__.py'), pkg_name='IPython.kernel', script_name=None)\n     80                        __cached__ = cached,\n     81                        __doc__ = None,\n     82                        __loader__ = loader,\n     83                        __package__ = pkg_name,\n     84                        __spec__ = mod_spec)\n---> 85     exec(code, run_globals)\n        code = <code object <module> at 0x7f6e69880a50, file \"/...ite-packages/IPython/kernel/__main__.py\", line 1>\n        run_globals = {'__builtins__': <module 'builtins' (built-in)>, '__cached__': '/home/thomas/anaconda3/lib/python3.4/site-packag...Python/kernel/__pycache__/__main__.cpython-34.pyc', '__doc__': None, '__file__': '/home/thomas/anaconda3/lib/python3.4/site-packages/IPython/kernel/__main__.py', '__loader__': <_frozen_importlib.SourceFileLoader object>, '__name__': '__main__', '__package__': 'IPython.kernel', '__spec__': ModuleSpec(name='IPython.kernel.__main__', loade...hon3.4/site-packages/IPython/kernel/__main__.py'), 'app': <module 'IPython.kernel.zmq.kernelapp' from '/ho...4/site-packages/IPython/kernel/zmq/kernelapp.py'>}\n     86     return run_globals\n     87 \n     88 def _run_module_code(code, init_globals=None,\n     89                     mod_name=None, mod_spec=None,\n\n...........................................................................\n/home/thomas/anaconda3/lib/python3.4/site-packages/IPython/kernel/__main__.py in <module>()\n      1 \n      2 \n----> 3 \n      4 if __name__ == '__main__':\n      5     from IPython.kernel.zmq import kernelapp as app\n      6     app.launch_new_instance()\n      7 \n      8 \n      9 \n     10 \n\n...........................................................................\n/home/thomas/anaconda3/lib/python3.4/site-packages/IPython/config/application.py in launch_instance(cls=<class 'IPython.kernel.zmq.kernelapp.IPKernelApp'>, argv=None, **kwargs={})\n    569         \n    570         If a global instance already exists, this reinitializes and starts it\n    571         \"\"\"\n    572         app = cls.instance(**kwargs)\n    573         app.initialize(argv)\n--> 574         app.start()\n        app.start = <bound method IPKernelApp.start of <IPython.kernel.zmq.kernelapp.IPKernelApp object>>\n    575 \n    576 #-----------------------------------------------------------------------------\n    577 # utility functions, for convenience\n    578 #-----------------------------------------------------------------------------\n\n...........................................................................\n/home/thomas/anaconda3/lib/python3.4/site-packages/IPython/kernel/zmq/kernelapp.py in start(self=<IPython.kernel.zmq.kernelapp.IPKernelApp object>)\n    369     def start(self):\n    370         if self.poller is not None:\n    371             self.poller.start()\n    372         self.kernel.start()\n    373         try:\n--> 374             ioloop.IOLoop.instance().start()\n    375         except KeyboardInterrupt:\n    376             pass\n    377 \n    378 launch_new_instance = IPKernelApp.launch_instance\n\n...........................................................................\n/home/thomas/anaconda3/lib/python3.4/site-packages/zmq/eventloop/ioloop.py in start(self=<zmq.eventloop.ioloop.ZMQIOLoop object>)\n    146             PollIOLoop.configure(ZMQIOLoop)\n    147         return PollIOLoop.instance()\n    148     \n    149     def start(self):\n    150         try:\n--> 151             super(ZMQIOLoop, self).start()\n        self.start = <bound method ZMQIOLoop.start of <zmq.eventloop.ioloop.ZMQIOLoop object>>\n    152         except ZMQError as e:\n    153             if e.errno == ETERM:\n    154                 # quietly return on ETERM\n    155                 pass\n\n...........................................................................\n/home/thomas/anaconda3/lib/python3.4/site-packages/tornado/ioloop.py in start(self=<zmq.eventloop.ioloop.ZMQIOLoop object>)\n    835                 self._events.update(event_pairs)\n    836                 while self._events:\n    837                     fd, events = self._events.popitem()\n    838                     try:\n    839                         fd_obj, handler_func = self._handlers[fd]\n--> 840                         handler_func(fd_obj, events)\n        handler_func = <function wrap.<locals>.null_wrapper>\n        fd_obj = <zmq.sugar.socket.Socket object>\n        events = 5\n    841                     except (OSError, IOError) as e:\n    842                         if errno_from_exception(e) == errno.EPIPE:\n    843                             # Happens when the client closes the connection\n    844                             pass\n\n...........................................................................\n/home/thomas/anaconda3/lib/python3.4/site-packages/tornado/stack_context.py in null_wrapper(*args=(<zmq.sugar.socket.Socket object>, 5), **kwargs={})\n    270         # Fast path when there are no active contexts.\n    271         def null_wrapper(*args, **kwargs):\n    272             try:\n    273                 current_state = _state.contexts\n    274                 _state.contexts = cap_contexts[0]\n--> 275                 return fn(*args, **kwargs)\n        args = (<zmq.sugar.socket.Socket object>, 5)\n        kwargs = {}\n    276             finally:\n    277                 _state.contexts = current_state\n    278         null_wrapper._wrapped = True\n    279         return null_wrapper\n\n...........................................................................\n/home/thomas/anaconda3/lib/python3.4/site-packages/zmq/eventloop/zmqstream.py in _handle_events(self=<zmq.eventloop.zmqstream.ZMQStream object>, fd=<zmq.sugar.socket.Socket object>, events=5)\n    428             # dispatch events:\n    429             if events & IOLoop.ERROR:\n    430                 gen_log.error(\"got POLLERR event on ZMQStream, which doesn't make sense\")\n    431                 return\n    432             if events & IOLoop.READ:\n--> 433                 self._handle_recv()\n        self._handle_recv = <bound method ZMQStream._handle_recv of <zmq.eventloop.zmqstream.ZMQStream object>>\n    434                 if not self.socket:\n    435                     return\n    436             if events & IOLoop.WRITE:\n    437                 self._handle_send()\n\n...........................................................................\n/home/thomas/anaconda3/lib/python3.4/site-packages/zmq/eventloop/zmqstream.py in _handle_recv(self=<zmq.eventloop.zmqstream.ZMQStream object>)\n    460                 gen_log.error(\"RECV Error: %s\"%zmq.strerror(e.errno))\n    461         else:\n    462             if self._recv_callback:\n    463                 callback = self._recv_callback\n    464                 # self._recv_callback = None\n--> 465                 self._run_callback(callback, msg)\n        self._run_callback = <bound method ZMQStream._run_callback of <zmq.eventloop.zmqstream.ZMQStream object>>\n        callback = <function wrap.<locals>.null_wrapper>\n        msg = [<zmq.sugar.frame.Frame object>, <zmq.sugar.frame.Frame object>, <zmq.sugar.frame.Frame object>, <zmq.sugar.frame.Frame object>, <zmq.sugar.frame.Frame object>, <zmq.sugar.frame.Frame object>, <zmq.sugar.frame.Frame object>]\n    466                 \n    467         # self.update_state()\n    468         \n    469 \n\n...........................................................................\n/home/thomas/anaconda3/lib/python3.4/site-packages/zmq/eventloop/zmqstream.py in _run_callback(self=<zmq.eventloop.zmqstream.ZMQStream object>, callback=<function wrap.<locals>.null_wrapper>, *args=([<zmq.sugar.frame.Frame object>, <zmq.sugar.frame.Frame object>, <zmq.sugar.frame.Frame object>, <zmq.sugar.frame.Frame object>, <zmq.sugar.frame.Frame object>, <zmq.sugar.frame.Frame object>, <zmq.sugar.frame.Frame object>],), **kwargs={})\n    402         close our socket.\"\"\"\n    403         try:\n    404             # Use a NullContext to ensure that all StackContexts are run\n    405             # inside our blanket exception handler rather than outside.\n    406             with stack_context.NullContext():\n--> 407                 callback(*args, **kwargs)\n        callback = <function wrap.<locals>.null_wrapper>\n        args = ([<zmq.sugar.frame.Frame object>, <zmq.sugar.frame.Frame object>, <zmq.sugar.frame.Frame object>, <zmq.sugar.frame.Frame object>, <zmq.sugar.frame.Frame object>, <zmq.sugar.frame.Frame object>, <zmq.sugar.frame.Frame object>],)\n        kwargs = {}\n    408         except:\n    409             gen_log.error(\"Uncaught exception, closing connection.\",\n    410                           exc_info=True)\n    411             # Close the socket on an uncaught exception from a user callback\n\n...........................................................................\n/home/thomas/anaconda3/lib/python3.4/site-packages/tornado/stack_context.py in null_wrapper(*args=([<zmq.sugar.frame.Frame object>, <zmq.sugar.frame.Frame object>, <zmq.sugar.frame.Frame object>, <zmq.sugar.frame.Frame object>, <zmq.sugar.frame.Frame object>, <zmq.sugar.frame.Frame object>, <zmq.sugar.frame.Frame object>],), **kwargs={})\n    270         # Fast path when there are no active contexts.\n    271         def null_wrapper(*args, **kwargs):\n    272             try:\n    273                 current_state = _state.contexts\n    274                 _state.contexts = cap_contexts[0]\n--> 275                 return fn(*args, **kwargs)\n        args = ([<zmq.sugar.frame.Frame object>, <zmq.sugar.frame.Frame object>, <zmq.sugar.frame.Frame object>, <zmq.sugar.frame.Frame object>, <zmq.sugar.frame.Frame object>, <zmq.sugar.frame.Frame object>, <zmq.sugar.frame.Frame object>],)\n        kwargs = {}\n    276             finally:\n    277                 _state.contexts = current_state\n    278         null_wrapper._wrapped = True\n    279         return null_wrapper\n\n...........................................................................\n/home/thomas/anaconda3/lib/python3.4/site-packages/IPython/kernel/zmq/kernelbase.py in dispatcher(msg=[<zmq.sugar.frame.Frame object>, <zmq.sugar.frame.Frame object>, <zmq.sugar.frame.Frame object>, <zmq.sugar.frame.Frame object>, <zmq.sugar.frame.Frame object>, <zmq.sugar.frame.Frame object>, <zmq.sugar.frame.Frame object>])\n    247         if self.control_stream:\n    248             self.control_stream.on_recv(self.dispatch_control, copy=False)\n    249 \n    250         def make_dispatcher(stream):\n    251             def dispatcher(msg):\n--> 252                 return self.dispatch_shell(stream, msg)\n        msg = [<zmq.sugar.frame.Frame object>, <zmq.sugar.frame.Frame object>, <zmq.sugar.frame.Frame object>, <zmq.sugar.frame.Frame object>, <zmq.sugar.frame.Frame object>, <zmq.sugar.frame.Frame object>, <zmq.sugar.frame.Frame object>]\n    253             return dispatcher\n    254 \n    255         for s in self.shell_streams:\n    256             s.on_recv(make_dispatcher(s), copy=False)\n\n...........................................................................\n/home/thomas/anaconda3/lib/python3.4/site-packages/IPython/kernel/zmq/kernelbase.py in dispatch_shell(self=<IPython.kernel.zmq.ipkernel.IPythonKernel object>, stream=<zmq.eventloop.zmqstream.ZMQStream object>, msg={'buffers': [], 'content': {'allow_stdin': True, 'code': 'cross_val_score(clf,X,y,cv=cv,n_jobs=-1,scoring = roc_auc_score)', 'silent': False, 'stop_on_error': True, 'store_history': True, 'user_expressions': {}}, 'header': {'msg_id': '0E5261D33FFF45649C35979C05D5D81A', 'msg_type': 'execute_request', 'session': '941F0DBC402D40069222A8CAF6E01CA9', 'username': 'username', 'version': '5.0'}, 'metadata': {}, 'msg_id': '0E5261D33FFF45649C35979C05D5D81A', 'msg_type': 'execute_request', 'parent_header': {}})\n    208         else:\n    209             # ensure default_int_handler during handler call\n    210             sig = signal(SIGINT, default_int_handler)\n    211             self.log.debug(\"%s: %s\", msg_type, msg)\n    212             try:\n--> 213                 handler(stream, idents, msg)\n        handler = <bound method IPythonKernel.execute_request of <IPython.kernel.zmq.ipkernel.IPythonKernel object>>\n        stream = <zmq.eventloop.zmqstream.ZMQStream object>\n        idents = [b'941F0DBC402D40069222A8CAF6E01CA9']\n        msg = {'buffers': [], 'content': {'allow_stdin': True, 'code': 'cross_val_score(clf,X,y,cv=cv,n_jobs=-1,scoring = roc_auc_score)', 'silent': False, 'stop_on_error': True, 'store_history': True, 'user_expressions': {}}, 'header': {'msg_id': '0E5261D33FFF45649C35979C05D5D81A', 'msg_type': 'execute_request', 'session': '941F0DBC402D40069222A8CAF6E01CA9', 'username': 'username', 'version': '5.0'}, 'metadata': {}, 'msg_id': '0E5261D33FFF45649C35979C05D5D81A', 'msg_type': 'execute_request', 'parent_header': {}}\n    214             except Exception:\n    215                 self.log.error(\"Exception in message handler:\", exc_info=True)\n    216             finally:\n    217                 signal(SIGINT, sig)\n\n...........................................................................\n/home/thomas/anaconda3/lib/python3.4/site-packages/IPython/kernel/zmq/kernelbase.py in execute_request(self=<IPython.kernel.zmq.ipkernel.IPythonKernel object>, stream=<zmq.eventloop.zmqstream.ZMQStream object>, ident=[b'941F0DBC402D40069222A8CAF6E01CA9'], parent={'buffers': [], 'content': {'allow_stdin': True, 'code': 'cross_val_score(clf,X,y,cv=cv,n_jobs=-1,scoring = roc_auc_score)', 'silent': False, 'stop_on_error': True, 'store_history': True, 'user_expressions': {}}, 'header': {'msg_id': '0E5261D33FFF45649C35979C05D5D81A', 'msg_type': 'execute_request', 'session': '941F0DBC402D40069222A8CAF6E01CA9', 'username': 'username', 'version': '5.0'}, 'metadata': {}, 'msg_id': '0E5261D33FFF45649C35979C05D5D81A', 'msg_type': 'execute_request', 'parent_header': {}})\n    357         if not silent:\n    358             self.execution_count += 1\n    359             self._publish_execute_input(code, parent, self.execution_count)\n    360         \n    361         reply_content = self.do_execute(code, silent, store_history,\n--> 362                                         user_expressions, allow_stdin)\n        user_expressions = {}\n        allow_stdin = True\n    363 \n    364         # Flush output before sending the reply.\n    365         sys.stdout.flush()\n    366         sys.stderr.flush()\n\n...........................................................................\n/home/thomas/anaconda3/lib/python3.4/site-packages/IPython/kernel/zmq/ipkernel.py in do_execute(self=<IPython.kernel.zmq.ipkernel.IPythonKernel object>, code='cross_val_score(clf,X,y,cv=cv,n_jobs=-1,scoring = roc_auc_score)', silent=False, store_history=True, user_expressions={}, allow_stdin=True)\n    176 \n    177         reply_content = {}\n    178         # FIXME: the shell calls the exception handler itself.\n    179         shell._reply_content = None\n    180         try:\n--> 181             shell.run_cell(code, store_history=store_history, silent=silent)\n        shell.run_cell = <bound method ZMQInteractiveShell.run_cell of <I....kernel.zmq.zmqshell.ZMQInteractiveShell object>>\n        code = 'cross_val_score(clf,X,y,cv=cv,n_jobs=-1,scoring = roc_auc_score)'\n        store_history = True\n        silent = False\n    182         except:\n    183             status = u'error'\n    184             # FIXME: this code right now isn't being used yet by default,\n    185             # because the run_cell() call above directly fires off exception\n\n...........................................................................\n/home/thomas/anaconda3/lib/python3.4/site-packages/IPython/core/interactiveshell.py in run_cell(self=<IPython.kernel.zmq.zmqshell.ZMQInteractiveShell object>, raw_cell='cross_val_score(clf,X,y,cv=cv,n_jobs=-1,scoring = roc_auc_score)', store_history=True, silent=False, shell_futures=True)\n   2863                 self.displayhook.exec_result = result\n   2864 \n   2865                 # Execute the user code\n   2866                 interactivity = \"none\" if silent else self.ast_node_interactivity\n   2867                 self.run_ast_nodes(code_ast.body, cell_name,\n-> 2868                    interactivity=interactivity, compiler=compiler, result=result)\n        interactivity = 'last_expr'\n        compiler = <IPython.core.compilerop.CachingCompiler object>\n   2869 \n   2870                 # Reset this so later displayed values do not modify the\n   2871                 # ExecutionResult\n   2872                 self.displayhook.exec_result = None\n\n...........................................................................\n/home/thomas/anaconda3/lib/python3.4/site-packages/IPython/core/interactiveshell.py in run_ast_nodes(self=<IPython.kernel.zmq.zmqshell.ZMQInteractiveShell object>, nodelist=[<_ast.Expr object>], cell_name='<ipython-input-42-d4b1f290981e>', interactivity='last', compiler=<IPython.core.compilerop.CachingCompiler object>, result=<IPython.core.interactiveshell.ExecutionResult object>)\n   2973                     return True\n   2974 \n   2975             for i, node in enumerate(to_run_interactive):\n   2976                 mod = ast.Interactive([node])\n   2977                 code = compiler(mod, cell_name, \"single\")\n-> 2978                 if self.run_code(code, result):\n        self.run_code = <bound method ZMQInteractiveShell.run_code of <I....kernel.zmq.zmqshell.ZMQInteractiveShell object>>\n        code = <code object <module> at 0x7f6e2e41b4b0, file \"<ipython-input-42-d4b1f290981e>\", line 1>\n        result = <IPython.core.interactiveshell.ExecutionResult object>\n   2979                     return True\n   2980 \n   2981             # Flush softspace\n   2982             if softspace(sys.stdout, 0):\n\n...........................................................................\n/home/thomas/anaconda3/lib/python3.4/site-packages/IPython/core/interactiveshell.py in run_code(self=<IPython.kernel.zmq.zmqshell.ZMQInteractiveShell object>, code_obj=<code object <module> at 0x7f6e2e41b4b0, file \"<ipython-input-42-d4b1f290981e>\", line 1>, result=<IPython.core.interactiveshell.ExecutionResult object>)\n   3027         outflag = 1  # happens in more places, so it's easier as default\n   3028         try:\n   3029             try:\n   3030                 self.hooks.pre_run_code_hook()\n   3031                 #rprint('Running code', repr(code_obj)) # dbg\n-> 3032                 exec(code_obj, self.user_global_ns, self.user_ns)\n        code_obj = <code object <module> at 0x7f6e2e41b4b0, file \"<ipython-input-42-d4b1f290981e>\", line 1>\n        self.user_global_ns = {'GradientBoostingClassifier': <class 'sklearn.ensemble.gradient_boosting.GradientBoostingClassifier'>, 'In': ['', 'import pandas as pd', \"train = pd.read_csv('../No_Species_Dataset/train_without_Species.csv')\", \"df_test = pd.read_csv('../No_Species_Dataset/test_agg_without.csv')\", \"'Species' in train.columns\", 'y = train.WnvPresent', 'X = train.copy()', \"X = X.drop('WnvPresent',axis=1)\", \"strin = ['CodeSum',  'AddressNumberAndStreet' ,'Address', 'Street','Date']\", 'X = X.drop(strin, axis=1)\\ndf_test = df_test.drop(strin,axis=1)', 'X.dtypes[:-5]', 'from sklearn.cross_validation import train_test_...ssifier\\nfrom sklearn.metrics import roc_auc_score', 'X_train, X_test, y_train, y_test = train_test_split(X,y,test_size=.3)', 'len(X)', 'cv = ShuffleSplit(len(X))', 'clf = GradientBoostingClassifier(n_estimators=10... = -1,verbose = 2)\\nclf = RandomForestClassifier()', 'clf = GradientBoostingClassifier()\\nclf = RandomF...sifier(n_estimators=1000,n_jobs = -1,verbose = 2)', 'y.shape', '#cross_val_score(clf,X,y,cv=cv,n_jobs=-1,scoring = roc_auc_score)', 'clf.fit(X,y)', ...], 'Out': {4: False, 10: Id                           int64\n10_week_avrgP...Trap              int64\nLength: 74, dtype: object, 13: 67904, 17: (67904,), 19: RandomForestClassifier(bootstrap=True, compute_i...   oob_score=False, random_state=None, verbose=2), 21: array([ 0.153,  0.151,  0.151, ...,  0.141,  0.141,  0.141]), 23: 0.14551593819060474, 24: (0.14551593819060474, 0.13400000000000001, 0.184), 29: False, 35: Id                           int64\n10_week_avrgP...Trap              int64\nLength: 74, dtype: object, ...}, 'RandomForestClassifier': <class 'sklearn.ensemble.forest.RandomForestClassifier'>, 'ShuffleSplit': <class 'sklearn.cross_validation.ShuffleSplit'>, 'X':           Id  10_week_avrgPrecipTotal  10_week_a....000000     0.262143  \n\n[67904 rows x 79 columns], 'X_test': array([[  5.58930000e+04,   1.09142857e-01,   7....571429e+00,   0.00000000e+00,   2.10000000e-01]]), 'X_train': array([[  6.73080000e+04,   1.67500000e-01,   7....000000e+00,   2.25714286e+00,   2.71428571e-02]]), '_': (67904,), '_10': Id                           int64\n10_week_avrgP...Trap              int64\nLength: 74, dtype: object, ...}\n        self.user_ns = {'GradientBoostingClassifier': <class 'sklearn.ensemble.gradient_boosting.GradientBoostingClassifier'>, 'In': ['', 'import pandas as pd', \"train = pd.read_csv('../No_Species_Dataset/train_without_Species.csv')\", \"df_test = pd.read_csv('../No_Species_Dataset/test_agg_without.csv')\", \"'Species' in train.columns\", 'y = train.WnvPresent', 'X = train.copy()', \"X = X.drop('WnvPresent',axis=1)\", \"strin = ['CodeSum',  'AddressNumberAndStreet' ,'Address', 'Street','Date']\", 'X = X.drop(strin, axis=1)\\ndf_test = df_test.drop(strin,axis=1)', 'X.dtypes[:-5]', 'from sklearn.cross_validation import train_test_...ssifier\\nfrom sklearn.metrics import roc_auc_score', 'X_train, X_test, y_train, y_test = train_test_split(X,y,test_size=.3)', 'len(X)', 'cv = ShuffleSplit(len(X))', 'clf = GradientBoostingClassifier(n_estimators=10... = -1,verbose = 2)\\nclf = RandomForestClassifier()', 'clf = GradientBoostingClassifier()\\nclf = RandomF...sifier(n_estimators=1000,n_jobs = -1,verbose = 2)', 'y.shape', '#cross_val_score(clf,X,y,cv=cv,n_jobs=-1,scoring = roc_auc_score)', 'clf.fit(X,y)', ...], 'Out': {4: False, 10: Id                           int64\n10_week_avrgP...Trap              int64\nLength: 74, dtype: object, 13: 67904, 17: (67904,), 19: RandomForestClassifier(bootstrap=True, compute_i...   oob_score=False, random_state=None, verbose=2), 21: array([ 0.153,  0.151,  0.151, ...,  0.141,  0.141,  0.141]), 23: 0.14551593819060474, 24: (0.14551593819060474, 0.13400000000000001, 0.184), 29: False, 35: Id                           int64\n10_week_avrgP...Trap              int64\nLength: 74, dtype: object, ...}, 'RandomForestClassifier': <class 'sklearn.ensemble.forest.RandomForestClassifier'>, 'ShuffleSplit': <class 'sklearn.cross_validation.ShuffleSplit'>, 'X':           Id  10_week_avrgPrecipTotal  10_week_a....000000     0.262143  \n\n[67904 rows x 79 columns], 'X_test': array([[  5.58930000e+04,   1.09142857e-01,   7....571429e+00,   0.00000000e+00,   2.10000000e-01]]), 'X_train': array([[  6.73080000e+04,   1.67500000e-01,   7....000000e+00,   2.25714286e+00,   2.71428571e-02]]), '_': (67904,), '_10': Id                           int64\n10_week_avrgP...Trap              int64\nLength: 74, dtype: object, ...}\n   3033             finally:\n   3034                 # Reset our crash handler in place\n   3035                 sys.excepthook = old_excepthook\n   3036         except SystemExit as e:\n\n...........................................................................\n/home/thomas/Desktop/pikki virus/pikki-virus/Classifiers_test/<ipython-input-42-d4b1f290981e> in <module>()\n----> 1 \n      2 \n      3 \n      4 \n      5 \n      6 cross_val_score(clf,X,y,cv=cv,n_jobs=-1,scoring = roc_auc_score)\n      7 \n      8 \n      9 \n     10 \n\n...........................................................................\n/home/thomas/anaconda3/lib/python3.4/site-packages/sklearn/cross_validation.py in cross_val_score(estimator=RandomForestClassifier(bootstrap=True, compute_i...   oob_score=False, random_state=None, verbose=2), X=array([[  0.00000000e+00,   6.25862069e-02,   6....571429e+01,   0.00000000e+00,   2.62142857e-01]]), y=array([0, 0, 0, ..., 0, 0, 0]), scoring=<function roc_auc_score>, cv=ShuffleSplit(67904, n_iter=10, test_size=0.1, random_state=None), n_jobs=-1, verbose=0, fit_params=None, score_func=None, pre_dispatch='2*n_jobs')\n   1146     parallel = Parallel(n_jobs=n_jobs, verbose=verbose,\n   1147                         pre_dispatch=pre_dispatch)\n   1148     scores = parallel(delayed(_fit_and_score)(clone(estimator), X, y, scorer,\n   1149                                               train, test, verbose, None,\n   1150                                               fit_params)\n-> 1151                       for train, test in cv)\n        cv = ShuffleSplit(67904, n_iter=10, test_size=0.1, random_state=None)\n   1152     return np.array(scores)[:, 0]\n   1153 \n   1154 \n   1155 def _fit_and_score(estimator, X, y, scorer, train, test, verbose, parameters,\n\n...........................................................................\n/home/thomas/anaconda3/lib/python3.4/site-packages/sklearn/externals/joblib/parallel.py in __call__(self=Parallel(n_jobs=-1), iterable=<itertools.islice object>)\n    655             if pre_dispatch == \"all\" or n_jobs == 1:\n    656                 # The iterable was consumed all at once by the above for loop.\n    657                 # No need to wait for async callbacks to trigger to\n    658                 # consumption.\n    659                 self._iterating = False\n--> 660             self.retrieve()\n        self.retrieve = <bound method Parallel.retrieve of Parallel(n_jobs=-1)>\n    661             # Make sure that we get a last message telling us we are done\n    662             elapsed_time = time.time() - self._start_time\n    663             self._print('Done %3i out of %3i | elapsed: %s finished',\n    664                         (len(self._output),\n\n    ---------------------------------------------------------------------------\n    Sub-process traceback:\n    ---------------------------------------------------------------------------\n    ValueError                                         Tue Jun  2 22:45:03 2015\nPID: 9592                  Python 3.4.3: /home/thomas/anaconda3/bin/python3\n...........................................................................\n/home/thomas/anaconda3/lib/python3.4/site-packages/sklearn/cross_validation.py in _fit_and_score(estimator=RandomForestClassifier(bootstrap=True, compute_i...   oob_score=False, random_state=None, verbose=2), X=array([[  0.00000000e+00,   6.25862069e-02,   6....571429e+01,   0.00000000e+00,   2.62142857e-01]]), y=array([0, 0, 0, ..., 0, 0, 0]), scorer=<function roc_auc_score>, train=array([ 9624, 24407, 20177, ..., 10427, 64585, 55098]), test=array([42482, 21171,  5319, ..., 46082, 11988, 13917]), verbose=0, parameters=None, fit_params={}, return_train_score=False, return_parameters=False)\n   1235     X_test, y_test = _safe_split(estimator, X, y, test, train)\n   1236     if y_train is None:\n   1237         estimator.fit(X_train, **fit_params)\n   1238     else:\n   1239         estimator.fit(X_train, y_train, **fit_params)\n-> 1240     test_score = _score(estimator, X_test, y_test, scorer)\n        test_score = undefined\n        estimator = RandomForestClassifier(bootstrap=True, compute_i...   oob_score=False, random_state=None, verbose=2)\n        X_test = array([[  4.24820000e+04,   1.23857143e-01,   7....000000e+00,   0.00000000e+00,   7.78571429e-01]])\n        y_test = array([0, 0, 0, ..., 0, 0, 0])\n        scorer = <function roc_auc_score>\n   1241     if return_train_score:\n   1242         train_score = _score(estimator, X_train, y_train, scorer)\n   1243 \n   1244     scoring_time = time.time() - start_time\n\n...........................................................................\n/home/thomas/anaconda3/lib/python3.4/site-packages/sklearn/cross_validation.py in _score(estimator=RandomForestClassifier(bootstrap=True, compute_i...   oob_score=False, random_state=None, verbose=2), X_test=array([[  4.24820000e+04,   1.23857143e-01,   7....000000e+00,   0.00000000e+00,   7.78571429e-01]]), y_test=array([0, 0, 0, ..., 0, 0, 0]), scorer=<function roc_auc_score>)\n   1291 def _score(estimator, X_test, y_test, scorer):\n   1292     \"\"\"Compute the score of an estimator on a given test set.\"\"\"\n   1293     if y_test is None:\n   1294         score = scorer(estimator, X_test)\n   1295     else:\n-> 1296         score = scorer(estimator, X_test, y_test)\n        score = undefined\n        scorer = <function roc_auc_score>\n        estimator = RandomForestClassifier(bootstrap=True, compute_i...   oob_score=False, random_state=None, verbose=2)\n        X_test = array([[  4.24820000e+04,   1.23857143e-01,   7....000000e+00,   0.00000000e+00,   7.78571429e-01]])\n        y_test = array([0, 0, 0, ..., 0, 0, 0])\n   1297     if not isinstance(score, numbers.Number):\n   1298         raise ValueError(\"scoring must return a number, got %s (%s) instead.\"\n   1299                          % (str(score), type(score)))\n   1300     return score\n\n...........................................................................\n/home/thomas/anaconda3/lib/python3.4/site-packages/sklearn/metrics/metrics.py in roc_auc_score(y_true=RandomForestClassifier(bootstrap=True, compute_i...   oob_score=False, random_state=None, verbose=2), y_score=array([[  4.24820000e+04,   1.23857143e-01,   7....000000e+00,   0.00000000e+00,   7.78571429e-01]]), average=array([0, 0, 0, ..., 0, 0, 0]), sample_weight=None)\n    588                                         sample_weight=sample_weight)\n    589         return auc(fpr, tpr, reorder=True)\n    590 \n    591     return _average_binary_score(\n    592         _binary_roc_auc_score, y_true, y_score, average,\n--> 593         sample_weight=sample_weight)\n        sample_weight = None\n    594 \n    595 \n    596 def matthews_corrcoef(y_true, y_pred):\n    597     \"\"\"Compute the Matthews correlation coefficient (MCC) for binary classes\n\n...........................................................................\n/home/thomas/anaconda3/lib/python3.4/site-packages/sklearn/metrics/metrics.py in _average_binary_score(binary_metric=<function roc_auc_score.<locals>._binary_roc_auc_score>, y_true=RandomForestClassifier(bootstrap=True, compute_i...   oob_score=False, random_state=None, verbose=2), y_score=array([[  4.24820000e+04,   1.23857143e-01,   7....000000e+00,   0.00000000e+00,   7.78571429e-01]]), average=array([0, 0, 0, ..., 0, 0, 0]), sample_weight=None)\n    461 \n    462     \"\"\"\n    463     average_options = (None, 'micro', 'macro', 'weighted', 'samples')\n    464     if average not in average_options:\n    465         raise ValueError('average has to be one of {0}'\n--> 466                          ''.format(average_options))\n        average_options = (None, 'micro', 'macro', 'weighted', 'samples')\n    467 \n    468     y_type = type_of_target(y_true)\n    469     if y_type not in (\"binary\", \"multilabel-indicator\"):\n    470         raise ValueError(\"{0} format is not supported\".format(y_type))\n\nValueError: average has to be one of (None, 'micro', 'macro', 'weighted', 'samples')\n___________________________________________________________________________",
     "output_type": "error",
     "traceback": [
      "\u001b[1;31m---------------------------------------------------------------------------\u001b[0m",
      "\u001b[1;31mRemoteTraceback\u001b[0m                           Traceback (most recent call last)",
      "\u001b[1;31mRemoteTraceback\u001b[0m: \n\"\"\"\nTraceback (most recent call last):\n  File \"/home/thomas/anaconda3/lib/python3.4/site-packages/sklearn/externals/joblib/parallel.py\", line 92, in __call__\n    return self.func(*args, **kwargs)\n  File \"/home/thomas/anaconda3/lib/python3.4/site-packages/sklearn/cross_validation.py\", line 1240, in _fit_and_score\n    test_score = _score(estimator, X_test, y_test, scorer)\n  File \"/home/thomas/anaconda3/lib/python3.4/site-packages/sklearn/cross_validation.py\", line 1296, in _score\n    score = scorer(estimator, X_test, y_test)\n  File \"/home/thomas/anaconda3/lib/python3.4/site-packages/sklearn/metrics/metrics.py\", line 593, in roc_auc_score\n    sample_weight=sample_weight)\n  File \"/home/thomas/anaconda3/lib/python3.4/site-packages/sklearn/metrics/metrics.py\", line 466, in _average_binary_score\n    ''.format(average_options))\nValueError: average has to be one of (None, 'micro', 'macro', 'weighted', 'samples')\n\nDuring handling of the above exception, another exception occurred:\n\nTraceback (most recent call last):\n  File \"/home/thomas/anaconda3/lib/python3.4/multiprocessing/pool.py\", line 119, in worker\n    result = (True, func(*args, **kwds))\n  File \"/home/thomas/anaconda3/lib/python3.4/site-packages/sklearn/externals/joblib/parallel.py\", line 102, in __call__\n    raise TransportableException(text, e_type)\nsklearn.externals.joblib.my_exceptions.TransportableException: TransportableException\n___________________________________________________________________________\nValueError                                         Tue Jun  2 22:45:03 2015\nPID: 9592                  Python 3.4.3: /home/thomas/anaconda3/bin/python3\n...........................................................................\n/home/thomas/anaconda3/lib/python3.4/site-packages/sklearn/cross_validation.py in _fit_and_score(estimator=RandomForestClassifier(bootstrap=True, compute_i...   oob_score=False, random_state=None, verbose=2), X=array([[  0.00000000e+00,   6.25862069e-02,   6....571429e+01,   0.00000000e+00,   2.62142857e-01]]), y=array([0, 0, 0, ..., 0, 0, 0]), scorer=<function roc_auc_score>, train=array([ 9624, 24407, 20177, ..., 10427, 64585, 55098]), test=array([42482, 21171,  5319, ..., 46082, 11988, 13917]), verbose=0, parameters=None, fit_params={}, return_train_score=False, return_parameters=False)\n   1235     X_test, y_test = _safe_split(estimator, X, y, test, train)\n   1236     if y_train is None:\n   1237         estimator.fit(X_train, **fit_params)\n   1238     else:\n   1239         estimator.fit(X_train, y_train, **fit_params)\n-> 1240     test_score = _score(estimator, X_test, y_test, scorer)\n        test_score = undefined\n        estimator = RandomForestClassifier(bootstrap=True, compute_i...   oob_score=False, random_state=None, verbose=2)\n        X_test = array([[  4.24820000e+04,   1.23857143e-01,   7....000000e+00,   0.00000000e+00,   7.78571429e-01]])\n        y_test = array([0, 0, 0, ..., 0, 0, 0])\n        scorer = <function roc_auc_score>\n   1241     if return_train_score:\n   1242         train_score = _score(estimator, X_train, y_train, scorer)\n   1243 \n   1244     scoring_time = time.time() - start_time\n\n...........................................................................\n/home/thomas/anaconda3/lib/python3.4/site-packages/sklearn/cross_validation.py in _score(estimator=RandomForestClassifier(bootstrap=True, compute_i...   oob_score=False, random_state=None, verbose=2), X_test=array([[  4.24820000e+04,   1.23857143e-01,   7....000000e+00,   0.00000000e+00,   7.78571429e-01]]), y_test=array([0, 0, 0, ..., 0, 0, 0]), scorer=<function roc_auc_score>)\n   1291 def _score(estimator, X_test, y_test, scorer):\n   1292     \"\"\"Compute the score of an estimator on a given test set.\"\"\"\n   1293     if y_test is None:\n   1294         score = scorer(estimator, X_test)\n   1295     else:\n-> 1296         score = scorer(estimator, X_test, y_test)\n        score = undefined\n        scorer = <function roc_auc_score>\n        estimator = RandomForestClassifier(bootstrap=True, compute_i...   oob_score=False, random_state=None, verbose=2)\n        X_test = array([[  4.24820000e+04,   1.23857143e-01,   7....000000e+00,   0.00000000e+00,   7.78571429e-01]])\n        y_test = array([0, 0, 0, ..., 0, 0, 0])\n   1297     if not isinstance(score, numbers.Number):\n   1298         raise ValueError(\"scoring must return a number, got %s (%s) instead.\"\n   1299                          % (str(score), type(score)))\n   1300     return score\n\n...........................................................................\n/home/thomas/anaconda3/lib/python3.4/site-packages/sklearn/metrics/metrics.py in roc_auc_score(y_true=RandomForestClassifier(bootstrap=True, compute_i...   oob_score=False, random_state=None, verbose=2), y_score=array([[  4.24820000e+04,   1.23857143e-01,   7....000000e+00,   0.00000000e+00,   7.78571429e-01]]), average=array([0, 0, 0, ..., 0, 0, 0]), sample_weight=None)\n    588                                         sample_weight=sample_weight)\n    589         return auc(fpr, tpr, reorder=True)\n    590 \n    591     return _average_binary_score(\n    592         _binary_roc_auc_score, y_true, y_score, average,\n--> 593         sample_weight=sample_weight)\n        sample_weight = None\n    594 \n    595 \n    596 def matthews_corrcoef(y_true, y_pred):\n    597     \"\"\"Compute the Matthews correlation coefficient (MCC) for binary classes\n\n...........................................................................\n/home/thomas/anaconda3/lib/python3.4/site-packages/sklearn/metrics/metrics.py in _average_binary_score(binary_metric=<function roc_auc_score.<locals>._binary_roc_auc_score>, y_true=RandomForestClassifier(bootstrap=True, compute_i...   oob_score=False, random_state=None, verbose=2), y_score=array([[  4.24820000e+04,   1.23857143e-01,   7....000000e+00,   0.00000000e+00,   7.78571429e-01]]), average=array([0, 0, 0, ..., 0, 0, 0]), sample_weight=None)\n    461 \n    462     \"\"\"\n    463     average_options = (None, 'micro', 'macro', 'weighted', 'samples')\n    464     if average not in average_options:\n    465         raise ValueError('average has to be one of {0}'\n--> 466                          ''.format(average_options))\n        average_options = (None, 'micro', 'macro', 'weighted', 'samples')\n    467 \n    468     y_type = type_of_target(y_true)\n    469     if y_type not in (\"binary\", \"multilabel-indicator\"):\n    470         raise ValueError(\"{0} format is not supported\".format(y_type))\n\nValueError: average has to be one of (None, 'micro', 'macro', 'weighted', 'samples')\n___________________________________________________________________________\n\"\"\"",
      "\nThe above exception was the direct cause of the following exception:\n",
      "\u001b[1;31mTransportableException\u001b[0m                    Traceback (most recent call last)",
      "\u001b[1;32m/home/thomas/anaconda3/lib/python3.4/site-packages/sklearn/externals/joblib/parallel.py\u001b[0m in \u001b[0;36mretrieve\u001b[1;34m(self)\u001b[0m\n\u001b[0;32m    511\u001b[0m             \u001b[1;32mtry\u001b[0m\u001b[1;33m:\u001b[0m\u001b[1;33m\u001b[0m\u001b[0m\n\u001b[1;32m--> 512\u001b[1;33m                 \u001b[0mself\u001b[0m\u001b[1;33m.\u001b[0m\u001b[0m_output\u001b[0m\u001b[1;33m.\u001b[0m\u001b[0mappend\u001b[0m\u001b[1;33m(\u001b[0m\u001b[0mjob\u001b[0m\u001b[1;33m.\u001b[0m\u001b[0mget\u001b[0m\u001b[1;33m(\u001b[0m\u001b[1;33m)\u001b[0m\u001b[1;33m)\u001b[0m\u001b[1;33m\u001b[0m\u001b[0m\n\u001b[0m\u001b[0;32m    513\u001b[0m             \u001b[1;32mexcept\u001b[0m \u001b[0mtuple\u001b[0m\u001b[1;33m(\u001b[0m\u001b[0mself\u001b[0m\u001b[1;33m.\u001b[0m\u001b[0mexceptions\u001b[0m\u001b[1;33m)\u001b[0m \u001b[1;32mas\u001b[0m \u001b[0mexception\u001b[0m\u001b[1;33m:\u001b[0m\u001b[1;33m\u001b[0m\u001b[0m\n",
      "\u001b[1;32m/home/thomas/anaconda3/lib/python3.4/multiprocessing/pool.py\u001b[0m in \u001b[0;36mget\u001b[1;34m(self, timeout)\u001b[0m\n\u001b[0;32m    598\u001b[0m         \u001b[1;32melse\u001b[0m\u001b[1;33m:\u001b[0m\u001b[1;33m\u001b[0m\u001b[0m\n\u001b[1;32m--> 599\u001b[1;33m             \u001b[1;32mraise\u001b[0m \u001b[0mself\u001b[0m\u001b[1;33m.\u001b[0m\u001b[0m_value\u001b[0m\u001b[1;33m\u001b[0m\u001b[0m\n\u001b[0m\u001b[0;32m    600\u001b[0m \u001b[1;33m\u001b[0m\u001b[0m\n",
      "\u001b[1;31mTransportableException\u001b[0m: TransportableException\n___________________________________________________________________________\nValueError                                         Tue Jun  2 22:45:03 2015\nPID: 9592                  Python 3.4.3: /home/thomas/anaconda3/bin/python3\n...........................................................................\n/home/thomas/anaconda3/lib/python3.4/site-packages/sklearn/cross_validation.py in _fit_and_score(estimator=RandomForestClassifier(bootstrap=True, compute_i...   oob_score=False, random_state=None, verbose=2), X=array([[  0.00000000e+00,   6.25862069e-02,   6....571429e+01,   0.00000000e+00,   2.62142857e-01]]), y=array([0, 0, 0, ..., 0, 0, 0]), scorer=<function roc_auc_score>, train=array([ 9624, 24407, 20177, ..., 10427, 64585, 55098]), test=array([42482, 21171,  5319, ..., 46082, 11988, 13917]), verbose=0, parameters=None, fit_params={}, return_train_score=False, return_parameters=False)\n   1235     X_test, y_test = _safe_split(estimator, X, y, test, train)\n   1236     if y_train is None:\n   1237         estimator.fit(X_train, **fit_params)\n   1238     else:\n   1239         estimator.fit(X_train, y_train, **fit_params)\n-> 1240     test_score = _score(estimator, X_test, y_test, scorer)\n        test_score = undefined\n        estimator = RandomForestClassifier(bootstrap=True, compute_i...   oob_score=False, random_state=None, verbose=2)\n        X_test = array([[  4.24820000e+04,   1.23857143e-01,   7....000000e+00,   0.00000000e+00,   7.78571429e-01]])\n        y_test = array([0, 0, 0, ..., 0, 0, 0])\n        scorer = <function roc_auc_score>\n   1241     if return_train_score:\n   1242         train_score = _score(estimator, X_train, y_train, scorer)\n   1243 \n   1244     scoring_time = time.time() - start_time\n\n...........................................................................\n/home/thomas/anaconda3/lib/python3.4/site-packages/sklearn/cross_validation.py in _score(estimator=RandomForestClassifier(bootstrap=True, compute_i...   oob_score=False, random_state=None, verbose=2), X_test=array([[  4.24820000e+04,   1.23857143e-01,   7....000000e+00,   0.00000000e+00,   7.78571429e-01]]), y_test=array([0, 0, 0, ..., 0, 0, 0]), scorer=<function roc_auc_score>)\n   1291 def _score(estimator, X_test, y_test, scorer):\n   1292     \"\"\"Compute the score of an estimator on a given test set.\"\"\"\n   1293     if y_test is None:\n   1294         score = scorer(estimator, X_test)\n   1295     else:\n-> 1296         score = scorer(estimator, X_test, y_test)\n        score = undefined\n        scorer = <function roc_auc_score>\n        estimator = RandomForestClassifier(bootstrap=True, compute_i...   oob_score=False, random_state=None, verbose=2)\n        X_test = array([[  4.24820000e+04,   1.23857143e-01,   7....000000e+00,   0.00000000e+00,   7.78571429e-01]])\n        y_test = array([0, 0, 0, ..., 0, 0, 0])\n   1297     if not isinstance(score, numbers.Number):\n   1298         raise ValueError(\"scoring must return a number, got %s (%s) instead.\"\n   1299                          % (str(score), type(score)))\n   1300     return score\n\n...........................................................................\n/home/thomas/anaconda3/lib/python3.4/site-packages/sklearn/metrics/metrics.py in roc_auc_score(y_true=RandomForestClassifier(bootstrap=True, compute_i...   oob_score=False, random_state=None, verbose=2), y_score=array([[  4.24820000e+04,   1.23857143e-01,   7....000000e+00,   0.00000000e+00,   7.78571429e-01]]), average=array([0, 0, 0, ..., 0, 0, 0]), sample_weight=None)\n    588                                         sample_weight=sample_weight)\n    589         return auc(fpr, tpr, reorder=True)\n    590 \n    591     return _average_binary_score(\n    592         _binary_roc_auc_score, y_true, y_score, average,\n--> 593         sample_weight=sample_weight)\n        sample_weight = None\n    594 \n    595 \n    596 def matthews_corrcoef(y_true, y_pred):\n    597     \"\"\"Compute the Matthews correlation coefficient (MCC) for binary classes\n\n...........................................................................\n/home/thomas/anaconda3/lib/python3.4/site-packages/sklearn/metrics/metrics.py in _average_binary_score(binary_metric=<function roc_auc_score.<locals>._binary_roc_auc_score>, y_true=RandomForestClassifier(bootstrap=True, compute_i...   oob_score=False, random_state=None, verbose=2), y_score=array([[  4.24820000e+04,   1.23857143e-01,   7....000000e+00,   0.00000000e+00,   7.78571429e-01]]), average=array([0, 0, 0, ..., 0, 0, 0]), sample_weight=None)\n    461 \n    462     \"\"\"\n    463     average_options = (None, 'micro', 'macro', 'weighted', 'samples')\n    464     if average not in average_options:\n    465         raise ValueError('average has to be one of {0}'\n--> 466                          ''.format(average_options))\n        average_options = (None, 'micro', 'macro', 'weighted', 'samples')\n    467 \n    468     y_type = type_of_target(y_true)\n    469     if y_type not in (\"binary\", \"multilabel-indicator\"):\n    470         raise ValueError(\"{0} format is not supported\".format(y_type))\n\nValueError: average has to be one of (None, 'micro', 'macro', 'weighted', 'samples')\n___________________________________________________________________________",
      "\nDuring handling of the above exception, another exception occurred:\n",
      "\u001b[1;31mJoblibValueError\u001b[0m                          Traceback (most recent call last)",
      "\u001b[1;32m<ipython-input-42-d4b1f290981e>\u001b[0m in \u001b[0;36m<module>\u001b[1;34m()\u001b[0m\n\u001b[1;32m----> 1\u001b[1;33m \u001b[0mcross_val_score\u001b[0m\u001b[1;33m(\u001b[0m\u001b[0mclf\u001b[0m\u001b[1;33m,\u001b[0m\u001b[0mX\u001b[0m\u001b[1;33m,\u001b[0m\u001b[0my\u001b[0m\u001b[1;33m,\u001b[0m\u001b[0mcv\u001b[0m\u001b[1;33m=\u001b[0m\u001b[0mcv\u001b[0m\u001b[1;33m,\u001b[0m\u001b[0mn_jobs\u001b[0m\u001b[1;33m=\u001b[0m\u001b[1;33m-\u001b[0m\u001b[1;36m1\u001b[0m\u001b[1;33m,\u001b[0m\u001b[0mscoring\u001b[0m \u001b[1;33m=\u001b[0m \u001b[0mroc_auc_score\u001b[0m\u001b[1;33m)\u001b[0m\u001b[1;33m\u001b[0m\u001b[0m\n\u001b[0m",
      "\u001b[1;32m/home/thomas/anaconda3/lib/python3.4/site-packages/sklearn/cross_validation.py\u001b[0m in \u001b[0;36mcross_val_score\u001b[1;34m(estimator, X, y, scoring, cv, n_jobs, verbose, fit_params, score_func, pre_dispatch)\u001b[0m\n\u001b[0;32m   1149\u001b[0m                                               \u001b[0mtrain\u001b[0m\u001b[1;33m,\u001b[0m \u001b[0mtest\u001b[0m\u001b[1;33m,\u001b[0m \u001b[0mverbose\u001b[0m\u001b[1;33m,\u001b[0m \u001b[1;32mNone\u001b[0m\u001b[1;33m,\u001b[0m\u001b[1;33m\u001b[0m\u001b[0m\n\u001b[0;32m   1150\u001b[0m                                               fit_params)\n\u001b[1;32m-> 1151\u001b[1;33m                       for train, test in cv)\n\u001b[0m\u001b[0;32m   1152\u001b[0m     \u001b[1;32mreturn\u001b[0m \u001b[0mnp\u001b[0m\u001b[1;33m.\u001b[0m\u001b[0marray\u001b[0m\u001b[1;33m(\u001b[0m\u001b[0mscores\u001b[0m\u001b[1;33m)\u001b[0m\u001b[1;33m[\u001b[0m\u001b[1;33m:\u001b[0m\u001b[1;33m,\u001b[0m \u001b[1;36m0\u001b[0m\u001b[1;33m]\u001b[0m\u001b[1;33m\u001b[0m\u001b[0m\n\u001b[0;32m   1153\u001b[0m \u001b[1;33m\u001b[0m\u001b[0m\n",
      "\u001b[1;32m/home/thomas/anaconda3/lib/python3.4/site-packages/sklearn/externals/joblib/parallel.py\u001b[0m in \u001b[0;36m__call__\u001b[1;34m(self, iterable)\u001b[0m\n\u001b[0;32m    658\u001b[0m                 \u001b[1;31m# consumption.\u001b[0m\u001b[1;33m\u001b[0m\u001b[1;33m\u001b[0m\u001b[0m\n\u001b[0;32m    659\u001b[0m                 \u001b[0mself\u001b[0m\u001b[1;33m.\u001b[0m\u001b[0m_iterating\u001b[0m \u001b[1;33m=\u001b[0m \u001b[1;32mFalse\u001b[0m\u001b[1;33m\u001b[0m\u001b[0m\n\u001b[1;32m--> 660\u001b[1;33m             \u001b[0mself\u001b[0m\u001b[1;33m.\u001b[0m\u001b[0mretrieve\u001b[0m\u001b[1;33m(\u001b[0m\u001b[1;33m)\u001b[0m\u001b[1;33m\u001b[0m\u001b[0m\n\u001b[0m\u001b[0;32m    661\u001b[0m             \u001b[1;31m# Make sure that we get a last message telling us we are done\u001b[0m\u001b[1;33m\u001b[0m\u001b[1;33m\u001b[0m\u001b[0m\n\u001b[0;32m    662\u001b[0m             \u001b[0melapsed_time\u001b[0m \u001b[1;33m=\u001b[0m \u001b[0mtime\u001b[0m\u001b[1;33m.\u001b[0m\u001b[0mtime\u001b[0m\u001b[1;33m(\u001b[0m\u001b[1;33m)\u001b[0m \u001b[1;33m-\u001b[0m \u001b[0mself\u001b[0m\u001b[1;33m.\u001b[0m\u001b[0m_start_time\u001b[0m\u001b[1;33m\u001b[0m\u001b[0m\n",
      "\u001b[1;32m/home/thomas/anaconda3/lib/python3.4/site-packages/sklearn/externals/joblib/parallel.py\u001b[0m in \u001b[0;36mretrieve\u001b[1;34m(self)\u001b[0m\n\u001b[0;32m    541\u001b[0m                         \u001b[1;31m# Convert this to a JoblibException\u001b[0m\u001b[1;33m\u001b[0m\u001b[1;33m\u001b[0m\u001b[0m\n\u001b[0;32m    542\u001b[0m                         \u001b[0mexception_type\u001b[0m \u001b[1;33m=\u001b[0m \u001b[0m_mk_exception\u001b[0m\u001b[1;33m(\u001b[0m\u001b[0mexception\u001b[0m\u001b[1;33m.\u001b[0m\u001b[0metype\u001b[0m\u001b[1;33m)\u001b[0m\u001b[1;33m[\u001b[0m\u001b[1;36m0\u001b[0m\u001b[1;33m]\u001b[0m\u001b[1;33m\u001b[0m\u001b[0m\n\u001b[1;32m--> 543\u001b[1;33m                         \u001b[1;32mraise\u001b[0m \u001b[0mexception_type\u001b[0m\u001b[1;33m(\u001b[0m\u001b[0mreport\u001b[0m\u001b[1;33m)\u001b[0m\u001b[1;33m\u001b[0m\u001b[0m\n\u001b[0m\u001b[0;32m    544\u001b[0m                     \u001b[1;32mraise\u001b[0m \u001b[0mexception\u001b[0m\u001b[1;33m\u001b[0m\u001b[0m\n\u001b[0;32m    545\u001b[0m                 \u001b[1;32mfinally\u001b[0m\u001b[1;33m:\u001b[0m\u001b[1;33m\u001b[0m\u001b[0m\n",
      "\u001b[1;31mJoblibValueError\u001b[0m: JoblibValueError\n___________________________________________________________________________\nMultiprocessing exception:\n    ...........................................................................\n/home/thomas/anaconda3/lib/python3.4/runpy.py in _run_module_as_main(mod_name='IPython.kernel.__main__', alter_argv=1)\n    165         sys.exit(msg)\n    166     main_globals = sys.modules[\"__main__\"].__dict__\n    167     if alter_argv:\n    168         sys.argv[0] = mod_spec.origin\n    169     return _run_code(code, main_globals, None,\n--> 170                      \"__main__\", mod_spec)\n        mod_spec = ModuleSpec(name='IPython.kernel.__main__', loade...hon3.4/site-packages/IPython/kernel/__main__.py')\n    171 \n    172 def run_module(mod_name, init_globals=None,\n    173                run_name=None, alter_sys=False):\n    174     \"\"\"Execute a module's code without importing it\n\n...........................................................................\n/home/thomas/anaconda3/lib/python3.4/runpy.py in _run_code(code=<code object <module> at 0x7f6e69880a50, file \"/...ite-packages/IPython/kernel/__main__.py\", line 1>, run_globals={'__builtins__': <module 'builtins' (built-in)>, '__cached__': '/home/thomas/anaconda3/lib/python3.4/site-packag...Python/kernel/__pycache__/__main__.cpython-34.pyc', '__doc__': None, '__file__': '/home/thomas/anaconda3/lib/python3.4/site-packages/IPython/kernel/__main__.py', '__loader__': <_frozen_importlib.SourceFileLoader object>, '__name__': '__main__', '__package__': 'IPython.kernel', '__spec__': ModuleSpec(name='IPython.kernel.__main__', loade...hon3.4/site-packages/IPython/kernel/__main__.py'), 'app': <module 'IPython.kernel.zmq.kernelapp' from '/ho...4/site-packages/IPython/kernel/zmq/kernelapp.py'>}, init_globals=None, mod_name='__main__', mod_spec=ModuleSpec(name='IPython.kernel.__main__', loade...hon3.4/site-packages/IPython/kernel/__main__.py'), pkg_name='IPython.kernel', script_name=None)\n     80                        __cached__ = cached,\n     81                        __doc__ = None,\n     82                        __loader__ = loader,\n     83                        __package__ = pkg_name,\n     84                        __spec__ = mod_spec)\n---> 85     exec(code, run_globals)\n        code = <code object <module> at 0x7f6e69880a50, file \"/...ite-packages/IPython/kernel/__main__.py\", line 1>\n        run_globals = {'__builtins__': <module 'builtins' (built-in)>, '__cached__': '/home/thomas/anaconda3/lib/python3.4/site-packag...Python/kernel/__pycache__/__main__.cpython-34.pyc', '__doc__': None, '__file__': '/home/thomas/anaconda3/lib/python3.4/site-packages/IPython/kernel/__main__.py', '__loader__': <_frozen_importlib.SourceFileLoader object>, '__name__': '__main__', '__package__': 'IPython.kernel', '__spec__': ModuleSpec(name='IPython.kernel.__main__', loade...hon3.4/site-packages/IPython/kernel/__main__.py'), 'app': <module 'IPython.kernel.zmq.kernelapp' from '/ho...4/site-packages/IPython/kernel/zmq/kernelapp.py'>}\n     86     return run_globals\n     87 \n     88 def _run_module_code(code, init_globals=None,\n     89                     mod_name=None, mod_spec=None,\n\n...........................................................................\n/home/thomas/anaconda3/lib/python3.4/site-packages/IPython/kernel/__main__.py in <module>()\n      1 \n      2 \n----> 3 \n      4 if __name__ == '__main__':\n      5     from IPython.kernel.zmq import kernelapp as app\n      6     app.launch_new_instance()\n      7 \n      8 \n      9 \n     10 \n\n...........................................................................\n/home/thomas/anaconda3/lib/python3.4/site-packages/IPython/config/application.py in launch_instance(cls=<class 'IPython.kernel.zmq.kernelapp.IPKernelApp'>, argv=None, **kwargs={})\n    569         \n    570         If a global instance already exists, this reinitializes and starts it\n    571         \"\"\"\n    572         app = cls.instance(**kwargs)\n    573         app.initialize(argv)\n--> 574         app.start()\n        app.start = <bound method IPKernelApp.start of <IPython.kernel.zmq.kernelapp.IPKernelApp object>>\n    575 \n    576 #-----------------------------------------------------------------------------\n    577 # utility functions, for convenience\n    578 #-----------------------------------------------------------------------------\n\n...........................................................................\n/home/thomas/anaconda3/lib/python3.4/site-packages/IPython/kernel/zmq/kernelapp.py in start(self=<IPython.kernel.zmq.kernelapp.IPKernelApp object>)\n    369     def start(self):\n    370         if self.poller is not None:\n    371             self.poller.start()\n    372         self.kernel.start()\n    373         try:\n--> 374             ioloop.IOLoop.instance().start()\n    375         except KeyboardInterrupt:\n    376             pass\n    377 \n    378 launch_new_instance = IPKernelApp.launch_instance\n\n...........................................................................\n/home/thomas/anaconda3/lib/python3.4/site-packages/zmq/eventloop/ioloop.py in start(self=<zmq.eventloop.ioloop.ZMQIOLoop object>)\n    146             PollIOLoop.configure(ZMQIOLoop)\n    147         return PollIOLoop.instance()\n    148     \n    149     def start(self):\n    150         try:\n--> 151             super(ZMQIOLoop, self).start()\n        self.start = <bound method ZMQIOLoop.start of <zmq.eventloop.ioloop.ZMQIOLoop object>>\n    152         except ZMQError as e:\n    153             if e.errno == ETERM:\n    154                 # quietly return on ETERM\n    155                 pass\n\n...........................................................................\n/home/thomas/anaconda3/lib/python3.4/site-packages/tornado/ioloop.py in start(self=<zmq.eventloop.ioloop.ZMQIOLoop object>)\n    835                 self._events.update(event_pairs)\n    836                 while self._events:\n    837                     fd, events = self._events.popitem()\n    838                     try:\n    839                         fd_obj, handler_func = self._handlers[fd]\n--> 840                         handler_func(fd_obj, events)\n        handler_func = <function wrap.<locals>.null_wrapper>\n        fd_obj = <zmq.sugar.socket.Socket object>\n        events = 5\n    841                     except (OSError, IOError) as e:\n    842                         if errno_from_exception(e) == errno.EPIPE:\n    843                             # Happens when the client closes the connection\n    844                             pass\n\n...........................................................................\n/home/thomas/anaconda3/lib/python3.4/site-packages/tornado/stack_context.py in null_wrapper(*args=(<zmq.sugar.socket.Socket object>, 5), **kwargs={})\n    270         # Fast path when there are no active contexts.\n    271         def null_wrapper(*args, **kwargs):\n    272             try:\n    273                 current_state = _state.contexts\n    274                 _state.contexts = cap_contexts[0]\n--> 275                 return fn(*args, **kwargs)\n        args = (<zmq.sugar.socket.Socket object>, 5)\n        kwargs = {}\n    276             finally:\n    277                 _state.contexts = current_state\n    278         null_wrapper._wrapped = True\n    279         return null_wrapper\n\n...........................................................................\n/home/thomas/anaconda3/lib/python3.4/site-packages/zmq/eventloop/zmqstream.py in _handle_events(self=<zmq.eventloop.zmqstream.ZMQStream object>, fd=<zmq.sugar.socket.Socket object>, events=5)\n    428             # dispatch events:\n    429             if events & IOLoop.ERROR:\n    430                 gen_log.error(\"got POLLERR event on ZMQStream, which doesn't make sense\")\n    431                 return\n    432             if events & IOLoop.READ:\n--> 433                 self._handle_recv()\n        self._handle_recv = <bound method ZMQStream._handle_recv of <zmq.eventloop.zmqstream.ZMQStream object>>\n    434                 if not self.socket:\n    435                     return\n    436             if events & IOLoop.WRITE:\n    437                 self._handle_send()\n\n...........................................................................\n/home/thomas/anaconda3/lib/python3.4/site-packages/zmq/eventloop/zmqstream.py in _handle_recv(self=<zmq.eventloop.zmqstream.ZMQStream object>)\n    460                 gen_log.error(\"RECV Error: %s\"%zmq.strerror(e.errno))\n    461         else:\n    462             if self._recv_callback:\n    463                 callback = self._recv_callback\n    464                 # self._recv_callback = None\n--> 465                 self._run_callback(callback, msg)\n        self._run_callback = <bound method ZMQStream._run_callback of <zmq.eventloop.zmqstream.ZMQStream object>>\n        callback = <function wrap.<locals>.null_wrapper>\n        msg = [<zmq.sugar.frame.Frame object>, <zmq.sugar.frame.Frame object>, <zmq.sugar.frame.Frame object>, <zmq.sugar.frame.Frame object>, <zmq.sugar.frame.Frame object>, <zmq.sugar.frame.Frame object>, <zmq.sugar.frame.Frame object>]\n    466                 \n    467         # self.update_state()\n    468         \n    469 \n\n...........................................................................\n/home/thomas/anaconda3/lib/python3.4/site-packages/zmq/eventloop/zmqstream.py in _run_callback(self=<zmq.eventloop.zmqstream.ZMQStream object>, callback=<function wrap.<locals>.null_wrapper>, *args=([<zmq.sugar.frame.Frame object>, <zmq.sugar.frame.Frame object>, <zmq.sugar.frame.Frame object>, <zmq.sugar.frame.Frame object>, <zmq.sugar.frame.Frame object>, <zmq.sugar.frame.Frame object>, <zmq.sugar.frame.Frame object>],), **kwargs={})\n    402         close our socket.\"\"\"\n    403         try:\n    404             # Use a NullContext to ensure that all StackContexts are run\n    405             # inside our blanket exception handler rather than outside.\n    406             with stack_context.NullContext():\n--> 407                 callback(*args, **kwargs)\n        callback = <function wrap.<locals>.null_wrapper>\n        args = ([<zmq.sugar.frame.Frame object>, <zmq.sugar.frame.Frame object>, <zmq.sugar.frame.Frame object>, <zmq.sugar.frame.Frame object>, <zmq.sugar.frame.Frame object>, <zmq.sugar.frame.Frame object>, <zmq.sugar.frame.Frame object>],)\n        kwargs = {}\n    408         except:\n    409             gen_log.error(\"Uncaught exception, closing connection.\",\n    410                           exc_info=True)\n    411             # Close the socket on an uncaught exception from a user callback\n\n...........................................................................\n/home/thomas/anaconda3/lib/python3.4/site-packages/tornado/stack_context.py in null_wrapper(*args=([<zmq.sugar.frame.Frame object>, <zmq.sugar.frame.Frame object>, <zmq.sugar.frame.Frame object>, <zmq.sugar.frame.Frame object>, <zmq.sugar.frame.Frame object>, <zmq.sugar.frame.Frame object>, <zmq.sugar.frame.Frame object>],), **kwargs={})\n    270         # Fast path when there are no active contexts.\n    271         def null_wrapper(*args, **kwargs):\n    272             try:\n    273                 current_state = _state.contexts\n    274                 _state.contexts = cap_contexts[0]\n--> 275                 return fn(*args, **kwargs)\n        args = ([<zmq.sugar.frame.Frame object>, <zmq.sugar.frame.Frame object>, <zmq.sugar.frame.Frame object>, <zmq.sugar.frame.Frame object>, <zmq.sugar.frame.Frame object>, <zmq.sugar.frame.Frame object>, <zmq.sugar.frame.Frame object>],)\n        kwargs = {}\n    276             finally:\n    277                 _state.contexts = current_state\n    278         null_wrapper._wrapped = True\n    279         return null_wrapper\n\n...........................................................................\n/home/thomas/anaconda3/lib/python3.4/site-packages/IPython/kernel/zmq/kernelbase.py in dispatcher(msg=[<zmq.sugar.frame.Frame object>, <zmq.sugar.frame.Frame object>, <zmq.sugar.frame.Frame object>, <zmq.sugar.frame.Frame object>, <zmq.sugar.frame.Frame object>, <zmq.sugar.frame.Frame object>, <zmq.sugar.frame.Frame object>])\n    247         if self.control_stream:\n    248             self.control_stream.on_recv(self.dispatch_control, copy=False)\n    249 \n    250         def make_dispatcher(stream):\n    251             def dispatcher(msg):\n--> 252                 return self.dispatch_shell(stream, msg)\n        msg = [<zmq.sugar.frame.Frame object>, <zmq.sugar.frame.Frame object>, <zmq.sugar.frame.Frame object>, <zmq.sugar.frame.Frame object>, <zmq.sugar.frame.Frame object>, <zmq.sugar.frame.Frame object>, <zmq.sugar.frame.Frame object>]\n    253             return dispatcher\n    254 \n    255         for s in self.shell_streams:\n    256             s.on_recv(make_dispatcher(s), copy=False)\n\n...........................................................................\n/home/thomas/anaconda3/lib/python3.4/site-packages/IPython/kernel/zmq/kernelbase.py in dispatch_shell(self=<IPython.kernel.zmq.ipkernel.IPythonKernel object>, stream=<zmq.eventloop.zmqstream.ZMQStream object>, msg={'buffers': [], 'content': {'allow_stdin': True, 'code': 'cross_val_score(clf,X,y,cv=cv,n_jobs=-1,scoring = roc_auc_score)', 'silent': False, 'stop_on_error': True, 'store_history': True, 'user_expressions': {}}, 'header': {'msg_id': '0E5261D33FFF45649C35979C05D5D81A', 'msg_type': 'execute_request', 'session': '941F0DBC402D40069222A8CAF6E01CA9', 'username': 'username', 'version': '5.0'}, 'metadata': {}, 'msg_id': '0E5261D33FFF45649C35979C05D5D81A', 'msg_type': 'execute_request', 'parent_header': {}})\n    208         else:\n    209             # ensure default_int_handler during handler call\n    210             sig = signal(SIGINT, default_int_handler)\n    211             self.log.debug(\"%s: %s\", msg_type, msg)\n    212             try:\n--> 213                 handler(stream, idents, msg)\n        handler = <bound method IPythonKernel.execute_request of <IPython.kernel.zmq.ipkernel.IPythonKernel object>>\n        stream = <zmq.eventloop.zmqstream.ZMQStream object>\n        idents = [b'941F0DBC402D40069222A8CAF6E01CA9']\n        msg = {'buffers': [], 'content': {'allow_stdin': True, 'code': 'cross_val_score(clf,X,y,cv=cv,n_jobs=-1,scoring = roc_auc_score)', 'silent': False, 'stop_on_error': True, 'store_history': True, 'user_expressions': {}}, 'header': {'msg_id': '0E5261D33FFF45649C35979C05D5D81A', 'msg_type': 'execute_request', 'session': '941F0DBC402D40069222A8CAF6E01CA9', 'username': 'username', 'version': '5.0'}, 'metadata': {}, 'msg_id': '0E5261D33FFF45649C35979C05D5D81A', 'msg_type': 'execute_request', 'parent_header': {}}\n    214             except Exception:\n    215                 self.log.error(\"Exception in message handler:\", exc_info=True)\n    216             finally:\n    217                 signal(SIGINT, sig)\n\n...........................................................................\n/home/thomas/anaconda3/lib/python3.4/site-packages/IPython/kernel/zmq/kernelbase.py in execute_request(self=<IPython.kernel.zmq.ipkernel.IPythonKernel object>, stream=<zmq.eventloop.zmqstream.ZMQStream object>, ident=[b'941F0DBC402D40069222A8CAF6E01CA9'], parent={'buffers': [], 'content': {'allow_stdin': True, 'code': 'cross_val_score(clf,X,y,cv=cv,n_jobs=-1,scoring = roc_auc_score)', 'silent': False, 'stop_on_error': True, 'store_history': True, 'user_expressions': {}}, 'header': {'msg_id': '0E5261D33FFF45649C35979C05D5D81A', 'msg_type': 'execute_request', 'session': '941F0DBC402D40069222A8CAF6E01CA9', 'username': 'username', 'version': '5.0'}, 'metadata': {}, 'msg_id': '0E5261D33FFF45649C35979C05D5D81A', 'msg_type': 'execute_request', 'parent_header': {}})\n    357         if not silent:\n    358             self.execution_count += 1\n    359             self._publish_execute_input(code, parent, self.execution_count)\n    360         \n    361         reply_content = self.do_execute(code, silent, store_history,\n--> 362                                         user_expressions, allow_stdin)\n        user_expressions = {}\n        allow_stdin = True\n    363 \n    364         # Flush output before sending the reply.\n    365         sys.stdout.flush()\n    366         sys.stderr.flush()\n\n...........................................................................\n/home/thomas/anaconda3/lib/python3.4/site-packages/IPython/kernel/zmq/ipkernel.py in do_execute(self=<IPython.kernel.zmq.ipkernel.IPythonKernel object>, code='cross_val_score(clf,X,y,cv=cv,n_jobs=-1,scoring = roc_auc_score)', silent=False, store_history=True, user_expressions={}, allow_stdin=True)\n    176 \n    177         reply_content = {}\n    178         # FIXME: the shell calls the exception handler itself.\n    179         shell._reply_content = None\n    180         try:\n--> 181             shell.run_cell(code, store_history=store_history, silent=silent)\n        shell.run_cell = <bound method ZMQInteractiveShell.run_cell of <I....kernel.zmq.zmqshell.ZMQInteractiveShell object>>\n        code = 'cross_val_score(clf,X,y,cv=cv,n_jobs=-1,scoring = roc_auc_score)'\n        store_history = True\n        silent = False\n    182         except:\n    183             status = u'error'\n    184             # FIXME: this code right now isn't being used yet by default,\n    185             # because the run_cell() call above directly fires off exception\n\n...........................................................................\n/home/thomas/anaconda3/lib/python3.4/site-packages/IPython/core/interactiveshell.py in run_cell(self=<IPython.kernel.zmq.zmqshell.ZMQInteractiveShell object>, raw_cell='cross_val_score(clf,X,y,cv=cv,n_jobs=-1,scoring = roc_auc_score)', store_history=True, silent=False, shell_futures=True)\n   2863                 self.displayhook.exec_result = result\n   2864 \n   2865                 # Execute the user code\n   2866                 interactivity = \"none\" if silent else self.ast_node_interactivity\n   2867                 self.run_ast_nodes(code_ast.body, cell_name,\n-> 2868                    interactivity=interactivity, compiler=compiler, result=result)\n        interactivity = 'last_expr'\n        compiler = <IPython.core.compilerop.CachingCompiler object>\n   2869 \n   2870                 # Reset this so later displayed values do not modify the\n   2871                 # ExecutionResult\n   2872                 self.displayhook.exec_result = None\n\n...........................................................................\n/home/thomas/anaconda3/lib/python3.4/site-packages/IPython/core/interactiveshell.py in run_ast_nodes(self=<IPython.kernel.zmq.zmqshell.ZMQInteractiveShell object>, nodelist=[<_ast.Expr object>], cell_name='<ipython-input-42-d4b1f290981e>', interactivity='last', compiler=<IPython.core.compilerop.CachingCompiler object>, result=<IPython.core.interactiveshell.ExecutionResult object>)\n   2973                     return True\n   2974 \n   2975             for i, node in enumerate(to_run_interactive):\n   2976                 mod = ast.Interactive([node])\n   2977                 code = compiler(mod, cell_name, \"single\")\n-> 2978                 if self.run_code(code, result):\n        self.run_code = <bound method ZMQInteractiveShell.run_code of <I....kernel.zmq.zmqshell.ZMQInteractiveShell object>>\n        code = <code object <module> at 0x7f6e2e41b4b0, file \"<ipython-input-42-d4b1f290981e>\", line 1>\n        result = <IPython.core.interactiveshell.ExecutionResult object>\n   2979                     return True\n   2980 \n   2981             # Flush softspace\n   2982             if softspace(sys.stdout, 0):\n\n...........................................................................\n/home/thomas/anaconda3/lib/python3.4/site-packages/IPython/core/interactiveshell.py in run_code(self=<IPython.kernel.zmq.zmqshell.ZMQInteractiveShell object>, code_obj=<code object <module> at 0x7f6e2e41b4b0, file \"<ipython-input-42-d4b1f290981e>\", line 1>, result=<IPython.core.interactiveshell.ExecutionResult object>)\n   3027         outflag = 1  # happens in more places, so it's easier as default\n   3028         try:\n   3029             try:\n   3030                 self.hooks.pre_run_code_hook()\n   3031                 #rprint('Running code', repr(code_obj)) # dbg\n-> 3032                 exec(code_obj, self.user_global_ns, self.user_ns)\n        code_obj = <code object <module> at 0x7f6e2e41b4b0, file \"<ipython-input-42-d4b1f290981e>\", line 1>\n        self.user_global_ns = {'GradientBoostingClassifier': <class 'sklearn.ensemble.gradient_boosting.GradientBoostingClassifier'>, 'In': ['', 'import pandas as pd', \"train = pd.read_csv('../No_Species_Dataset/train_without_Species.csv')\", \"df_test = pd.read_csv('../No_Species_Dataset/test_agg_without.csv')\", \"'Species' in train.columns\", 'y = train.WnvPresent', 'X = train.copy()', \"X = X.drop('WnvPresent',axis=1)\", \"strin = ['CodeSum',  'AddressNumberAndStreet' ,'Address', 'Street','Date']\", 'X = X.drop(strin, axis=1)\\ndf_test = df_test.drop(strin,axis=1)', 'X.dtypes[:-5]', 'from sklearn.cross_validation import train_test_...ssifier\\nfrom sklearn.metrics import roc_auc_score', 'X_train, X_test, y_train, y_test = train_test_split(X,y,test_size=.3)', 'len(X)', 'cv = ShuffleSplit(len(X))', 'clf = GradientBoostingClassifier(n_estimators=10... = -1,verbose = 2)\\nclf = RandomForestClassifier()', 'clf = GradientBoostingClassifier()\\nclf = RandomF...sifier(n_estimators=1000,n_jobs = -1,verbose = 2)', 'y.shape', '#cross_val_score(clf,X,y,cv=cv,n_jobs=-1,scoring = roc_auc_score)', 'clf.fit(X,y)', ...], 'Out': {4: False, 10: Id                           int64\n10_week_avrgP...Trap              int64\nLength: 74, dtype: object, 13: 67904, 17: (67904,), 19: RandomForestClassifier(bootstrap=True, compute_i...   oob_score=False, random_state=None, verbose=2), 21: array([ 0.153,  0.151,  0.151, ...,  0.141,  0.141,  0.141]), 23: 0.14551593819060474, 24: (0.14551593819060474, 0.13400000000000001, 0.184), 29: False, 35: Id                           int64\n10_week_avrgP...Trap              int64\nLength: 74, dtype: object, ...}, 'RandomForestClassifier': <class 'sklearn.ensemble.forest.RandomForestClassifier'>, 'ShuffleSplit': <class 'sklearn.cross_validation.ShuffleSplit'>, 'X':           Id  10_week_avrgPrecipTotal  10_week_a....000000     0.262143  \n\n[67904 rows x 79 columns], 'X_test': array([[  5.58930000e+04,   1.09142857e-01,   7....571429e+00,   0.00000000e+00,   2.10000000e-01]]), 'X_train': array([[  6.73080000e+04,   1.67500000e-01,   7....000000e+00,   2.25714286e+00,   2.71428571e-02]]), '_': (67904,), '_10': Id                           int64\n10_week_avrgP...Trap              int64\nLength: 74, dtype: object, ...}\n        self.user_ns = {'GradientBoostingClassifier': <class 'sklearn.ensemble.gradient_boosting.GradientBoostingClassifier'>, 'In': ['', 'import pandas as pd', \"train = pd.read_csv('../No_Species_Dataset/train_without_Species.csv')\", \"df_test = pd.read_csv('../No_Species_Dataset/test_agg_without.csv')\", \"'Species' in train.columns\", 'y = train.WnvPresent', 'X = train.copy()', \"X = X.drop('WnvPresent',axis=1)\", \"strin = ['CodeSum',  'AddressNumberAndStreet' ,'Address', 'Street','Date']\", 'X = X.drop(strin, axis=1)\\ndf_test = df_test.drop(strin,axis=1)', 'X.dtypes[:-5]', 'from sklearn.cross_validation import train_test_...ssifier\\nfrom sklearn.metrics import roc_auc_score', 'X_train, X_test, y_train, y_test = train_test_split(X,y,test_size=.3)', 'len(X)', 'cv = ShuffleSplit(len(X))', 'clf = GradientBoostingClassifier(n_estimators=10... = -1,verbose = 2)\\nclf = RandomForestClassifier()', 'clf = GradientBoostingClassifier()\\nclf = RandomF...sifier(n_estimators=1000,n_jobs = -1,verbose = 2)', 'y.shape', '#cross_val_score(clf,X,y,cv=cv,n_jobs=-1,scoring = roc_auc_score)', 'clf.fit(X,y)', ...], 'Out': {4: False, 10: Id                           int64\n10_week_avrgP...Trap              int64\nLength: 74, dtype: object, 13: 67904, 17: (67904,), 19: RandomForestClassifier(bootstrap=True, compute_i...   oob_score=False, random_state=None, verbose=2), 21: array([ 0.153,  0.151,  0.151, ...,  0.141,  0.141,  0.141]), 23: 0.14551593819060474, 24: (0.14551593819060474, 0.13400000000000001, 0.184), 29: False, 35: Id                           int64\n10_week_avrgP...Trap              int64\nLength: 74, dtype: object, ...}, 'RandomForestClassifier': <class 'sklearn.ensemble.forest.RandomForestClassifier'>, 'ShuffleSplit': <class 'sklearn.cross_validation.ShuffleSplit'>, 'X':           Id  10_week_avrgPrecipTotal  10_week_a....000000     0.262143  \n\n[67904 rows x 79 columns], 'X_test': array([[  5.58930000e+04,   1.09142857e-01,   7....571429e+00,   0.00000000e+00,   2.10000000e-01]]), 'X_train': array([[  6.73080000e+04,   1.67500000e-01,   7....000000e+00,   2.25714286e+00,   2.71428571e-02]]), '_': (67904,), '_10': Id                           int64\n10_week_avrgP...Trap              int64\nLength: 74, dtype: object, ...}\n   3033             finally:\n   3034                 # Reset our crash handler in place\n   3035                 sys.excepthook = old_excepthook\n   3036         except SystemExit as e:\n\n...........................................................................\n/home/thomas/Desktop/pikki virus/pikki-virus/Classifiers_test/<ipython-input-42-d4b1f290981e> in <module>()\n----> 1 \n      2 \n      3 \n      4 \n      5 \n      6 cross_val_score(clf,X,y,cv=cv,n_jobs=-1,scoring = roc_auc_score)\n      7 \n      8 \n      9 \n     10 \n\n...........................................................................\n/home/thomas/anaconda3/lib/python3.4/site-packages/sklearn/cross_validation.py in cross_val_score(estimator=RandomForestClassifier(bootstrap=True, compute_i...   oob_score=False, random_state=None, verbose=2), X=array([[  0.00000000e+00,   6.25862069e-02,   6....571429e+01,   0.00000000e+00,   2.62142857e-01]]), y=array([0, 0, 0, ..., 0, 0, 0]), scoring=<function roc_auc_score>, cv=ShuffleSplit(67904, n_iter=10, test_size=0.1, random_state=None), n_jobs=-1, verbose=0, fit_params=None, score_func=None, pre_dispatch='2*n_jobs')\n   1146     parallel = Parallel(n_jobs=n_jobs, verbose=verbose,\n   1147                         pre_dispatch=pre_dispatch)\n   1148     scores = parallel(delayed(_fit_and_score)(clone(estimator), X, y, scorer,\n   1149                                               train, test, verbose, None,\n   1150                                               fit_params)\n-> 1151                       for train, test in cv)\n        cv = ShuffleSplit(67904, n_iter=10, test_size=0.1, random_state=None)\n   1152     return np.array(scores)[:, 0]\n   1153 \n   1154 \n   1155 def _fit_and_score(estimator, X, y, scorer, train, test, verbose, parameters,\n\n...........................................................................\n/home/thomas/anaconda3/lib/python3.4/site-packages/sklearn/externals/joblib/parallel.py in __call__(self=Parallel(n_jobs=-1), iterable=<itertools.islice object>)\n    655             if pre_dispatch == \"all\" or n_jobs == 1:\n    656                 # The iterable was consumed all at once by the above for loop.\n    657                 # No need to wait for async callbacks to trigger to\n    658                 # consumption.\n    659                 self._iterating = False\n--> 660             self.retrieve()\n        self.retrieve = <bound method Parallel.retrieve of Parallel(n_jobs=-1)>\n    661             # Make sure that we get a last message telling us we are done\n    662             elapsed_time = time.time() - self._start_time\n    663             self._print('Done %3i out of %3i | elapsed: %s finished',\n    664                         (len(self._output),\n\n    ---------------------------------------------------------------------------\n    Sub-process traceback:\n    ---------------------------------------------------------------------------\n    ValueError                                         Tue Jun  2 22:45:03 2015\nPID: 9592                  Python 3.4.3: /home/thomas/anaconda3/bin/python3\n...........................................................................\n/home/thomas/anaconda3/lib/python3.4/site-packages/sklearn/cross_validation.py in _fit_and_score(estimator=RandomForestClassifier(bootstrap=True, compute_i...   oob_score=False, random_state=None, verbose=2), X=array([[  0.00000000e+00,   6.25862069e-02,   6....571429e+01,   0.00000000e+00,   2.62142857e-01]]), y=array([0, 0, 0, ..., 0, 0, 0]), scorer=<function roc_auc_score>, train=array([ 9624, 24407, 20177, ..., 10427, 64585, 55098]), test=array([42482, 21171,  5319, ..., 46082, 11988, 13917]), verbose=0, parameters=None, fit_params={}, return_train_score=False, return_parameters=False)\n   1235     X_test, y_test = _safe_split(estimator, X, y, test, train)\n   1236     if y_train is None:\n   1237         estimator.fit(X_train, **fit_params)\n   1238     else:\n   1239         estimator.fit(X_train, y_train, **fit_params)\n-> 1240     test_score = _score(estimator, X_test, y_test, scorer)\n        test_score = undefined\n        estimator = RandomForestClassifier(bootstrap=True, compute_i...   oob_score=False, random_state=None, verbose=2)\n        X_test = array([[  4.24820000e+04,   1.23857143e-01,   7....000000e+00,   0.00000000e+00,   7.78571429e-01]])\n        y_test = array([0, 0, 0, ..., 0, 0, 0])\n        scorer = <function roc_auc_score>\n   1241     if return_train_score:\n   1242         train_score = _score(estimator, X_train, y_train, scorer)\n   1243 \n   1244     scoring_time = time.time() - start_time\n\n...........................................................................\n/home/thomas/anaconda3/lib/python3.4/site-packages/sklearn/cross_validation.py in _score(estimator=RandomForestClassifier(bootstrap=True, compute_i...   oob_score=False, random_state=None, verbose=2), X_test=array([[  4.24820000e+04,   1.23857143e-01,   7....000000e+00,   0.00000000e+00,   7.78571429e-01]]), y_test=array([0, 0, 0, ..., 0, 0, 0]), scorer=<function roc_auc_score>)\n   1291 def _score(estimator, X_test, y_test, scorer):\n   1292     \"\"\"Compute the score of an estimator on a given test set.\"\"\"\n   1293     if y_test is None:\n   1294         score = scorer(estimator, X_test)\n   1295     else:\n-> 1296         score = scorer(estimator, X_test, y_test)\n        score = undefined\n        scorer = <function roc_auc_score>\n        estimator = RandomForestClassifier(bootstrap=True, compute_i...   oob_score=False, random_state=None, verbose=2)\n        X_test = array([[  4.24820000e+04,   1.23857143e-01,   7....000000e+00,   0.00000000e+00,   7.78571429e-01]])\n        y_test = array([0, 0, 0, ..., 0, 0, 0])\n   1297     if not isinstance(score, numbers.Number):\n   1298         raise ValueError(\"scoring must return a number, got %s (%s) instead.\"\n   1299                          % (str(score), type(score)))\n   1300     return score\n\n...........................................................................\n/home/thomas/anaconda3/lib/python3.4/site-packages/sklearn/metrics/metrics.py in roc_auc_score(y_true=RandomForestClassifier(bootstrap=True, compute_i...   oob_score=False, random_state=None, verbose=2), y_score=array([[  4.24820000e+04,   1.23857143e-01,   7....000000e+00,   0.00000000e+00,   7.78571429e-01]]), average=array([0, 0, 0, ..., 0, 0, 0]), sample_weight=None)\n    588                                         sample_weight=sample_weight)\n    589         return auc(fpr, tpr, reorder=True)\n    590 \n    591     return _average_binary_score(\n    592         _binary_roc_auc_score, y_true, y_score, average,\n--> 593         sample_weight=sample_weight)\n        sample_weight = None\n    594 \n    595 \n    596 def matthews_corrcoef(y_true, y_pred):\n    597     \"\"\"Compute the Matthews correlation coefficient (MCC) for binary classes\n\n...........................................................................\n/home/thomas/anaconda3/lib/python3.4/site-packages/sklearn/metrics/metrics.py in _average_binary_score(binary_metric=<function roc_auc_score.<locals>._binary_roc_auc_score>, y_true=RandomForestClassifier(bootstrap=True, compute_i...   oob_score=False, random_state=None, verbose=2), y_score=array([[  4.24820000e+04,   1.23857143e-01,   7....000000e+00,   0.00000000e+00,   7.78571429e-01]]), average=array([0, 0, 0, ..., 0, 0, 0]), sample_weight=None)\n    461 \n    462     \"\"\"\n    463     average_options = (None, 'micro', 'macro', 'weighted', 'samples')\n    464     if average not in average_options:\n    465         raise ValueError('average has to be one of {0}'\n--> 466                          ''.format(average_options))\n        average_options = (None, 'micro', 'macro', 'weighted', 'samples')\n    467 \n    468     y_type = type_of_target(y_true)\n    469     if y_type not in (\"binary\", \"multilabel-indicator\"):\n    470         raise ValueError(\"{0} format is not supported\".format(y_type))\n\nValueError: average has to be one of (None, 'micro', 'macro', 'weighted', 'samples')\n___________________________________________________________________________"
     ]
    },
    {
     "name": "stdout",
     "output_type": "stream",
     "text": [
      "building tree 10 of 25building tree 9 of 25building tree 11 of 25building tree 11 of 25building tree 12 of 25\n",
      "\n",
      "\n",
      "\n",
      "\n",
      "building tree 8 of 25\n",
      "building tree 12 of 25building tree 10 of 25building tree 11 of 25\n",
      "\n",
      "\n",
      "building tree 10 of 25building tree 9 of 25building tree 11 of 25\n",
      "building tree 10 of 25\n",
      "\n",
      "\n",
      "building tree 11 of 25building tree 11 of 25\n",
      "building tree 11 of 25building tree 15 of 25\n",
      "building tree 12 of 25\n",
      "\n",
      "building tree 12 of 25\n",
      "building tree 12 of 25building tree 11 of 25\n",
      "\n",
      "building tree 11 of 25\n",
      "building tree 13 of 25building tree 12 of 25\n",
      "building tree 12 of 25\n",
      "\n",
      "building tree 11 of 25\n",
      "building tree 10 of 25building tree 10 of 25\n",
      "building tree 12 of 25\n",
      "\n",
      "\n",
      "building tree 13 of 25\n",
      "building tree 13 of 25building tree 12 of 25\n",
      "building tree 13 of 25building tree 12 of 25\n",
      "building tree 14 of 25\n",
      "\n",
      "building tree 13 of 25\n",
      "building tree 13 of 25building tree 14 of 25\n",
      "building tree 16 of 25\n",
      "\n",
      "building tree 14 of 25\n",
      "building tree 14 of 25building tree 12 of 25\n",
      "\n",
      "building tree 15 of 25\n",
      "building tree 13 of 25building tree 11 of 25\n",
      "\n",
      "building tree 11 of 25\n",
      "building tree 13 of 25building tree 11 of 25\n",
      "building tree 15 of 25\n",
      "\n",
      "building tree 13 of 25\n",
      "building tree 14 of 25building tree 13 of 25\n",
      "\n",
      "building tree 12 of 25\n",
      "\n",
      "building tree 17 of 25building tree 14 of 25building tree 14 of 25\n",
      "building tree 12 of 25\n",
      "\n",
      "building tree 13 of 25\n",
      "building tree 14 of 25building tree 15 of 25\n",
      "\n",
      "building tree 14 of 25\n",
      "\n",
      "building tree 14 of 25building tree 13 of 25building tree 13 of 25building tree 16 of 25\n",
      "\n",
      "\n",
      "\n",
      "building tree 12 of 25building tree 12 of 25building tree 16 of 25\n",
      "building tree 15 of 25\n",
      "\n",
      "building tree 14 of 25\n",
      "building tree 18 of 25\n",
      "building tree 16 of 25\n",
      "building tree 15 of 25building tree 17 of 25\n",
      "building tree 14 of 25\n",
      "\n",
      "building tree 15 of 25\n",
      "building tree 15 of 25\n",
      "building tree 18 of 25\n",
      "building tree 17 of 25building tree 14 of 25\n",
      "building tree 15 of 25\n",
      "\n",
      "building tree 15 of 25\n",
      "building tree 15 of 25\n",
      "building tree 16 of 25building tree 19 of 25\n",
      "\n",
      "building tree 17 of 25\n",
      "building tree 15 of 25\n",
      "building tree 13 of 25\n",
      "building tree 16 of 25building tree 13 of 25\n",
      "building tree 18 of 25\n",
      "\n",
      "building tree 16 of 25\n",
      "building tree 15 of 25building tree 19 of 25\n",
      "building tree 15 of 25\n",
      "\n",
      "building tree 18 of 25\n",
      "building tree 16 of 25building tree 20 of 25\n",
      "building tree 16 of 25\n",
      "\n",
      "building tree 17 of 25\n",
      "building tree 16 of 25\n",
      "building tree 20 of 25\n",
      "building tree 16 of 25building tree 17 of 25\n",
      "building tree 16 of 25\n",
      "\n",
      "building tree 16 of 25\n",
      "building tree 17 of 25building tree 17 of 25\n",
      "building tree 18 of 25\n",
      "\n",
      "building tree 14 of 25\n",
      "building tree 16 of 25\n",
      "building tree 17 of 25\n",
      "building tree 14 of 25building tree 19 of 25\n",
      "building tree 21 of 25\n",
      "\n",
      "building tree 18 of 25\n",
      "building tree 19 of 25\n",
      "building tree 17 of 25\n",
      "building tree 21 of 25\n",
      "building tree 19 of 25\n",
      "building tree 18 of 25building tree 22 of 25\n",
      "building tree 20 of 25building tree 17 of 25\n",
      "\n",
      "\n",
      "building tree 20 of 25\n",
      "building tree 22 of 25\n",
      "building tree 18 of 25building tree 18 of 25\n",
      "building tree 17 of 25\n",
      "\n",
      "\n",
      "building tree 15 of 25\n",
      "building tree 20 of 25building tree 18 of 25\n",
      "building tree 18 of 25building tree 17 of 25\n",
      "\n",
      "building tree 17 of 25\n",
      "building tree 23 of 25building tree 18 of 25\n",
      "building tree 19 of 25\n",
      "\n",
      "building tree 19 of 25\n",
      "building tree 23 of 25building tree 15 of 25\n",
      "building tree 19 of 25\n",
      "\n",
      "building tree 19 of 25\n",
      "building tree 16 of 25building tree 21 of 25\n",
      "building tree 19 of 25\n",
      "\n",
      "building tree 21 of 25\n",
      "building tree 18 of 25building tree 21 of 25\n",
      "building tree 19 of 25\n",
      "\n",
      "\n",
      "building tree 18 of 25\n",
      "building tree 20 of 25building tree 17 of 25building tree 19 of 25building tree 20 of 25\n",
      "\n",
      "\n",
      "\n",
      "building tree 20 of 25building tree 20 of 25building tree 24 of 25building tree 22 of 25\n",
      "\n",
      "\n",
      "\n",
      "building tree 21 of 25building tree 20 of 25building tree 24 of 25building tree 20 of 25\n",
      "building tree 20 of 25\n",
      "\n",
      "\n",
      "\n",
      "building tree 19 of 25building tree 18 of 25building tree 16 of 25\n",
      "building tree 21 of 25\n",
      "\n",
      "building tree 22 of 25\n",
      "building tree 19 of 25building tree 23 of 25building tree 22 of 25\n",
      "\n",
      "building tree 21 of 25\n",
      "\n",
      "\n",
      "building tree 20 of 25building tree 22 of 25\n",
      "building tree 20 of 25building tree 21 of 25\n",
      "\n",
      "building tree 21 of 25\n",
      "\n",
      "building tree 21 of 25building tree 25 of 25building tree 17 of 25building tree 23 of 25\n",
      "\n",
      "\n",
      "\n",
      "building tree 21 of 25building tree 22 of 25building tree 19 of 25building tree 24 of 25\n",
      "\n",
      "\n",
      "\n",
      "building tree 24 of 25building tree 22 of 25building tree 25 of 25building tree 23 of 25\n",
      "\n",
      "\n",
      "\n",
      "building tree 21 of 25building tree 22 of 25\n",
      "building tree 21 of 25building tree 22 of 25building tree 23 of 25\n",
      "\n",
      "building tree 23 of 25\n",
      "\n",
      "\n",
      "building tree 20 of 25building tree 25 of 25building tree 22 of 25building tree 23 of 25\n",
      "\n",
      "\n",
      "\n",
      "building tree 22 of 25building tree 18 of 25\n",
      "building tree 22 of 25building tree 22 of 25\n",
      "building tree 23 of 25\n",
      "\n",
      "building tree 21 of 25\n",
      "building tree 25 of 25\n",
      "building tree 24 of 25\n",
      "building tree 24 of 25\n",
      "building tree 24 of 25\n",
      "\n",
      "building tree 22 of 25building tree 19 of 25building tree 23 of 25building tree 23 of 25\n",
      "\n",
      "\n",
      "\n",
      "building tree 23 of 25building tree 24 of 25building tree 23 of 25building tree 24 of 25\n",
      "\n",
      "\n",
      "\n",
      "building tree 23 of 25building tree 25 of 25\n",
      "building tree 25 of 25\n",
      "building tree 24 of 25\n",
      "building tree 20 of 25building tree 24 of 25\n",
      "building tree 24 of 25\n",
      "\n",
      "building tree 25 of 25\n",
      "\n",
      "building tree 25 of 25building tree 24 of 25\n",
      "building tree 23 of 25building tree 24 of 25\n",
      "building tree 25 of 25\n",
      "\n",
      "building tree 21 of 25\n",
      "building tree 25 of 25building tree 25 of 25\n",
      "building tree 25 of 25\n",
      "\n",
      "building tree 22 of 25\n",
      "building tree 25 of 25\n",
      "building tree 25 of 25\n",
      "building tree 1 of 25building tree 24 of 25\n",
      "building tree 23 of 25building tree 1 of 25\n",
      "building tree 1 of 25\n",
      "building tree 1 of 25\n",
      "\n",
      "\n",
      "building tree 25 of 25\n",
      "\n",
      "building tree 24 of 25building tree 1 of 25\n",
      "building tree 1 of 25\n",
      "building tree 1 of 25\n",
      "building tree 1 of 25\n",
      "\n",
      "building tree 25 of 25building tree 2 of 25\n",
      "\n",
      "building tree 3 of 25\n",
      "building tree 2 of 25building tree 2 of 25\n",
      "\n",
      "building tree 3 of 25\n",
      "building tree 2 of 25\n"
     ]
    }
   ],
   "source": [
    "cross_val_score(clf,X,y,cv=cv,n_jobs=-1,scoring = roc_auc_score)"
   ]
  },
  {
   "cell_type": "code",
   "execution_count": null,
   "metadata": {
    "collapsed": false
   },
   "outputs": [],
   "source": [
    "clf.fit(X,y)"
   ]
  },
  {
   "cell_type": "code",
   "execution_count": 20,
   "metadata": {
    "collapsed": false
   },
   "outputs": [
    {
     "name": "stderr",
     "output_type": "stream",
     "text": [
      "[Parallel(n_jobs=4)]: Done   3 out of   4 | elapsed:    3.5s remaining:    1.2s\n",
      "[Parallel(n_jobs=4)]: Done   1 out of   4 | elapsed:    3.5s remaining:   10.6s\n",
      "[Parallel(n_jobs=4)]: Done   4 out of   4 | elapsed:    3.6s finished\n"
     ]
    }
   ],
   "source": [
    "yhat = clf.predict_proba(df_test)[:,1]"
   ]
  },
  {
   "cell_type": "code",
   "execution_count": 21,
   "metadata": {
    "collapsed": false
   },
   "outputs": [
    {
     "data": {
      "text/plain": [
       "array([ 0.153,  0.151,  0.151, ...,  0.141,  0.141,  0.141])"
      ]
     },
     "execution_count": 21,
     "metadata": {},
     "output_type": "execute_result"
    }
   ],
   "source": []
  },
  {
   "cell_type": "code",
   "execution_count": 24,
   "metadata": {
    "collapsed": false
   },
   "outputs": [
    {
     "data": {
      "text/plain": [
       "(0.14551593819060474, 0.13400000000000001, 0.184)"
      ]
     },
     "execution_count": 24,
     "metadata": {},
     "output_type": "execute_result"
    }
   ],
   "source": []
  },
  {
   "cell_type": "code",
   "execution_count": null,
   "metadata": {
    "collapsed": true
   },
   "outputs": [],
   "source": []
  }
 ],
 "metadata": {
  "kernelspec": {
   "display_name": "Python 3",
   "language": "python",
   "name": "python3"
  },
  "language_info": {
   "codemirror_mode": {
    "name": "ipython",
    "version": 3
   },
   "file_extension": ".py",
   "mimetype": "text/x-python",
   "name": "python",
   "nbconvert_exporter": "python",
   "pygments_lexer": "ipython3",
   "version": "3.4.3"
  }
 },
 "nbformat": 4,
 "nbformat_minor": 0
}
