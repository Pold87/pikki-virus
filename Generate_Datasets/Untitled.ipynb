{
 "cells": [
  {
   "cell_type": "code",
   "execution_count": 9,
   "metadata": {
    "collapsed": false
   },
   "outputs": [
    {
     "name": "stderr",
     "output_type": "stream",
     "text": [
      "/home/thomas/anaconda3/lib/python3.4/site-packages/IPython/kernel/__main__.py:18: SettingWithCopyWarning: \n",
      "A value is trying to be set on a copy of a slice from a DataFrame\n",
      "\n",
      "See the the caveats in the documentation: http://pandas.pydata.org/pandas-docs/stable/indexing.html#indexing-view-versus-copy\n"
     ]
    }
   ],
   "source": [
    "# %load generate_subset_B.py\n",
    "import pandas as pd\n",
    "from sklearn.ensemble import RandomForestRegressor,GradientBoostingRegressor\n",
    "from sklearn import cross_validation, preprocessing, metrics\n",
    "\n",
    "\n",
    "# Read in combined dfs\n",
    "df_train = pd.read_csv(\"subset_A_train.csv\")\n",
    "df_test = pd.read_csv(\"subset_A_test.csv\")\n",
    "\n",
    "df_train_support = pd.read_csv('train.csv')\n",
    "df_test_support = pd.read_csv('test.csv')\n",
    "\n",
    "#get NumMosquitos from original training file\n",
    "df_train['NumMosquitos'] = df_train_support.NumMosquitos\n",
    "\n",
    "# Assign unspecified culex to pipiens / restuans\n",
    "df_test.Species[df_test.Species == 'UNSPECIFIED CULEX'] = 'CULEX PIPIENS/RESTUANS'\n",
    "\n",
    "# Create copy of train df and drop string features\n",
    "string_features = ['Address','Street','AddressNumberAndStreet','CodeSum']\n",
    "\n",
    "X = df_train.copy()\n",
    "X = X.drop(string_features,axis=1)\n",
    "\n",
    "# Create groups for multiple rows which have the same value\n",
    "\n",
    "groups = ['Date','Trap','Species']\n",
    "tmp = X.groupby(groups)['NumMosquitos'].sum()\n",
    "X_tmp = X.join(X.groupby(groups)['NumMosquitos'].sum(), on= groups,rsuffix='_counter')\n",
    "\n",
    "# New WnvPresent\n",
    "y = X_tmp.NumMosquitos_counter\n",
    "\n",
    "#X_tmp = X_tmp.drop(['Trap',\n",
    "#                    'Date',\n",
    "#                    'NumMosquitos',\n",
    "#                    'NumMosquitos_counter',\n",
    "#                    'WnvPresent',\n",
    "#                    'counter',\n",
    "#                    'Unnamed: 0'\n",
    "#])\n",
    "\n",
    "\n",
    "# Species to labels\n",
    "# TODO dummy variables might be better!!\n",
    "\n",
    "#X_tmp.Species = species_encoder.fit_transform(X.Species)\n",
    "#df_test.Species = species_encoder.transform(df_test.Species)\n",
    "#df_train.species = species_encoder.transform(df_train.Species)\n",
    "\n",
    "\n",
    "#create dummies\n",
    "\n",
    "s = pd.Series(list(test.Species))\n",
    "dummies = pd.get_dummies(s)\n",
    "test.drop(['Species', 'Depth'], axis=1, inplace=True)\n",
    "test = pd.concat([dummies, test], axis=1)\n",
    "\n",
    "\n",
    "\n",
    "\n",
    "\n",
    "df_train['count_mosquitos'] = y\n",
    "df_train = df_train.drop(['NumMosquitos'],axis=1)\n",
    "\n",
    "# Add conditional features\n",
    "for feature in df_train.columns[:-1]:\n",
    "    featureprior = df_train.groupby(\n",
    "        [feature])['WnvPresent'].sum() /df_train.groupby([feature])['WnvPresent'].count()\n",
    "    df_train = df_train.join(featureprior,\n",
    "                             on=feature,\n",
    "                             rsuffix='_conditional_' + feature)\n",
    "    df_test = df_test.join(featureprior,\n",
    "                           on=feature,\n",
    "                           rsuffix = '_conditional_' + feature)\n",
    "\n",
    "\n",
    "df_test = df_test.dropna(axis=1)#.shape    \n",
    "\n",
    "not_droplist = [var for var in df_test.columns]\n",
    "not_droplist.append('WnvPresent')\n",
    "\n",
    "droplist = [var for var in df_train.columns if var not in not_droplist]\n",
    "df_train = df_train.drop(droplist,axis=1)\n",
    "\n",
    "df_train.to_csv('subset_B_train.csv')\n",
    "df_test.to_csv('subset_B_test.csv')\n"
   ]
  },
  {
   "cell_type": "code",
   "execution_count": 14,
   "metadata": {
    "collapsed": false
   },
   "outputs": [
    {
     "data": {
      "text/plain": [
       "['WnvPresent']"
      ]
     },
     "execution_count": 14,
     "metadata": {},
     "output_type": "execute_result"
    }
   ],
   "source": [
    "[var for var in df_train.columns if var not in df_test.columns]"
   ]
  },
  {
   "cell_type": "code",
   "execution_count": 17,
   "metadata": {
    "collapsed": false
   },
   "outputs": [
    {
     "ename": "AttributeError",
     "evalue": "'DataFrame' object has no attribute 'count_mosquitos'",
     "output_type": "error",
     "traceback": [
      "\u001b[1;31m---------------------------------------------------------------------------\u001b[0m",
      "\u001b[1;31mAttributeError\u001b[0m                            Traceback (most recent call last)",
      "\u001b[1;32m<ipython-input-17-e6ebc388d4b3>\u001b[0m in \u001b[0;36m<module>\u001b[1;34m()\u001b[0m\n\u001b[1;32m----> 1\u001b[1;33m \u001b[0mdf_train\u001b[0m\u001b[1;33m.\u001b[0m\u001b[0mcount_mosquitos\u001b[0m\u001b[1;33m\u001b[0m\u001b[0m\n\u001b[0m",
      "\u001b[1;32m/home/thomas/anaconda3/lib/python3.4/site-packages/pandas/core/generic.py\u001b[0m in \u001b[0;36m__getattr__\u001b[1;34m(self, name)\u001b[0m\n\u001b[0;32m   2081\u001b[0m                 \u001b[1;32mreturn\u001b[0m \u001b[0mself\u001b[0m\u001b[1;33m[\u001b[0m\u001b[0mname\u001b[0m\u001b[1;33m]\u001b[0m\u001b[1;33m\u001b[0m\u001b[0m\n\u001b[0;32m   2082\u001b[0m             raise AttributeError(\"'%s' object has no attribute '%s'\" %\n\u001b[1;32m-> 2083\u001b[1;33m                                  (type(self).__name__, name))\n\u001b[0m\u001b[0;32m   2084\u001b[0m \u001b[1;33m\u001b[0m\u001b[0m\n\u001b[0;32m   2085\u001b[0m     \u001b[1;32mdef\u001b[0m \u001b[0m__setattr__\u001b[0m\u001b[1;33m(\u001b[0m\u001b[0mself\u001b[0m\u001b[1;33m,\u001b[0m \u001b[0mname\u001b[0m\u001b[1;33m,\u001b[0m \u001b[0mvalue\u001b[0m\u001b[1;33m)\u001b[0m\u001b[1;33m:\u001b[0m\u001b[1;33m\u001b[0m\u001b[0m\n",
      "\u001b[1;31mAttributeError\u001b[0m: 'DataFrame' object has no attribute 'count_mosquitos'"
     ]
    }
   ],
   "source": [
    "df_train.count_mosquitos"
   ]
  },
  {
   "cell_type": "code",
   "execution_count": null,
   "metadata": {
    "collapsed": true
   },
   "outputs": [],
   "source": []
  }
 ],
 "metadata": {
  "kernelspec": {
   "display_name": "Python 3",
   "language": "python",
   "name": "python3"
  },
  "language_info": {
   "codemirror_mode": {
    "name": "ipython",
    "version": 3
   },
   "file_extension": ".py",
   "mimetype": "text/x-python",
   "name": "python",
   "nbconvert_exporter": "python",
   "pygments_lexer": "ipython3",
   "version": "3.4.3"
  }
 },
 "nbformat": 4,
 "nbformat_minor": 0
}
