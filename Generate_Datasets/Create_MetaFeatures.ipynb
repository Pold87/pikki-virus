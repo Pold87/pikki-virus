{
 "cells": [
  {
   "cell_type": "code",
   "execution_count": 22,
   "metadata": {
    "collapsed": true
   },
   "outputs": [],
   "source": [
    "import pandas as pd\n",
    "import numpy as np\n",
    "from sklearn import cross_validation, preprocessing, metrics\n",
    "df_train = pd.read_csv('subset_B_train.csv')\n",
    "#df_train_nomosq = pd.read_csv('../train_filled_new.csv')\n",
    "df_test = pd.read_csv('subset_B_train.csv')\n",
    "#df_test_nomosq = pd.read_csv('../test_filled_new.csv')"
   ]
  },
  {
   "cell_type": "code",
   "execution_count": 23,
   "metadata": {
    "collapsed": true
   },
   "outputs": [],
   "source": [
    "random_state = 42\n",
    "df_train = df_train.drop(['Block'],axis=1)\n",
    "df_test = df_test.drop(['Block'],axis=1)"
   ]
  },
  {
   "cell_type": "code",
   "execution_count": 24,
   "metadata": {
    "collapsed": false
   },
   "outputs": [
    {
     "data": {
      "text/plain": [
       "{'10_week_avrgPrecipTotal',\n",
       " '10_week_avrgTavg',\n",
       " '11_week_avrgPrecipTotal',\n",
       " '11_week_avrgTavg',\n",
       " '12_week_avrgPrecipTotal',\n",
       " '12_week_avrgTavg',\n",
       " '13_week_avrgPrecipTotal',\n",
       " '13_week_avrgTavg',\n",
       " '14_week_avrgPrecipTotal',\n",
       " '14_week_avrgTavg',\n",
       " '15_week_avrgPrecipTotal',\n",
       " '15_week_avrgTavg',\n",
       " '16_week_avrgPrecipTotal',\n",
       " '16_week_avrgTavg',\n",
       " '17_week_avrgPrecipTotal',\n",
       " '17_week_avrgTavg',\n",
       " '18_week_avrgPrecipTotal',\n",
       " '18_week_avrgTavg',\n",
       " '19_week_avrgPrecipTotal',\n",
       " '19_week_avrgTavg',\n",
       " '1_week_avrgPrecipTotal',\n",
       " '1_week_avrgTavg',\n",
       " '20_week_avrgPrecipTotal',\n",
       " '20_week_avrgTavg',\n",
       " '21_week_avrgPrecipTotal',\n",
       " '21_week_avrgTavg',\n",
       " '22_week_avrgPrecipTotal',\n",
       " '22_week_avrgTavg',\n",
       " '23_week_avrgPrecipTotal',\n",
       " '23_week_avrgTavg',\n",
       " '2_week_avrgPrecipTotal',\n",
       " '2_week_avrgTavg',\n",
       " '3_week_avrgPrecipTotal',\n",
       " '3_week_avrgTavg',\n",
       " '4_week_avrgPrecipTotal',\n",
       " '4_week_avrgTavg',\n",
       " '5_week_avrgPrecipTotal',\n",
       " '5_week_avrgTavg',\n",
       " '6_week_avrgPrecipTotal',\n",
       " '6_week_avrgTavg',\n",
       " '7_week_avrgPrecipTotal',\n",
       " '7_week_avrgTavg',\n",
       " '8_week_avrgPrecipTotal',\n",
       " '8_week_avrgTavg',\n",
       " '9_week_avrgPrecipTotal',\n",
       " '9_week_avrgTavg',\n",
       " 'Address',\n",
       " 'AddressAccuracy',\n",
       " 'AddressNumberAndStreet',\n",
       " 'AvgSpeed',\n",
       " 'Calendar_Week',\n",
       " 'CodeSum',\n",
       " 'Cool',\n",
       " 'Date',\n",
       " 'Depart',\n",
       " 'Depth',\n",
       " 'DewPoint',\n",
       " 'Heat',\n",
       " 'Latitude',\n",
       " 'Longitude',\n",
       " 'Month',\n",
       " 'PrecipTotal',\n",
       " 'PrecipTotal_1_weeks_ago',\n",
       " 'PrecipTotal_2_weeks_ago',\n",
       " 'PrecipTotal_3_weeks_ago',\n",
       " 'ResultDir',\n",
       " 'ResultSpeed',\n",
       " 'SeaLevel',\n",
       " 'SnowFall',\n",
       " 'Species',\n",
       " 'Station',\n",
       " 'StnPressure',\n",
       " 'Street',\n",
       " 'Sunrise',\n",
       " 'Sunset',\n",
       " 'Tavg',\n",
       " 'Tavg_1_weeks_ago',\n",
       " 'Tavg_2_weeks_ago',\n",
       " 'Tavg_3_weeks_ago',\n",
       " 'Tavg_week',\n",
       " 'Tmax',\n",
       " 'Tmin',\n",
       " 'Trap',\n",
       " 'Unnamed: 0',\n",
       " 'WetBulb',\n",
       " 'WnvPresent',\n",
       " 'WnvPresent_conditional_AddressAccuracy',\n",
       " 'WnvPresent_conditional_Calendar_Week',\n",
       " 'WnvPresent_conditional_Cool',\n",
       " 'WnvPresent_conditional_Depth',\n",
       " 'WnvPresent_conditional_DewPoint',\n",
       " 'WnvPresent_conditional_Month',\n",
       " 'WnvPresent_conditional_ResultDir',\n",
       " 'WnvPresent_conditional_SnowFall',\n",
       " 'WnvPresent_conditional_Species',\n",
       " 'WnvPresent_conditional_Station',\n",
       " 'WnvPresent_conditional_Tmin',\n",
       " 'WnvPresent_conditional_WetBulb',\n",
       " 'Year',\n",
       " 'cool_dw',\n",
       " 'heat_dw',\n",
       " 'precip_week'}"
      ]
     },
     "execution_count": 24,
     "metadata": {},
     "output_type": "execute_result"
    }
   ],
   "source": [
    "set(df_test.columns)"
   ]
  },
  {
   "cell_type": "code",
   "execution_count": 13,
   "metadata": {
    "collapsed": true
   },
   "outputs": [],
   "source": [
    "def year_train_test_split(train, target, year):\n",
    "\n",
    "    # Create copy\n",
    "    X = train.copy()\n",
    "\n",
    "    # Retrieve target column and remove from X\n",
    "    y = X[target]\n",
    "    X.drop([target], axis=1)\n",
    "\n",
    "    # Create mask\n",
    "    msk = X.Year == year\n",
    "\n",
    "    # Drop date column\n",
    "    X = X.drop(['Year', 'WnvPresent_DateTrapSpecies'], axis=1)\n",
    "    \n",
    "    # Create dfs based on mask    \n",
    "    X_train = X[~msk]\n",
    "    X_test = X[msk]\n",
    "    X_test = X_test.drop(['count_mosquitos'], axis=1)\n",
    "    y_train = y[~msk]\n",
    "    y_test = y[msk]\n",
    "    y_train_numMosquitos = X.count_mosquitos[~msk] \n",
    "    y_test_numMosquitos = X.count_mosquitos[msk] \n",
    "    \n",
    "    return X_train, X_test, y_train, y_test, y_train_numMosquitos, y_test_numMosquitos,msk"
   ]
  },
  {
   "cell_type": "code",
   "execution_count": 14,
   "metadata": {
    "collapsed": false
   },
   "outputs": [
    {
     "data": {
      "text/plain": [
       "['Trap',\n",
       " 'Month',\n",
       " 'AddressAccuracy',\n",
       " 'AddressNumberAndStreet',\n",
       " 'Address',\n",
       " 'Street',\n",
       " 'CodeSum']"
      ]
     },
     "execution_count": 14,
     "metadata": {},
     "output_type": "execute_result"
    }
   ],
   "source": [
    "list1 = [#'NumMosquitos',\n",
    "                            'Trap',\n",
    "                            'Month',\n",
    "                            'Block',\n",
    "                            'AddressAccuracy',\n",
    "                            'AddressNumberAndStreet',\n",
    "                            'Address',\n",
    "                            'Street',\n",
    "                            'CodeSum'\n",
    "]\n",
    "\n",
    "[var for var in list1 if var in df_train.columns]"
   ]
  },
  {
   "cell_type": "code",
   "execution_count": 15,
   "metadata": {
    "collapsed": false
   },
   "outputs": [
    {
     "ename": "ValueError",
     "evalue": "labels ['count_mosquitos'] not contained in axis",
     "output_type": "error",
     "traceback": [
      "\u001b[1;31m---------------------------------------------------------------------------\u001b[0m",
      "\u001b[1;31mValueError\u001b[0m                                Traceback (most recent call last)",
      "\u001b[1;32m<ipython-input-15-2556995333a9>\u001b[0m in \u001b[0;36m<module>\u001b[1;34m()\u001b[0m\n\u001b[0;32m      1\u001b[0m \u001b[0mtrain_for_loo\u001b[0m \u001b[1;33m=\u001b[0m \u001b[0mdf_train\u001b[0m\u001b[1;33m.\u001b[0m\u001b[0mdrop\u001b[0m\u001b[1;33m(\u001b[0m\u001b[1;33m[\u001b[0m\u001b[1;34m'Month'\u001b[0m\u001b[1;33m,\u001b[0m \u001b[1;34m'AddressAccuracy'\u001b[0m\u001b[1;33m]\u001b[0m\u001b[1;33m,\u001b[0m \u001b[0maxis\u001b[0m\u001b[1;33m=\u001b[0m\u001b[1;36m1\u001b[0m\u001b[1;33m)\u001b[0m\u001b[1;33m\u001b[0m\u001b[0m\n\u001b[1;32m----> 2\u001b[1;33m \u001b[0mtest_for_loo\u001b[0m \u001b[1;33m=\u001b[0m \u001b[0mdf_test\u001b[0m\u001b[1;33m.\u001b[0m\u001b[0mdrop\u001b[0m\u001b[1;33m(\u001b[0m\u001b[1;33m[\u001b[0m\u001b[1;34m'Month'\u001b[0m\u001b[1;33m,\u001b[0m\u001b[1;34m'AddressAccuracy'\u001b[0m\u001b[1;33m,\u001b[0m\u001b[1;34m'Unnamed: 0'\u001b[0m\u001b[1;33m,\u001b[0m\u001b[1;34m'Year'\u001b[0m\u001b[1;33m,\u001b[0m \u001b[1;34m'count_mosquitos'\u001b[0m\u001b[1;33m]\u001b[0m\u001b[1;33m,\u001b[0m\u001b[0maxis\u001b[0m\u001b[1;33m=\u001b[0m\u001b[1;36m1\u001b[0m\u001b[1;33m)\u001b[0m\u001b[1;33m\u001b[0m\u001b[0m\n\u001b[0m\u001b[0;32m      3\u001b[0m \u001b[1;33m[\u001b[0m\u001b[0mvar\u001b[0m \u001b[1;32mfor\u001b[0m \u001b[0mvar\u001b[0m \u001b[1;32min\u001b[0m \u001b[0mtest_for_loo\u001b[0m\u001b[1;33m.\u001b[0m\u001b[0mcolumns\u001b[0m \u001b[1;32mif\u001b[0m \u001b[0mvar\u001b[0m \u001b[1;32mnot\u001b[0m \u001b[1;32min\u001b[0m \u001b[0mtrain_for_loo\u001b[0m\u001b[1;33m]\u001b[0m\u001b[1;33m,\u001b[0m\u001b[1;33m\u001b[0m\u001b[0m\n\u001b[0;32m      4\u001b[0m \u001b[1;33m[\u001b[0m\u001b[0mvar\u001b[0m \u001b[1;32mfor\u001b[0m \u001b[0mvar\u001b[0m \u001b[1;32min\u001b[0m \u001b[0mtrain_for_loo\u001b[0m\u001b[1;33m.\u001b[0m\u001b[0mcolumns\u001b[0m \u001b[1;32mif\u001b[0m \u001b[0mvar\u001b[0m \u001b[1;32mnot\u001b[0m \u001b[1;32min\u001b[0m \u001b[0mtest_for_loo\u001b[0m\u001b[1;33m]\u001b[0m\u001b[1;33m\u001b[0m\u001b[0m\n",
      "\u001b[1;32m/home/thomas/anaconda3/lib/python3.4/site-packages/pandas/core/generic.py\u001b[0m in \u001b[0;36mdrop\u001b[1;34m(self, labels, axis, level, inplace, errors)\u001b[0m\n\u001b[0;32m   1592\u001b[0m                 \u001b[0mnew_axis\u001b[0m \u001b[1;33m=\u001b[0m \u001b[0maxis\u001b[0m\u001b[1;33m.\u001b[0m\u001b[0mdrop\u001b[0m\u001b[1;33m(\u001b[0m\u001b[0mlabels\u001b[0m\u001b[1;33m,\u001b[0m \u001b[0mlevel\u001b[0m\u001b[1;33m=\u001b[0m\u001b[0mlevel\u001b[0m\u001b[1;33m,\u001b[0m \u001b[0merrors\u001b[0m\u001b[1;33m=\u001b[0m\u001b[0merrors\u001b[0m\u001b[1;33m)\u001b[0m\u001b[1;33m\u001b[0m\u001b[0m\n\u001b[0;32m   1593\u001b[0m             \u001b[1;32melse\u001b[0m\u001b[1;33m:\u001b[0m\u001b[1;33m\u001b[0m\u001b[0m\n\u001b[1;32m-> 1594\u001b[1;33m                 \u001b[0mnew_axis\u001b[0m \u001b[1;33m=\u001b[0m \u001b[0maxis\u001b[0m\u001b[1;33m.\u001b[0m\u001b[0mdrop\u001b[0m\u001b[1;33m(\u001b[0m\u001b[0mlabels\u001b[0m\u001b[1;33m,\u001b[0m \u001b[0merrors\u001b[0m\u001b[1;33m=\u001b[0m\u001b[0merrors\u001b[0m\u001b[1;33m)\u001b[0m\u001b[1;33m\u001b[0m\u001b[0m\n\u001b[0m\u001b[0;32m   1595\u001b[0m             \u001b[0mdropped\u001b[0m \u001b[1;33m=\u001b[0m \u001b[0mself\u001b[0m\u001b[1;33m.\u001b[0m\u001b[0mreindex\u001b[0m\u001b[1;33m(\u001b[0m\u001b[1;33m**\u001b[0m\u001b[1;33m{\u001b[0m\u001b[0maxis_name\u001b[0m\u001b[1;33m:\u001b[0m \u001b[0mnew_axis\u001b[0m\u001b[1;33m}\u001b[0m\u001b[1;33m)\u001b[0m\u001b[1;33m\u001b[0m\u001b[0m\n\u001b[0;32m   1596\u001b[0m             \u001b[1;32mtry\u001b[0m\u001b[1;33m:\u001b[0m\u001b[1;33m\u001b[0m\u001b[0m\n",
      "\u001b[1;32m/home/thomas/anaconda3/lib/python3.4/site-packages/pandas/core/index.py\u001b[0m in \u001b[0;36mdrop\u001b[1;34m(self, labels, errors)\u001b[0m\n\u001b[0;32m   2574\u001b[0m         \u001b[1;32mif\u001b[0m \u001b[0mmask\u001b[0m\u001b[1;33m.\u001b[0m\u001b[0many\u001b[0m\u001b[1;33m(\u001b[0m\u001b[1;33m)\u001b[0m\u001b[1;33m:\u001b[0m\u001b[1;33m\u001b[0m\u001b[0m\n\u001b[0;32m   2575\u001b[0m             \u001b[1;32mif\u001b[0m \u001b[0merrors\u001b[0m \u001b[1;33m!=\u001b[0m \u001b[1;34m'ignore'\u001b[0m\u001b[1;33m:\u001b[0m\u001b[1;33m\u001b[0m\u001b[0m\n\u001b[1;32m-> 2576\u001b[1;33m                 \u001b[1;32mraise\u001b[0m \u001b[0mValueError\u001b[0m\u001b[1;33m(\u001b[0m\u001b[1;34m'labels %s not contained in axis'\u001b[0m \u001b[1;33m%\u001b[0m \u001b[0mlabels\u001b[0m\u001b[1;33m[\u001b[0m\u001b[0mmask\u001b[0m\u001b[1;33m]\u001b[0m\u001b[1;33m)\u001b[0m\u001b[1;33m\u001b[0m\u001b[0m\n\u001b[0m\u001b[0;32m   2577\u001b[0m             \u001b[0mindexer\u001b[0m \u001b[1;33m=\u001b[0m \u001b[0mindexer\u001b[0m\u001b[1;33m[\u001b[0m\u001b[1;33m~\u001b[0m\u001b[0mmask\u001b[0m\u001b[1;33m]\u001b[0m\u001b[1;33m\u001b[0m\u001b[0m\n\u001b[0;32m   2578\u001b[0m         \u001b[1;32mreturn\u001b[0m \u001b[0mself\u001b[0m\u001b[1;33m.\u001b[0m\u001b[0mdelete\u001b[0m\u001b[1;33m(\u001b[0m\u001b[0mindexer\u001b[0m\u001b[1;33m)\u001b[0m\u001b[1;33m\u001b[0m\u001b[0m\n",
      "\u001b[1;31mValueError\u001b[0m: labels ['count_mosquitos'] not contained in axis"
     ]
    }
   ],
   "source": [
    "train_for_loo = df_train.drop(['Month', 'AddressAccuracy'], axis=1)\n",
    "test_for_loo = df_test.drop(['Month','AddressAccuracy','Unnamed: 0','Year', 'count_mosquitos'],axis=1)\n",
    "[var for var in test_for_loo.columns if var not in train_for_loo], \n",
    "[var for var in train_for_loo.columns if var not in test_for_loo]"
   ]
  },
  {
   "cell_type": "code",
   "execution_count": 6,
   "metadata": {
    "collapsed": false
   },
   "outputs": [],
   "source": [
    "y_clf = train_for_loo.WnvPresent_DateTrapSpecies\n",
    "yhat_clf = pd.DataFrame(df_test.Tavg)\n",
    "#yhat_clf.Tavg"
   ]
  },
  {
   "cell_type": "markdown",
   "metadata": {},
   "source": [
    "#include Neural Net and XGBoost here!"
   ]
  },
  {
   "cell_type": "code",
   "execution_count": 23,
   "metadata": {
    "collapsed": false
   },
   "outputs": [],
   "source": [
    "from sklearn.neighbors import KNeighborsClassifier\n",
    "from sklearn.ensemble import RandomForestClassifier,GradientBoostingClassifier\n",
    "from sklearn.linear_model import LogisticRegression\n",
    "\n",
    "#XgBoost\n",
    "#NN\n",
    "\n",
    "#clf = KNeighborsClassifier(n_neighbors=10)\n",
    "clf_list = [RandomForestClassifier(n_estimators = 500,n_jobs = 3), GradientBoostingClassifier(),LogisticRegression()]\n",
    "clf_names = ['RF','GBC','LogReg']"
   ]
  },
  {
   "cell_type": "code",
   "execution_count": null,
   "metadata": {
    "collapsed": false
   },
   "outputs": [],
   "source": [
    "#y_clf = train_for_loo.WnvPresent_DateTrapSpecies\n",
    "#y_clf = 'NaN'\n",
    "\n",
    "for clf,name in zip(clf_list,clf_names):\n",
    "    for year in [2007, 2009, 2011, 2013]:\n",
    "\n",
    "        X_train,X_test, y_train, y_test, y_train_numMosquitos, y_test_numMosquitos,year_mask = year_train_test_split(\n",
    "            train_for_loo,\n",
    "            'WnvPresent_DateTrapSpecies',\n",
    "            year) \n",
    "        X_train = X_train.drop('count_mosquitos',axis=1)\n",
    "    \n",
    "        clf.fit(X_train,y_train)\n",
    "        y_clf[year_mask] =clf.predict_proba(X_test)[:,1]\n",
    "    #test3 = clf.predict_proba(X_train)\n",
    "    #test2 = clf.predict_proba(X_test)\n",
    "        yhat_clf[year]= clf.predict_proba(test_for_loo)[:,1]\n",
    "\n",
    "#    test = clf.predict_proba(test_for_loo)\n",
    "    try:\n",
    "        yhat_clf = yhat_clf.drop('Tavg',axis=1)\n",
    "    except: \n",
    "        print('already droped')\n",
    "    df_train[name+'_prediction'] = y_clf\n",
    "    df_test[name+'_prediction'] = yhat_clf.mean(axis=1)"
   ]
  },
  {
   "cell_type": "code",
   "execution_count": null,
   "metadata": {
    "collapsed": false
   },
   "outputs": [],
   "source": [
    "df_train.columns.names"
   ]
  },
  {
   "cell_type": "code",
   "execution_count": 19,
   "metadata": {
    "collapsed": true
   },
   "outputs": [],
   "source": [
    "clf = KNeighborsClassifier(n_neighbors=10)"
   ]
  },
  {
   "cell_type": "code",
   "execution_count": 20,
   "metadata": {
    "collapsed": false
   },
   "outputs": [
    {
     "ename": "IndexError",
     "evalue": "index 1 is out of bounds for axis 1 with size 1",
     "output_type": "error",
     "traceback": [
      "\u001b[1;31m---------------------------------------------------------------------------\u001b[0m",
      "\u001b[1;31mIndexError\u001b[0m                                Traceback (most recent call last)",
      "\u001b[1;32m<ipython-input-20-e90ce0958c77>\u001b[0m in \u001b[0;36m<module>\u001b[1;34m()\u001b[0m\n\u001b[0;32m      8\u001b[0m \u001b[1;33m\u001b[0m\u001b[0m\n\u001b[0;32m      9\u001b[0m     \u001b[0mclf\u001b[0m\u001b[1;33m.\u001b[0m\u001b[0mfit\u001b[0m\u001b[1;33m(\u001b[0m\u001b[0mX_train\u001b[0m\u001b[1;33m,\u001b[0m\u001b[0my_train\u001b[0m\u001b[1;33m)\u001b[0m\u001b[1;33m\u001b[0m\u001b[0m\n\u001b[1;32m---> 10\u001b[1;33m     \u001b[0my_clf\u001b[0m\u001b[1;33m[\u001b[0m\u001b[0myear_mask\u001b[0m\u001b[1;33m]\u001b[0m \u001b[1;33m=\u001b[0m\u001b[0mclf\u001b[0m\u001b[1;33m.\u001b[0m\u001b[0mpredict_proba\u001b[0m\u001b[1;33m(\u001b[0m\u001b[0mX_test\u001b[0m\u001b[1;33m)\u001b[0m\u001b[1;33m[\u001b[0m\u001b[1;33m:\u001b[0m\u001b[1;33m,\u001b[0m\u001b[1;36m1\u001b[0m\u001b[1;33m]\u001b[0m\u001b[1;33m\u001b[0m\u001b[0m\n\u001b[0m\u001b[0;32m     11\u001b[0m     \u001b[1;31m#test3 = clf.predict_proba(X_train)\u001b[0m\u001b[1;33m\u001b[0m\u001b[1;33m\u001b[0m\u001b[0m\n\u001b[0;32m     12\u001b[0m     \u001b[1;31m#test2 = clf.predict_proba(X_test)\u001b[0m\u001b[1;33m\u001b[0m\u001b[1;33m\u001b[0m\u001b[0m\n",
      "\u001b[1;31mIndexError\u001b[0m: index 1 is out of bounds for axis 1 with size 1"
     ]
    }
   ],
   "source": [
    "for year in [2007, 2009, 2011, 2013]:\n",
    "\n",
    "    X_train,X_test, y_train, y_test, y_train_numMosquitos, y_test_numMosquitos,year_mask = year_train_test_split(\n",
    "            train_for_loo,\n",
    "            'WnvPresent_DateTrapSpecies',\n",
    "            year) \n",
    "    X_train = X_train.drop('count_mosquitos',axis=1)\n",
    "    \n",
    "    clf.fit(X_train,y_train)\n",
    "    y_clf[year_mask] =clf.predict_proba(X_test)[:,1]\n",
    "    #test3 = clf.predict_proba(X_train)\n",
    "    #test2 = clf.predict_proba(X_test)\n",
    "    yhat_clf[year]= clf.predict_proba(test_for_loo)[:,1]\n",
    "\n",
    "#    test = clf.predict_proba(test_for_loo)\n",
    "try:\n",
    "    yhat_clf = yhat_clf.drop('Tavg',axis=1)\n",
    "except: \n",
    "    print('already droped')"
   ]
  },
  {
   "cell_type": "code",
   "execution_count": null,
   "metadata": {
    "collapsed": true
   },
   "outputs": [],
   "source": [
    "df_train['KNN_Prediction'] = y_clf\n",
    "df_test['KNN_Prediction'] = yhat_clf.mean(axis=1)"
   ]
  },
  {
   "cell_type": "code",
   "execution_count": null,
   "metadata": {
    "collapsed": false
   },
   "outputs": [],
   "source": [
    "df_train.to_csv('train_plus_pred.csv',index=False)\n",
    "df_test.to_csv('test_plus_pred.csv',index=False)"
   ]
  },
  {
   "cell_type": "code",
   "execution_count": null,
   "metadata": {
    "collapsed": true
   },
   "outputs": [],
   "source": []
  },
  {
   "cell_type": "code",
   "execution_count": null,
   "metadata": {
    "collapsed": true
   },
   "outputs": [],
   "source": []
  }
 ],
 "metadata": {
  "kernelspec": {
   "display_name": "Python 3",
   "language": "python",
   "name": "python3"
  },
  "language_info": {
   "codemirror_mode": {
    "name": "ipython",
    "version": 3
   },
   "file_extension": ".py",
   "mimetype": "text/x-python",
   "name": "python",
   "nbconvert_exporter": "python",
   "pygments_lexer": "ipython3",
   "version": "3.4.3"
  }
 },
 "nbformat": 4,
 "nbformat_minor": 0
}
