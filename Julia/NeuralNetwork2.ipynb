{
 "cells": [
  {
   "cell_type": "code",
   "execution_count": 1,
   "metadata": {
    "collapsed": false
   },
   "outputs": [
    {
     "name": "stdout",
     "output_type": "stream",
     "text": [
      "01-jun 02:14:28:INFO:root:Configuring Mocha...\n",
      "01-jun 02:14:28:INFO:root: * CUDA       disabled by default\n",
      "01-jun 02:14:28:INFO:root: * Native Ext disabled by default\n",
      "01-jun 02:14:28:INFO:root:Mocha configured, continue loading module...\n"
     ]
    }
   ],
   "source": [
    "using Mocha"
   ]
  },
  {
   "cell_type": "code",
   "execution_count": 9,
   "metadata": {
    "collapsed": false
   },
   "outputs": [
    {
     "data": {
      "text/plain": [
       "HDF5DataLayer(train-data)"
      ]
     },
     "execution_count": 9,
     "metadata": {},
     "output_type": "execute_result"
    }
   ],
   "source": [
    "data_layer  = HDF5DataLayer(name=\"train-data\",source=\"train.txt\",batch_size=64,shuffle=false)\n"
   ]
  },
  {
   "cell_type": "code",
   "execution_count": 10,
   "metadata": {
    "collapsed": false
   },
   "outputs": [
    {
     "data": {
      "text/plain": [
       "ConvolutionLayer(conv1)"
      ]
     },
     "execution_count": 10,
     "metadata": {},
     "output_type": "execute_result"
    }
   ],
   "source": [
    "conv_layer=ConvolutionLayer(name=\"conv1\",n_filter=20,kernel=(5,5),bottoms=[:data], tops=[:conv])"
   ]
  },
  {
   "cell_type": "code",
   "execution_count": 11,
   "metadata": {
    "collapsed": false
   },
   "outputs": [
    {
     "data": {
      "text/plain": [
       "PoolingLayer(pool2)"
      ]
     },
     "execution_count": 11,
     "metadata": {},
     "output_type": "execute_result"
    }
   ],
   "source": [
    "pool_layer = PoolingLayer(name=\"pool1\", kernel=(2,2), stride=(2,2),\n",
    "    bottoms=[:conv], tops=[:pool])\n",
    "conv2_layer = ConvolutionLayer(name=\"conv2\", n_filter=50, kernel=(5,5),\n",
    "    bottoms=[:pool], tops=[:conv2])\n",
    "pool2_layer = PoolingLayer(name=\"pool2\", kernel=(2,2), stride=(2,2),\n",
    "    bottoms=[:conv2], tops=[:pool2])"
   ]
  },
  {
   "cell_type": "code",
   "execution_count": 12,
   "metadata": {
    "collapsed": false
   },
   "outputs": [
    {
     "data": {
      "text/plain": [
       "InnerProductLayer(ip2)"
      ]
     },
     "execution_count": 12,
     "metadata": {},
     "output_type": "execute_result"
    }
   ],
   "source": [
    "fc1_layer  = InnerProductLayer(name=\"ip1\", output_dim=500,\n",
    "    neuron=Neurons.ReLU(), bottoms=[:pool2], tops=[:ip1])\n",
    "fc2_layer  = InnerProductLayer(name=\"ip2\", output_dim=1,\n",
    "    bottoms=[:ip1], tops=[:ip2])"
   ]
  },
  {
   "cell_type": "code",
   "execution_count": 13,
   "metadata": {
    "collapsed": false
   },
   "outputs": [
    {
     "data": {
      "text/plain": [
       "SquareLossLayer(loss)"
      ]
     },
     "execution_count": 13,
     "metadata": {},
     "output_type": "execute_result"
    }
   ],
   "source": [
    "#loss_layer = SquareLossLayer(name=\"loss\", bottoms=[:ip2,:label])\n",
    "loss_layer = SquareLossLayer(name=\"loss\", bottoms=[:ip2,:label])\n"
   ]
  },
  {
   "cell_type": "code",
   "execution_count": 14,
   "metadata": {
    "collapsed": false
   },
   "outputs": [
    {
     "data": {
      "text/plain": [
       "CPUBackend"
      ]
     },
     "execution_count": 14,
     "metadata": {},
     "output_type": "execute_result"
    }
   ],
   "source": [
    "backend = CPUBackend()\n"
   ]
  },
  {
   "cell_type": "code",
   "execution_count": 15,
   "metadata": {
    "collapsed": false
   },
   "outputs": [
    {
     "name": "stdout",
     "output_type": "stream",
     "text": [
      "01-jun 02:17:01:INFO:root:Constructing net test on CPUBackend...\n",
      "01-jun 02:17:01:INFO:root:Topological sorting 8 layers...\n",
      "01-jun 02:17:01:INFO:root:Setup layers...\n"
     ]
    },
    {
     "ename": "LoadError",
     "evalue": "`size` has no method matching size(::HDF5Group)\nwhile loading In[15], in expression starting on line 3",
     "output_type": "error",
     "traceback": [
      "`size` has no method matching size(::HDF5Group)\nwhile loading In[15], in expression starting on line 3",
      "",
      " in HDF5DataLayerState at /home/thomas/.julia/v0.3/Mocha/src/layers/hdf5-data.jl:63",
      " in setup at /home/thomas/.julia/v0.3/Mocha/src/layers/hdf5-data.jl:81",
      " in setup at /home/thomas/.julia/v0.3/Mocha/src/layers.jl:110",
      " in Net at /home/thomas/.julia/v0.3/Mocha/src/net.jl:220"
     ]
    }
   ],
   "source": [
    "common_layers = [conv_layer, pool_layer, conv2_layer, pool2_layer,\n",
    "    fc1_layer, fc2_layer]\n",
    "net = Net(\"test\", backend, [data_layer, common_layers..., loss_layer])"
   ]
  },
  {
   "cell_type": "code",
   "execution_count": 77,
   "metadata": {
    "collapsed": false
   },
   "outputs": [
    {
     "data": {
      "text/plain": [
       "SGD(SolverParameters(Inv(0.01,0.0001,0.75),Fixed(0.9),100,0.0005,\"snapshots\"),CoffeeLounge(\"\",1,:merge,Dict{String,Dict{Int64,FloatingPoint}}(),[],true,97199648,53052248))"
      ]
     },
     "execution_count": 77,
     "metadata": {},
     "output_type": "execute_result"
    }
   ],
   "source": [
    "exp_dir = \"snapshots\"\n",
    "\n",
    "params = SolverParameters(max_iter=100, regu_coef=0.0005,\n",
    "    mom_policy=MomPolicy.Fixed(0.9),\n",
    "    lr_policy=LRPolicy.Inv(0.01, 0.0001, 0.75),\n",
    "    load_from=exp_dir)\n",
    "solver = SGD(params)"
   ]
  },
  {
   "cell_type": "code",
   "execution_count": null,
   "metadata": {
    "collapsed": false
   },
   "outputs": [],
   "source": [
    "setup_coffee_lounge(solver, save_into=\"$exp_dir/statistics.hdf5\", every_n_iter=10)\n"
   ]
  },
  {
   "cell_type": "code",
   "execution_count": null,
   "metadata": {
    "collapsed": false
   },
   "outputs": [],
   "source": [
    "add_coffee_break(solver, TrainingSummary(), every_n_iter=100)\n"
   ]
  },
  {
   "cell_type": "code",
   "execution_count": null,
   "metadata": {
    "collapsed": false
   },
   "outputs": [],
   "source": [
    "data_layer_test = HDF5DataLayer(name=\"test-data\", source=\"test.txt\", batch_size=100)\n",
    "acc_layer = AccuracyLayer(name=\"test-accuracy\", bottoms=[:ip2, :y])\n",
    "test_net = Net(\"MNIST-test\", backend, [data_layer_test, common_layers..., acc_layer])"
   ]
  },
  {
   "cell_type": "code",
   "execution_count": null,
   "metadata": {
    "collapsed": false
   },
   "outputs": [],
   "source": [
    "add_coffee_break(solver, ValidationPerformance(test_net), every_n_iter=1000)\n"
   ]
  },
  {
   "cell_type": "code",
   "execution_count": null,
   "metadata": {
    "collapsed": false
   },
   "outputs": [],
   "source": [
    "solve(solver, net)\n"
   ]
  },
  {
   "cell_type": "code",
   "execution_count": null,
   "metadata": {
    "collapsed": true
   },
   "outputs": [],
   "source": [
    "\n",
    "destroy(net)\n",
    "destroy(test_net)\n",
    "shutdown(backend)"
   ]
  },
  {
   "cell_type": "code",
   "execution_count": null,
   "metadata": {
    "collapsed": true
   },
   "outputs": [],
   "source": []
  }
 ],
 "metadata": {
  "kernelspec": {
   "display_name": "Julia 0.3.8",
   "language": "julia",
   "name": "julia-0.3"
  },
  "language_info": {
   "name": "julia",
   "version": "0.3.8"
  }
 },
 "nbformat": 4,
 "nbformat_minor": 0
}
