{
 "cells": [
  {
   "cell_type": "markdown",
   "metadata": {},
   "source": [
    "#How to create a good dataset"
   ]
  },
  {
   "cell_type": "markdown",
   "metadata": {},
   "source": [
    "## predict mosquitos on daily basis\n",
    "1. run pikki-virus/Data_with_NumMosquitos/make_aggregated_with_Nummosquitos (creates aggregated_train_with_nummosquitos.csv from train_filled_new and train)\n",
    "2. pikki-virus/Data_with_NumMosquitos/Predict Mosquitos on daily basis.ipynb -> Run it. (creates new_train.csv and new_test.csv from aggregated_train_with_nummosquitos and test_filled_new)"
   ]
  },
  {
   "cell_type": "markdown",
   "metadata": {},
   "source": [
    "## Add priors\n",
    "1. run pikki-virus/Data_with_NumMosquitos/Add_Priors (creates new_test_priors.csv and new_train_priors.csv from new_train.csv and new_test.csv)"
   ]
  }
 ],
 "metadata": {
  "kernelspec": {
   "display_name": "Python 3",
   "language": "python",
   "name": "python3"
  },
  "language_info": {
   "codemirror_mode": {
    "name": "ipython",
    "version": 3
   },
   "file_extension": ".py",
   "mimetype": "text/x-python",
   "name": "python",
   "nbconvert_exporter": "python",
   "pygments_lexer": "ipython3",
   "version": "3.4.3"
  }
 },
 "nbformat": 4,
 "nbformat_minor": 0
}
