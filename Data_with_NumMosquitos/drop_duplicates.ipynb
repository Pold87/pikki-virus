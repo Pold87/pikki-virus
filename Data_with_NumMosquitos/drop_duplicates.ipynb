{
 "cells": [
  {
   "cell_type": "markdown",
   "metadata": {},
   "source": [
    "#Right now uses mean of WnvPresent.\n",
    "eventually, this should maybe rather use a counter? (like 0 or 1)"
   ]
  },
  {
   "cell_type": "code",
   "execution_count": 7,
   "metadata": {
    "collapsed": true
   },
   "outputs": [],
   "source": [
    "import pandas as pd\n",
    "import numpy as np\n",
    "from sklearn import cross_validation, preprocessing, metrics\n",
    "df_train = pd.read_csv('../Data_with_NumMosquitos/new_train_priors.csv')\n",
    "#df_train_nomosq = pd.read_csv('../train_filled_new.csv')\n",
    "df_test = pd.read_csv('../Data_with_NumMosquitos/new_test_priors.csv')\n",
    "#df_test_nomosq = pd.read_csv('../test_filled_new.csv')\n",
    "train_support = pd.read_csv('../train.csv')\n",
    "test_support = pd.read_csv('../test.csv')"
   ]
  },
  {
   "cell_type": "code",
   "execution_count": 14,
   "metadata": {
    "collapsed": true
   },
   "outputs": [],
   "source": [
    "drop_species= True"
   ]
  },
  {
   "cell_type": "code",
   "execution_count": 15,
   "metadata": {
    "collapsed": true
   },
   "outputs": [],
   "source": [
    "df_train['Date'] = train_support.Date\n",
    "df_train['Trap'] = train_support.Trap\n"
   ]
  },
  {
   "cell_type": "code",
   "execution_count": 16,
   "metadata": {
    "collapsed": false
   },
   "outputs": [],
   "source": [
    "tmp = df_train.drop(['WnvPresent','Id','Unnamed: 0'],axis=1)"
   ]
  },
  {
   "cell_type": "code",
   "execution_count": 17,
   "metadata": {
    "collapsed": false
   },
   "outputs": [
    {
     "data": {
      "text/plain": [
       "10506"
      ]
     },
     "execution_count": 17,
     "metadata": {},
     "output_type": "execute_result"
    }
   ],
   "source": [
    "len(tmp)"
   ]
  },
  {
   "cell_type": "code",
   "execution_count": 23,
   "metadata": {
    "collapsed": false
   },
   "outputs": [
    {
     "data": {
      "text/html": [
       "<div style=\"max-height:1000px;max-width:1500px;overflow:auto;\">\n",
       "<table border=\"1\" class=\"dataframe\">\n",
       "  <thead>\n",
       "    <tr style=\"text-align: right;\">\n",
       "      <th></th>\n",
       "      <th>Date</th>\n",
       "      <th>Address</th>\n",
       "      <th>Block</th>\n",
       "      <th>Street</th>\n",
       "      <th>Trap</th>\n",
       "      <th>AddressNumberAndStreet</th>\n",
       "      <th>Latitude</th>\n",
       "      <th>Longitude</th>\n",
       "      <th>AddressAccuracy</th>\n",
       "      <th>NumMosquitos</th>\n",
       "      <th>WnvPresent</th>\n",
       "    </tr>\n",
       "    <tr>\n",
       "      <th>Species</th>\n",
       "      <th></th>\n",
       "      <th></th>\n",
       "      <th></th>\n",
       "      <th></th>\n",
       "      <th></th>\n",
       "      <th></th>\n",
       "      <th></th>\n",
       "      <th></th>\n",
       "      <th></th>\n",
       "      <th></th>\n",
       "      <th></th>\n",
       "    </tr>\n",
       "  </thead>\n",
       "  <tbody>\n",
       "    <tr>\n",
       "      <th>CULEX ERRATICUS</th>\n",
       "      <td>1</td>\n",
       "      <td>1</td>\n",
       "      <td>1</td>\n",
       "      <td>1</td>\n",
       "      <td>1</td>\n",
       "      <td>1</td>\n",
       "      <td>1</td>\n",
       "      <td>1</td>\n",
       "      <td>1</td>\n",
       "      <td>1</td>\n",
       "      <td>1</td>\n",
       "    </tr>\n",
       "    <tr>\n",
       "      <th>CULEX PIPIENS</th>\n",
       "      <td>2699</td>\n",
       "      <td>2699</td>\n",
       "      <td>2699</td>\n",
       "      <td>2699</td>\n",
       "      <td>2699</td>\n",
       "      <td>2699</td>\n",
       "      <td>2699</td>\n",
       "      <td>2699</td>\n",
       "      <td>2699</td>\n",
       "      <td>2699</td>\n",
       "      <td>2699</td>\n",
       "    </tr>\n",
       "    <tr>\n",
       "      <th>CULEX PIPIENS/RESTUANS</th>\n",
       "      <td>4752</td>\n",
       "      <td>4752</td>\n",
       "      <td>4752</td>\n",
       "      <td>4752</td>\n",
       "      <td>4752</td>\n",
       "      <td>4752</td>\n",
       "      <td>4752</td>\n",
       "      <td>4752</td>\n",
       "      <td>4752</td>\n",
       "      <td>4752</td>\n",
       "      <td>4752</td>\n",
       "    </tr>\n",
       "    <tr>\n",
       "      <th>CULEX RESTUANS</th>\n",
       "      <td>2740</td>\n",
       "      <td>2740</td>\n",
       "      <td>2740</td>\n",
       "      <td>2740</td>\n",
       "      <td>2740</td>\n",
       "      <td>2740</td>\n",
       "      <td>2740</td>\n",
       "      <td>2740</td>\n",
       "      <td>2740</td>\n",
       "      <td>2740</td>\n",
       "      <td>2740</td>\n",
       "    </tr>\n",
       "    <tr>\n",
       "      <th>CULEX SALINARIUS</th>\n",
       "      <td>86</td>\n",
       "      <td>86</td>\n",
       "      <td>86</td>\n",
       "      <td>86</td>\n",
       "      <td>86</td>\n",
       "      <td>86</td>\n",
       "      <td>86</td>\n",
       "      <td>86</td>\n",
       "      <td>86</td>\n",
       "      <td>86</td>\n",
       "      <td>86</td>\n",
       "    </tr>\n",
       "    <tr>\n",
       "      <th>CULEX TARSALIS</th>\n",
       "      <td>6</td>\n",
       "      <td>6</td>\n",
       "      <td>6</td>\n",
       "      <td>6</td>\n",
       "      <td>6</td>\n",
       "      <td>6</td>\n",
       "      <td>6</td>\n",
       "      <td>6</td>\n",
       "      <td>6</td>\n",
       "      <td>6</td>\n",
       "      <td>6</td>\n",
       "    </tr>\n",
       "    <tr>\n",
       "      <th>CULEX TERRITANS</th>\n",
       "      <td>222</td>\n",
       "      <td>222</td>\n",
       "      <td>222</td>\n",
       "      <td>222</td>\n",
       "      <td>222</td>\n",
       "      <td>222</td>\n",
       "      <td>222</td>\n",
       "      <td>222</td>\n",
       "      <td>222</td>\n",
       "      <td>222</td>\n",
       "      <td>222</td>\n",
       "    </tr>\n",
       "  </tbody>\n",
       "</table>\n",
       "</div>"
      ],
      "text/plain": [
       "                        Date  Address  Block  Street  Trap  \\\n",
       "Species                                                      \n",
       "CULEX ERRATICUS            1        1      1       1     1   \n",
       "CULEX PIPIENS           2699     2699   2699    2699  2699   \n",
       "CULEX PIPIENS/RESTUANS  4752     4752   4752    4752  4752   \n",
       "CULEX RESTUANS          2740     2740   2740    2740  2740   \n",
       "CULEX SALINARIUS          86       86     86      86    86   \n",
       "CULEX TARSALIS             6        6      6       6     6   \n",
       "CULEX TERRITANS          222      222    222     222   222   \n",
       "\n",
       "                        AddressNumberAndStreet  Latitude  Longitude  \\\n",
       "Species                                                               \n",
       "CULEX ERRATICUS                              1         1          1   \n",
       "CULEX PIPIENS                             2699      2699       2699   \n",
       "CULEX PIPIENS/RESTUANS                    4752      4752       4752   \n",
       "CULEX RESTUANS                            2740      2740       2740   \n",
       "CULEX SALINARIUS                            86        86         86   \n",
       "CULEX TARSALIS                               6         6          6   \n",
       "CULEX TERRITANS                            222       222        222   \n",
       "\n",
       "                        AddressAccuracy  NumMosquitos  WnvPresent  \n",
       "Species                                                            \n",
       "CULEX ERRATICUS                       1             1           1  \n",
       "CULEX PIPIENS                      2699          2699        2699  \n",
       "CULEX PIPIENS/RESTUANS             4752          4752        4752  \n",
       "CULEX RESTUANS                     2740          2740        2740  \n",
       "CULEX SALINARIUS                     86            86          86  \n",
       "CULEX TARSALIS                        6             6           6  \n",
       "CULEX TERRITANS                     222           222         222  "
      ]
     },
     "execution_count": 23,
     "metadata": {},
     "output_type": "execute_result"
    }
   ],
   "source": [
    "train_support.groupby('Species').count()"
   ]
  },
  {
   "cell_type": "code",
   "execution_count": 24,
   "metadata": {
    "collapsed": false
   },
   "outputs": [
    {
     "data": {
      "text/html": [
       "<div style=\"max-height:1000px;max-width:1500px;overflow:auto;\">\n",
       "<table border=\"1\" class=\"dataframe\">\n",
       "  <thead>\n",
       "    <tr style=\"text-align: right;\">\n",
       "      <th></th>\n",
       "      <th>Id</th>\n",
       "      <th>Date</th>\n",
       "      <th>Address</th>\n",
       "      <th>Block</th>\n",
       "      <th>Street</th>\n",
       "      <th>Trap</th>\n",
       "      <th>AddressNumberAndStreet</th>\n",
       "      <th>Latitude</th>\n",
       "      <th>Longitude</th>\n",
       "      <th>AddressAccuracy</th>\n",
       "    </tr>\n",
       "    <tr>\n",
       "      <th>Species</th>\n",
       "      <th></th>\n",
       "      <th></th>\n",
       "      <th></th>\n",
       "      <th></th>\n",
       "      <th></th>\n",
       "      <th></th>\n",
       "      <th></th>\n",
       "      <th></th>\n",
       "      <th></th>\n",
       "      <th></th>\n",
       "    </tr>\n",
       "  </thead>\n",
       "  <tbody>\n",
       "    <tr>\n",
       "      <th>CULEX ERRATICUS</th>\n",
       "      <td>14345</td>\n",
       "      <td>14345</td>\n",
       "      <td>14345</td>\n",
       "      <td>14345</td>\n",
       "      <td>14345</td>\n",
       "      <td>14345</td>\n",
       "      <td>14345</td>\n",
       "      <td>14345</td>\n",
       "      <td>14345</td>\n",
       "      <td>14345</td>\n",
       "    </tr>\n",
       "    <tr>\n",
       "      <th>CULEX PIPIENS</th>\n",
       "      <td>14521</td>\n",
       "      <td>14521</td>\n",
       "      <td>14521</td>\n",
       "      <td>14521</td>\n",
       "      <td>14521</td>\n",
       "      <td>14521</td>\n",
       "      <td>14521</td>\n",
       "      <td>14521</td>\n",
       "      <td>14521</td>\n",
       "      <td>14521</td>\n",
       "    </tr>\n",
       "    <tr>\n",
       "      <th>CULEX PIPIENS/RESTUANS</th>\n",
       "      <td>15359</td>\n",
       "      <td>15359</td>\n",
       "      <td>15359</td>\n",
       "      <td>15359</td>\n",
       "      <td>15359</td>\n",
       "      <td>15359</td>\n",
       "      <td>15359</td>\n",
       "      <td>15359</td>\n",
       "      <td>15359</td>\n",
       "      <td>15359</td>\n",
       "    </tr>\n",
       "    <tr>\n",
       "      <th>CULEX RESTUANS</th>\n",
       "      <td>14670</td>\n",
       "      <td>14670</td>\n",
       "      <td>14670</td>\n",
       "      <td>14670</td>\n",
       "      <td>14670</td>\n",
       "      <td>14670</td>\n",
       "      <td>14670</td>\n",
       "      <td>14670</td>\n",
       "      <td>14670</td>\n",
       "      <td>14670</td>\n",
       "    </tr>\n",
       "    <tr>\n",
       "      <th>CULEX SALINARIUS</th>\n",
       "      <td>14355</td>\n",
       "      <td>14355</td>\n",
       "      <td>14355</td>\n",
       "      <td>14355</td>\n",
       "      <td>14355</td>\n",
       "      <td>14355</td>\n",
       "      <td>14355</td>\n",
       "      <td>14355</td>\n",
       "      <td>14355</td>\n",
       "      <td>14355</td>\n",
       "    </tr>\n",
       "    <tr>\n",
       "      <th>CULEX TARSALIS</th>\n",
       "      <td>14347</td>\n",
       "      <td>14347</td>\n",
       "      <td>14347</td>\n",
       "      <td>14347</td>\n",
       "      <td>14347</td>\n",
       "      <td>14347</td>\n",
       "      <td>14347</td>\n",
       "      <td>14347</td>\n",
       "      <td>14347</td>\n",
       "      <td>14347</td>\n",
       "    </tr>\n",
       "    <tr>\n",
       "      <th>CULEX TERRITANS</th>\n",
       "      <td>14351</td>\n",
       "      <td>14351</td>\n",
       "      <td>14351</td>\n",
       "      <td>14351</td>\n",
       "      <td>14351</td>\n",
       "      <td>14351</td>\n",
       "      <td>14351</td>\n",
       "      <td>14351</td>\n",
       "      <td>14351</td>\n",
       "      <td>14351</td>\n",
       "    </tr>\n",
       "    <tr>\n",
       "      <th>UNSPECIFIED CULEX</th>\n",
       "      <td>14345</td>\n",
       "      <td>14345</td>\n",
       "      <td>14345</td>\n",
       "      <td>14345</td>\n",
       "      <td>14345</td>\n",
       "      <td>14345</td>\n",
       "      <td>14345</td>\n",
       "      <td>14345</td>\n",
       "      <td>14345</td>\n",
       "      <td>14345</td>\n",
       "    </tr>\n",
       "  </tbody>\n",
       "</table>\n",
       "</div>"
      ],
      "text/plain": [
       "                           Id   Date  Address  Block  Street   Trap  \\\n",
       "Species                                                               \n",
       "CULEX ERRATICUS         14345  14345    14345  14345   14345  14345   \n",
       "CULEX PIPIENS           14521  14521    14521  14521   14521  14521   \n",
       "CULEX PIPIENS/RESTUANS  15359  15359    15359  15359   15359  15359   \n",
       "CULEX RESTUANS          14670  14670    14670  14670   14670  14670   \n",
       "CULEX SALINARIUS        14355  14355    14355  14355   14355  14355   \n",
       "CULEX TARSALIS          14347  14347    14347  14347   14347  14347   \n",
       "CULEX TERRITANS         14351  14351    14351  14351   14351  14351   \n",
       "UNSPECIFIED CULEX       14345  14345    14345  14345   14345  14345   \n",
       "\n",
       "                        AddressNumberAndStreet  Latitude  Longitude  \\\n",
       "Species                                                               \n",
       "CULEX ERRATICUS                          14345     14345      14345   \n",
       "CULEX PIPIENS                            14521     14521      14521   \n",
       "CULEX PIPIENS/RESTUANS                   15359     15359      15359   \n",
       "CULEX RESTUANS                           14670     14670      14670   \n",
       "CULEX SALINARIUS                         14355     14355      14355   \n",
       "CULEX TARSALIS                           14347     14347      14347   \n",
       "CULEX TERRITANS                          14351     14351      14351   \n",
       "UNSPECIFIED CULEX                        14345     14345      14345   \n",
       "\n",
       "                        AddressAccuracy  \n",
       "Species                                  \n",
       "CULEX ERRATICUS                   14345  \n",
       "CULEX PIPIENS                     14521  \n",
       "CULEX PIPIENS/RESTUANS            15359  \n",
       "CULEX RESTUANS                    14670  \n",
       "CULEX SALINARIUS                  14355  \n",
       "CULEX TARSALIS                    14347  \n",
       "CULEX TERRITANS                   14351  \n",
       "UNSPECIFIED CULEX                 14345  "
      ]
     },
     "execution_count": 24,
     "metadata": {},
     "output_type": "execute_result"
    }
   ],
   "source": [
    "test_support.groupby('Species').count()"
   ]
  },
  {
   "cell_type": "code",
   "execution_count": 18,
   "metadata": {
    "collapsed": false
   },
   "outputs": [
    {
     "name": "stderr",
     "output_type": "stream",
     "text": [
      "/home/thomas/anaconda3/lib/python3.4/site-packages/pandas/core/frame.py:1819: UserWarning: Boolean Series key will be reindexed to match DataFrame index.\n",
      "  \"DataFrame index.\", UserWarning)\n"
     ]
    },
    {
     "data": {
      "text/plain": [
       "10191"
      ]
     },
     "execution_count": 18,
     "metadata": {},
     "output_type": "execute_result"
    }
   ],
   "source": [
    "\n",
    "non_vectors = ['CULEX ERRATICUS','CULEX SALINARIUS','CULEX TARSALIS', 'CULEX TERRITANS']\n",
    "if drop_species == True:\n",
    "    for species in non_vectors:\n",
    "        tmp = tmp[train_support.Species != species]\n",
    "    \n",
    "len(tmp)"
   ]
  },
  {
   "cell_type": "code",
   "execution_count": 19,
   "metadata": {
    "collapsed": true
   },
   "outputs": [],
   "source": [
    "tmp2 = tmp.drop_duplicates()"
   ]
  },
  {
   "cell_type": "code",
   "execution_count": null,
   "metadata": {
    "collapsed": true
   },
   "outputs": [],
   "source": []
  },
  {
   "cell_type": "code",
   "execution_count": 20,
   "metadata": {
    "collapsed": false
   },
   "outputs": [
    {
     "data": {
      "text/plain": [
       "8642"
      ]
     },
     "execution_count": 20,
     "metadata": {},
     "output_type": "execute_result"
    }
   ],
   "source": [
    "len(tmp2)"
   ]
  },
  {
   "cell_type": "code",
   "execution_count": 7,
   "metadata": {
    "collapsed": true
   },
   "outputs": [],
   "source": [
    "groups = ['Date','Trap','Species']"
   ]
  },
  {
   "cell_type": "code",
   "execution_count": 8,
   "metadata": {
    "collapsed": false
   },
   "outputs": [
    {
     "name": "stderr",
     "output_type": "stream",
     "text": [
      "/home/thomas/anaconda3/lib/python3.4/site-packages/IPython/kernel/__main__.py:2: SettingWithCopyWarning: \n",
      "A value is trying to be set on a copy of a slice from a DataFrame\n",
      "\n",
      "See the the caveats in the documentation: http://pandas.pydata.org/pandas-docs/stable/indexing.html#indexing-view-versus-copy\n",
      "  from IPython.kernel.zmq import kernelapp as app\n"
     ]
    }
   ],
   "source": [
    "tmp = df_train.join(df_train.groupby(groups)['WnvPresent'].sum(), on= groups,rsuffix='_DateTrapSpecies')\n",
    "tmp['WnvPresent_DateTrapSpecies'][tmp.WnvPresent_DateTrapSpecies > 0] = 1\n"
   ]
  },
  {
   "cell_type": "code",
   "execution_count": 9,
   "metadata": {
    "collapsed": false
   },
   "outputs": [
    {
     "data": {
      "text/plain": [
       "(0, 1, 0.0)"
      ]
     },
     "execution_count": 9,
     "metadata": {},
     "output_type": "execute_result"
    }
   ],
   "source": [
    "tmp.WnvPresent_DateTrapSpecies.min(),tmp.WnvPresent_DateTrapSpecies.max(),tmp.WnvPresent_DateTrapSpecies.median()"
   ]
  },
  {
   "cell_type": "code",
   "execution_count": 10,
   "metadata": {
    "collapsed": false
   },
   "outputs": [
    {
     "data": {
      "text/plain": [
       "10506"
      ]
     },
     "execution_count": 10,
     "metadata": {},
     "output_type": "execute_result"
    }
   ],
   "source": [
    "len(tmp)"
   ]
  },
  {
   "cell_type": "code",
   "execution_count": 11,
   "metadata": {
    "collapsed": false
   },
   "outputs": [],
   "source": [
    "tmp2 = tmp.drop(['Trap','Id','Unnamed: 0','WnvPresent'],axis=1)"
   ]
  },
  {
   "cell_type": "code",
   "execution_count": 12,
   "metadata": {
    "collapsed": true
   },
   "outputs": [],
   "source": [
    "#use_for_duplicates = [var for var in tmp2.columns if var not in ['WnvPresent']]"
   ]
  },
  {
   "cell_type": "code",
   "execution_count": 13,
   "metadata": {
    "collapsed": false
   },
   "outputs": [],
   "source": [
    "tmp2 = tmp2.drop_duplicates()"
   ]
  },
  {
   "cell_type": "code",
   "execution_count": 14,
   "metadata": {
    "collapsed": false
   },
   "outputs": [],
   "source": [
    "tmp2 = tmp2.drop(['Date'],axis=1)"
   ]
  },
  {
   "cell_type": "code",
   "execution_count": 15,
   "metadata": {
    "collapsed": false
   },
   "outputs": [
    {
     "data": {
      "text/plain": [
       "(8521, 97)"
      ]
     },
     "execution_count": 15,
     "metadata": {},
     "output_type": "execute_result"
    }
   ],
   "source": [
    "tmp2.shape"
   ]
  },
  {
   "cell_type": "code",
   "execution_count": 16,
   "metadata": {
    "collapsed": false
   },
   "outputs": [],
   "source": [
    "tmp2.to_csv('unique_train.csv',index_label='Id')"
   ]
  },
  {
   "cell_type": "code",
   "execution_count": null,
   "metadata": {
    "collapsed": true
   },
   "outputs": [],
   "source": []
  }
 ],
 "metadata": {
  "kernelspec": {
   "display_name": "Python 3",
   "language": "python",
   "name": "python3"
  },
  "language_info": {
   "codemirror_mode": {
    "name": "ipython",
    "version": 3
   },
   "file_extension": ".py",
   "mimetype": "text/x-python",
   "name": "python",
   "nbconvert_exporter": "python",
   "pygments_lexer": "ipython3",
   "version": "3.4.3"
  }
 },
 "nbformat": 4,
 "nbformat_minor": 0
}
