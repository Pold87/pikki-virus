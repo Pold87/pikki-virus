{
 "cells": [
  {
   "cell_type": "code",
   "execution_count": 60,
   "metadata": {
    "collapsed": true
   },
   "outputs": [],
   "source": [
    "import pandas as pd\n",
    "from sklearn.ensemble import RandomForestRegressor\n",
    "from sklearn import cross_validation, preprocessing, metrics"
   ]
  },
  {
   "cell_type": "code",
   "execution_count": 61,
   "metadata": {
    "collapsed": false
   },
   "outputs": [],
   "source": [
    "df_train = pd.read_csv('aggregated_train_with_nummosquitos.csv')\n",
    "#df_test = pd.read_csv('../test_filled_new.csv')\n",
    "#orig = pd.read_csv('../test_filled_new.csv')\n",
    "df_test = pd.read_csv('../test_filled_new.csv')"
   ]
  },
  {
   "cell_type": "code",
   "execution_count": 62,
   "metadata": {
    "collapsed": false
   },
   "outputs": [
    {
     "data": {
      "text/plain": [
       "(Index(['Unnamed: 0', 'Date', 'Address', 'Species', 'Block', 'Street', 'Trap', 'AddressNumberAndStreet', 'Latitude', 'Longitude', 'AddressAccuracy', 'NumMosquitos', 'WnvPresent', 'Station', 'Tmax', 'Tmin', 'Tavg', 'Depart', 'DewPoint', 'WetBulb', 'Heat', 'Cool', 'Sunrise', 'Sunset', 'CodeSum', 'Depth', 'SnowFall', 'PrecipTotal', 'StnPressure', 'SeaLevel', 'ResultSpeed', 'ResultDir', 'AvgSpeed', 'Year', 'Month', 'Tavg_week', 'precip_week', 'heat_dw', 'cool_dw', '1_week_avrgPrecipTotal', '1_week_avrgTavg', '2_week_avrgPrecipTotal', '2_week_avrgTavg', '3_week_avrgPrecipTotal', '3_week_avrgTavg', '4_week_avrgPrecipTotal', '4_week_avrgTavg', '5_week_avrgPrecipTotal', '5_week_avrgTavg', '6_week_avrgPrecipTotal', '6_week_avrgTavg', '7_week_avrgPrecipTotal', '7_week_avrgTavg', '8_week_avrgPrecipTotal', '8_week_avrgTavg', '9_week_avrgPrecipTotal', '9_week_avrgTavg', '10_week_avrgPrecipTotal', '10_week_avrgTavg', '11_week_avrgPrecipTotal', '11_week_avrgTavg', '12_week_avrgPrecipTotal', '12_week_avrgTavg', '13_week_avrgPrecipTotal', '13_week_avrgTavg', '14_week_avrgPrecipTotal', '14_week_avrgTavg', '15_week_avrgPrecipTotal', '15_week_avrgTavg', '16_week_avrgPrecipTotal', '16_week_avrgTavg', '17_week_avrgPrecipTotal', '17_week_avrgTavg', '18_week_avrgPrecipTotal', '18_week_avrgTavg', '19_week_avrgPrecipTotal', '19_week_avrgTavg', '20_week_avrgPrecipTotal', '20_week_avrgTavg', '21_week_avrgPrecipTotal', '21_week_avrgTavg', '22_week_avrgPrecipTotal', '22_week_avrgTavg', '23_week_avrgPrecipTotal', '23_week_avrgTavg'], dtype='object'),\n",
       " Index(['Id', 'Date', 'Address', 'Species', 'Block', 'Street', 'Trap', 'AddressNumberAndStreet', 'Latitude', 'Longitude', 'AddressAccuracy', 'Station', 'Tmax', 'Tmin', 'Tavg', 'Depart', 'DewPoint', 'WetBulb', 'Heat', 'Cool', 'Sunrise', 'Sunset', 'CodeSum', 'Depth', 'SnowFall', 'PrecipTotal', 'StnPressure', 'SeaLevel', 'ResultSpeed', 'ResultDir', 'AvgSpeed', 'Year', 'Month', 'Tavg_week', 'precip_week', 'heat_dw', 'cool_dw', '1_week_avrgPrecipTotal', '1_week_avrgTavg', '2_week_avrgPrecipTotal', '2_week_avrgTavg', '3_week_avrgPrecipTotal', '3_week_avrgTavg', '4_week_avrgPrecipTotal', '4_week_avrgTavg', '5_week_avrgPrecipTotal', '5_week_avrgTavg', '6_week_avrgPrecipTotal', '6_week_avrgTavg', '7_week_avrgPrecipTotal', '7_week_avrgTavg', '8_week_avrgPrecipTotal', '8_week_avrgTavg', '9_week_avrgPrecipTotal', '9_week_avrgTavg', '10_week_avrgPrecipTotal', '10_week_avrgTavg', '11_week_avrgPrecipTotal', '11_week_avrgTavg', '12_week_avrgPrecipTotal', '12_week_avrgTavg', '13_week_avrgPrecipTotal', '13_week_avrgTavg', '14_week_avrgPrecipTotal', '14_week_avrgTavg', '15_week_avrgPrecipTotal', '15_week_avrgTavg', '16_week_avrgPrecipTotal', '16_week_avrgTavg', '17_week_avrgPrecipTotal', '17_week_avrgTavg', '18_week_avrgPrecipTotal', '18_week_avrgTavg', '19_week_avrgPrecipTotal', '19_week_avrgTavg', '20_week_avrgPrecipTotal', '20_week_avrgTavg', '21_week_avrgPrecipTotal', '21_week_avrgTavg', '22_week_avrgPrecipTotal', '22_week_avrgTavg', '23_week_avrgPrecipTotal', '23_week_avrgTavg'], dtype='object'))"
      ]
     },
     "execution_count": 62,
     "metadata": {},
     "output_type": "execute_result"
    }
   ],
   "source": [
    "df_train.columns,df_test.columns"
   ]
  },
  {
   "cell_type": "code",
   "execution_count": 63,
   "metadata": {
    "collapsed": false
   },
   "outputs": [
    {
     "data": {
      "text/plain": [
       "['Unnamed: 0', 'NumMosquitos', 'WnvPresent']"
      ]
     },
     "execution_count": 63,
     "metadata": {},
     "output_type": "execute_result"
    }
   ],
   "source": [
    "[var for var in df_train.columns if var not in df_test.columns]"
   ]
  },
  {
   "cell_type": "code",
   "execution_count": 64,
   "metadata": {
    "collapsed": false
   },
   "outputs": [
    {
     "data": {
      "text/plain": [
       "Unnamed: 0                  int64\n",
       "Date                       object\n",
       "Address                    object\n",
       "Species                    object\n",
       "Block                       int64\n",
       "Street                     object\n",
       "Trap                       object\n",
       "AddressNumberAndStreet     object\n",
       "Latitude                  float64\n",
       "Longitude                 float64\n",
       "AddressAccuracy             int64\n",
       "NumMosquitos                int64\n",
       "WnvPresent                  int64\n",
       "Station                     int64\n",
       "Tmax                        int64\n",
       "...\n",
       "16_week_avrgTavg           float64\n",
       "17_week_avrgPrecipTotal    float64\n",
       "17_week_avrgTavg           float64\n",
       "18_week_avrgPrecipTotal    float64\n",
       "18_week_avrgTavg           float64\n",
       "19_week_avrgPrecipTotal    float64\n",
       "19_week_avrgTavg           float64\n",
       "20_week_avrgPrecipTotal    float64\n",
       "20_week_avrgTavg           float64\n",
       "21_week_avrgPrecipTotal    float64\n",
       "21_week_avrgTavg           float64\n",
       "22_week_avrgPrecipTotal    float64\n",
       "22_week_avrgTavg           float64\n",
       "23_week_avrgPrecipTotal    float64\n",
       "23_week_avrgTavg           float64\n",
       "Length: 85, dtype: object"
      ]
     },
     "execution_count": 64,
     "metadata": {},
     "output_type": "execute_result"
    }
   ],
   "source": [
    "X = df_train\n",
    "X.dtypes"
   ]
  },
  {
   "cell_type": "code",
   "execution_count": 65,
   "metadata": {
    "collapsed": false
   },
   "outputs": [
    {
     "data": {
      "text/plain": [
       "['Id']"
      ]
     },
     "execution_count": 65,
     "metadata": {},
     "output_type": "execute_result"
    }
   ],
   "source": [
    "[var for var in df_test.columns if var not in X.columns]"
   ]
  },
  {
   "cell_type": "code",
   "execution_count": 66,
   "metadata": {
    "collapsed": false
   },
   "outputs": [],
   "source": [
    "string_features = ['Date','Address','Street','AddressNumberAndStreet','CodeSum']\n",
    "species_encoder = preprocessing.LabelEncoder()\n",
    "trap_encoder = preprocessing.LabelEncoder()\n",
    "#X_dump = X[string_features]\n",
    "df_dump = df_test[string_features]\n",
    "\n",
    "X.Species = species_encoder.fit_transform(X.Species)\n",
    "y = df_train['NumMosquitos']\n",
    "df_test.Species = species_encoder.fit_transform(df_test.Species)\n",
    "X.Trap = trap_encoder.fit_transform(X.Trap)\n",
    "df_test.Trap = trap_encoder.fit_transform(df_test.Trap)\n",
    "\n",
    "try:\n",
    " X = X.drop(string_features,axis=1)\n",
    "except:\n",
    "    pass\n",
    "try:\n",
    " df_test = df_test.drop(string_features,axis=1)\n",
    "except:\n",
    "    pass\n",
    "try:\n",
    " df_test = df_test.drop('Id',axis=1)\n",
    "except: \n",
    "    pass\n",
    "#X.head()\n",
    "try:\n",
    "    X = X.drop(['Unnamed: 0', 'NumMosquitos', 'WnvPresent'],axis=1)\n",
    "except:\n",
    "        pass"
   ]
  },
  {
   "cell_type": "code",
   "execution_count": 67,
   "metadata": {
    "collapsed": false
   },
   "outputs": [
    {
     "data": {
      "text/html": [
       "<div style=\"max-height:1000px;max-width:1500px;overflow:auto;\">\n",
       "<table border=\"1\" class=\"dataframe\">\n",
       "  <thead>\n",
       "    <tr style=\"text-align: right;\">\n",
       "      <th></th>\n",
       "      <th>Date</th>\n",
       "      <th>Address</th>\n",
       "      <th>Street</th>\n",
       "      <th>AddressNumberAndStreet</th>\n",
       "      <th>CodeSum</th>\n",
       "    </tr>\n",
       "  </thead>\n",
       "  <tbody>\n",
       "    <tr>\n",
       "      <th>0</th>\n",
       "      <td> 2008-06-11</td>\n",
       "      <td> 4100 North Oak Park Avenue, Chicago, IL 60634,...</td>\n",
       "      <td>  N OAK PARK AVE</td>\n",
       "      <td> 4100  N OAK PARK AVE, Chicago, IL</td>\n",
       "      <td>  </td>\n",
       "    </tr>\n",
       "    <tr>\n",
       "      <th>1</th>\n",
       "      <td> 2008-06-11</td>\n",
       "      <td> 4100 North Oak Park Avenue, Chicago, IL 60634,...</td>\n",
       "      <td>  N OAK PARK AVE</td>\n",
       "      <td> 4100  N OAK PARK AVE, Chicago, IL</td>\n",
       "      <td>  </td>\n",
       "    </tr>\n",
       "    <tr>\n",
       "      <th>2</th>\n",
       "      <td> 2008-06-11</td>\n",
       "      <td> 4100 North Oak Park Avenue, Chicago, IL 60634,...</td>\n",
       "      <td>  N OAK PARK AVE</td>\n",
       "      <td> 4100  N OAK PARK AVE, Chicago, IL</td>\n",
       "      <td>  </td>\n",
       "    </tr>\n",
       "    <tr>\n",
       "      <th>3</th>\n",
       "      <td> 2008-06-11</td>\n",
       "      <td> 4100 North Oak Park Avenue, Chicago, IL 60634,...</td>\n",
       "      <td>  N OAK PARK AVE</td>\n",
       "      <td> 4100  N OAK PARK AVE, Chicago, IL</td>\n",
       "      <td>  </td>\n",
       "    </tr>\n",
       "    <tr>\n",
       "      <th>4</th>\n",
       "      <td> 2008-06-11</td>\n",
       "      <td> 4100 North Oak Park Avenue, Chicago, IL 60634,...</td>\n",
       "      <td>  N OAK PARK AVE</td>\n",
       "      <td> 4100  N OAK PARK AVE, Chicago, IL</td>\n",
       "      <td>  </td>\n",
       "    </tr>\n",
       "  </tbody>\n",
       "</table>\n",
       "</div>"
      ],
      "text/plain": [
       "         Date                                            Address  \\\n",
       "0  2008-06-11  4100 North Oak Park Avenue, Chicago, IL 60634,...   \n",
       "1  2008-06-11  4100 North Oak Park Avenue, Chicago, IL 60634,...   \n",
       "2  2008-06-11  4100 North Oak Park Avenue, Chicago, IL 60634,...   \n",
       "3  2008-06-11  4100 North Oak Park Avenue, Chicago, IL 60634,...   \n",
       "4  2008-06-11  4100 North Oak Park Avenue, Chicago, IL 60634,...   \n",
       "\n",
       "            Street             AddressNumberAndStreet CodeSum  \n",
       "0   N OAK PARK AVE  4100  N OAK PARK AVE, Chicago, IL          \n",
       "1   N OAK PARK AVE  4100  N OAK PARK AVE, Chicago, IL          \n",
       "2   N OAK PARK AVE  4100  N OAK PARK AVE, Chicago, IL          \n",
       "3   N OAK PARK AVE  4100  N OAK PARK AVE, Chicago, IL          \n",
       "4   N OAK PARK AVE  4100  N OAK PARK AVE, Chicago, IL          "
      ]
     },
     "execution_count": 67,
     "metadata": {},
     "output_type": "execute_result"
    }
   ],
   "source": [
    "df_dump.head()"
   ]
  },
  {
   "cell_type": "code",
   "execution_count": 68,
   "metadata": {
    "collapsed": false
   },
   "outputs": [
    {
     "data": {
      "text/plain": [
       "(Species              int64\n",
       " Block                int64\n",
       " Trap                 int64\n",
       " Latitude           float64\n",
       " Longitude          float64\n",
       " AddressAccuracy      int64\n",
       " Station              int64\n",
       " Tmax                 int64\n",
       " Tmin                 int64\n",
       " Tavg               float64\n",
       " Depart             float64\n",
       " DewPoint             int64\n",
       " WetBulb            float64\n",
       " Heat                 int64\n",
       " Cool                 int64\n",
       " Sunrise            float64\n",
       " Sunset             float64\n",
       " Depth              float64\n",
       " SnowFall           float64\n",
       " PrecipTotal        float64\n",
       " dtype: object, Species              int64\n",
       " Block                int64\n",
       " Trap                 int64\n",
       " Latitude           float64\n",
       " Longitude          float64\n",
       " AddressAccuracy      int64\n",
       " Station              int64\n",
       " Tmax                 int64\n",
       " Tmin                 int64\n",
       " Tavg               float64\n",
       " Depart             float64\n",
       " DewPoint             int64\n",
       " WetBulb            float64\n",
       " Heat                 int64\n",
       " Cool                 int64\n",
       " Sunrise            float64\n",
       " Sunset             float64\n",
       " Depth              float64\n",
       " SnowFall           float64\n",
       " PrecipTotal        float64\n",
       " dtype: object)"
      ]
     },
     "execution_count": 68,
     "metadata": {},
     "output_type": "execute_result"
    }
   ],
   "source": [
    "X.dtypes[:20],df_test.dtypes[:20]"
   ]
  },
  {
   "cell_type": "code",
   "execution_count": 69,
   "metadata": {
    "collapsed": false
   },
   "outputs": [
    {
     "data": {
      "text/plain": [
       "[]"
      ]
     },
     "execution_count": 69,
     "metadata": {},
     "output_type": "execute_result"
    }
   ],
   "source": [
    "[var for var in X.columns if var not in df_test.columns]"
   ]
  },
  {
   "cell_type": "code",
   "execution_count": 70,
   "metadata": {
    "collapsed": false
   },
   "outputs": [
    {
     "data": {
      "text/plain": [
       "[]"
      ]
     },
     "execution_count": 70,
     "metadata": {},
     "output_type": "execute_result"
    }
   ],
   "source": [
    "[var for var in df_test.columns if var not in X.columns]"
   ]
  },
  {
   "cell_type": "code",
   "execution_count": 71,
   "metadata": {
    "collapsed": false
   },
   "outputs": [],
   "source": [
    "clf = RandomForestRegressor(n_estimators=1000,n_jobs=-1)"
   ]
  },
  {
   "cell_type": "code",
   "execution_count": 72,
   "metadata": {
    "collapsed": false
   },
   "outputs": [],
   "source": [
    "#X = X[:20]\n",
    "#y = y[:20]"
   ]
  },
  {
   "cell_type": "code",
   "execution_count": 73,
   "metadata": {
    "collapsed": true
   },
   "outputs": [],
   "source": [
    "from sklearn import gaussian_process\n",
    "#clf = gaussian_process.GaussianProcess()"
   ]
  },
  {
   "cell_type": "code",
   "execution_count": 74,
   "metadata": {
    "collapsed": false
   },
   "outputs": [
    {
     "data": {
      "text/plain": [
       "RandomForestRegressor(bootstrap=True, compute_importances=None,\n",
       "           criterion='mse', max_depth=None, max_features='auto',\n",
       "           max_leaf_nodes=None, min_density=None, min_samples_leaf=1,\n",
       "           min_samples_split=2, n_estimators=1000, n_jobs=-1,\n",
       "           oob_score=False, random_state=None, verbose=0)"
      ]
     },
     "execution_count": 74,
     "metadata": {},
     "output_type": "execute_result"
    }
   ],
   "source": [
    "clf.fit(X,y)"
   ]
  },
  {
   "cell_type": "code",
   "execution_count": 75,
   "metadata": {
    "collapsed": false
   },
   "outputs": [],
   "source": [
    "yhat = clf.predict(df_test)"
   ]
  },
  {
   "cell_type": "code",
   "execution_count": 76,
   "metadata": {
    "collapsed": false
   },
   "outputs": [
    {
     "data": {
      "text/plain": [
       "(12.853512278697886, 11.521319053013711)"
      ]
     },
     "execution_count": 76,
     "metadata": {},
     "output_type": "execute_result"
    }
   ],
   "source": [
    "y.mean(),yhat.mean()"
   ]
  },
  {
   "cell_type": "code",
   "execution_count": 77,
   "metadata": {
    "collapsed": false
   },
   "outputs": [
    {
     "data": {
      "text/plain": [
       "1.0"
      ]
     },
     "execution_count": 77,
     "metadata": {},
     "output_type": "execute_result"
    }
   ],
   "source": [
    "clf.score(df_test,yhat)"
   ]
  },
  {
   "cell_type": "code",
   "execution_count": 78,
   "metadata": {
    "collapsed": true
   },
   "outputs": [],
   "source": [
    "df_test['NumMosquitos'] = yhat"
   ]
  },
  {
   "cell_type": "code",
   "execution_count": 79,
   "metadata": {
    "collapsed": false
   },
   "outputs": [
    {
     "data": {
      "text/plain": [
       "116293"
      ]
     },
     "execution_count": 79,
     "metadata": {},
     "output_type": "execute_result"
    }
   ],
   "source": [
    "len(df_test)"
   ]
  },
  {
   "cell_type": "code",
   "execution_count": 80,
   "metadata": {
    "collapsed": false
   },
   "outputs": [],
   "source": [
    "df_test = pd.concat([df_test,df_dump],axis=1)"
   ]
  },
  {
   "cell_type": "code",
   "execution_count": 81,
   "metadata": {
    "collapsed": false
   },
   "outputs": [],
   "source": [
    "df_test.to_csv('aggregated_test_NumMosquito_no_strings.csv',index_label = 'Id')"
   ]
  },
  {
   "cell_type": "code",
   "execution_count": 82,
   "metadata": {
    "collapsed": false
   },
   "outputs": [
    {
     "data": {
      "text/html": [
       "<div style=\"max-height:1000px;max-width:1500px;overflow:auto;\">\n",
       "<table border=\"1\" class=\"dataframe\">\n",
       "  <thead>\n",
       "    <tr style=\"text-align: right;\">\n",
       "      <th></th>\n",
       "      <th>Species</th>\n",
       "      <th>Block</th>\n",
       "      <th>Trap</th>\n",
       "      <th>Latitude</th>\n",
       "      <th>Longitude</th>\n",
       "      <th>AddressAccuracy</th>\n",
       "      <th>Station</th>\n",
       "      <th>Tmax</th>\n",
       "      <th>Tmin</th>\n",
       "      <th>Tavg</th>\n",
       "      <th>...</th>\n",
       "      <th>22_week_avrgPrecipTotal</th>\n",
       "      <th>22_week_avrgTavg</th>\n",
       "      <th>23_week_avrgPrecipTotal</th>\n",
       "      <th>23_week_avrgTavg</th>\n",
       "      <th>NumMosquitos</th>\n",
       "      <th>Date</th>\n",
       "      <th>Address</th>\n",
       "      <th>Street</th>\n",
       "      <th>AddressNumberAndStreet</th>\n",
       "      <th>CodeSum</th>\n",
       "    </tr>\n",
       "  </thead>\n",
       "  <tbody>\n",
       "    <tr>\n",
       "      <th>0</th>\n",
       "      <td> 2</td>\n",
       "      <td> 41</td>\n",
       "      <td> 1</td>\n",
       "      <td> 41.95469</td>\n",
       "      <td>-87.800991</td>\n",
       "      <td> 9</td>\n",
       "      <td> 1</td>\n",
       "      <td> 86</td>\n",
       "      <td> 61</td>\n",
       "      <td> 74</td>\n",
       "      <td>...</td>\n",
       "      <td> 0.161548</td>\n",
       "      <td> 59.809524</td>\n",
       "      <td> 0.161548</td>\n",
       "      <td> 59.809524</td>\n",
       "      <td> 24.822950</td>\n",
       "      <td> 2008-06-11</td>\n",
       "      <td> 4100 North Oak Park Avenue, Chicago, IL 60634,...</td>\n",
       "      <td>  N OAK PARK AVE</td>\n",
       "      <td> 4100  N OAK PARK AVE, Chicago, IL</td>\n",
       "      <td>  </td>\n",
       "    </tr>\n",
       "    <tr>\n",
       "      <th>1</th>\n",
       "      <td> 3</td>\n",
       "      <td> 41</td>\n",
       "      <td> 1</td>\n",
       "      <td> 41.95469</td>\n",
       "      <td>-87.800991</td>\n",
       "      <td> 9</td>\n",
       "      <td> 1</td>\n",
       "      <td> 86</td>\n",
       "      <td> 61</td>\n",
       "      <td> 74</td>\n",
       "      <td>...</td>\n",
       "      <td> 0.161548</td>\n",
       "      <td> 59.809524</td>\n",
       "      <td> 0.161548</td>\n",
       "      <td> 59.809524</td>\n",
       "      <td> 17.110891</td>\n",
       "      <td> 2008-06-11</td>\n",
       "      <td> 4100 North Oak Park Avenue, Chicago, IL 60634,...</td>\n",
       "      <td>  N OAK PARK AVE</td>\n",
       "      <td> 4100  N OAK PARK AVE, Chicago, IL</td>\n",
       "      <td>  </td>\n",
       "    </tr>\n",
       "    <tr>\n",
       "      <th>2</th>\n",
       "      <td> 1</td>\n",
       "      <td> 41</td>\n",
       "      <td> 1</td>\n",
       "      <td> 41.95469</td>\n",
       "      <td>-87.800991</td>\n",
       "      <td> 9</td>\n",
       "      <td> 1</td>\n",
       "      <td> 86</td>\n",
       "      <td> 61</td>\n",
       "      <td> 74</td>\n",
       "      <td>...</td>\n",
       "      <td> 0.161548</td>\n",
       "      <td> 59.809524</td>\n",
       "      <td> 0.161548</td>\n",
       "      <td> 59.809524</td>\n",
       "      <td> 11.984135</td>\n",
       "      <td> 2008-06-11</td>\n",
       "      <td> 4100 North Oak Park Avenue, Chicago, IL 60634,...</td>\n",
       "      <td>  N OAK PARK AVE</td>\n",
       "      <td> 4100  N OAK PARK AVE, Chicago, IL</td>\n",
       "      <td>  </td>\n",
       "    </tr>\n",
       "    <tr>\n",
       "      <th>3</th>\n",
       "      <td> 4</td>\n",
       "      <td> 41</td>\n",
       "      <td> 1</td>\n",
       "      <td> 41.95469</td>\n",
       "      <td>-87.800991</td>\n",
       "      <td> 9</td>\n",
       "      <td> 1</td>\n",
       "      <td> 86</td>\n",
       "      <td> 61</td>\n",
       "      <td> 74</td>\n",
       "      <td>...</td>\n",
       "      <td> 0.161548</td>\n",
       "      <td> 59.809524</td>\n",
       "      <td> 0.161548</td>\n",
       "      <td> 59.809524</td>\n",
       "      <td> 17.458104</td>\n",
       "      <td> 2008-06-11</td>\n",
       "      <td> 4100 North Oak Park Avenue, Chicago, IL 60634,...</td>\n",
       "      <td>  N OAK PARK AVE</td>\n",
       "      <td> 4100  N OAK PARK AVE, Chicago, IL</td>\n",
       "      <td>  </td>\n",
       "    </tr>\n",
       "    <tr>\n",
       "      <th>4</th>\n",
       "      <td> 6</td>\n",
       "      <td> 41</td>\n",
       "      <td> 1</td>\n",
       "      <td> 41.95469</td>\n",
       "      <td>-87.800991</td>\n",
       "      <td> 9</td>\n",
       "      <td> 1</td>\n",
       "      <td> 86</td>\n",
       "      <td> 61</td>\n",
       "      <td> 74</td>\n",
       "      <td>...</td>\n",
       "      <td> 0.161548</td>\n",
       "      <td> 59.809524</td>\n",
       "      <td> 0.161548</td>\n",
       "      <td> 59.809524</td>\n",
       "      <td> 17.051604</td>\n",
       "      <td> 2008-06-11</td>\n",
       "      <td> 4100 North Oak Park Avenue, Chicago, IL 60634,...</td>\n",
       "      <td>  N OAK PARK AVE</td>\n",
       "      <td> 4100  N OAK PARK AVE, Chicago, IL</td>\n",
       "      <td>  </td>\n",
       "    </tr>\n",
       "  </tbody>\n",
       "</table>\n",
       "<p>5 rows × 83 columns</p>\n",
       "</div>"
      ],
      "text/plain": [
       "   Species  Block  Trap  Latitude  Longitude  AddressAccuracy  Station  Tmax  \\\n",
       "0        2     41     1  41.95469 -87.800991                9        1    86   \n",
       "1        3     41     1  41.95469 -87.800991                9        1    86   \n",
       "2        1     41     1  41.95469 -87.800991                9        1    86   \n",
       "3        4     41     1  41.95469 -87.800991                9        1    86   \n",
       "4        6     41     1  41.95469 -87.800991                9        1    86   \n",
       "\n",
       "   Tmin  Tavg   ...     22_week_avrgPrecipTotal  22_week_avrgTavg  \\\n",
       "0    61    74   ...                    0.161548         59.809524   \n",
       "1    61    74   ...                    0.161548         59.809524   \n",
       "2    61    74   ...                    0.161548         59.809524   \n",
       "3    61    74   ...                    0.161548         59.809524   \n",
       "4    61    74   ...                    0.161548         59.809524   \n",
       "\n",
       "   23_week_avrgPrecipTotal  23_week_avrgTavg  NumMosquitos        Date  \\\n",
       "0                 0.161548         59.809524     24.822950  2008-06-11   \n",
       "1                 0.161548         59.809524     17.110891  2008-06-11   \n",
       "2                 0.161548         59.809524     11.984135  2008-06-11   \n",
       "3                 0.161548         59.809524     17.458104  2008-06-11   \n",
       "4                 0.161548         59.809524     17.051604  2008-06-11   \n",
       "\n",
       "                                             Address           Street  \\\n",
       "0  4100 North Oak Park Avenue, Chicago, IL 60634,...   N OAK PARK AVE   \n",
       "1  4100 North Oak Park Avenue, Chicago, IL 60634,...   N OAK PARK AVE   \n",
       "2  4100 North Oak Park Avenue, Chicago, IL 60634,...   N OAK PARK AVE   \n",
       "3  4100 North Oak Park Avenue, Chicago, IL 60634,...   N OAK PARK AVE   \n",
       "4  4100 North Oak Park Avenue, Chicago, IL 60634,...   N OAK PARK AVE   \n",
       "\n",
       "              AddressNumberAndStreet  CodeSum  \n",
       "0  4100  N OAK PARK AVE, Chicago, IL           \n",
       "1  4100  N OAK PARK AVE, Chicago, IL           \n",
       "2  4100  N OAK PARK AVE, Chicago, IL           \n",
       "3  4100  N OAK PARK AVE, Chicago, IL           \n",
       "4  4100  N OAK PARK AVE, Chicago, IL           \n",
       "\n",
       "[5 rows x 83 columns]"
      ]
     },
     "execution_count": 82,
     "metadata": {},
     "output_type": "execute_result"
    }
   ],
   "source": [
    "df_test.head()"
   ]
  },
  {
   "cell_type": "code",
   "execution_count": null,
   "metadata": {
    "collapsed": true
   },
   "outputs": [],
   "source": []
  }
 ],
 "metadata": {
  "kernelspec": {
   "display_name": "Python 3",
   "language": "python",
   "name": "python3"
  },
  "language_info": {
   "codemirror_mode": {
    "name": "ipython",
    "version": 3
   },
   "file_extension": ".py",
   "mimetype": "text/x-python",
   "name": "python",
   "nbconvert_exporter": "python",
   "pygments_lexer": "ipython3",
   "version": "3.4.3"
  }
 },
 "nbformat": 4,
 "nbformat_minor": 0
}
