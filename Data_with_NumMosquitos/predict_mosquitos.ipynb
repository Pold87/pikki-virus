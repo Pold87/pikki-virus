{
 "cells": [
  {
   "cell_type": "code",
   "execution_count": 24,
   "metadata": {
    "collapsed": true
   },
   "outputs": [],
   "source": [
    "import pandas as pd\n",
    "from sklearn.ensemble import RandomForestRegressor\n",
    "from sklearn import cross_validation, preprocessing, metrics"
   ]
  },
  {
   "cell_type": "code",
   "execution_count": 25,
   "metadata": {
    "collapsed": false
   },
   "outputs": [],
   "source": [
    "df_train = pd.read_csv('aggregated_train_with_nummosquitos.csv')# from make_aggregated_with_Nummosquitos\n",
    "#df_test = pd.read_csv('../test_filled_new.csv')\n",
    "#orig = pd.read_csv('../test_filled_new.csv')\n",
    "df_test = pd.read_csv('../test_filled_new.csv')"
   ]
  },
  {
   "cell_type": "code",
   "execution_count": 26,
   "metadata": {
    "collapsed": false
   },
   "outputs": [],
   "source": [
    "#df_train.columns,df_test.columns"
   ]
  },
  {
   "cell_type": "code",
   "execution_count": 27,
   "metadata": {
    "collapsed": false
   },
   "outputs": [
    {
     "data": {
      "text/plain": [
       "True"
      ]
     },
     "execution_count": 27,
     "metadata": {},
     "output_type": "execute_result"
    }
   ],
   "source": [
    "'Species' in df_test.columns"
   ]
  },
  {
   "cell_type": "code",
   "execution_count": 28,
   "metadata": {
    "collapsed": false
   },
   "outputs": [
    {
     "data": {
      "text/plain": [
       "['Unnamed: 0', 'NumMosquitos', 'WnvPresent']"
      ]
     },
     "execution_count": 28,
     "metadata": {},
     "output_type": "execute_result"
    }
   ],
   "source": [
    "[var for var in df_train.columns if var not in df_test.columns]"
   ]
  },
  {
   "cell_type": "code",
   "execution_count": 29,
   "metadata": {
    "collapsed": false
   },
   "outputs": [
    {
     "data": {
      "text/plain": [
       "Unnamed: 0                  int64\n",
       "Date                       object\n",
       "Address                    object\n",
       "Species                    object\n",
       "Block                       int64\n",
       "Street                     object\n",
       "Trap                       object\n",
       "AddressNumberAndStreet     object\n",
       "Latitude                  float64\n",
       "Longitude                 float64\n",
       "AddressAccuracy             int64\n",
       "NumMosquitos                int64\n",
       "WnvPresent                  int64\n",
       "Station                     int64\n",
       "Tmax                        int64\n",
       "...\n",
       "16_week_avrgTavg           float64\n",
       "17_week_avrgPrecipTotal    float64\n",
       "17_week_avrgTavg           float64\n",
       "18_week_avrgPrecipTotal    float64\n",
       "18_week_avrgTavg           float64\n",
       "19_week_avrgPrecipTotal    float64\n",
       "19_week_avrgTavg           float64\n",
       "20_week_avrgPrecipTotal    float64\n",
       "20_week_avrgTavg           float64\n",
       "21_week_avrgPrecipTotal    float64\n",
       "21_week_avrgTavg           float64\n",
       "22_week_avrgPrecipTotal    float64\n",
       "22_week_avrgTavg           float64\n",
       "23_week_avrgPrecipTotal    float64\n",
       "23_week_avrgTavg           float64\n",
       "Length: 85, dtype: object"
      ]
     },
     "execution_count": 29,
     "metadata": {},
     "output_type": "execute_result"
    }
   ],
   "source": [
    "X = df_train.copy()\n",
    "X.dtypes"
   ]
  },
  {
   "cell_type": "code",
   "execution_count": 30,
   "metadata": {
    "collapsed": false
   },
   "outputs": [
    {
     "data": {
      "text/plain": [
       "['Id']"
      ]
     },
     "execution_count": 30,
     "metadata": {},
     "output_type": "execute_result"
    }
   ],
   "source": [
    "[var for var in df_test.columns if var not in X.columns]"
   ]
  },
  {
   "cell_type": "code",
   "execution_count": 31,
   "metadata": {
    "collapsed": false
   },
   "outputs": [
    {
     "data": {
      "text/plain": [
       "array(['CULEX PIPIENS/RESTUANS', 'CULEX RESTUANS', 'CULEX PIPIENS', ...,\n",
       "       'CULEX TARSALIS', 'UNSPECIFIED CULEX', 'CULEX ERRATICUS'], dtype=object)"
      ]
     },
     "execution_count": 31,
     "metadata": {},
     "output_type": "execute_result"
    }
   ],
   "source": [
    "df_test.Species.values"
   ]
  },
  {
   "cell_type": "code",
   "execution_count": 32,
   "metadata": {
    "collapsed": false
   },
   "outputs": [
    {
     "name": "stderr",
     "output_type": "stream",
     "text": [
      "/home/thomas/anaconda3/lib/python3.4/site-packages/IPython/kernel/__main__.py:8: SettingWithCopyWarning: \n",
      "A value is trying to be set on a copy of a slice from a DataFrame\n",
      "\n",
      "See the the caveats in the documentation: http://pandas.pydata.org/pandas-docs/stable/indexing.html#indexing-view-versus-copy\n"
     ]
    }
   ],
   "source": [
    "string_features = ['Date','Address','Street','AddressNumberAndStreet','CodeSum']\n",
    "species_encoder = preprocessing.LabelEncoder()\n",
    "trap_encoder = preprocessing.LabelEncoder()\n",
    "#X_dump = X[string_features]\n",
    "df_dump = df_test[string_features]\n",
    "#X_dump = X[string_features]\n",
    "\n",
    "df_test.Species[df_test.Species == 'UNSPECIFIED CULEX'] = 'CULEX PIPIENS/RESTUANS'\n",
    "X.Species = species_encoder.fit_transform(X.Species)\n",
    "y = df_train['NumMosquitos']\n",
    "df_test.Species = species_encoder.transform(df_test.Species)\n",
    "df_train.Species = species_encoder.transform(df_train.Species)\n"
   ]
  },
  {
   "cell_type": "code",
   "execution_count": 33,
   "metadata": {
    "collapsed": true
   },
   "outputs": [],
   "source": [
    "\n",
    "df_test.Trap = trap_encoder.fit_transform(df_test.Trap)\n",
    "X.Trap = trap_encoder.transform(X.Trap)\n",
    "df_train.Trap = trap_encoder.transform(df_train.Trap)\n",
    "\n",
    "try:\n",
    " X = X.drop(string_features,axis=1)\n",
    "except:\n",
    "    pass\n",
    "try:\n",
    " df_test = df_test.drop(string_features,axis=1)\n",
    "except:\n",
    "    pass\n",
    "try:\n",
    " df_test = df_test.drop('Id',axis=1)\n",
    "except: \n",
    "    pass\n",
    "#X.head()\n",
    "try:\n",
    "    X = X.drop(['Unnamed: 0', 'NumMosquitos', 'WnvPresent'],axis=1)\n",
    "except:\n",
    "        pass"
   ]
  },
  {
   "cell_type": "code",
   "execution_count": 34,
   "metadata": {
    "collapsed": false
   },
   "outputs": [
    {
     "data": {
      "text/html": [
       "<div style=\"max-height:1000px;max-width:1500px;overflow:auto;\">\n",
       "<table border=\"1\" class=\"dataframe\">\n",
       "  <thead>\n",
       "    <tr style=\"text-align: right;\">\n",
       "      <th></th>\n",
       "      <th>Date</th>\n",
       "      <th>Address</th>\n",
       "      <th>Street</th>\n",
       "      <th>AddressNumberAndStreet</th>\n",
       "      <th>CodeSum</th>\n",
       "    </tr>\n",
       "  </thead>\n",
       "  <tbody>\n",
       "    <tr>\n",
       "      <th>0</th>\n",
       "      <td> 2008-06-11</td>\n",
       "      <td> 4100 North Oak Park Avenue, Chicago, IL 60634,...</td>\n",
       "      <td>  N OAK PARK AVE</td>\n",
       "      <td> 4100  N OAK PARK AVE, Chicago, IL</td>\n",
       "      <td>  </td>\n",
       "    </tr>\n",
       "    <tr>\n",
       "      <th>1</th>\n",
       "      <td> 2008-06-11</td>\n",
       "      <td> 4100 North Oak Park Avenue, Chicago, IL 60634,...</td>\n",
       "      <td>  N OAK PARK AVE</td>\n",
       "      <td> 4100  N OAK PARK AVE, Chicago, IL</td>\n",
       "      <td>  </td>\n",
       "    </tr>\n",
       "    <tr>\n",
       "      <th>2</th>\n",
       "      <td> 2008-06-11</td>\n",
       "      <td> 4100 North Oak Park Avenue, Chicago, IL 60634,...</td>\n",
       "      <td>  N OAK PARK AVE</td>\n",
       "      <td> 4100  N OAK PARK AVE, Chicago, IL</td>\n",
       "      <td>  </td>\n",
       "    </tr>\n",
       "    <tr>\n",
       "      <th>3</th>\n",
       "      <td> 2008-06-11</td>\n",
       "      <td> 4100 North Oak Park Avenue, Chicago, IL 60634,...</td>\n",
       "      <td>  N OAK PARK AVE</td>\n",
       "      <td> 4100  N OAK PARK AVE, Chicago, IL</td>\n",
       "      <td>  </td>\n",
       "    </tr>\n",
       "    <tr>\n",
       "      <th>4</th>\n",
       "      <td> 2008-06-11</td>\n",
       "      <td> 4100 North Oak Park Avenue, Chicago, IL 60634,...</td>\n",
       "      <td>  N OAK PARK AVE</td>\n",
       "      <td> 4100  N OAK PARK AVE, Chicago, IL</td>\n",
       "      <td>  </td>\n",
       "    </tr>\n",
       "  </tbody>\n",
       "</table>\n",
       "</div>"
      ],
      "text/plain": [
       "         Date                                            Address  \\\n",
       "0  2008-06-11  4100 North Oak Park Avenue, Chicago, IL 60634,...   \n",
       "1  2008-06-11  4100 North Oak Park Avenue, Chicago, IL 60634,...   \n",
       "2  2008-06-11  4100 North Oak Park Avenue, Chicago, IL 60634,...   \n",
       "3  2008-06-11  4100 North Oak Park Avenue, Chicago, IL 60634,...   \n",
       "4  2008-06-11  4100 North Oak Park Avenue, Chicago, IL 60634,...   \n",
       "\n",
       "            Street             AddressNumberAndStreet CodeSum  \n",
       "0   N OAK PARK AVE  4100  N OAK PARK AVE, Chicago, IL          \n",
       "1   N OAK PARK AVE  4100  N OAK PARK AVE, Chicago, IL          \n",
       "2   N OAK PARK AVE  4100  N OAK PARK AVE, Chicago, IL          \n",
       "3   N OAK PARK AVE  4100  N OAK PARK AVE, Chicago, IL          \n",
       "4   N OAK PARK AVE  4100  N OAK PARK AVE, Chicago, IL          "
      ]
     },
     "execution_count": 34,
     "metadata": {},
     "output_type": "execute_result"
    }
   ],
   "source": [
    "df_dump.head()"
   ]
  },
  {
   "cell_type": "code",
   "execution_count": 35,
   "metadata": {
    "collapsed": false
   },
   "outputs": [
    {
     "data": {
      "text/plain": [
       "Species              int64\n",
       "Block                int64\n",
       "Trap                 int64\n",
       "Latitude           float64\n",
       "Longitude          float64\n",
       "AddressAccuracy      int64\n",
       "Station              int64\n",
       "Tmax                 int64\n",
       "Tmin                 int64\n",
       "Tavg               float64\n",
       "Depart             float64\n",
       "DewPoint             int64\n",
       "WetBulb            float64\n",
       "Heat                 int64\n",
       "Cool                 int64\n",
       "...\n",
       "13_week_avrgPrecipTotal    float64\n",
       "13_week_avrgTavg           float64\n",
       "14_week_avrgPrecipTotal    float64\n",
       "14_week_avrgTavg           float64\n",
       "15_week_avrgPrecipTotal    float64\n",
       "15_week_avrgTavg           float64\n",
       "16_week_avrgPrecipTotal    float64\n",
       "16_week_avrgTavg           float64\n",
       "17_week_avrgPrecipTotal    float64\n",
       "17_week_avrgTavg           float64\n",
       "18_week_avrgPrecipTotal    float64\n",
       "18_week_avrgTavg           float64\n",
       "19_week_avrgPrecipTotal    float64\n",
       "19_week_avrgTavg           float64\n",
       "20_week_avrgPrecipTotal    float64\n",
       "Length: 70, dtype: object"
      ]
     },
     "execution_count": 35,
     "metadata": {},
     "output_type": "execute_result"
    }
   ],
   "source": [
    "X.dtypes[:70]"
   ]
  },
  {
   "cell_type": "code",
   "execution_count": 36,
   "metadata": {
    "collapsed": false
   },
   "outputs": [
    {
     "data": {
      "text/plain": [
       "[]"
      ]
     },
     "execution_count": 36,
     "metadata": {},
     "output_type": "execute_result"
    }
   ],
   "source": [
    "[var for var in X.columns if var not in df_test.columns]"
   ]
  },
  {
   "cell_type": "code",
   "execution_count": 37,
   "metadata": {
    "collapsed": false
   },
   "outputs": [
    {
     "data": {
      "text/plain": [
       "[]"
      ]
     },
     "execution_count": 37,
     "metadata": {},
     "output_type": "execute_result"
    }
   ],
   "source": [
    "[var for var in df_test.columns if var not in X.columns]"
   ]
  },
  {
   "cell_type": "code",
   "execution_count": 38,
   "metadata": {
    "collapsed": false
   },
   "outputs": [],
   "source": [
    "clf = RandomForestRegressor(n_estimators=100,n_jobs=-1)"
   ]
  },
  {
   "cell_type": "code",
   "execution_count": 39,
   "metadata": {
    "collapsed": true
   },
   "outputs": [],
   "source": [
    "from sklearn.cross_validation import train_test_split, ShuffleSplit,cross_val_score\n",
    "from sklearn.metrics import mean_squared_error"
   ]
  },
  {
   "cell_type": "code",
   "execution_count": 40,
   "metadata": {
    "collapsed": true
   },
   "outputs": [],
   "source": [
    "cv = ShuffleSplit(len(X))"
   ]
  },
  {
   "cell_type": "code",
   "execution_count": 41,
   "metadata": {
    "collapsed": false
   },
   "outputs": [
    {
     "ename": "JoblibValueError",
     "evalue": "JoblibValueError\n___________________________________________________________________________\nMultiprocessing exception:\n    ...........................................................................\n/home/thomas/anaconda3/lib/python3.4/runpy.py in _run_module_as_main(mod_name='IPython.kernel.__main__', alter_argv=1)\n    165         sys.exit(msg)\n    166     main_globals = sys.modules[\"__main__\"].__dict__\n    167     if alter_argv:\n    168         sys.argv[0] = mod_spec.origin\n    169     return _run_code(code, main_globals, None,\n--> 170                      \"__main__\", mod_spec)\n        mod_spec = ModuleSpec(name='IPython.kernel.__main__', loade...hon3.4/site-packages/IPython/kernel/__main__.py')\n    171 \n    172 def run_module(mod_name, init_globals=None,\n    173                run_name=None, alter_sys=False):\n    174     \"\"\"Execute a module's code without importing it\n\n...........................................................................\n/home/thomas/anaconda3/lib/python3.4/runpy.py in _run_code(code=<code object <module> at 0x7f51b44cca50, file \"/...ite-packages/IPython/kernel/__main__.py\", line 1>, run_globals={'__builtins__': <module 'builtins' (built-in)>, '__cached__': '/home/thomas/anaconda3/lib/python3.4/site-packag...Python/kernel/__pycache__/__main__.cpython-34.pyc', '__doc__': None, '__file__': '/home/thomas/anaconda3/lib/python3.4/site-packages/IPython/kernel/__main__.py', '__loader__': <_frozen_importlib.SourceFileLoader object>, '__name__': '__main__', '__package__': 'IPython.kernel', '__spec__': ModuleSpec(name='IPython.kernel.__main__', loade...hon3.4/site-packages/IPython/kernel/__main__.py'), 'app': <module 'IPython.kernel.zmq.kernelapp' from '/ho...4/site-packages/IPython/kernel/zmq/kernelapp.py'>}, init_globals=None, mod_name='__main__', mod_spec=ModuleSpec(name='IPython.kernel.__main__', loade...hon3.4/site-packages/IPython/kernel/__main__.py'), pkg_name='IPython.kernel', script_name=None)\n     80                        __cached__ = cached,\n     81                        __doc__ = None,\n     82                        __loader__ = loader,\n     83                        __package__ = pkg_name,\n     84                        __spec__ = mod_spec)\n---> 85     exec(code, run_globals)\n        code = <code object <module> at 0x7f51b44cca50, file \"/...ite-packages/IPython/kernel/__main__.py\", line 1>\n        run_globals = {'__builtins__': <module 'builtins' (built-in)>, '__cached__': '/home/thomas/anaconda3/lib/python3.4/site-packag...Python/kernel/__pycache__/__main__.cpython-34.pyc', '__doc__': None, '__file__': '/home/thomas/anaconda3/lib/python3.4/site-packages/IPython/kernel/__main__.py', '__loader__': <_frozen_importlib.SourceFileLoader object>, '__name__': '__main__', '__package__': 'IPython.kernel', '__spec__': ModuleSpec(name='IPython.kernel.__main__', loade...hon3.4/site-packages/IPython/kernel/__main__.py'), 'app': <module 'IPython.kernel.zmq.kernelapp' from '/ho...4/site-packages/IPython/kernel/zmq/kernelapp.py'>}\n     86     return run_globals\n     87 \n     88 def _run_module_code(code, init_globals=None,\n     89                     mod_name=None, mod_spec=None,\n\n...........................................................................\n/home/thomas/anaconda3/lib/python3.4/site-packages/IPython/kernel/__main__.py in <module>()\n      1 \n      2 \n----> 3 \n      4 if __name__ == '__main__':\n      5     from IPython.kernel.zmq import kernelapp as app\n      6     app.launch_new_instance()\n      7 \n      8 \n      9 \n     10 \n\n...........................................................................\n/home/thomas/anaconda3/lib/python3.4/site-packages/IPython/config/application.py in launch_instance(cls=<class 'IPython.kernel.zmq.kernelapp.IPKernelApp'>, argv=None, **kwargs={})\n    569         \n    570         If a global instance already exists, this reinitializes and starts it\n    571         \"\"\"\n    572         app = cls.instance(**kwargs)\n    573         app.initialize(argv)\n--> 574         app.start()\n        app.start = <bound method IPKernelApp.start of <IPython.kernel.zmq.kernelapp.IPKernelApp object>>\n    575 \n    576 #-----------------------------------------------------------------------------\n    577 # utility functions, for convenience\n    578 #-----------------------------------------------------------------------------\n\n...........................................................................\n/home/thomas/anaconda3/lib/python3.4/site-packages/IPython/kernel/zmq/kernelapp.py in start(self=<IPython.kernel.zmq.kernelapp.IPKernelApp object>)\n    369     def start(self):\n    370         if self.poller is not None:\n    371             self.poller.start()\n    372         self.kernel.start()\n    373         try:\n--> 374             ioloop.IOLoop.instance().start()\n    375         except KeyboardInterrupt:\n    376             pass\n    377 \n    378 launch_new_instance = IPKernelApp.launch_instance\n\n...........................................................................\n/home/thomas/anaconda3/lib/python3.4/site-packages/zmq/eventloop/ioloop.py in start(self=<zmq.eventloop.ioloop.ZMQIOLoop object>)\n    146             PollIOLoop.configure(ZMQIOLoop)\n    147         return PollIOLoop.instance()\n    148     \n    149     def start(self):\n    150         try:\n--> 151             super(ZMQIOLoop, self).start()\n        self.start = <bound method ZMQIOLoop.start of <zmq.eventloop.ioloop.ZMQIOLoop object>>\n    152         except ZMQError as e:\n    153             if e.errno == ETERM:\n    154                 # quietly return on ETERM\n    155                 pass\n\n...........................................................................\n/home/thomas/anaconda3/lib/python3.4/site-packages/tornado/ioloop.py in start(self=<zmq.eventloop.ioloop.ZMQIOLoop object>)\n    835                 self._events.update(event_pairs)\n    836                 while self._events:\n    837                     fd, events = self._events.popitem()\n    838                     try:\n    839                         fd_obj, handler_func = self._handlers[fd]\n--> 840                         handler_func(fd_obj, events)\n        handler_func = <function wrap.<locals>.null_wrapper>\n        fd_obj = <zmq.sugar.socket.Socket object>\n        events = 1\n    841                     except (OSError, IOError) as e:\n    842                         if errno_from_exception(e) == errno.EPIPE:\n    843                             # Happens when the client closes the connection\n    844                             pass\n\n...........................................................................\n/home/thomas/anaconda3/lib/python3.4/site-packages/tornado/stack_context.py in null_wrapper(*args=(<zmq.sugar.socket.Socket object>, 1), **kwargs={})\n    270         # Fast path when there are no active contexts.\n    271         def null_wrapper(*args, **kwargs):\n    272             try:\n    273                 current_state = _state.contexts\n    274                 _state.contexts = cap_contexts[0]\n--> 275                 return fn(*args, **kwargs)\n        args = (<zmq.sugar.socket.Socket object>, 1)\n        kwargs = {}\n    276             finally:\n    277                 _state.contexts = current_state\n    278         null_wrapper._wrapped = True\n    279         return null_wrapper\n\n...........................................................................\n/home/thomas/anaconda3/lib/python3.4/site-packages/zmq/eventloop/zmqstream.py in _handle_events(self=<zmq.eventloop.zmqstream.ZMQStream object>, fd=<zmq.sugar.socket.Socket object>, events=1)\n    428             # dispatch events:\n    429             if events & IOLoop.ERROR:\n    430                 gen_log.error(\"got POLLERR event on ZMQStream, which doesn't make sense\")\n    431                 return\n    432             if events & IOLoop.READ:\n--> 433                 self._handle_recv()\n        self._handle_recv = <bound method ZMQStream._handle_recv of <zmq.eventloop.zmqstream.ZMQStream object>>\n    434                 if not self.socket:\n    435                     return\n    436             if events & IOLoop.WRITE:\n    437                 self._handle_send()\n\n...........................................................................\n/home/thomas/anaconda3/lib/python3.4/site-packages/zmq/eventloop/zmqstream.py in _handle_recv(self=<zmq.eventloop.zmqstream.ZMQStream object>)\n    460                 gen_log.error(\"RECV Error: %s\"%zmq.strerror(e.errno))\n    461         else:\n    462             if self._recv_callback:\n    463                 callback = self._recv_callback\n    464                 # self._recv_callback = None\n--> 465                 self._run_callback(callback, msg)\n        self._run_callback = <bound method ZMQStream._run_callback of <zmq.eventloop.zmqstream.ZMQStream object>>\n        callback = <function wrap.<locals>.null_wrapper>\n        msg = [<zmq.sugar.frame.Frame object>, <zmq.sugar.frame.Frame object>, <zmq.sugar.frame.Frame object>, <zmq.sugar.frame.Frame object>, <zmq.sugar.frame.Frame object>, <zmq.sugar.frame.Frame object>, <zmq.sugar.frame.Frame object>]\n    466                 \n    467         # self.update_state()\n    468         \n    469 \n\n...........................................................................\n/home/thomas/anaconda3/lib/python3.4/site-packages/zmq/eventloop/zmqstream.py in _run_callback(self=<zmq.eventloop.zmqstream.ZMQStream object>, callback=<function wrap.<locals>.null_wrapper>, *args=([<zmq.sugar.frame.Frame object>, <zmq.sugar.frame.Frame object>, <zmq.sugar.frame.Frame object>, <zmq.sugar.frame.Frame object>, <zmq.sugar.frame.Frame object>, <zmq.sugar.frame.Frame object>, <zmq.sugar.frame.Frame object>],), **kwargs={})\n    402         close our socket.\"\"\"\n    403         try:\n    404             # Use a NullContext to ensure that all StackContexts are run\n    405             # inside our blanket exception handler rather than outside.\n    406             with stack_context.NullContext():\n--> 407                 callback(*args, **kwargs)\n        callback = <function wrap.<locals>.null_wrapper>\n        args = ([<zmq.sugar.frame.Frame object>, <zmq.sugar.frame.Frame object>, <zmq.sugar.frame.Frame object>, <zmq.sugar.frame.Frame object>, <zmq.sugar.frame.Frame object>, <zmq.sugar.frame.Frame object>, <zmq.sugar.frame.Frame object>],)\n        kwargs = {}\n    408         except:\n    409             gen_log.error(\"Uncaught exception, closing connection.\",\n    410                           exc_info=True)\n    411             # Close the socket on an uncaught exception from a user callback\n\n...........................................................................\n/home/thomas/anaconda3/lib/python3.4/site-packages/tornado/stack_context.py in null_wrapper(*args=([<zmq.sugar.frame.Frame object>, <zmq.sugar.frame.Frame object>, <zmq.sugar.frame.Frame object>, <zmq.sugar.frame.Frame object>, <zmq.sugar.frame.Frame object>, <zmq.sugar.frame.Frame object>, <zmq.sugar.frame.Frame object>],), **kwargs={})\n    270         # Fast path when there are no active contexts.\n    271         def null_wrapper(*args, **kwargs):\n    272             try:\n    273                 current_state = _state.contexts\n    274                 _state.contexts = cap_contexts[0]\n--> 275                 return fn(*args, **kwargs)\n        args = ([<zmq.sugar.frame.Frame object>, <zmq.sugar.frame.Frame object>, <zmq.sugar.frame.Frame object>, <zmq.sugar.frame.Frame object>, <zmq.sugar.frame.Frame object>, <zmq.sugar.frame.Frame object>, <zmq.sugar.frame.Frame object>],)\n        kwargs = {}\n    276             finally:\n    277                 _state.contexts = current_state\n    278         null_wrapper._wrapped = True\n    279         return null_wrapper\n\n...........................................................................\n/home/thomas/anaconda3/lib/python3.4/site-packages/IPython/kernel/zmq/kernelbase.py in dispatcher(msg=[<zmq.sugar.frame.Frame object>, <zmq.sugar.frame.Frame object>, <zmq.sugar.frame.Frame object>, <zmq.sugar.frame.Frame object>, <zmq.sugar.frame.Frame object>, <zmq.sugar.frame.Frame object>, <zmq.sugar.frame.Frame object>])\n    247         if self.control_stream:\n    248             self.control_stream.on_recv(self.dispatch_control, copy=False)\n    249 \n    250         def make_dispatcher(stream):\n    251             def dispatcher(msg):\n--> 252                 return self.dispatch_shell(stream, msg)\n        msg = [<zmq.sugar.frame.Frame object>, <zmq.sugar.frame.Frame object>, <zmq.sugar.frame.Frame object>, <zmq.sugar.frame.Frame object>, <zmq.sugar.frame.Frame object>, <zmq.sugar.frame.Frame object>, <zmq.sugar.frame.Frame object>]\n    253             return dispatcher\n    254 \n    255         for s in self.shell_streams:\n    256             s.on_recv(make_dispatcher(s), copy=False)\n\n...........................................................................\n/home/thomas/anaconda3/lib/python3.4/site-packages/IPython/kernel/zmq/kernelbase.py in dispatch_shell(self=<IPython.kernel.zmq.ipkernel.IPythonKernel object>, stream=<zmq.eventloop.zmqstream.ZMQStream object>, msg={'buffers': [], 'content': {'allow_stdin': True, 'code': 'cross_val_score(clf,X,y,cv=cv,n_jobs=-1,scoring = mean_squared_error)', 'silent': False, 'stop_on_error': True, 'store_history': True, 'user_expressions': {}}, 'header': {'msg_id': '1730381183374D0794422DB078448813', 'msg_type': 'execute_request', 'session': '355529FF92BA4097BA3DBA29A9909DE6', 'username': 'username', 'version': '5.0'}, 'metadata': {}, 'msg_id': '1730381183374D0794422DB078448813', 'msg_type': 'execute_request', 'parent_header': {}})\n    208         else:\n    209             # ensure default_int_handler during handler call\n    210             sig = signal(SIGINT, default_int_handler)\n    211             self.log.debug(\"%s: %s\", msg_type, msg)\n    212             try:\n--> 213                 handler(stream, idents, msg)\n        handler = <bound method IPythonKernel.execute_request of <IPython.kernel.zmq.ipkernel.IPythonKernel object>>\n        stream = <zmq.eventloop.zmqstream.ZMQStream object>\n        idents = [b'355529FF92BA4097BA3DBA29A9909DE6']\n        msg = {'buffers': [], 'content': {'allow_stdin': True, 'code': 'cross_val_score(clf,X,y,cv=cv,n_jobs=-1,scoring = mean_squared_error)', 'silent': False, 'stop_on_error': True, 'store_history': True, 'user_expressions': {}}, 'header': {'msg_id': '1730381183374D0794422DB078448813', 'msg_type': 'execute_request', 'session': '355529FF92BA4097BA3DBA29A9909DE6', 'username': 'username', 'version': '5.0'}, 'metadata': {}, 'msg_id': '1730381183374D0794422DB078448813', 'msg_type': 'execute_request', 'parent_header': {}}\n    214             except Exception:\n    215                 self.log.error(\"Exception in message handler:\", exc_info=True)\n    216             finally:\n    217                 signal(SIGINT, sig)\n\n...........................................................................\n/home/thomas/anaconda3/lib/python3.4/site-packages/IPython/kernel/zmq/kernelbase.py in execute_request(self=<IPython.kernel.zmq.ipkernel.IPythonKernel object>, stream=<zmq.eventloop.zmqstream.ZMQStream object>, ident=[b'355529FF92BA4097BA3DBA29A9909DE6'], parent={'buffers': [], 'content': {'allow_stdin': True, 'code': 'cross_val_score(clf,X,y,cv=cv,n_jobs=-1,scoring = mean_squared_error)', 'silent': False, 'stop_on_error': True, 'store_history': True, 'user_expressions': {}}, 'header': {'msg_id': '1730381183374D0794422DB078448813', 'msg_type': 'execute_request', 'session': '355529FF92BA4097BA3DBA29A9909DE6', 'username': 'username', 'version': '5.0'}, 'metadata': {}, 'msg_id': '1730381183374D0794422DB078448813', 'msg_type': 'execute_request', 'parent_header': {}})\n    357         if not silent:\n    358             self.execution_count += 1\n    359             self._publish_execute_input(code, parent, self.execution_count)\n    360         \n    361         reply_content = self.do_execute(code, silent, store_history,\n--> 362                                         user_expressions, allow_stdin)\n        user_expressions = {}\n        allow_stdin = True\n    363 \n    364         # Flush output before sending the reply.\n    365         sys.stdout.flush()\n    366         sys.stderr.flush()\n\n...........................................................................\n/home/thomas/anaconda3/lib/python3.4/site-packages/IPython/kernel/zmq/ipkernel.py in do_execute(self=<IPython.kernel.zmq.ipkernel.IPythonKernel object>, code='cross_val_score(clf,X,y,cv=cv,n_jobs=-1,scoring = mean_squared_error)', silent=False, store_history=True, user_expressions={}, allow_stdin=True)\n    176 \n    177         reply_content = {}\n    178         # FIXME: the shell calls the exception handler itself.\n    179         shell._reply_content = None\n    180         try:\n--> 181             shell.run_cell(code, store_history=store_history, silent=silent)\n        shell.run_cell = <bound method ZMQInteractiveShell.run_cell of <I....kernel.zmq.zmqshell.ZMQInteractiveShell object>>\n        code = 'cross_val_score(clf,X,y,cv=cv,n_jobs=-1,scoring = mean_squared_error)'\n        store_history = True\n        silent = False\n    182         except:\n    183             status = u'error'\n    184             # FIXME: this code right now isn't being used yet by default,\n    185             # because the run_cell() call above directly fires off exception\n\n...........................................................................\n/home/thomas/anaconda3/lib/python3.4/site-packages/IPython/core/interactiveshell.py in run_cell(self=<IPython.kernel.zmq.zmqshell.ZMQInteractiveShell object>, raw_cell='cross_val_score(clf,X,y,cv=cv,n_jobs=-1,scoring = mean_squared_error)', store_history=True, silent=False, shell_futures=True)\n   2863                 self.displayhook.exec_result = result\n   2864 \n   2865                 # Execute the user code\n   2866                 interactivity = \"none\" if silent else self.ast_node_interactivity\n   2867                 self.run_ast_nodes(code_ast.body, cell_name,\n-> 2868                    interactivity=interactivity, compiler=compiler, result=result)\n        interactivity = 'last_expr'\n        compiler = <IPython.core.compilerop.CachingCompiler object>\n   2869 \n   2870                 # Reset this so later displayed values do not modify the\n   2871                 # ExecutionResult\n   2872                 self.displayhook.exec_result = None\n\n...........................................................................\n/home/thomas/anaconda3/lib/python3.4/site-packages/IPython/core/interactiveshell.py in run_ast_nodes(self=<IPython.kernel.zmq.zmqshell.ZMQInteractiveShell object>, nodelist=[<_ast.Expr object>], cell_name='<ipython-input-41-ed08852d112f>', interactivity='last', compiler=<IPython.core.compilerop.CachingCompiler object>, result=<IPython.core.interactiveshell.ExecutionResult object>)\n   2973                     return True\n   2974 \n   2975             for i, node in enumerate(to_run_interactive):\n   2976                 mod = ast.Interactive([node])\n   2977                 code = compiler(mod, cell_name, \"single\")\n-> 2978                 if self.run_code(code, result):\n        self.run_code = <bound method ZMQInteractiveShell.run_code of <I....kernel.zmq.zmqshell.ZMQInteractiveShell object>>\n        code = <code object <module> at 0x7f51a9b0db70, file \"<ipython-input-41-ed08852d112f>\", line 1>\n        result = <IPython.core.interactiveshell.ExecutionResult object>\n   2979                     return True\n   2980 \n   2981             # Flush softspace\n   2982             if softspace(sys.stdout, 0):\n\n...........................................................................\n/home/thomas/anaconda3/lib/python3.4/site-packages/IPython/core/interactiveshell.py in run_code(self=<IPython.kernel.zmq.zmqshell.ZMQInteractiveShell object>, code_obj=<code object <module> at 0x7f51a9b0db70, file \"<ipython-input-41-ed08852d112f>\", line 1>, result=<IPython.core.interactiveshell.ExecutionResult object>)\n   3027         outflag = 1  # happens in more places, so it's easier as default\n   3028         try:\n   3029             try:\n   3030                 self.hooks.pre_run_code_hook()\n   3031                 #rprint('Running code', repr(code_obj)) # dbg\n-> 3032                 exec(code_obj, self.user_global_ns, self.user_ns)\n        code_obj = <code object <module> at 0x7f51a9b0db70, file \"<ipython-input-41-ed08852d112f>\", line 1>\n        self.user_global_ns = {'In': ['', 'import pandas as pd\\nfrom sklearn.ensemble import...n import cross_validation, preprocessing, metrics', \"df_train = pd.read_csv('aggregated_train_with_nu...)\\ndf_test = pd.read_csv('../test_filled_new.csv')\", '#df_train.columns,df_test.columns', \"'Species' in df_test.columns\", '[var for var in df_train.columns if var not in df_test.columns]', 'X = df_train.copy()\\nX.dtypes', '[var for var in df_test.columns if var not in X.columns]', 'df_test.Species.values', \"string_features = ['Date','Address','Street','Ad...ies = species_encoder.transform(df_train.Species)\", \"\\ndf_test.Trap = trap_encoder.fit_transform(df_te...itos', 'WnvPresent'],axis=1)\\nexcept:\\n        pass\", 'df_dump.head()', 'X.dtypes[:70]', '[var for var in X.columns if var not in df_test.columns]', '[var for var in df_test.columns if var not in X.columns]', 'clf = RandomForestRegressor(n_estimators=1000,n_jobs=-1)', 'from sklearn.cross_validation import train_test_...re\\nfrom sklearn.metrics import mean_squared_error', 'cv = ShuffleSplit(len(X))', 'cross_val_score(clf,X,y,cv=cv,n_jobs=-1,scoring = roc_auc_score)', 'cross_val_score(clf,X,y,cv=cv,n_jobs=-1,scoring = mean_squared_error)', ...], 'Out': {4: True, 5: ['Unnamed: 0', 'NumMosquitos', 'WnvPresent'], 6: Unnamed: 0                  int64\nDate          ...gTavg           float64\nLength: 85, dtype: object, 7: ['Id'], 8: array(['CULEX PIPIENS/RESTUANS', 'CULEX RESTUANS...IENS/RESTUANS', 'CULEX ERRATICUS'], dtype=object), 11:          Date                                   ... AVE  4100  N OAK PARK AVE, Chicago, IL          , 12: Species              int64\nBlock                ...gPrecipTotal    float64\nLength: 70, dtype: object, 13: [], 14: [], 27: True, ...}, 'RandomForestRegressor': <class 'sklearn.ensemble.forest.RandomForestRegressor'>, 'ShuffleSplit': <class 'sklearn.cross_validation.ShuffleSplit'>, 'X':        Species  Block  Trap   Latitude  Longitud...91         70.442177  \n\n[10506 rows x 77 columns], '_': [], '_11':          Date                                   ... AVE  4100  N OAK PARK AVE, Chicago, IL          , '_12': Species              int64\nBlock                ...gPrecipTotal    float64\nLength: 70, dtype: object, '_13': [], '_14': [], ...}\n        self.user_ns = {'In': ['', 'import pandas as pd\\nfrom sklearn.ensemble import...n import cross_validation, preprocessing, metrics', \"df_train = pd.read_csv('aggregated_train_with_nu...)\\ndf_test = pd.read_csv('../test_filled_new.csv')\", '#df_train.columns,df_test.columns', \"'Species' in df_test.columns\", '[var for var in df_train.columns if var not in df_test.columns]', 'X = df_train.copy()\\nX.dtypes', '[var for var in df_test.columns if var not in X.columns]', 'df_test.Species.values', \"string_features = ['Date','Address','Street','Ad...ies = species_encoder.transform(df_train.Species)\", \"\\ndf_test.Trap = trap_encoder.fit_transform(df_te...itos', 'WnvPresent'],axis=1)\\nexcept:\\n        pass\", 'df_dump.head()', 'X.dtypes[:70]', '[var for var in X.columns if var not in df_test.columns]', '[var for var in df_test.columns if var not in X.columns]', 'clf = RandomForestRegressor(n_estimators=1000,n_jobs=-1)', 'from sklearn.cross_validation import train_test_...re\\nfrom sklearn.metrics import mean_squared_error', 'cv = ShuffleSplit(len(X))', 'cross_val_score(clf,X,y,cv=cv,n_jobs=-1,scoring = roc_auc_score)', 'cross_val_score(clf,X,y,cv=cv,n_jobs=-1,scoring = mean_squared_error)', ...], 'Out': {4: True, 5: ['Unnamed: 0', 'NumMosquitos', 'WnvPresent'], 6: Unnamed: 0                  int64\nDate          ...gTavg           float64\nLength: 85, dtype: object, 7: ['Id'], 8: array(['CULEX PIPIENS/RESTUANS', 'CULEX RESTUANS...IENS/RESTUANS', 'CULEX ERRATICUS'], dtype=object), 11:          Date                                   ... AVE  4100  N OAK PARK AVE, Chicago, IL          , 12: Species              int64\nBlock                ...gPrecipTotal    float64\nLength: 70, dtype: object, 13: [], 14: [], 27: True, ...}, 'RandomForestRegressor': <class 'sklearn.ensemble.forest.RandomForestRegressor'>, 'ShuffleSplit': <class 'sklearn.cross_validation.ShuffleSplit'>, 'X':        Species  Block  Trap   Latitude  Longitud...91         70.442177  \n\n[10506 rows x 77 columns], '_': [], '_11':          Date                                   ... AVE  4100  N OAK PARK AVE, Chicago, IL          , '_12': Species              int64\nBlock                ...gPrecipTotal    float64\nLength: 70, dtype: object, '_13': [], '_14': [], ...}\n   3033             finally:\n   3034                 # Reset our crash handler in place\n   3035                 sys.excepthook = old_excepthook\n   3036         except SystemExit as e:\n\n...........................................................................\n/home/thomas/Desktop/pikki virus/pikki-virus/Data_with_NumMosquitos/<ipython-input-41-ed08852d112f> in <module>()\n----> 1 \n      2 \n      3 \n      4 \n      5 \n      6 cross_val_score(clf,X,y,cv=cv,n_jobs=-1,scoring = mean_squared_error)\n      7 \n      8 \n      9 \n     10 \n\n...........................................................................\n/home/thomas/anaconda3/lib/python3.4/site-packages/sklearn/cross_validation.py in cross_val_score(estimator=RandomForestRegressor(bootstrap=True, compute_im...   oob_score=False, random_state=None, verbose=0), X=array([[  2.00000000e+00,   4.10000000e+01,   1....421769e+01,   9.36912752e-02,   7.04421769e+01]]), y=array([1, 1, 1, ..., 1, 5, 1]), scoring=<function mean_squared_error>, cv=ShuffleSplit(10506, n_iter=10, test_size=0.1, random_state=None), n_jobs=-1, verbose=0, fit_params=None, score_func=None, pre_dispatch='2*n_jobs')\n   1146     parallel = Parallel(n_jobs=n_jobs, verbose=verbose,\n   1147                         pre_dispatch=pre_dispatch)\n   1148     scores = parallel(delayed(_fit_and_score)(clone(estimator), X, y, scorer,\n   1149                                               train, test, verbose, None,\n   1150                                               fit_params)\n-> 1151                       for train, test in cv)\n        cv = ShuffleSplit(10506, n_iter=10, test_size=0.1, random_state=None)\n   1152     return np.array(scores)[:, 0]\n   1153 \n   1154 \n   1155 def _fit_and_score(estimator, X, y, scorer, train, test, verbose, parameters,\n\n...........................................................................\n/home/thomas/anaconda3/lib/python3.4/site-packages/sklearn/externals/joblib/parallel.py in __call__(self=Parallel(n_jobs=-1), iterable=<itertools.islice object>)\n    655             if pre_dispatch == \"all\" or n_jobs == 1:\n    656                 # The iterable was consumed all at once by the above for loop.\n    657                 # No need to wait for async callbacks to trigger to\n    658                 # consumption.\n    659                 self._iterating = False\n--> 660             self.retrieve()\n        self.retrieve = <bound method Parallel.retrieve of Parallel(n_jobs=-1)>\n    661             # Make sure that we get a last message telling us we are done\n    662             elapsed_time = time.time() - self._start_time\n    663             self._print('Done %3i out of %3i | elapsed: %s finished',\n    664                         (len(self._output),\n\n    ---------------------------------------------------------------------------\n    Sub-process traceback:\n    ---------------------------------------------------------------------------\n    ValueError                                         Tue Jun  2 22:17:17 2015\nPID: 8326                  Python 3.4.3: /home/thomas/anaconda3/bin/python3\n...........................................................................\n/home/thomas/anaconda3/lib/python3.4/site-packages/sklearn/cross_validation.py in _fit_and_score(estimator=RandomForestRegressor(bootstrap=True, compute_im...   oob_score=False, random_state=None, verbose=0), X=array([[  2.00000000e+00,   4.10000000e+01,   1....421769e+01,   9.36912752e-02,   7.04421769e+01]]), y=array([1, 1, 1, ..., 1, 5, 1]), scorer=<function mean_squared_error>, train=array([1312, 7127, 6163, ..., 4037, 9113, 8953]), test=array([4092, 3446, 1790, ...,  723, 1491, 2663]), verbose=0, parameters=None, fit_params={}, return_train_score=False, return_parameters=False)\n   1235     X_test, y_test = _safe_split(estimator, X, y, test, train)\n   1236     if y_train is None:\n   1237         estimator.fit(X_train, **fit_params)\n   1238     else:\n   1239         estimator.fit(X_train, y_train, **fit_params)\n-> 1240     test_score = _score(estimator, X_test, y_test, scorer)\n        test_score = undefined\n        estimator = RandomForestRegressor(bootstrap=True, compute_im...   oob_score=False, random_state=None, verbose=0)\n        X_test = array([[  1.        ,  11.        ,  38.        ...2.09565217,\n          0.14270465,  72.09565217]])\n        y_test = array([29,  1, 17, ...,  1, 41,  6])\n        scorer = <function mean_squared_error>\n   1241     if return_train_score:\n   1242         train_score = _score(estimator, X_train, y_train, scorer)\n   1243 \n   1244     scoring_time = time.time() - start_time\n\n...........................................................................\n/home/thomas/anaconda3/lib/python3.4/site-packages/sklearn/cross_validation.py in _score(estimator=RandomForestRegressor(bootstrap=True, compute_im...   oob_score=False, random_state=None, verbose=0), X_test=array([[  1.        ,  11.        ,  38.        ...2.09565217,\n          0.14270465,  72.09565217]]), y_test=array([29,  1, 17, ...,  1, 41,  6]), scorer=<function mean_squared_error>)\n   1291 def _score(estimator, X_test, y_test, scorer):\n   1292     \"\"\"Compute the score of an estimator on a given test set.\"\"\"\n   1293     if y_test is None:\n   1294         score = scorer(estimator, X_test)\n   1295     else:\n-> 1296         score = scorer(estimator, X_test, y_test)\n        score = undefined\n        scorer = <function mean_squared_error>\n        estimator = RandomForestRegressor(bootstrap=True, compute_im...   oob_score=False, random_state=None, verbose=0)\n        X_test = array([[  1.        ,  11.        ,  38.        ...2.09565217,\n          0.14270465,  72.09565217]])\n        y_test = array([29,  1, 17, ...,  1, 41,  6])\n   1297     if not isinstance(score, numbers.Number):\n   1298         raise ValueError(\"scoring must return a number, got %s (%s) instead.\"\n   1299                          % (str(score), type(score)))\n   1300     return score\n\n...........................................................................\n/home/thomas/anaconda3/lib/python3.4/site-packages/sklearn/metrics/metrics.py in mean_squared_error(y_true=RandomForestRegressor(bootstrap=True, compute_im...   oob_score=False, random_state=None, verbose=0), y_pred=array([[  1.        ,  11.        ,  38.        ...2.09565217,\n          0.14270465,  72.09565217]]), sample_weight=array([29,  1, 17, ...,  1, 41,  6]))\n   2214     >>> y_pred = [[0, 2],[-1, 2],[8, -5]]\n   2215     >>> mean_squared_error(y_true, y_pred)  # doctest: +ELLIPSIS\n   2216     0.708...\n   2217 \n   2218     \"\"\"\n-> 2219     y_type, y_true, y_pred = _check_reg_targets(y_true, y_pred)\n        y_type = undefined\n        y_true = RandomForestRegressor(bootstrap=True, compute_im...   oob_score=False, random_state=None, verbose=0)\n        y_pred = array([[  1.        ,  11.        ,  38.        ...2.09565217,\n          0.14270465,  72.09565217]])\n   2220     return np.average(((y_pred - y_true) ** 2).mean(axis=1),\n   2221                       weights=sample_weight)\n   2222 \n   2223 \n\n...........................................................................\n/home/thomas/anaconda3/lib/python3.4/site-packages/sklearn/metrics/metrics.py in _check_reg_targets(y_true=RandomForestRegressor(bootstrap=True, compute_im...   oob_score=False, random_state=None, verbose=0), y_pred=array([[  1.        ,  11.        ,  38.        ...2.09565217,\n          0.14270465,  72.09565217]]))\n     60         Ground truth (correct) target values.\n     61 \n     62     y_pred : array-like of shape = [n_samples, n_outputs]\n     63         Estimated target values.\n     64     \"\"\"\n---> 65     y_true, y_pred = check_arrays(y_true, y_pred)\n        y_true = RandomForestRegressor(bootstrap=True, compute_im...   oob_score=False, random_state=None, verbose=0)\n        y_pred = array([[  1.        ,  11.        ,  38.        ...2.09565217,\n          0.14270465,  72.09565217]])\n     66 \n     67     if y_true.ndim == 1:\n     68         y_true = y_true.reshape((-1, 1))\n     69 \n\n...........................................................................\n/home/thomas/anaconda3/lib/python3.4/site-packages/sklearn/utils/validation.py in check_arrays(*arrays=(RandomForestRegressor(bootstrap=True, compute_im...   oob_score=False, random_state=None, verbose=0), array([[  1.        ,  11.        ,  38.        ...2.09565217,\n          0.14270465,  72.09565217]])), **options={})\n    249             continue\n    250         size = _num_samples(array)\n    251 \n    252         if size != n_samples:\n    253             raise ValueError(\"Found array with dim %d. Expected %d\"\n--> 254                              % (size, n_samples))\n        size = 1051\n        n_samples = 100\n    255 \n    256         if not allow_lists or hasattr(array, \"shape\"):\n    257             if sp.issparse(array):\n    258                 if sparse_format == 'csr':\n\nValueError: Found array with dim 1051. Expected 100\n___________________________________________________________________________",
     "output_type": "error",
     "traceback": [
      "\u001b[1;31m---------------------------------------------------------------------------\u001b[0m",
      "\u001b[1;31mRemoteTraceback\u001b[0m                           Traceback (most recent call last)",
      "\u001b[1;31mRemoteTraceback\u001b[0m: \n\"\"\"\nTraceback (most recent call last):\n  File \"/home/thomas/anaconda3/lib/python3.4/site-packages/sklearn/externals/joblib/parallel.py\", line 92, in __call__\n    return self.func(*args, **kwargs)\n  File \"/home/thomas/anaconda3/lib/python3.4/site-packages/sklearn/cross_validation.py\", line 1240, in _fit_and_score\n    test_score = _score(estimator, X_test, y_test, scorer)\n  File \"/home/thomas/anaconda3/lib/python3.4/site-packages/sklearn/cross_validation.py\", line 1296, in _score\n    score = scorer(estimator, X_test, y_test)\n  File \"/home/thomas/anaconda3/lib/python3.4/site-packages/sklearn/metrics/metrics.py\", line 2219, in mean_squared_error\n    y_type, y_true, y_pred = _check_reg_targets(y_true, y_pred)\n  File \"/home/thomas/anaconda3/lib/python3.4/site-packages/sklearn/metrics/metrics.py\", line 65, in _check_reg_targets\n    y_true, y_pred = check_arrays(y_true, y_pred)\n  File \"/home/thomas/anaconda3/lib/python3.4/site-packages/sklearn/utils/validation.py\", line 254, in check_arrays\n    % (size, n_samples))\nValueError: Found array with dim 1051. Expected 100\n\nDuring handling of the above exception, another exception occurred:\n\nTraceback (most recent call last):\n  File \"/home/thomas/anaconda3/lib/python3.4/multiprocessing/pool.py\", line 119, in worker\n    result = (True, func(*args, **kwds))\n  File \"/home/thomas/anaconda3/lib/python3.4/site-packages/sklearn/externals/joblib/parallel.py\", line 102, in __call__\n    raise TransportableException(text, e_type)\nsklearn.externals.joblib.my_exceptions.TransportableException: TransportableException\n___________________________________________________________________________\nValueError                                         Tue Jun  2 22:17:17 2015\nPID: 8326                  Python 3.4.3: /home/thomas/anaconda3/bin/python3\n...........................................................................\n/home/thomas/anaconda3/lib/python3.4/site-packages/sklearn/cross_validation.py in _fit_and_score(estimator=RandomForestRegressor(bootstrap=True, compute_im...   oob_score=False, random_state=None, verbose=0), X=array([[  2.00000000e+00,   4.10000000e+01,   1....421769e+01,   9.36912752e-02,   7.04421769e+01]]), y=array([1, 1, 1, ..., 1, 5, 1]), scorer=<function mean_squared_error>, train=array([1312, 7127, 6163, ..., 4037, 9113, 8953]), test=array([4092, 3446, 1790, ...,  723, 1491, 2663]), verbose=0, parameters=None, fit_params={}, return_train_score=False, return_parameters=False)\n   1235     X_test, y_test = _safe_split(estimator, X, y, test, train)\n   1236     if y_train is None:\n   1237         estimator.fit(X_train, **fit_params)\n   1238     else:\n   1239         estimator.fit(X_train, y_train, **fit_params)\n-> 1240     test_score = _score(estimator, X_test, y_test, scorer)\n        test_score = undefined\n        estimator = RandomForestRegressor(bootstrap=True, compute_im...   oob_score=False, random_state=None, verbose=0)\n        X_test = array([[  1.        ,  11.        ,  38.        ...2.09565217,\n          0.14270465,  72.09565217]])\n        y_test = array([29,  1, 17, ...,  1, 41,  6])\n        scorer = <function mean_squared_error>\n   1241     if return_train_score:\n   1242         train_score = _score(estimator, X_train, y_train, scorer)\n   1243 \n   1244     scoring_time = time.time() - start_time\n\n...........................................................................\n/home/thomas/anaconda3/lib/python3.4/site-packages/sklearn/cross_validation.py in _score(estimator=RandomForestRegressor(bootstrap=True, compute_im...   oob_score=False, random_state=None, verbose=0), X_test=array([[  1.        ,  11.        ,  38.        ...2.09565217,\n          0.14270465,  72.09565217]]), y_test=array([29,  1, 17, ...,  1, 41,  6]), scorer=<function mean_squared_error>)\n   1291 def _score(estimator, X_test, y_test, scorer):\n   1292     \"\"\"Compute the score of an estimator on a given test set.\"\"\"\n   1293     if y_test is None:\n   1294         score = scorer(estimator, X_test)\n   1295     else:\n-> 1296         score = scorer(estimator, X_test, y_test)\n        score = undefined\n        scorer = <function mean_squared_error>\n        estimator = RandomForestRegressor(bootstrap=True, compute_im...   oob_score=False, random_state=None, verbose=0)\n        X_test = array([[  1.        ,  11.        ,  38.        ...2.09565217,\n          0.14270465,  72.09565217]])\n        y_test = array([29,  1, 17, ...,  1, 41,  6])\n   1297     if not isinstance(score, numbers.Number):\n   1298         raise ValueError(\"scoring must return a number, got %s (%s) instead.\"\n   1299                          % (str(score), type(score)))\n   1300     return score\n\n...........................................................................\n/home/thomas/anaconda3/lib/python3.4/site-packages/sklearn/metrics/metrics.py in mean_squared_error(y_true=RandomForestRegressor(bootstrap=True, compute_im...   oob_score=False, random_state=None, verbose=0), y_pred=array([[  1.        ,  11.        ,  38.        ...2.09565217,\n          0.14270465,  72.09565217]]), sample_weight=array([29,  1, 17, ...,  1, 41,  6]))\n   2214     >>> y_pred = [[0, 2],[-1, 2],[8, -5]]\n   2215     >>> mean_squared_error(y_true, y_pred)  # doctest: +ELLIPSIS\n   2216     0.708...\n   2217 \n   2218     \"\"\"\n-> 2219     y_type, y_true, y_pred = _check_reg_targets(y_true, y_pred)\n        y_type = undefined\n        y_true = RandomForestRegressor(bootstrap=True, compute_im...   oob_score=False, random_state=None, verbose=0)\n        y_pred = array([[  1.        ,  11.        ,  38.        ...2.09565217,\n          0.14270465,  72.09565217]])\n   2220     return np.average(((y_pred - y_true) ** 2).mean(axis=1),\n   2221                       weights=sample_weight)\n   2222 \n   2223 \n\n...........................................................................\n/home/thomas/anaconda3/lib/python3.4/site-packages/sklearn/metrics/metrics.py in _check_reg_targets(y_true=RandomForestRegressor(bootstrap=True, compute_im...   oob_score=False, random_state=None, verbose=0), y_pred=array([[  1.        ,  11.        ,  38.        ...2.09565217,\n          0.14270465,  72.09565217]]))\n     60         Ground truth (correct) target values.\n     61 \n     62     y_pred : array-like of shape = [n_samples, n_outputs]\n     63         Estimated target values.\n     64     \"\"\"\n---> 65     y_true, y_pred = check_arrays(y_true, y_pred)\n        y_true = RandomForestRegressor(bootstrap=True, compute_im...   oob_score=False, random_state=None, verbose=0)\n        y_pred = array([[  1.        ,  11.        ,  38.        ...2.09565217,\n          0.14270465,  72.09565217]])\n     66 \n     67     if y_true.ndim == 1:\n     68         y_true = y_true.reshape((-1, 1))\n     69 \n\n...........................................................................\n/home/thomas/anaconda3/lib/python3.4/site-packages/sklearn/utils/validation.py in check_arrays(*arrays=(RandomForestRegressor(bootstrap=True, compute_im...   oob_score=False, random_state=None, verbose=0), array([[  1.        ,  11.        ,  38.        ...2.09565217,\n          0.14270465,  72.09565217]])), **options={})\n    249             continue\n    250         size = _num_samples(array)\n    251 \n    252         if size != n_samples:\n    253             raise ValueError(\"Found array with dim %d. Expected %d\"\n--> 254                              % (size, n_samples))\n        size = 1051\n        n_samples = 100\n    255 \n    256         if not allow_lists or hasattr(array, \"shape\"):\n    257             if sp.issparse(array):\n    258                 if sparse_format == 'csr':\n\nValueError: Found array with dim 1051. Expected 100\n___________________________________________________________________________\n\"\"\"",
      "\nThe above exception was the direct cause of the following exception:\n",
      "\u001b[1;31mTransportableException\u001b[0m                    Traceback (most recent call last)",
      "\u001b[1;32m/home/thomas/anaconda3/lib/python3.4/site-packages/sklearn/externals/joblib/parallel.py\u001b[0m in \u001b[0;36mretrieve\u001b[1;34m(self)\u001b[0m\n\u001b[0;32m    511\u001b[0m             \u001b[1;32mtry\u001b[0m\u001b[1;33m:\u001b[0m\u001b[1;33m\u001b[0m\u001b[0m\n\u001b[1;32m--> 512\u001b[1;33m                 \u001b[0mself\u001b[0m\u001b[1;33m.\u001b[0m\u001b[0m_output\u001b[0m\u001b[1;33m.\u001b[0m\u001b[0mappend\u001b[0m\u001b[1;33m(\u001b[0m\u001b[0mjob\u001b[0m\u001b[1;33m.\u001b[0m\u001b[0mget\u001b[0m\u001b[1;33m(\u001b[0m\u001b[1;33m)\u001b[0m\u001b[1;33m)\u001b[0m\u001b[1;33m\u001b[0m\u001b[0m\n\u001b[0m\u001b[0;32m    513\u001b[0m             \u001b[1;32mexcept\u001b[0m \u001b[0mtuple\u001b[0m\u001b[1;33m(\u001b[0m\u001b[0mself\u001b[0m\u001b[1;33m.\u001b[0m\u001b[0mexceptions\u001b[0m\u001b[1;33m)\u001b[0m \u001b[1;32mas\u001b[0m \u001b[0mexception\u001b[0m\u001b[1;33m:\u001b[0m\u001b[1;33m\u001b[0m\u001b[0m\n",
      "\u001b[1;32m/home/thomas/anaconda3/lib/python3.4/multiprocessing/pool.py\u001b[0m in \u001b[0;36mget\u001b[1;34m(self, timeout)\u001b[0m\n\u001b[0;32m    598\u001b[0m         \u001b[1;32melse\u001b[0m\u001b[1;33m:\u001b[0m\u001b[1;33m\u001b[0m\u001b[0m\n\u001b[1;32m--> 599\u001b[1;33m             \u001b[1;32mraise\u001b[0m \u001b[0mself\u001b[0m\u001b[1;33m.\u001b[0m\u001b[0m_value\u001b[0m\u001b[1;33m\u001b[0m\u001b[0m\n\u001b[0m\u001b[0;32m    600\u001b[0m \u001b[1;33m\u001b[0m\u001b[0m\n",
      "\u001b[1;31mTransportableException\u001b[0m: TransportableException\n___________________________________________________________________________\nValueError                                         Tue Jun  2 22:17:17 2015\nPID: 8326                  Python 3.4.3: /home/thomas/anaconda3/bin/python3\n...........................................................................\n/home/thomas/anaconda3/lib/python3.4/site-packages/sklearn/cross_validation.py in _fit_and_score(estimator=RandomForestRegressor(bootstrap=True, compute_im...   oob_score=False, random_state=None, verbose=0), X=array([[  2.00000000e+00,   4.10000000e+01,   1....421769e+01,   9.36912752e-02,   7.04421769e+01]]), y=array([1, 1, 1, ..., 1, 5, 1]), scorer=<function mean_squared_error>, train=array([1312, 7127, 6163, ..., 4037, 9113, 8953]), test=array([4092, 3446, 1790, ...,  723, 1491, 2663]), verbose=0, parameters=None, fit_params={}, return_train_score=False, return_parameters=False)\n   1235     X_test, y_test = _safe_split(estimator, X, y, test, train)\n   1236     if y_train is None:\n   1237         estimator.fit(X_train, **fit_params)\n   1238     else:\n   1239         estimator.fit(X_train, y_train, **fit_params)\n-> 1240     test_score = _score(estimator, X_test, y_test, scorer)\n        test_score = undefined\n        estimator = RandomForestRegressor(bootstrap=True, compute_im...   oob_score=False, random_state=None, verbose=0)\n        X_test = array([[  1.        ,  11.        ,  38.        ...2.09565217,\n          0.14270465,  72.09565217]])\n        y_test = array([29,  1, 17, ...,  1, 41,  6])\n        scorer = <function mean_squared_error>\n   1241     if return_train_score:\n   1242         train_score = _score(estimator, X_train, y_train, scorer)\n   1243 \n   1244     scoring_time = time.time() - start_time\n\n...........................................................................\n/home/thomas/anaconda3/lib/python3.4/site-packages/sklearn/cross_validation.py in _score(estimator=RandomForestRegressor(bootstrap=True, compute_im...   oob_score=False, random_state=None, verbose=0), X_test=array([[  1.        ,  11.        ,  38.        ...2.09565217,\n          0.14270465,  72.09565217]]), y_test=array([29,  1, 17, ...,  1, 41,  6]), scorer=<function mean_squared_error>)\n   1291 def _score(estimator, X_test, y_test, scorer):\n   1292     \"\"\"Compute the score of an estimator on a given test set.\"\"\"\n   1293     if y_test is None:\n   1294         score = scorer(estimator, X_test)\n   1295     else:\n-> 1296         score = scorer(estimator, X_test, y_test)\n        score = undefined\n        scorer = <function mean_squared_error>\n        estimator = RandomForestRegressor(bootstrap=True, compute_im...   oob_score=False, random_state=None, verbose=0)\n        X_test = array([[  1.        ,  11.        ,  38.        ...2.09565217,\n          0.14270465,  72.09565217]])\n        y_test = array([29,  1, 17, ...,  1, 41,  6])\n   1297     if not isinstance(score, numbers.Number):\n   1298         raise ValueError(\"scoring must return a number, got %s (%s) instead.\"\n   1299                          % (str(score), type(score)))\n   1300     return score\n\n...........................................................................\n/home/thomas/anaconda3/lib/python3.4/site-packages/sklearn/metrics/metrics.py in mean_squared_error(y_true=RandomForestRegressor(bootstrap=True, compute_im...   oob_score=False, random_state=None, verbose=0), y_pred=array([[  1.        ,  11.        ,  38.        ...2.09565217,\n          0.14270465,  72.09565217]]), sample_weight=array([29,  1, 17, ...,  1, 41,  6]))\n   2214     >>> y_pred = [[0, 2],[-1, 2],[8, -5]]\n   2215     >>> mean_squared_error(y_true, y_pred)  # doctest: +ELLIPSIS\n   2216     0.708...\n   2217 \n   2218     \"\"\"\n-> 2219     y_type, y_true, y_pred = _check_reg_targets(y_true, y_pred)\n        y_type = undefined\n        y_true = RandomForestRegressor(bootstrap=True, compute_im...   oob_score=False, random_state=None, verbose=0)\n        y_pred = array([[  1.        ,  11.        ,  38.        ...2.09565217,\n          0.14270465,  72.09565217]])\n   2220     return np.average(((y_pred - y_true) ** 2).mean(axis=1),\n   2221                       weights=sample_weight)\n   2222 \n   2223 \n\n...........................................................................\n/home/thomas/anaconda3/lib/python3.4/site-packages/sklearn/metrics/metrics.py in _check_reg_targets(y_true=RandomForestRegressor(bootstrap=True, compute_im...   oob_score=False, random_state=None, verbose=0), y_pred=array([[  1.        ,  11.        ,  38.        ...2.09565217,\n          0.14270465,  72.09565217]]))\n     60         Ground truth (correct) target values.\n     61 \n     62     y_pred : array-like of shape = [n_samples, n_outputs]\n     63         Estimated target values.\n     64     \"\"\"\n---> 65     y_true, y_pred = check_arrays(y_true, y_pred)\n        y_true = RandomForestRegressor(bootstrap=True, compute_im...   oob_score=False, random_state=None, verbose=0)\n        y_pred = array([[  1.        ,  11.        ,  38.        ...2.09565217,\n          0.14270465,  72.09565217]])\n     66 \n     67     if y_true.ndim == 1:\n     68         y_true = y_true.reshape((-1, 1))\n     69 \n\n...........................................................................\n/home/thomas/anaconda3/lib/python3.4/site-packages/sklearn/utils/validation.py in check_arrays(*arrays=(RandomForestRegressor(bootstrap=True, compute_im...   oob_score=False, random_state=None, verbose=0), array([[  1.        ,  11.        ,  38.        ...2.09565217,\n          0.14270465,  72.09565217]])), **options={})\n    249             continue\n    250         size = _num_samples(array)\n    251 \n    252         if size != n_samples:\n    253             raise ValueError(\"Found array with dim %d. Expected %d\"\n--> 254                              % (size, n_samples))\n        size = 1051\n        n_samples = 100\n    255 \n    256         if not allow_lists or hasattr(array, \"shape\"):\n    257             if sp.issparse(array):\n    258                 if sparse_format == 'csr':\n\nValueError: Found array with dim 1051. Expected 100\n___________________________________________________________________________",
      "\nDuring handling of the above exception, another exception occurred:\n",
      "\u001b[1;31mJoblibValueError\u001b[0m                          Traceback (most recent call last)",
      "\u001b[1;32m<ipython-input-41-ed08852d112f>\u001b[0m in \u001b[0;36m<module>\u001b[1;34m()\u001b[0m\n\u001b[1;32m----> 1\u001b[1;33m \u001b[0mcross_val_score\u001b[0m\u001b[1;33m(\u001b[0m\u001b[0mclf\u001b[0m\u001b[1;33m,\u001b[0m\u001b[0mX\u001b[0m\u001b[1;33m,\u001b[0m\u001b[0my\u001b[0m\u001b[1;33m,\u001b[0m\u001b[0mcv\u001b[0m\u001b[1;33m=\u001b[0m\u001b[0mcv\u001b[0m\u001b[1;33m,\u001b[0m\u001b[0mn_jobs\u001b[0m\u001b[1;33m=\u001b[0m\u001b[1;33m-\u001b[0m\u001b[1;36m1\u001b[0m\u001b[1;33m,\u001b[0m\u001b[0mscoring\u001b[0m \u001b[1;33m=\u001b[0m \u001b[0mmean_squared_error\u001b[0m\u001b[1;33m)\u001b[0m\u001b[1;33m\u001b[0m\u001b[0m\n\u001b[0m",
      "\u001b[1;32m/home/thomas/anaconda3/lib/python3.4/site-packages/sklearn/cross_validation.py\u001b[0m in \u001b[0;36mcross_val_score\u001b[1;34m(estimator, X, y, scoring, cv, n_jobs, verbose, fit_params, score_func, pre_dispatch)\u001b[0m\n\u001b[0;32m   1149\u001b[0m                                               \u001b[0mtrain\u001b[0m\u001b[1;33m,\u001b[0m \u001b[0mtest\u001b[0m\u001b[1;33m,\u001b[0m \u001b[0mverbose\u001b[0m\u001b[1;33m,\u001b[0m \u001b[1;32mNone\u001b[0m\u001b[1;33m,\u001b[0m\u001b[1;33m\u001b[0m\u001b[0m\n\u001b[0;32m   1150\u001b[0m                                               fit_params)\n\u001b[1;32m-> 1151\u001b[1;33m                       for train, test in cv)\n\u001b[0m\u001b[0;32m   1152\u001b[0m     \u001b[1;32mreturn\u001b[0m \u001b[0mnp\u001b[0m\u001b[1;33m.\u001b[0m\u001b[0marray\u001b[0m\u001b[1;33m(\u001b[0m\u001b[0mscores\u001b[0m\u001b[1;33m)\u001b[0m\u001b[1;33m[\u001b[0m\u001b[1;33m:\u001b[0m\u001b[1;33m,\u001b[0m \u001b[1;36m0\u001b[0m\u001b[1;33m]\u001b[0m\u001b[1;33m\u001b[0m\u001b[0m\n\u001b[0;32m   1153\u001b[0m \u001b[1;33m\u001b[0m\u001b[0m\n",
      "\u001b[1;32m/home/thomas/anaconda3/lib/python3.4/site-packages/sklearn/externals/joblib/parallel.py\u001b[0m in \u001b[0;36m__call__\u001b[1;34m(self, iterable)\u001b[0m\n\u001b[0;32m    658\u001b[0m                 \u001b[1;31m# consumption.\u001b[0m\u001b[1;33m\u001b[0m\u001b[1;33m\u001b[0m\u001b[0m\n\u001b[0;32m    659\u001b[0m                 \u001b[0mself\u001b[0m\u001b[1;33m.\u001b[0m\u001b[0m_iterating\u001b[0m \u001b[1;33m=\u001b[0m \u001b[1;32mFalse\u001b[0m\u001b[1;33m\u001b[0m\u001b[0m\n\u001b[1;32m--> 660\u001b[1;33m             \u001b[0mself\u001b[0m\u001b[1;33m.\u001b[0m\u001b[0mretrieve\u001b[0m\u001b[1;33m(\u001b[0m\u001b[1;33m)\u001b[0m\u001b[1;33m\u001b[0m\u001b[0m\n\u001b[0m\u001b[0;32m    661\u001b[0m             \u001b[1;31m# Make sure that we get a last message telling us we are done\u001b[0m\u001b[1;33m\u001b[0m\u001b[1;33m\u001b[0m\u001b[0m\n\u001b[0;32m    662\u001b[0m             \u001b[0melapsed_time\u001b[0m \u001b[1;33m=\u001b[0m \u001b[0mtime\u001b[0m\u001b[1;33m.\u001b[0m\u001b[0mtime\u001b[0m\u001b[1;33m(\u001b[0m\u001b[1;33m)\u001b[0m \u001b[1;33m-\u001b[0m \u001b[0mself\u001b[0m\u001b[1;33m.\u001b[0m\u001b[0m_start_time\u001b[0m\u001b[1;33m\u001b[0m\u001b[0m\n",
      "\u001b[1;32m/home/thomas/anaconda3/lib/python3.4/site-packages/sklearn/externals/joblib/parallel.py\u001b[0m in \u001b[0;36mretrieve\u001b[1;34m(self)\u001b[0m\n\u001b[0;32m    541\u001b[0m                         \u001b[1;31m# Convert this to a JoblibException\u001b[0m\u001b[1;33m\u001b[0m\u001b[1;33m\u001b[0m\u001b[0m\n\u001b[0;32m    542\u001b[0m                         \u001b[0mexception_type\u001b[0m \u001b[1;33m=\u001b[0m \u001b[0m_mk_exception\u001b[0m\u001b[1;33m(\u001b[0m\u001b[0mexception\u001b[0m\u001b[1;33m.\u001b[0m\u001b[0metype\u001b[0m\u001b[1;33m)\u001b[0m\u001b[1;33m[\u001b[0m\u001b[1;36m0\u001b[0m\u001b[1;33m]\u001b[0m\u001b[1;33m\u001b[0m\u001b[0m\n\u001b[1;32m--> 543\u001b[1;33m                         \u001b[1;32mraise\u001b[0m \u001b[0mexception_type\u001b[0m\u001b[1;33m(\u001b[0m\u001b[0mreport\u001b[0m\u001b[1;33m)\u001b[0m\u001b[1;33m\u001b[0m\u001b[0m\n\u001b[0m\u001b[0;32m    544\u001b[0m                     \u001b[1;32mraise\u001b[0m \u001b[0mexception\u001b[0m\u001b[1;33m\u001b[0m\u001b[0m\n\u001b[0;32m    545\u001b[0m                 \u001b[1;32mfinally\u001b[0m\u001b[1;33m:\u001b[0m\u001b[1;33m\u001b[0m\u001b[0m\n",
      "\u001b[1;31mJoblibValueError\u001b[0m: JoblibValueError\n___________________________________________________________________________\nMultiprocessing exception:\n    ...........................................................................\n/home/thomas/anaconda3/lib/python3.4/runpy.py in _run_module_as_main(mod_name='IPython.kernel.__main__', alter_argv=1)\n    165         sys.exit(msg)\n    166     main_globals = sys.modules[\"__main__\"].__dict__\n    167     if alter_argv:\n    168         sys.argv[0] = mod_spec.origin\n    169     return _run_code(code, main_globals, None,\n--> 170                      \"__main__\", mod_spec)\n        mod_spec = ModuleSpec(name='IPython.kernel.__main__', loade...hon3.4/site-packages/IPython/kernel/__main__.py')\n    171 \n    172 def run_module(mod_name, init_globals=None,\n    173                run_name=None, alter_sys=False):\n    174     \"\"\"Execute a module's code without importing it\n\n...........................................................................\n/home/thomas/anaconda3/lib/python3.4/runpy.py in _run_code(code=<code object <module> at 0x7f51b44cca50, file \"/...ite-packages/IPython/kernel/__main__.py\", line 1>, run_globals={'__builtins__': <module 'builtins' (built-in)>, '__cached__': '/home/thomas/anaconda3/lib/python3.4/site-packag...Python/kernel/__pycache__/__main__.cpython-34.pyc', '__doc__': None, '__file__': '/home/thomas/anaconda3/lib/python3.4/site-packages/IPython/kernel/__main__.py', '__loader__': <_frozen_importlib.SourceFileLoader object>, '__name__': '__main__', '__package__': 'IPython.kernel', '__spec__': ModuleSpec(name='IPython.kernel.__main__', loade...hon3.4/site-packages/IPython/kernel/__main__.py'), 'app': <module 'IPython.kernel.zmq.kernelapp' from '/ho...4/site-packages/IPython/kernel/zmq/kernelapp.py'>}, init_globals=None, mod_name='__main__', mod_spec=ModuleSpec(name='IPython.kernel.__main__', loade...hon3.4/site-packages/IPython/kernel/__main__.py'), pkg_name='IPython.kernel', script_name=None)\n     80                        __cached__ = cached,\n     81                        __doc__ = None,\n     82                        __loader__ = loader,\n     83                        __package__ = pkg_name,\n     84                        __spec__ = mod_spec)\n---> 85     exec(code, run_globals)\n        code = <code object <module> at 0x7f51b44cca50, file \"/...ite-packages/IPython/kernel/__main__.py\", line 1>\n        run_globals = {'__builtins__': <module 'builtins' (built-in)>, '__cached__': '/home/thomas/anaconda3/lib/python3.4/site-packag...Python/kernel/__pycache__/__main__.cpython-34.pyc', '__doc__': None, '__file__': '/home/thomas/anaconda3/lib/python3.4/site-packages/IPython/kernel/__main__.py', '__loader__': <_frozen_importlib.SourceFileLoader object>, '__name__': '__main__', '__package__': 'IPython.kernel', '__spec__': ModuleSpec(name='IPython.kernel.__main__', loade...hon3.4/site-packages/IPython/kernel/__main__.py'), 'app': <module 'IPython.kernel.zmq.kernelapp' from '/ho...4/site-packages/IPython/kernel/zmq/kernelapp.py'>}\n     86     return run_globals\n     87 \n     88 def _run_module_code(code, init_globals=None,\n     89                     mod_name=None, mod_spec=None,\n\n...........................................................................\n/home/thomas/anaconda3/lib/python3.4/site-packages/IPython/kernel/__main__.py in <module>()\n      1 \n      2 \n----> 3 \n      4 if __name__ == '__main__':\n      5     from IPython.kernel.zmq import kernelapp as app\n      6     app.launch_new_instance()\n      7 \n      8 \n      9 \n     10 \n\n...........................................................................\n/home/thomas/anaconda3/lib/python3.4/site-packages/IPython/config/application.py in launch_instance(cls=<class 'IPython.kernel.zmq.kernelapp.IPKernelApp'>, argv=None, **kwargs={})\n    569         \n    570         If a global instance already exists, this reinitializes and starts it\n    571         \"\"\"\n    572         app = cls.instance(**kwargs)\n    573         app.initialize(argv)\n--> 574         app.start()\n        app.start = <bound method IPKernelApp.start of <IPython.kernel.zmq.kernelapp.IPKernelApp object>>\n    575 \n    576 #-----------------------------------------------------------------------------\n    577 # utility functions, for convenience\n    578 #-----------------------------------------------------------------------------\n\n...........................................................................\n/home/thomas/anaconda3/lib/python3.4/site-packages/IPython/kernel/zmq/kernelapp.py in start(self=<IPython.kernel.zmq.kernelapp.IPKernelApp object>)\n    369     def start(self):\n    370         if self.poller is not None:\n    371             self.poller.start()\n    372         self.kernel.start()\n    373         try:\n--> 374             ioloop.IOLoop.instance().start()\n    375         except KeyboardInterrupt:\n    376             pass\n    377 \n    378 launch_new_instance = IPKernelApp.launch_instance\n\n...........................................................................\n/home/thomas/anaconda3/lib/python3.4/site-packages/zmq/eventloop/ioloop.py in start(self=<zmq.eventloop.ioloop.ZMQIOLoop object>)\n    146             PollIOLoop.configure(ZMQIOLoop)\n    147         return PollIOLoop.instance()\n    148     \n    149     def start(self):\n    150         try:\n--> 151             super(ZMQIOLoop, self).start()\n        self.start = <bound method ZMQIOLoop.start of <zmq.eventloop.ioloop.ZMQIOLoop object>>\n    152         except ZMQError as e:\n    153             if e.errno == ETERM:\n    154                 # quietly return on ETERM\n    155                 pass\n\n...........................................................................\n/home/thomas/anaconda3/lib/python3.4/site-packages/tornado/ioloop.py in start(self=<zmq.eventloop.ioloop.ZMQIOLoop object>)\n    835                 self._events.update(event_pairs)\n    836                 while self._events:\n    837                     fd, events = self._events.popitem()\n    838                     try:\n    839                         fd_obj, handler_func = self._handlers[fd]\n--> 840                         handler_func(fd_obj, events)\n        handler_func = <function wrap.<locals>.null_wrapper>\n        fd_obj = <zmq.sugar.socket.Socket object>\n        events = 1\n    841                     except (OSError, IOError) as e:\n    842                         if errno_from_exception(e) == errno.EPIPE:\n    843                             # Happens when the client closes the connection\n    844                             pass\n\n...........................................................................\n/home/thomas/anaconda3/lib/python3.4/site-packages/tornado/stack_context.py in null_wrapper(*args=(<zmq.sugar.socket.Socket object>, 1), **kwargs={})\n    270         # Fast path when there are no active contexts.\n    271         def null_wrapper(*args, **kwargs):\n    272             try:\n    273                 current_state = _state.contexts\n    274                 _state.contexts = cap_contexts[0]\n--> 275                 return fn(*args, **kwargs)\n        args = (<zmq.sugar.socket.Socket object>, 1)\n        kwargs = {}\n    276             finally:\n    277                 _state.contexts = current_state\n    278         null_wrapper._wrapped = True\n    279         return null_wrapper\n\n...........................................................................\n/home/thomas/anaconda3/lib/python3.4/site-packages/zmq/eventloop/zmqstream.py in _handle_events(self=<zmq.eventloop.zmqstream.ZMQStream object>, fd=<zmq.sugar.socket.Socket object>, events=1)\n    428             # dispatch events:\n    429             if events & IOLoop.ERROR:\n    430                 gen_log.error(\"got POLLERR event on ZMQStream, which doesn't make sense\")\n    431                 return\n    432             if events & IOLoop.READ:\n--> 433                 self._handle_recv()\n        self._handle_recv = <bound method ZMQStream._handle_recv of <zmq.eventloop.zmqstream.ZMQStream object>>\n    434                 if not self.socket:\n    435                     return\n    436             if events & IOLoop.WRITE:\n    437                 self._handle_send()\n\n...........................................................................\n/home/thomas/anaconda3/lib/python3.4/site-packages/zmq/eventloop/zmqstream.py in _handle_recv(self=<zmq.eventloop.zmqstream.ZMQStream object>)\n    460                 gen_log.error(\"RECV Error: %s\"%zmq.strerror(e.errno))\n    461         else:\n    462             if self._recv_callback:\n    463                 callback = self._recv_callback\n    464                 # self._recv_callback = None\n--> 465                 self._run_callback(callback, msg)\n        self._run_callback = <bound method ZMQStream._run_callback of <zmq.eventloop.zmqstream.ZMQStream object>>\n        callback = <function wrap.<locals>.null_wrapper>\n        msg = [<zmq.sugar.frame.Frame object>, <zmq.sugar.frame.Frame object>, <zmq.sugar.frame.Frame object>, <zmq.sugar.frame.Frame object>, <zmq.sugar.frame.Frame object>, <zmq.sugar.frame.Frame object>, <zmq.sugar.frame.Frame object>]\n    466                 \n    467         # self.update_state()\n    468         \n    469 \n\n...........................................................................\n/home/thomas/anaconda3/lib/python3.4/site-packages/zmq/eventloop/zmqstream.py in _run_callback(self=<zmq.eventloop.zmqstream.ZMQStream object>, callback=<function wrap.<locals>.null_wrapper>, *args=([<zmq.sugar.frame.Frame object>, <zmq.sugar.frame.Frame object>, <zmq.sugar.frame.Frame object>, <zmq.sugar.frame.Frame object>, <zmq.sugar.frame.Frame object>, <zmq.sugar.frame.Frame object>, <zmq.sugar.frame.Frame object>],), **kwargs={})\n    402         close our socket.\"\"\"\n    403         try:\n    404             # Use a NullContext to ensure that all StackContexts are run\n    405             # inside our blanket exception handler rather than outside.\n    406             with stack_context.NullContext():\n--> 407                 callback(*args, **kwargs)\n        callback = <function wrap.<locals>.null_wrapper>\n        args = ([<zmq.sugar.frame.Frame object>, <zmq.sugar.frame.Frame object>, <zmq.sugar.frame.Frame object>, <zmq.sugar.frame.Frame object>, <zmq.sugar.frame.Frame object>, <zmq.sugar.frame.Frame object>, <zmq.sugar.frame.Frame object>],)\n        kwargs = {}\n    408         except:\n    409             gen_log.error(\"Uncaught exception, closing connection.\",\n    410                           exc_info=True)\n    411             # Close the socket on an uncaught exception from a user callback\n\n...........................................................................\n/home/thomas/anaconda3/lib/python3.4/site-packages/tornado/stack_context.py in null_wrapper(*args=([<zmq.sugar.frame.Frame object>, <zmq.sugar.frame.Frame object>, <zmq.sugar.frame.Frame object>, <zmq.sugar.frame.Frame object>, <zmq.sugar.frame.Frame object>, <zmq.sugar.frame.Frame object>, <zmq.sugar.frame.Frame object>],), **kwargs={})\n    270         # Fast path when there are no active contexts.\n    271         def null_wrapper(*args, **kwargs):\n    272             try:\n    273                 current_state = _state.contexts\n    274                 _state.contexts = cap_contexts[0]\n--> 275                 return fn(*args, **kwargs)\n        args = ([<zmq.sugar.frame.Frame object>, <zmq.sugar.frame.Frame object>, <zmq.sugar.frame.Frame object>, <zmq.sugar.frame.Frame object>, <zmq.sugar.frame.Frame object>, <zmq.sugar.frame.Frame object>, <zmq.sugar.frame.Frame object>],)\n        kwargs = {}\n    276             finally:\n    277                 _state.contexts = current_state\n    278         null_wrapper._wrapped = True\n    279         return null_wrapper\n\n...........................................................................\n/home/thomas/anaconda3/lib/python3.4/site-packages/IPython/kernel/zmq/kernelbase.py in dispatcher(msg=[<zmq.sugar.frame.Frame object>, <zmq.sugar.frame.Frame object>, <zmq.sugar.frame.Frame object>, <zmq.sugar.frame.Frame object>, <zmq.sugar.frame.Frame object>, <zmq.sugar.frame.Frame object>, <zmq.sugar.frame.Frame object>])\n    247         if self.control_stream:\n    248             self.control_stream.on_recv(self.dispatch_control, copy=False)\n    249 \n    250         def make_dispatcher(stream):\n    251             def dispatcher(msg):\n--> 252                 return self.dispatch_shell(stream, msg)\n        msg = [<zmq.sugar.frame.Frame object>, <zmq.sugar.frame.Frame object>, <zmq.sugar.frame.Frame object>, <zmq.sugar.frame.Frame object>, <zmq.sugar.frame.Frame object>, <zmq.sugar.frame.Frame object>, <zmq.sugar.frame.Frame object>]\n    253             return dispatcher\n    254 \n    255         for s in self.shell_streams:\n    256             s.on_recv(make_dispatcher(s), copy=False)\n\n...........................................................................\n/home/thomas/anaconda3/lib/python3.4/site-packages/IPython/kernel/zmq/kernelbase.py in dispatch_shell(self=<IPython.kernel.zmq.ipkernel.IPythonKernel object>, stream=<zmq.eventloop.zmqstream.ZMQStream object>, msg={'buffers': [], 'content': {'allow_stdin': True, 'code': 'cross_val_score(clf,X,y,cv=cv,n_jobs=-1,scoring = mean_squared_error)', 'silent': False, 'stop_on_error': True, 'store_history': True, 'user_expressions': {}}, 'header': {'msg_id': '1730381183374D0794422DB078448813', 'msg_type': 'execute_request', 'session': '355529FF92BA4097BA3DBA29A9909DE6', 'username': 'username', 'version': '5.0'}, 'metadata': {}, 'msg_id': '1730381183374D0794422DB078448813', 'msg_type': 'execute_request', 'parent_header': {}})\n    208         else:\n    209             # ensure default_int_handler during handler call\n    210             sig = signal(SIGINT, default_int_handler)\n    211             self.log.debug(\"%s: %s\", msg_type, msg)\n    212             try:\n--> 213                 handler(stream, idents, msg)\n        handler = <bound method IPythonKernel.execute_request of <IPython.kernel.zmq.ipkernel.IPythonKernel object>>\n        stream = <zmq.eventloop.zmqstream.ZMQStream object>\n        idents = [b'355529FF92BA4097BA3DBA29A9909DE6']\n        msg = {'buffers': [], 'content': {'allow_stdin': True, 'code': 'cross_val_score(clf,X,y,cv=cv,n_jobs=-1,scoring = mean_squared_error)', 'silent': False, 'stop_on_error': True, 'store_history': True, 'user_expressions': {}}, 'header': {'msg_id': '1730381183374D0794422DB078448813', 'msg_type': 'execute_request', 'session': '355529FF92BA4097BA3DBA29A9909DE6', 'username': 'username', 'version': '5.0'}, 'metadata': {}, 'msg_id': '1730381183374D0794422DB078448813', 'msg_type': 'execute_request', 'parent_header': {}}\n    214             except Exception:\n    215                 self.log.error(\"Exception in message handler:\", exc_info=True)\n    216             finally:\n    217                 signal(SIGINT, sig)\n\n...........................................................................\n/home/thomas/anaconda3/lib/python3.4/site-packages/IPython/kernel/zmq/kernelbase.py in execute_request(self=<IPython.kernel.zmq.ipkernel.IPythonKernel object>, stream=<zmq.eventloop.zmqstream.ZMQStream object>, ident=[b'355529FF92BA4097BA3DBA29A9909DE6'], parent={'buffers': [], 'content': {'allow_stdin': True, 'code': 'cross_val_score(clf,X,y,cv=cv,n_jobs=-1,scoring = mean_squared_error)', 'silent': False, 'stop_on_error': True, 'store_history': True, 'user_expressions': {}}, 'header': {'msg_id': '1730381183374D0794422DB078448813', 'msg_type': 'execute_request', 'session': '355529FF92BA4097BA3DBA29A9909DE6', 'username': 'username', 'version': '5.0'}, 'metadata': {}, 'msg_id': '1730381183374D0794422DB078448813', 'msg_type': 'execute_request', 'parent_header': {}})\n    357         if not silent:\n    358             self.execution_count += 1\n    359             self._publish_execute_input(code, parent, self.execution_count)\n    360         \n    361         reply_content = self.do_execute(code, silent, store_history,\n--> 362                                         user_expressions, allow_stdin)\n        user_expressions = {}\n        allow_stdin = True\n    363 \n    364         # Flush output before sending the reply.\n    365         sys.stdout.flush()\n    366         sys.stderr.flush()\n\n...........................................................................\n/home/thomas/anaconda3/lib/python3.4/site-packages/IPython/kernel/zmq/ipkernel.py in do_execute(self=<IPython.kernel.zmq.ipkernel.IPythonKernel object>, code='cross_val_score(clf,X,y,cv=cv,n_jobs=-1,scoring = mean_squared_error)', silent=False, store_history=True, user_expressions={}, allow_stdin=True)\n    176 \n    177         reply_content = {}\n    178         # FIXME: the shell calls the exception handler itself.\n    179         shell._reply_content = None\n    180         try:\n--> 181             shell.run_cell(code, store_history=store_history, silent=silent)\n        shell.run_cell = <bound method ZMQInteractiveShell.run_cell of <I....kernel.zmq.zmqshell.ZMQInteractiveShell object>>\n        code = 'cross_val_score(clf,X,y,cv=cv,n_jobs=-1,scoring = mean_squared_error)'\n        store_history = True\n        silent = False\n    182         except:\n    183             status = u'error'\n    184             # FIXME: this code right now isn't being used yet by default,\n    185             # because the run_cell() call above directly fires off exception\n\n...........................................................................\n/home/thomas/anaconda3/lib/python3.4/site-packages/IPython/core/interactiveshell.py in run_cell(self=<IPython.kernel.zmq.zmqshell.ZMQInteractiveShell object>, raw_cell='cross_val_score(clf,X,y,cv=cv,n_jobs=-1,scoring = mean_squared_error)', store_history=True, silent=False, shell_futures=True)\n   2863                 self.displayhook.exec_result = result\n   2864 \n   2865                 # Execute the user code\n   2866                 interactivity = \"none\" if silent else self.ast_node_interactivity\n   2867                 self.run_ast_nodes(code_ast.body, cell_name,\n-> 2868                    interactivity=interactivity, compiler=compiler, result=result)\n        interactivity = 'last_expr'\n        compiler = <IPython.core.compilerop.CachingCompiler object>\n   2869 \n   2870                 # Reset this so later displayed values do not modify the\n   2871                 # ExecutionResult\n   2872                 self.displayhook.exec_result = None\n\n...........................................................................\n/home/thomas/anaconda3/lib/python3.4/site-packages/IPython/core/interactiveshell.py in run_ast_nodes(self=<IPython.kernel.zmq.zmqshell.ZMQInteractiveShell object>, nodelist=[<_ast.Expr object>], cell_name='<ipython-input-41-ed08852d112f>', interactivity='last', compiler=<IPython.core.compilerop.CachingCompiler object>, result=<IPython.core.interactiveshell.ExecutionResult object>)\n   2973                     return True\n   2974 \n   2975             for i, node in enumerate(to_run_interactive):\n   2976                 mod = ast.Interactive([node])\n   2977                 code = compiler(mod, cell_name, \"single\")\n-> 2978                 if self.run_code(code, result):\n        self.run_code = <bound method ZMQInteractiveShell.run_code of <I....kernel.zmq.zmqshell.ZMQInteractiveShell object>>\n        code = <code object <module> at 0x7f51a9b0db70, file \"<ipython-input-41-ed08852d112f>\", line 1>\n        result = <IPython.core.interactiveshell.ExecutionResult object>\n   2979                     return True\n   2980 \n   2981             # Flush softspace\n   2982             if softspace(sys.stdout, 0):\n\n...........................................................................\n/home/thomas/anaconda3/lib/python3.4/site-packages/IPython/core/interactiveshell.py in run_code(self=<IPython.kernel.zmq.zmqshell.ZMQInteractiveShell object>, code_obj=<code object <module> at 0x7f51a9b0db70, file \"<ipython-input-41-ed08852d112f>\", line 1>, result=<IPython.core.interactiveshell.ExecutionResult object>)\n   3027         outflag = 1  # happens in more places, so it's easier as default\n   3028         try:\n   3029             try:\n   3030                 self.hooks.pre_run_code_hook()\n   3031                 #rprint('Running code', repr(code_obj)) # dbg\n-> 3032                 exec(code_obj, self.user_global_ns, self.user_ns)\n        code_obj = <code object <module> at 0x7f51a9b0db70, file \"<ipython-input-41-ed08852d112f>\", line 1>\n        self.user_global_ns = {'In': ['', 'import pandas as pd\\nfrom sklearn.ensemble import...n import cross_validation, preprocessing, metrics', \"df_train = pd.read_csv('aggregated_train_with_nu...)\\ndf_test = pd.read_csv('../test_filled_new.csv')\", '#df_train.columns,df_test.columns', \"'Species' in df_test.columns\", '[var for var in df_train.columns if var not in df_test.columns]', 'X = df_train.copy()\\nX.dtypes', '[var for var in df_test.columns if var not in X.columns]', 'df_test.Species.values', \"string_features = ['Date','Address','Street','Ad...ies = species_encoder.transform(df_train.Species)\", \"\\ndf_test.Trap = trap_encoder.fit_transform(df_te...itos', 'WnvPresent'],axis=1)\\nexcept:\\n        pass\", 'df_dump.head()', 'X.dtypes[:70]', '[var for var in X.columns if var not in df_test.columns]', '[var for var in df_test.columns if var not in X.columns]', 'clf = RandomForestRegressor(n_estimators=1000,n_jobs=-1)', 'from sklearn.cross_validation import train_test_...re\\nfrom sklearn.metrics import mean_squared_error', 'cv = ShuffleSplit(len(X))', 'cross_val_score(clf,X,y,cv=cv,n_jobs=-1,scoring = roc_auc_score)', 'cross_val_score(clf,X,y,cv=cv,n_jobs=-1,scoring = mean_squared_error)', ...], 'Out': {4: True, 5: ['Unnamed: 0', 'NumMosquitos', 'WnvPresent'], 6: Unnamed: 0                  int64\nDate          ...gTavg           float64\nLength: 85, dtype: object, 7: ['Id'], 8: array(['CULEX PIPIENS/RESTUANS', 'CULEX RESTUANS...IENS/RESTUANS', 'CULEX ERRATICUS'], dtype=object), 11:          Date                                   ... AVE  4100  N OAK PARK AVE, Chicago, IL          , 12: Species              int64\nBlock                ...gPrecipTotal    float64\nLength: 70, dtype: object, 13: [], 14: [], 27: True, ...}, 'RandomForestRegressor': <class 'sklearn.ensemble.forest.RandomForestRegressor'>, 'ShuffleSplit': <class 'sklearn.cross_validation.ShuffleSplit'>, 'X':        Species  Block  Trap   Latitude  Longitud...91         70.442177  \n\n[10506 rows x 77 columns], '_': [], '_11':          Date                                   ... AVE  4100  N OAK PARK AVE, Chicago, IL          , '_12': Species              int64\nBlock                ...gPrecipTotal    float64\nLength: 70, dtype: object, '_13': [], '_14': [], ...}\n        self.user_ns = {'In': ['', 'import pandas as pd\\nfrom sklearn.ensemble import...n import cross_validation, preprocessing, metrics', \"df_train = pd.read_csv('aggregated_train_with_nu...)\\ndf_test = pd.read_csv('../test_filled_new.csv')\", '#df_train.columns,df_test.columns', \"'Species' in df_test.columns\", '[var for var in df_train.columns if var not in df_test.columns]', 'X = df_train.copy()\\nX.dtypes', '[var for var in df_test.columns if var not in X.columns]', 'df_test.Species.values', \"string_features = ['Date','Address','Street','Ad...ies = species_encoder.transform(df_train.Species)\", \"\\ndf_test.Trap = trap_encoder.fit_transform(df_te...itos', 'WnvPresent'],axis=1)\\nexcept:\\n        pass\", 'df_dump.head()', 'X.dtypes[:70]', '[var for var in X.columns if var not in df_test.columns]', '[var for var in df_test.columns if var not in X.columns]', 'clf = RandomForestRegressor(n_estimators=1000,n_jobs=-1)', 'from sklearn.cross_validation import train_test_...re\\nfrom sklearn.metrics import mean_squared_error', 'cv = ShuffleSplit(len(X))', 'cross_val_score(clf,X,y,cv=cv,n_jobs=-1,scoring = roc_auc_score)', 'cross_val_score(clf,X,y,cv=cv,n_jobs=-1,scoring = mean_squared_error)', ...], 'Out': {4: True, 5: ['Unnamed: 0', 'NumMosquitos', 'WnvPresent'], 6: Unnamed: 0                  int64\nDate          ...gTavg           float64\nLength: 85, dtype: object, 7: ['Id'], 8: array(['CULEX PIPIENS/RESTUANS', 'CULEX RESTUANS...IENS/RESTUANS', 'CULEX ERRATICUS'], dtype=object), 11:          Date                                   ... AVE  4100  N OAK PARK AVE, Chicago, IL          , 12: Species              int64\nBlock                ...gPrecipTotal    float64\nLength: 70, dtype: object, 13: [], 14: [], 27: True, ...}, 'RandomForestRegressor': <class 'sklearn.ensemble.forest.RandomForestRegressor'>, 'ShuffleSplit': <class 'sklearn.cross_validation.ShuffleSplit'>, 'X':        Species  Block  Trap   Latitude  Longitud...91         70.442177  \n\n[10506 rows x 77 columns], '_': [], '_11':          Date                                   ... AVE  4100  N OAK PARK AVE, Chicago, IL          , '_12': Species              int64\nBlock                ...gPrecipTotal    float64\nLength: 70, dtype: object, '_13': [], '_14': [], ...}\n   3033             finally:\n   3034                 # Reset our crash handler in place\n   3035                 sys.excepthook = old_excepthook\n   3036         except SystemExit as e:\n\n...........................................................................\n/home/thomas/Desktop/pikki virus/pikki-virus/Data_with_NumMosquitos/<ipython-input-41-ed08852d112f> in <module>()\n----> 1 \n      2 \n      3 \n      4 \n      5 \n      6 cross_val_score(clf,X,y,cv=cv,n_jobs=-1,scoring = mean_squared_error)\n      7 \n      8 \n      9 \n     10 \n\n...........................................................................\n/home/thomas/anaconda3/lib/python3.4/site-packages/sklearn/cross_validation.py in cross_val_score(estimator=RandomForestRegressor(bootstrap=True, compute_im...   oob_score=False, random_state=None, verbose=0), X=array([[  2.00000000e+00,   4.10000000e+01,   1....421769e+01,   9.36912752e-02,   7.04421769e+01]]), y=array([1, 1, 1, ..., 1, 5, 1]), scoring=<function mean_squared_error>, cv=ShuffleSplit(10506, n_iter=10, test_size=0.1, random_state=None), n_jobs=-1, verbose=0, fit_params=None, score_func=None, pre_dispatch='2*n_jobs')\n   1146     parallel = Parallel(n_jobs=n_jobs, verbose=verbose,\n   1147                         pre_dispatch=pre_dispatch)\n   1148     scores = parallel(delayed(_fit_and_score)(clone(estimator), X, y, scorer,\n   1149                                               train, test, verbose, None,\n   1150                                               fit_params)\n-> 1151                       for train, test in cv)\n        cv = ShuffleSplit(10506, n_iter=10, test_size=0.1, random_state=None)\n   1152     return np.array(scores)[:, 0]\n   1153 \n   1154 \n   1155 def _fit_and_score(estimator, X, y, scorer, train, test, verbose, parameters,\n\n...........................................................................\n/home/thomas/anaconda3/lib/python3.4/site-packages/sklearn/externals/joblib/parallel.py in __call__(self=Parallel(n_jobs=-1), iterable=<itertools.islice object>)\n    655             if pre_dispatch == \"all\" or n_jobs == 1:\n    656                 # The iterable was consumed all at once by the above for loop.\n    657                 # No need to wait for async callbacks to trigger to\n    658                 # consumption.\n    659                 self._iterating = False\n--> 660             self.retrieve()\n        self.retrieve = <bound method Parallel.retrieve of Parallel(n_jobs=-1)>\n    661             # Make sure that we get a last message telling us we are done\n    662             elapsed_time = time.time() - self._start_time\n    663             self._print('Done %3i out of %3i | elapsed: %s finished',\n    664                         (len(self._output),\n\n    ---------------------------------------------------------------------------\n    Sub-process traceback:\n    ---------------------------------------------------------------------------\n    ValueError                                         Tue Jun  2 22:17:17 2015\nPID: 8326                  Python 3.4.3: /home/thomas/anaconda3/bin/python3\n...........................................................................\n/home/thomas/anaconda3/lib/python3.4/site-packages/sklearn/cross_validation.py in _fit_and_score(estimator=RandomForestRegressor(bootstrap=True, compute_im...   oob_score=False, random_state=None, verbose=0), X=array([[  2.00000000e+00,   4.10000000e+01,   1....421769e+01,   9.36912752e-02,   7.04421769e+01]]), y=array([1, 1, 1, ..., 1, 5, 1]), scorer=<function mean_squared_error>, train=array([1312, 7127, 6163, ..., 4037, 9113, 8953]), test=array([4092, 3446, 1790, ...,  723, 1491, 2663]), verbose=0, parameters=None, fit_params={}, return_train_score=False, return_parameters=False)\n   1235     X_test, y_test = _safe_split(estimator, X, y, test, train)\n   1236     if y_train is None:\n   1237         estimator.fit(X_train, **fit_params)\n   1238     else:\n   1239         estimator.fit(X_train, y_train, **fit_params)\n-> 1240     test_score = _score(estimator, X_test, y_test, scorer)\n        test_score = undefined\n        estimator = RandomForestRegressor(bootstrap=True, compute_im...   oob_score=False, random_state=None, verbose=0)\n        X_test = array([[  1.        ,  11.        ,  38.        ...2.09565217,\n          0.14270465,  72.09565217]])\n        y_test = array([29,  1, 17, ...,  1, 41,  6])\n        scorer = <function mean_squared_error>\n   1241     if return_train_score:\n   1242         train_score = _score(estimator, X_train, y_train, scorer)\n   1243 \n   1244     scoring_time = time.time() - start_time\n\n...........................................................................\n/home/thomas/anaconda3/lib/python3.4/site-packages/sklearn/cross_validation.py in _score(estimator=RandomForestRegressor(bootstrap=True, compute_im...   oob_score=False, random_state=None, verbose=0), X_test=array([[  1.        ,  11.        ,  38.        ...2.09565217,\n          0.14270465,  72.09565217]]), y_test=array([29,  1, 17, ...,  1, 41,  6]), scorer=<function mean_squared_error>)\n   1291 def _score(estimator, X_test, y_test, scorer):\n   1292     \"\"\"Compute the score of an estimator on a given test set.\"\"\"\n   1293     if y_test is None:\n   1294         score = scorer(estimator, X_test)\n   1295     else:\n-> 1296         score = scorer(estimator, X_test, y_test)\n        score = undefined\n        scorer = <function mean_squared_error>\n        estimator = RandomForestRegressor(bootstrap=True, compute_im...   oob_score=False, random_state=None, verbose=0)\n        X_test = array([[  1.        ,  11.        ,  38.        ...2.09565217,\n          0.14270465,  72.09565217]])\n        y_test = array([29,  1, 17, ...,  1, 41,  6])\n   1297     if not isinstance(score, numbers.Number):\n   1298         raise ValueError(\"scoring must return a number, got %s (%s) instead.\"\n   1299                          % (str(score), type(score)))\n   1300     return score\n\n...........................................................................\n/home/thomas/anaconda3/lib/python3.4/site-packages/sklearn/metrics/metrics.py in mean_squared_error(y_true=RandomForestRegressor(bootstrap=True, compute_im...   oob_score=False, random_state=None, verbose=0), y_pred=array([[  1.        ,  11.        ,  38.        ...2.09565217,\n          0.14270465,  72.09565217]]), sample_weight=array([29,  1, 17, ...,  1, 41,  6]))\n   2214     >>> y_pred = [[0, 2],[-1, 2],[8, -5]]\n   2215     >>> mean_squared_error(y_true, y_pred)  # doctest: +ELLIPSIS\n   2216     0.708...\n   2217 \n   2218     \"\"\"\n-> 2219     y_type, y_true, y_pred = _check_reg_targets(y_true, y_pred)\n        y_type = undefined\n        y_true = RandomForestRegressor(bootstrap=True, compute_im...   oob_score=False, random_state=None, verbose=0)\n        y_pred = array([[  1.        ,  11.        ,  38.        ...2.09565217,\n          0.14270465,  72.09565217]])\n   2220     return np.average(((y_pred - y_true) ** 2).mean(axis=1),\n   2221                       weights=sample_weight)\n   2222 \n   2223 \n\n...........................................................................\n/home/thomas/anaconda3/lib/python3.4/site-packages/sklearn/metrics/metrics.py in _check_reg_targets(y_true=RandomForestRegressor(bootstrap=True, compute_im...   oob_score=False, random_state=None, verbose=0), y_pred=array([[  1.        ,  11.        ,  38.        ...2.09565217,\n          0.14270465,  72.09565217]]))\n     60         Ground truth (correct) target values.\n     61 \n     62     y_pred : array-like of shape = [n_samples, n_outputs]\n     63         Estimated target values.\n     64     \"\"\"\n---> 65     y_true, y_pred = check_arrays(y_true, y_pred)\n        y_true = RandomForestRegressor(bootstrap=True, compute_im...   oob_score=False, random_state=None, verbose=0)\n        y_pred = array([[  1.        ,  11.        ,  38.        ...2.09565217,\n          0.14270465,  72.09565217]])\n     66 \n     67     if y_true.ndim == 1:\n     68         y_true = y_true.reshape((-1, 1))\n     69 \n\n...........................................................................\n/home/thomas/anaconda3/lib/python3.4/site-packages/sklearn/utils/validation.py in check_arrays(*arrays=(RandomForestRegressor(bootstrap=True, compute_im...   oob_score=False, random_state=None, verbose=0), array([[  1.        ,  11.        ,  38.        ...2.09565217,\n          0.14270465,  72.09565217]])), **options={})\n    249             continue\n    250         size = _num_samples(array)\n    251 \n    252         if size != n_samples:\n    253             raise ValueError(\"Found array with dim %d. Expected %d\"\n--> 254                              % (size, n_samples))\n        size = 1051\n        n_samples = 100\n    255 \n    256         if not allow_lists or hasattr(array, \"shape\"):\n    257             if sp.issparse(array):\n    258                 if sparse_format == 'csr':\n\nValueError: Found array with dim 1051. Expected 100\n___________________________________________________________________________"
     ]
    }
   ],
   "source": [
    "cross_val_score(clf,X,y,cv=cv,n_jobs=-1,scoring = mean_squared_error)"
   ]
  },
  {
   "cell_type": "code",
   "execution_count": 88,
   "metadata": {
    "collapsed": false
   },
   "outputs": [],
   "source": [
    "#X = X[:20]\n",
    "#y = y[:20]"
   ]
  },
  {
   "cell_type": "code",
   "execution_count": 89,
   "metadata": {
    "collapsed": true
   },
   "outputs": [],
   "source": [
    "#from sklearn import gaussian_process\n",
    "#clf = gaussian_process.GaussianProcess()"
   ]
  },
  {
   "cell_type": "code",
   "execution_count": 90,
   "metadata": {
    "collapsed": false
   },
   "outputs": [
    {
     "data": {
      "text/plain": [
       "RandomForestRegressor(bootstrap=True, compute_importances=None,\n",
       "           criterion='mse', max_depth=None, max_features='auto',\n",
       "           max_leaf_nodes=None, min_density=None, min_samples_leaf=1,\n",
       "           min_samples_split=2, n_estimators=1000, n_jobs=-1,\n",
       "           oob_score=False, random_state=None, verbose=0)"
      ]
     },
     "execution_count": 90,
     "metadata": {},
     "output_type": "execute_result"
    }
   ],
   "source": [
    "clf.fit(X,y)"
   ]
  },
  {
   "cell_type": "code",
   "execution_count": 91,
   "metadata": {
    "collapsed": false
   },
   "outputs": [],
   "source": [
    "yhat = clf.predict(df_test)"
   ]
  },
  {
   "cell_type": "markdown",
   "metadata": {},
   "source": [
    "##ToDO: Train different regressors (min 5), mean them and use std of the values as margin of error"
   ]
  },
  {
   "cell_type": "code",
   "execution_count": 92,
   "metadata": {
    "collapsed": false
   },
   "outputs": [
    {
     "data": {
      "text/plain": [
       "(12.853512278697886, 11.494908109113737)"
      ]
     },
     "execution_count": 92,
     "metadata": {},
     "output_type": "execute_result"
    }
   ],
   "source": [
    "y.mean(),yhat.mean()"
   ]
  },
  {
   "cell_type": "code",
   "execution_count": 93,
   "metadata": {
    "collapsed": false
   },
   "outputs": [
    {
     "data": {
      "text/plain": [
       "1.0"
      ]
     },
     "execution_count": 93,
     "metadata": {},
     "output_type": "execute_result"
    }
   ],
   "source": [
    "clf.score(df_test,yhat)"
   ]
  },
  {
   "cell_type": "code",
   "execution_count": 94,
   "metadata": {
    "collapsed": true
   },
   "outputs": [],
   "source": [
    "df_test['NumMosquitos'] = yhat"
   ]
  },
  {
   "cell_type": "code",
   "execution_count": 95,
   "metadata": {
    "collapsed": false
   },
   "outputs": [
    {
     "data": {
      "text/plain": [
       "116293"
      ]
     },
     "execution_count": 95,
     "metadata": {},
     "output_type": "execute_result"
    }
   ],
   "source": [
    "len(df_test)"
   ]
  },
  {
   "cell_type": "code",
   "execution_count": 96,
   "metadata": {
    "collapsed": false
   },
   "outputs": [],
   "source": [
    "df_test = pd.concat([df_test,df_dump],axis=1)"
   ]
  },
  {
   "cell_type": "code",
   "execution_count": 97,
   "metadata": {
    "collapsed": false
   },
   "outputs": [],
   "source": [
    "df_test.to_csv('aggregated_test_NumMosquito_no_strings.csv',index_label = 'Id')"
   ]
  },
  {
   "cell_type": "code",
   "execution_count": 98,
   "metadata": {
    "collapsed": false
   },
   "outputs": [
    {
     "data": {
      "text/plain": [
       "[]"
      ]
     },
     "execution_count": 98,
     "metadata": {},
     "output_type": "execute_result"
    }
   ],
   "source": [
    "[var for var in df_test.columns if var not in df_train.columns]"
   ]
  },
  {
   "cell_type": "code",
   "execution_count": 99,
   "metadata": {
    "collapsed": false
   },
   "outputs": [
    {
     "data": {
      "text/plain": [
       "['Unnamed: 0', 'WnvPresent']"
      ]
     },
     "execution_count": 99,
     "metadata": {},
     "output_type": "execute_result"
    }
   ],
   "source": [
    "[var for var in df_train.columns if var not in df_test.columns]"
   ]
  },
  {
   "cell_type": "code",
   "execution_count": 100,
   "metadata": {
    "collapsed": false
   },
   "outputs": [],
   "source": [
    "df_train = df_train.drop('Unnamed: 0',axis=1)"
   ]
  },
  {
   "cell_type": "code",
   "execution_count": 101,
   "metadata": {
    "collapsed": false
   },
   "outputs": [
    {
     "data": {
      "text/plain": [
       "['WnvPresent']"
      ]
     },
     "execution_count": 101,
     "metadata": {},
     "output_type": "execute_result"
    }
   ],
   "source": [
    "[var for var in df_train.columns if var not in df_test.columns]"
   ]
  },
  {
   "cell_type": "code",
   "execution_count": 102,
   "metadata": {
    "collapsed": true
   },
   "outputs": [],
   "source": [
    "df_train.to_csv('aggregated_train_NumMosquito_no_strings.csv',index_label = 'Id')"
   ]
  },
  {
   "cell_type": "code",
   "execution_count": null,
   "metadata": {
    "collapsed": true
   },
   "outputs": [],
   "source": []
  }
 ],
 "metadata": {
  "kernelspec": {
   "display_name": "Python 3",
   "language": "python",
   "name": "python3"
  },
  "language_info": {
   "codemirror_mode": {
    "name": "ipython",
    "version": 3
   },
   "file_extension": ".py",
   "mimetype": "text/x-python",
   "name": "python",
   "nbconvert_exporter": "python",
   "pygments_lexer": "ipython3",
   "version": "3.4.3"
  }
 },
 "nbformat": 4,
 "nbformat_minor": 0
}
