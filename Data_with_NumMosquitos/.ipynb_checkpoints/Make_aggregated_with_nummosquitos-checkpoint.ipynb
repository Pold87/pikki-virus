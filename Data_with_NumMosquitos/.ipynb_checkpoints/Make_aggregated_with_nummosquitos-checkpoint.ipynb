{
 "cells": [
  {
   "cell_type": "code",
   "execution_count": 1,
   "metadata": {
    "collapsed": true
   },
   "outputs": [],
   "source": [
    "import pandas as pd"
   ]
  },
  {
   "cell_type": "code",
   "execution_count": 2,
   "metadata": {
    "collapsed": true
   },
   "outputs": [],
   "source": [
    "from sklearn.ensemble import RandomForestClassifier"
   ]
  },
  {
   "cell_type": "code",
   "execution_count": 3,
   "metadata": {
    "collapsed": false
   },
   "outputs": [],
   "source": [
    "df_train = pd.read_csv(\"../train_filled_new.csv\")"
   ]
  },
  {
   "cell_type": "code",
   "execution_count": 4,
   "metadata": {
    "collapsed": false
   },
   "outputs": [],
   "source": [
    "df_test = pd.read_csv(\"../test_filled_new.csv\")"
   ]
  },
  {
   "cell_type": "code",
   "execution_count": 5,
   "metadata": {
    "collapsed": false
   },
   "outputs": [],
   "source": [
    "df_withcounts = df_train"
   ]
  },
  {
   "cell_type": "code",
   "execution_count": 6,
   "metadata": {
    "collapsed": false
   },
   "outputs": [],
   "source": [
    "train = pd.read_csv('../train.csv')"
   ]
  },
  {
   "cell_type": "code",
   "execution_count": 7,
   "metadata": {
    "collapsed": true
   },
   "outputs": [],
   "source": [
    "df_withcounts['NumMosquitos'] = train['NumMosquitos']"
   ]
  },
  {
   "cell_type": "code",
   "execution_count": 10,
   "metadata": {
    "collapsed": false
   },
   "outputs": [],
   "source": [
    "string_features = ['Date','Address','Species','Street','AddressNumberAndStreet','Trap','CodeSum']\n",
    "\n",
    "df_withcounts = df_withcounts.drop(string_features,axis=1)"
   ]
  },
  {
   "cell_type": "code",
   "execution_count": 12,
   "metadata": {
    "collapsed": false
   },
   "outputs": [
    {
     "data": {
      "text/html": [
       "<div style=\"max-height:1000px;max-width:1500px;overflow:auto;\">\n",
       "<table border=\"1\" class=\"dataframe\">\n",
       "  <thead>\n",
       "    <tr style=\"text-align: right;\">\n",
       "      <th></th>\n",
       "      <th>Block</th>\n",
       "      <th>Latitude</th>\n",
       "      <th>Longitude</th>\n",
       "      <th>AddressAccuracy</th>\n",
       "      <th>NumMosquitos</th>\n",
       "      <th>WnvPresent</th>\n",
       "      <th>Station</th>\n",
       "      <th>Tmax</th>\n",
       "      <th>Tmin</th>\n",
       "      <th>Tavg</th>\n",
       "      <th>...</th>\n",
       "      <th>19_week_avrgPrecipTotal</th>\n",
       "      <th>19_week_avrgTavg</th>\n",
       "      <th>20_week_avrgPrecipTotal</th>\n",
       "      <th>20_week_avrgTavg</th>\n",
       "      <th>21_week_avrgPrecipTotal</th>\n",
       "      <th>21_week_avrgTavg</th>\n",
       "      <th>22_week_avrgPrecipTotal</th>\n",
       "      <th>22_week_avrgTavg</th>\n",
       "      <th>23_week_avrgPrecipTotal</th>\n",
       "      <th>23_week_avrgTavg</th>\n",
       "    </tr>\n",
       "  </thead>\n",
       "  <tbody>\n",
       "    <tr>\n",
       "      <th>0</th>\n",
       "      <td> 41</td>\n",
       "      <td> 41.954690</td>\n",
       "      <td>-87.800991</td>\n",
       "      <td> 9</td>\n",
       "      <td> 1</td>\n",
       "      <td> 0</td>\n",
       "      <td> 1</td>\n",
       "      <td> 88</td>\n",
       "      <td> 60</td>\n",
       "      <td> 74</td>\n",
       "      <td>...</td>\n",
       "      <td> 0.062586</td>\n",
       "      <td> 63.275862</td>\n",
       "      <td> 0.062586</td>\n",
       "      <td> 63.275862</td>\n",
       "      <td> 0.062586</td>\n",
       "      <td> 63.275862</td>\n",
       "      <td> 0.062586</td>\n",
       "      <td> 63.275862</td>\n",
       "      <td> 0.062586</td>\n",
       "      <td> 63.275862</td>\n",
       "    </tr>\n",
       "    <tr>\n",
       "      <th>1</th>\n",
       "      <td> 41</td>\n",
       "      <td> 41.954690</td>\n",
       "      <td>-87.800991</td>\n",
       "      <td> 9</td>\n",
       "      <td> 1</td>\n",
       "      <td> 0</td>\n",
       "      <td> 1</td>\n",
       "      <td> 88</td>\n",
       "      <td> 60</td>\n",
       "      <td> 74</td>\n",
       "      <td>...</td>\n",
       "      <td> 0.062586</td>\n",
       "      <td> 63.275862</td>\n",
       "      <td> 0.062586</td>\n",
       "      <td> 63.275862</td>\n",
       "      <td> 0.062586</td>\n",
       "      <td> 63.275862</td>\n",
       "      <td> 0.062586</td>\n",
       "      <td> 63.275862</td>\n",
       "      <td> 0.062586</td>\n",
       "      <td> 63.275862</td>\n",
       "    </tr>\n",
       "    <tr>\n",
       "      <th>2</th>\n",
       "      <td> 62</td>\n",
       "      <td> 41.994991</td>\n",
       "      <td>-87.769279</td>\n",
       "      <td> 9</td>\n",
       "      <td> 1</td>\n",
       "      <td> 0</td>\n",
       "      <td> 1</td>\n",
       "      <td> 88</td>\n",
       "      <td> 60</td>\n",
       "      <td> 74</td>\n",
       "      <td>...</td>\n",
       "      <td> 0.062586</td>\n",
       "      <td> 63.275862</td>\n",
       "      <td> 0.062586</td>\n",
       "      <td> 63.275862</td>\n",
       "      <td> 0.062586</td>\n",
       "      <td> 63.275862</td>\n",
       "      <td> 0.062586</td>\n",
       "      <td> 63.275862</td>\n",
       "      <td> 0.062586</td>\n",
       "      <td> 63.275862</td>\n",
       "    </tr>\n",
       "    <tr>\n",
       "      <th>3</th>\n",
       "      <td> 79</td>\n",
       "      <td> 41.974089</td>\n",
       "      <td>-87.824812</td>\n",
       "      <td> 8</td>\n",
       "      <td> 1</td>\n",
       "      <td> 0</td>\n",
       "      <td> 1</td>\n",
       "      <td> 88</td>\n",
       "      <td> 60</td>\n",
       "      <td> 74</td>\n",
       "      <td>...</td>\n",
       "      <td> 0.062586</td>\n",
       "      <td> 63.275862</td>\n",
       "      <td> 0.062586</td>\n",
       "      <td> 63.275862</td>\n",
       "      <td> 0.062586</td>\n",
       "      <td> 63.275862</td>\n",
       "      <td> 0.062586</td>\n",
       "      <td> 63.275862</td>\n",
       "      <td> 0.062586</td>\n",
       "      <td> 63.275862</td>\n",
       "    </tr>\n",
       "    <tr>\n",
       "      <th>4</th>\n",
       "      <td> 79</td>\n",
       "      <td> 41.974089</td>\n",
       "      <td>-87.824812</td>\n",
       "      <td> 8</td>\n",
       "      <td> 4</td>\n",
       "      <td> 0</td>\n",
       "      <td> 1</td>\n",
       "      <td> 88</td>\n",
       "      <td> 60</td>\n",
       "      <td> 74</td>\n",
       "      <td>...</td>\n",
       "      <td> 0.062586</td>\n",
       "      <td> 63.275862</td>\n",
       "      <td> 0.062586</td>\n",
       "      <td> 63.275862</td>\n",
       "      <td> 0.062586</td>\n",
       "      <td> 63.275862</td>\n",
       "      <td> 0.062586</td>\n",
       "      <td> 63.275862</td>\n",
       "      <td> 0.062586</td>\n",
       "      <td> 63.275862</td>\n",
       "    </tr>\n",
       "  </tbody>\n",
       "</table>\n",
       "<p>5 rows × 77 columns</p>\n",
       "</div>"
      ],
      "text/plain": [
       "   Block   Latitude  Longitude  AddressAccuracy  NumMosquitos  WnvPresent  \\\n",
       "0     41  41.954690 -87.800991                9             1           0   \n",
       "1     41  41.954690 -87.800991                9             1           0   \n",
       "2     62  41.994991 -87.769279                9             1           0   \n",
       "3     79  41.974089 -87.824812                8             1           0   \n",
       "4     79  41.974089 -87.824812                8             4           0   \n",
       "\n",
       "   Station  Tmax  Tmin  Tavg        ...         19_week_avrgPrecipTotal  \\\n",
       "0        1    88    60    74        ...                        0.062586   \n",
       "1        1    88    60    74        ...                        0.062586   \n",
       "2        1    88    60    74        ...                        0.062586   \n",
       "3        1    88    60    74        ...                        0.062586   \n",
       "4        1    88    60    74        ...                        0.062586   \n",
       "\n",
       "   19_week_avrgTavg  20_week_avrgPrecipTotal  20_week_avrgTavg  \\\n",
       "0         63.275862                 0.062586         63.275862   \n",
       "1         63.275862                 0.062586         63.275862   \n",
       "2         63.275862                 0.062586         63.275862   \n",
       "3         63.275862                 0.062586         63.275862   \n",
       "4         63.275862                 0.062586         63.275862   \n",
       "\n",
       "   21_week_avrgPrecipTotal  21_week_avrgTavg  22_week_avrgPrecipTotal  \\\n",
       "0                 0.062586         63.275862                 0.062586   \n",
       "1                 0.062586         63.275862                 0.062586   \n",
       "2                 0.062586         63.275862                 0.062586   \n",
       "3                 0.062586         63.275862                 0.062586   \n",
       "4                 0.062586         63.275862                 0.062586   \n",
       "\n",
       "   22_week_avrgTavg  23_week_avrgPrecipTotal  23_week_avrgTavg  \n",
       "0         63.275862                 0.062586         63.275862  \n",
       "1         63.275862                 0.062586         63.275862  \n",
       "2         63.275862                 0.062586         63.275862  \n",
       "3         63.275862                 0.062586         63.275862  \n",
       "4         63.275862                 0.062586         63.275862  \n",
       "\n",
       "[5 rows x 77 columns]"
      ]
     },
     "execution_count": 12,
     "metadata": {},
     "output_type": "execute_result"
    }
   ],
   "source": [
    "df_withcounts.head()"
   ]
  },
  {
   "cell_type": "code",
   "execution_count": 9,
   "metadata": {
    "collapsed": true
   },
   "outputs": [],
   "source": [
    "#del df_withcounts['WnvPresent']"
   ]
  },
  {
   "cell_type": "code",
   "execution_count": 11,
   "metadata": {
    "collapsed": true
   },
   "outputs": [],
   "source": [
    "df_withcounts.to_csv('aggregated_train_with_nummosquitos.csv')#,index=False)"
   ]
  },
  {
   "cell_type": "code",
   "execution_count": null,
   "metadata": {
    "collapsed": true
   },
   "outputs": [],
   "source": []
  }
 ],
 "metadata": {
  "kernelspec": {
   "display_name": "Python 3",
   "language": "python",
   "name": "python3"
  },
  "language_info": {
   "codemirror_mode": {
    "name": "ipython",
    "version": 3
   },
   "file_extension": ".py",
   "mimetype": "text/x-python",
   "name": "python",
   "nbconvert_exporter": "python",
   "pygments_lexer": "ipython3",
   "version": "3.4.3"
  }
 },
 "nbformat": 4,
 "nbformat_minor": 0
}
