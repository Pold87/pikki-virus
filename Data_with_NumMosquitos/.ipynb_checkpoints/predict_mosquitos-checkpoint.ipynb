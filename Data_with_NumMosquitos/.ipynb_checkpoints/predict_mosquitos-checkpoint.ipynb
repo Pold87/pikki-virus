{
 "cells": [
  {
   "cell_type": "code",
   "execution_count": 8,
   "metadata": {
    "collapsed": true
   },
   "outputs": [],
   "source": [
    "import pandas as pd\n",
    "from sklearn.ensemble import RandomForestRegressor"
   ]
  },
  {
   "cell_type": "code",
   "execution_count": 9,
   "metadata": {
    "collapsed": false
   },
   "outputs": [],
   "source": [
    "df_train = pd.read_csv('aggregated_train_with_nummosquitos.csv')\n",
    "df_test = pd.read_csv('../test_filled_new.csv')"
   ]
  },
  {
   "cell_type": "code",
   "execution_count": 10,
   "metadata": {
    "collapsed": false
   },
   "outputs": [
    {
     "data": {
      "text/plain": [
       "(Index(['Unnamed: 0', 'Species', 'Block', 'Latitude', 'Longitude', 'AddressAccuracy', 'NumMosquitos', 'WnvPresent', 'Station', 'Tmax', 'Tmin', 'Tavg', 'Depart', 'DewPoint', 'WetBulb', 'Heat', 'Cool', 'Sunrise', 'Sunset', 'Depth', 'SnowFall', 'PrecipTotal', 'StnPressure', 'SeaLevel', 'ResultSpeed', 'ResultDir', 'AvgSpeed', 'Year', 'Month', 'Tavg_week', 'precip_week', 'heat_dw', 'cool_dw', '1_week_avrgPrecipTotal', '1_week_avrgTavg', '2_week_avrgPrecipTotal', '2_week_avrgTavg', '3_week_avrgPrecipTotal', '3_week_avrgTavg', '4_week_avrgPrecipTotal', '4_week_avrgTavg', '5_week_avrgPrecipTotal', '5_week_avrgTavg', '6_week_avrgPrecipTotal', '6_week_avrgTavg', '7_week_avrgPrecipTotal', '7_week_avrgTavg', '8_week_avrgPrecipTotal', '8_week_avrgTavg', '9_week_avrgPrecipTotal', '9_week_avrgTavg', '10_week_avrgPrecipTotal', '10_week_avrgTavg', '11_week_avrgPrecipTotal', '11_week_avrgTavg', '12_week_avrgPrecipTotal', '12_week_avrgTavg', '13_week_avrgPrecipTotal', '13_week_avrgTavg', '14_week_avrgPrecipTotal', '14_week_avrgTavg', '15_week_avrgPrecipTotal', '15_week_avrgTavg', '16_week_avrgPrecipTotal', '16_week_avrgTavg', '17_week_avrgPrecipTotal', '17_week_avrgTavg', '18_week_avrgPrecipTotal', '18_week_avrgTavg', '19_week_avrgPrecipTotal', '19_week_avrgTavg', '20_week_avrgPrecipTotal', '20_week_avrgTavg', '21_week_avrgPrecipTotal', '21_week_avrgTavg', '22_week_avrgPrecipTotal', '22_week_avrgTavg', '23_week_avrgPrecipTotal', '23_week_avrgTavg'], dtype='object'),\n",
       " Index(['Id', 'Date', 'Address', 'Species', 'Block', 'Street', 'Trap', 'AddressNumberAndStreet', 'Latitude', 'Longitude', 'AddressAccuracy', 'Station', 'Tmax', 'Tmin', 'Tavg', 'Depart', 'DewPoint', 'WetBulb', 'Heat', 'Cool', 'Sunrise', 'Sunset', 'CodeSum', 'Depth', 'SnowFall', 'PrecipTotal', 'StnPressure', 'SeaLevel', 'ResultSpeed', 'ResultDir', 'AvgSpeed', 'Year', 'Month', 'Tavg_week', 'precip_week', 'heat_dw', 'cool_dw', '1_week_avrgPrecipTotal', '1_week_avrgTavg', '2_week_avrgPrecipTotal', '2_week_avrgTavg', '3_week_avrgPrecipTotal', '3_week_avrgTavg', '4_week_avrgPrecipTotal', '4_week_avrgTavg', '5_week_avrgPrecipTotal', '5_week_avrgTavg', '6_week_avrgPrecipTotal', '6_week_avrgTavg', '7_week_avrgPrecipTotal', '7_week_avrgTavg', '8_week_avrgPrecipTotal', '8_week_avrgTavg', '9_week_avrgPrecipTotal', '9_week_avrgTavg', '10_week_avrgPrecipTotal', '10_week_avrgTavg', '11_week_avrgPrecipTotal', '11_week_avrgTavg', '12_week_avrgPrecipTotal', '12_week_avrgTavg', '13_week_avrgPrecipTotal', '13_week_avrgTavg', '14_week_avrgPrecipTotal', '14_week_avrgTavg', '15_week_avrgPrecipTotal', '15_week_avrgTavg', '16_week_avrgPrecipTotal', '16_week_avrgTavg', '17_week_avrgPrecipTotal', '17_week_avrgTavg', '18_week_avrgPrecipTotal', '18_week_avrgTavg', '19_week_avrgPrecipTotal', '19_week_avrgTavg', '20_week_avrgPrecipTotal', '20_week_avrgTavg', '21_week_avrgPrecipTotal', '21_week_avrgTavg', '22_week_avrgPrecipTotal', '22_week_avrgTavg', '23_week_avrgPrecipTotal', '23_week_avrgTavg'], dtype='object'))"
      ]
     },
     "execution_count": 10,
     "metadata": {},
     "output_type": "execute_result"
    }
   ],
   "source": [
    "df_train.columns,df_test.columns"
   ]
  },
  {
   "cell_type": "code",
   "execution_count": 11,
   "metadata": {
    "collapsed": false
   },
   "outputs": [
    {
     "data": {
      "text/plain": [
       "['Unnamed: 0', 'NumMosquitos', 'WnvPresent']"
      ]
     },
     "execution_count": 11,
     "metadata": {},
     "output_type": "execute_result"
    }
   ],
   "source": [
    "[var for var in df_train.columns if var not in df_test.columns]"
   ]
  },
  {
   "cell_type": "code",
   "execution_count": 12,
   "metadata": {
    "collapsed": false
   },
   "outputs": [
    {
     "data": {
      "text/plain": [
       "Unnamed: 0           int64\n",
       "Species             object\n",
       "Block                int64\n",
       "Latitude           float64\n",
       "Longitude          float64\n",
       "AddressAccuracy      int64\n",
       "NumMosquitos         int64\n",
       "WnvPresent           int64\n",
       "Station              int64\n",
       "Tmax                 int64\n",
       "Tmin                 int64\n",
       "Tavg               float64\n",
       "Depart             float64\n",
       "DewPoint             int64\n",
       "WetBulb            float64\n",
       "...\n",
       "16_week_avrgTavg           float64\n",
       "17_week_avrgPrecipTotal    float64\n",
       "17_week_avrgTavg           float64\n",
       "18_week_avrgPrecipTotal    float64\n",
       "18_week_avrgTavg           float64\n",
       "19_week_avrgPrecipTotal    float64\n",
       "19_week_avrgTavg           float64\n",
       "20_week_avrgPrecipTotal    float64\n",
       "20_week_avrgTavg           float64\n",
       "21_week_avrgPrecipTotal    float64\n",
       "21_week_avrgTavg           float64\n",
       "22_week_avrgPrecipTotal    float64\n",
       "22_week_avrgTavg           float64\n",
       "23_week_avrgPrecipTotal    float64\n",
       "23_week_avrgTavg           float64\n",
       "Length: 79, dtype: object"
      ]
     },
     "execution_count": 12,
     "metadata": {},
     "output_type": "execute_result"
    }
   ],
   "source": [
    "X = df_train\n",
    "X.dtypes"
   ]
  },
  {
   "cell_type": "code",
   "execution_count": 14,
   "metadata": {
    "collapsed": false
   },
   "outputs": [
    {
     "ename": "ValueError",
     "evalue": "labels ['NumMosquitos' 'Unnamed: 0' 'WnvPresent'] not contained in axis",
     "output_type": "error",
     "traceback": [
      "\u001b[1;31m---------------------------------------------------------------------------\u001b[0m",
      "\u001b[1;31mValueError\u001b[0m                                Traceback (most recent call last)",
      "\u001b[1;32m<ipython-input-14-a2bb2bc377de>\u001b[0m in \u001b[0;36m<module>\u001b[1;34m()\u001b[0m\n\u001b[0;32m      1\u001b[0m \u001b[0mstring_features\u001b[0m \u001b[1;33m=\u001b[0m \u001b[1;33m[\u001b[0m\u001b[1;34m'Date'\u001b[0m\u001b[1;33m,\u001b[0m\u001b[1;34m'Address'\u001b[0m\u001b[1;33m,\u001b[0m\u001b[1;34m'Street'\u001b[0m\u001b[1;33m,\u001b[0m\u001b[1;34m'AddressNumberAndStreet'\u001b[0m\u001b[1;33m,\u001b[0m\u001b[1;34m'Trap'\u001b[0m\u001b[1;33m,\u001b[0m\u001b[1;34m'CodeSum'\u001b[0m\u001b[1;33m]\u001b[0m\u001b[1;33m\u001b[0m\u001b[0m\n\u001b[0;32m      2\u001b[0m \u001b[1;33m\u001b[0m\u001b[0m\n\u001b[1;32m----> 3\u001b[1;33m \u001b[0mX\u001b[0m \u001b[1;33m=\u001b[0m \u001b[0mX\u001b[0m\u001b[1;33m.\u001b[0m\u001b[0mdrop\u001b[0m\u001b[1;33m(\u001b[0m\u001b[1;33m[\u001b[0m\u001b[1;34m'NumMosquitos'\u001b[0m\u001b[1;33m,\u001b[0m\u001b[1;34m'Unnamed: 0'\u001b[0m\u001b[1;33m,\u001b[0m\u001b[1;34m'WnvPresent'\u001b[0m\u001b[1;33m]\u001b[0m\u001b[1;33m,\u001b[0m\u001b[0maxis\u001b[0m\u001b[1;33m=\u001b[0m\u001b[1;36m1\u001b[0m\u001b[1;33m)\u001b[0m\u001b[1;33m\u001b[0m\u001b[0m\n\u001b[0m\u001b[0;32m      4\u001b[0m \u001b[0my\u001b[0m \u001b[1;33m=\u001b[0m \u001b[0mdf_train\u001b[0m\u001b[1;33m[\u001b[0m\u001b[1;34m'NumMosquitos'\u001b[0m\u001b[1;33m]\u001b[0m\u001b[1;33m\u001b[0m\u001b[0m\n\u001b[0;32m      5\u001b[0m \u001b[1;32mtry\u001b[0m\u001b[1;33m:\u001b[0m\u001b[1;33m\u001b[0m\u001b[0m\n",
      "\u001b[1;32m/home/thomas/anaconda3/lib/python3.4/site-packages/pandas/core/generic.py\u001b[0m in \u001b[0;36mdrop\u001b[1;34m(self, labels, axis, level, inplace, **kwargs)\u001b[0m\n\u001b[0;32m   1559\u001b[0m                 \u001b[0mnew_axis\u001b[0m \u001b[1;33m=\u001b[0m \u001b[0maxis\u001b[0m\u001b[1;33m.\u001b[0m\u001b[0mdrop\u001b[0m\u001b[1;33m(\u001b[0m\u001b[0mlabels\u001b[0m\u001b[1;33m,\u001b[0m \u001b[0mlevel\u001b[0m\u001b[1;33m=\u001b[0m\u001b[0mlevel\u001b[0m\u001b[1;33m)\u001b[0m\u001b[1;33m\u001b[0m\u001b[0m\n\u001b[0;32m   1560\u001b[0m             \u001b[1;32melse\u001b[0m\u001b[1;33m:\u001b[0m\u001b[1;33m\u001b[0m\u001b[0m\n\u001b[1;32m-> 1561\u001b[1;33m                 \u001b[0mnew_axis\u001b[0m \u001b[1;33m=\u001b[0m \u001b[0maxis\u001b[0m\u001b[1;33m.\u001b[0m\u001b[0mdrop\u001b[0m\u001b[1;33m(\u001b[0m\u001b[0mlabels\u001b[0m\u001b[1;33m)\u001b[0m\u001b[1;33m\u001b[0m\u001b[0m\n\u001b[0m\u001b[0;32m   1562\u001b[0m             \u001b[0mdropped\u001b[0m \u001b[1;33m=\u001b[0m \u001b[0mself\u001b[0m\u001b[1;33m.\u001b[0m\u001b[0mreindex\u001b[0m\u001b[1;33m(\u001b[0m\u001b[1;33m**\u001b[0m\u001b[1;33m{\u001b[0m\u001b[0maxis_name\u001b[0m\u001b[1;33m:\u001b[0m \u001b[0mnew_axis\u001b[0m\u001b[1;33m}\u001b[0m\u001b[1;33m)\u001b[0m\u001b[1;33m\u001b[0m\u001b[0m\n\u001b[0;32m   1563\u001b[0m             \u001b[1;32mtry\u001b[0m\u001b[1;33m:\u001b[0m\u001b[1;33m\u001b[0m\u001b[0m\n",
      "\u001b[1;32m/home/thomas/anaconda3/lib/python3.4/site-packages/pandas/core/index.py\u001b[0m in \u001b[0;36mdrop\u001b[1;34m(self, labels)\u001b[0m\n\u001b[0;32m   2222\u001b[0m         \u001b[0mmask\u001b[0m \u001b[1;33m=\u001b[0m \u001b[0mindexer\u001b[0m \u001b[1;33m==\u001b[0m \u001b[1;33m-\u001b[0m\u001b[1;36m1\u001b[0m\u001b[1;33m\u001b[0m\u001b[0m\n\u001b[0;32m   2223\u001b[0m         \u001b[1;32mif\u001b[0m \u001b[0mmask\u001b[0m\u001b[1;33m.\u001b[0m\u001b[0many\u001b[0m\u001b[1;33m(\u001b[0m\u001b[1;33m)\u001b[0m\u001b[1;33m:\u001b[0m\u001b[1;33m\u001b[0m\u001b[0m\n\u001b[1;32m-> 2224\u001b[1;33m             \u001b[1;32mraise\u001b[0m \u001b[0mValueError\u001b[0m\u001b[1;33m(\u001b[0m\u001b[1;34m'labels %s not contained in axis'\u001b[0m \u001b[1;33m%\u001b[0m \u001b[0mlabels\u001b[0m\u001b[1;33m[\u001b[0m\u001b[0mmask\u001b[0m\u001b[1;33m]\u001b[0m\u001b[1;33m)\u001b[0m\u001b[1;33m\u001b[0m\u001b[0m\n\u001b[0m\u001b[0;32m   2225\u001b[0m         \u001b[1;32mreturn\u001b[0m \u001b[0mself\u001b[0m\u001b[1;33m.\u001b[0m\u001b[0mdelete\u001b[0m\u001b[1;33m(\u001b[0m\u001b[0mindexer\u001b[0m\u001b[1;33m)\u001b[0m\u001b[1;33m\u001b[0m\u001b[0m\n\u001b[0;32m   2226\u001b[0m \u001b[1;33m\u001b[0m\u001b[0m\n",
      "\u001b[1;31mValueError\u001b[0m: labels ['NumMosquitos' 'Unnamed: 0' 'WnvPresent'] not contained in axis"
     ]
    }
   ],
   "source": [
    "string_features = ['Date','Address','Street','AddressNumberAndStreet','Trap','CodeSum']\n",
    "\n",
    "X = X.drop(['NumMosquitos','Unnamed: 0','WnvPresent'],axis=1)\n",
    "y = df_train['NumMosquitos']\n",
    "try:\n",
    " X = X.drop(string_features,axis=1)\n",
    "except:\n",
    "    pass\n",
    "try:\n",
    " df_test = df_test.drop(string_features,axis=1)\n",
    "except:\n",
    "    pass\n",
    "try:\n",
    " df_test = df_test.drop('Id',axis=1)\n",
    "except: \n",
    "    pass\n",
    "#X.head()"
   ]
  },
  {
   "cell_type": "code",
   "execution_count": 80,
   "metadata": {
    "collapsed": false
   },
   "outputs": [
    {
     "data": {
      "text/plain": [
       "Block                int64\n",
       "Latitude           float64\n",
       "Longitude          float64\n",
       "AddressAccuracy      int64\n",
       "Station              int64\n",
       "Tmax                 int64\n",
       "Tmin                 int64\n",
       "Tavg               float64\n",
       "Depart             float64\n",
       "DewPoint             int64\n",
       "WetBulb            float64\n",
       "Heat                 int64\n",
       "Cool                 int64\n",
       "Sunrise            float64\n",
       "Sunset             float64\n",
       "Depth              float64\n",
       "SnowFall           float64\n",
       "PrecipTotal        float64\n",
       "StnPressure        float64\n",
       "SeaLevel           float64\n",
       "dtype: object"
      ]
     },
     "execution_count": 80,
     "metadata": {},
     "output_type": "execute_result"
    }
   ],
   "source": [
    "X.dtypes[:20]"
   ]
  },
  {
   "cell_type": "code",
   "execution_count": 81,
   "metadata": {
    "collapsed": false
   },
   "outputs": [
    {
     "data": {
      "text/plain": [
       "[]"
      ]
     },
     "execution_count": 81,
     "metadata": {},
     "output_type": "execute_result"
    }
   ],
   "source": [
    "[var for var in X.columns if var not in df_test.columns]"
   ]
  },
  {
   "cell_type": "code",
   "execution_count": 82,
   "metadata": {
    "collapsed": false
   },
   "outputs": [
    {
     "data": {
      "text/plain": [
       "[]"
      ]
     },
     "execution_count": 82,
     "metadata": {},
     "output_type": "execute_result"
    }
   ],
   "source": [
    "[var for var in df_test.columns if var not in X.columns]"
   ]
  },
  {
   "cell_type": "code",
   "execution_count": 83,
   "metadata": {
    "collapsed": true
   },
   "outputs": [],
   "source": [
    "clf = RandomForestRegressor(n_estimators=100)"
   ]
  },
  {
   "cell_type": "code",
   "execution_count": 84,
   "metadata": {
    "collapsed": false
   },
   "outputs": [
    {
     "data": {
      "text/plain": [
       "RandomForestRegressor(bootstrap=True, compute_importances=None,\n",
       "           criterion='mse', max_depth=None, max_features='auto',\n",
       "           max_leaf_nodes=None, min_density=None, min_samples_leaf=1,\n",
       "           min_samples_split=2, n_estimators=100, n_jobs=1,\n",
       "           oob_score=False, random_state=None, verbose=0)"
      ]
     },
     "execution_count": 84,
     "metadata": {},
     "output_type": "execute_result"
    }
   ],
   "source": [
    "clf.fit(X,y)"
   ]
  },
  {
   "cell_type": "code",
   "execution_count": 85,
   "metadata": {
    "collapsed": false
   },
   "outputs": [],
   "source": [
    "yhat = clf.predict(df_test)"
   ]
  },
  {
   "cell_type": "code",
   "execution_count": 86,
   "metadata": {
    "collapsed": false
   },
   "outputs": [
    {
     "data": {
      "text/plain": [
       "(12.853512278697886, 11.357570011466832)"
      ]
     },
     "execution_count": 86,
     "metadata": {},
     "output_type": "execute_result"
    }
   ],
   "source": [
    "y.mean(),yhat.mean()"
   ]
  },
  {
   "cell_type": "code",
   "execution_count": 87,
   "metadata": {
    "collapsed": false
   },
   "outputs": [
    {
     "data": {
      "text/plain": [
       "1.0"
      ]
     },
     "execution_count": 87,
     "metadata": {},
     "output_type": "execute_result"
    }
   ],
   "source": [
    "clf.score(df_test,yhat)"
   ]
  },
  {
   "cell_type": "code",
   "execution_count": 88,
   "metadata": {
    "collapsed": true
   },
   "outputs": [],
   "source": [
    "df_test['NumMosquitos'] = yhat"
   ]
  },
  {
   "cell_type": "code",
   "execution_count": 90,
   "metadata": {
    "collapsed": false
   },
   "outputs": [],
   "source": [
    "df_test.to_csv('aggregated_test_NumMosquito_no_strings.csv')"
   ]
  },
  {
   "cell_type": "code",
   "execution_count": 65,
   "metadata": {
    "collapsed": false
   },
   "outputs": [
    {
     "data": {
      "text/html": [
       "<div style=\"max-height:1000px;max-width:1500px;overflow:auto;\">\n",
       "<table border=\"1\" class=\"dataframe\">\n",
       "  <thead>\n",
       "    <tr style=\"text-align: right;\">\n",
       "      <th></th>\n",
       "      <th>Species</th>\n",
       "      <th>Block</th>\n",
       "      <th>Street</th>\n",
       "      <th>Trap</th>\n",
       "      <th>Latitude</th>\n",
       "      <th>Longitude</th>\n",
       "      <th>AddressAccuracy</th>\n",
       "      <th>month</th>\n",
       "      <th>day</th>\n",
       "      <th>Lat_int</th>\n",
       "      <th>...</th>\n",
       "      <th>WetBulb_y</th>\n",
       "      <th>Heat_y</th>\n",
       "      <th>Cool_y</th>\n",
       "      <th>PrecipTotal_y</th>\n",
       "      <th>StnPressure_y</th>\n",
       "      <th>SeaLevel_y</th>\n",
       "      <th>ResultSpeed_y</th>\n",
       "      <th>ResultDir_y</th>\n",
       "      <th>AvgSpeed_y</th>\n",
       "      <th>NumMosquitos</th>\n",
       "    </tr>\n",
       "  </thead>\n",
       "  <tbody>\n",
       "    <tr>\n",
       "      <th>0</th>\n",
       "      <td> 2</td>\n",
       "      <td> 41</td>\n",
       "      <td> 36</td>\n",
       "      <td> 1</td>\n",
       "      <td> 41.95469</td>\n",
       "      <td>-87.800991</td>\n",
       "      <td> 9</td>\n",
       "      <td> 6</td>\n",
       "      <td> 11</td>\n",
       "      <td> 41</td>\n",
       "      <td>...</td>\n",
       "      <td> 64</td>\n",
       "      <td> 0</td>\n",
       "      <td> 11</td>\n",
       "      <td> 0</td>\n",
       "      <td> 29.34</td>\n",
       "      <td> 29.97</td>\n",
       "      <td> 9.4</td>\n",
       "      <td> 18</td>\n",
       "      <td> 10.4</td>\n",
       "      <td> 18.268333</td>\n",
       "    </tr>\n",
       "    <tr>\n",
       "      <th>1</th>\n",
       "      <td> 3</td>\n",
       "      <td> 41</td>\n",
       "      <td> 36</td>\n",
       "      <td> 1</td>\n",
       "      <td> 41.95469</td>\n",
       "      <td>-87.800991</td>\n",
       "      <td> 9</td>\n",
       "      <td> 6</td>\n",
       "      <td> 11</td>\n",
       "      <td> 41</td>\n",
       "      <td>...</td>\n",
       "      <td> 64</td>\n",
       "      <td> 0</td>\n",
       "      <td> 11</td>\n",
       "      <td> 0</td>\n",
       "      <td> 29.34</td>\n",
       "      <td> 29.97</td>\n",
       "      <td> 9.4</td>\n",
       "      <td> 18</td>\n",
       "      <td> 10.4</td>\n",
       "      <td> 17.746500</td>\n",
       "    </tr>\n",
       "    <tr>\n",
       "      <th>2</th>\n",
       "      <td> 1</td>\n",
       "      <td> 41</td>\n",
       "      <td> 36</td>\n",
       "      <td> 1</td>\n",
       "      <td> 41.95469</td>\n",
       "      <td>-87.800991</td>\n",
       "      <td> 9</td>\n",
       "      <td> 6</td>\n",
       "      <td> 11</td>\n",
       "      <td> 41</td>\n",
       "      <td>...</td>\n",
       "      <td> 64</td>\n",
       "      <td> 0</td>\n",
       "      <td> 11</td>\n",
       "      <td> 0</td>\n",
       "      <td> 29.34</td>\n",
       "      <td> 29.97</td>\n",
       "      <td> 9.4</td>\n",
       "      <td> 18</td>\n",
       "      <td> 10.4</td>\n",
       "      <td> 13.918333</td>\n",
       "    </tr>\n",
       "    <tr>\n",
       "      <th>3</th>\n",
       "      <td> 4</td>\n",
       "      <td> 41</td>\n",
       "      <td> 36</td>\n",
       "      <td> 1</td>\n",
       "      <td> 41.95469</td>\n",
       "      <td>-87.800991</td>\n",
       "      <td> 9</td>\n",
       "      <td> 6</td>\n",
       "      <td> 11</td>\n",
       "      <td> 41</td>\n",
       "      <td>...</td>\n",
       "      <td> 64</td>\n",
       "      <td> 0</td>\n",
       "      <td> 11</td>\n",
       "      <td> 0</td>\n",
       "      <td> 29.34</td>\n",
       "      <td> 29.97</td>\n",
       "      <td> 9.4</td>\n",
       "      <td> 18</td>\n",
       "      <td> 10.4</td>\n",
       "      <td> 17.376500</td>\n",
       "    </tr>\n",
       "    <tr>\n",
       "      <th>4</th>\n",
       "      <td> 6</td>\n",
       "      <td> 41</td>\n",
       "      <td> 36</td>\n",
       "      <td> 1</td>\n",
       "      <td> 41.95469</td>\n",
       "      <td>-87.800991</td>\n",
       "      <td> 9</td>\n",
       "      <td> 6</td>\n",
       "      <td> 11</td>\n",
       "      <td> 41</td>\n",
       "      <td>...</td>\n",
       "      <td> 64</td>\n",
       "      <td> 0</td>\n",
       "      <td> 11</td>\n",
       "      <td> 0</td>\n",
       "      <td> 29.34</td>\n",
       "      <td> 29.97</td>\n",
       "      <td> 9.4</td>\n",
       "      <td> 18</td>\n",
       "      <td> 10.4</td>\n",
       "      <td> 16.566500</td>\n",
       "    </tr>\n",
       "  </tbody>\n",
       "</table>\n",
       "<p>5 rows × 43 columns</p>\n",
       "</div>"
      ],
      "text/plain": [
       "   Species  Block  Street  Trap  Latitude  Longitude  AddressAccuracy  month  \\\n",
       "0        2     41      36     1  41.95469 -87.800991                9      6   \n",
       "1        3     41      36     1  41.95469 -87.800991                9      6   \n",
       "2        1     41      36     1  41.95469 -87.800991                9      6   \n",
       "3        4     41      36     1  41.95469 -87.800991                9      6   \n",
       "4        6     41      36     1  41.95469 -87.800991                9      6   \n",
       "\n",
       "   day  Lat_int      ...       WetBulb_y  Heat_y  Cool_y  PrecipTotal_y  \\\n",
       "0   11       41      ...              64       0      11              0   \n",
       "1   11       41      ...              64       0      11              0   \n",
       "2   11       41      ...              64       0      11              0   \n",
       "3   11       41      ...              64       0      11              0   \n",
       "4   11       41      ...              64       0      11              0   \n",
       "\n",
       "   StnPressure_y  SeaLevel_y  ResultSpeed_y  ResultDir_y  AvgSpeed_y  \\\n",
       "0          29.34       29.97            9.4           18        10.4   \n",
       "1          29.34       29.97            9.4           18        10.4   \n",
       "2          29.34       29.97            9.4           18        10.4   \n",
       "3          29.34       29.97            9.4           18        10.4   \n",
       "4          29.34       29.97            9.4           18        10.4   \n",
       "\n",
       "   NumMosquitos  \n",
       "0     18.268333  \n",
       "1     17.746500  \n",
       "2     13.918333  \n",
       "3     17.376500  \n",
       "4     16.566500  \n",
       "\n",
       "[5 rows x 43 columns]"
      ]
     },
     "execution_count": 65,
     "metadata": {},
     "output_type": "execute_result"
    }
   ],
   "source": [
    "df_test.head()"
   ]
  },
  {
   "cell_type": "code",
   "execution_count": null,
   "metadata": {
    "collapsed": true
   },
   "outputs": [],
   "source": []
  }
 ],
 "metadata": {
  "kernelspec": {
   "display_name": "Python 3",
   "language": "python",
   "name": "python3"
  },
  "language_info": {
   "codemirror_mode": {
    "name": "ipython",
    "version": 3
   },
   "file_extension": ".py",
   "mimetype": "text/x-python",
   "name": "python",
   "nbconvert_exporter": "python",
   "pygments_lexer": "ipython3",
   "version": "3.4.3"
  }
 },
 "nbformat": 4,
 "nbformat_minor": 0
}
