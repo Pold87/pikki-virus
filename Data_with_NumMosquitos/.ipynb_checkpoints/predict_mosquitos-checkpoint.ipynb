{
 "cells": [
  {
   "cell_type": "code",
   "execution_count": 3,
   "metadata": {
    "collapsed": true
   },
   "outputs": [],
   "source": [
    "import pandas as pd\n",
    "from sklearn.ensemble import RandomForestRegressor"
   ]
  },
  {
   "cell_type": "code",
   "execution_count": 5,
   "metadata": {
    "collapsed": false
   },
   "outputs": [],
   "source": [
    "df_train = pd.read_csv('aggregated_train_with_nummosquitos.csv')\n",
    "df_test = pd.read_csv('../test_filled_new.csv')"
   ]
  },
  {
   "cell_type": "code",
   "execution_count": 6,
   "metadata": {
    "collapsed": false
   },
   "outputs": [
    {
     "data": {
      "text/plain": [
       "(Index(['Unnamed: 0', 'Date', 'Address', 'Species', 'Block', 'Street', 'Trap', 'AddressNumberAndStreet', 'Latitude', 'Longitude', 'AddressAccuracy', 'NumMosquitos', 'WnvPresent', 'Station', 'Tmax', 'Tmin', 'Tavg', 'Depart', 'DewPoint', 'WetBulb', 'Heat', 'Cool', 'Sunrise', 'Sunset', 'CodeSum', 'Depth', 'SnowFall', 'PrecipTotal', 'StnPressure', 'SeaLevel', 'ResultSpeed', 'ResultDir', 'AvgSpeed', 'Year', 'Month', 'Tavg_week', 'precip_week', 'heat_dw', 'cool_dw', '1_week_avrgPrecipTotal', '1_week_avrgTavg', '2_week_avrgPrecipTotal', '2_week_avrgTavg', '3_week_avrgPrecipTotal', '3_week_avrgTavg', '4_week_avrgPrecipTotal', '4_week_avrgTavg', '5_week_avrgPrecipTotal', '5_week_avrgTavg', '6_week_avrgPrecipTotal', '6_week_avrgTavg', '7_week_avrgPrecipTotal', '7_week_avrgTavg', '8_week_avrgPrecipTotal', '8_week_avrgTavg', '9_week_avrgPrecipTotal', '9_week_avrgTavg', '10_week_avrgPrecipTotal', '10_week_avrgTavg', '11_week_avrgPrecipTotal', '11_week_avrgTavg', '12_week_avrgPrecipTotal', '12_week_avrgTavg', '13_week_avrgPrecipTotal', '13_week_avrgTavg', '14_week_avrgPrecipTotal', '14_week_avrgTavg', '15_week_avrgPrecipTotal', '15_week_avrgTavg', '16_week_avrgPrecipTotal', '16_week_avrgTavg', '17_week_avrgPrecipTotal', '17_week_avrgTavg', '18_week_avrgPrecipTotal', '18_week_avrgTavg', '19_week_avrgPrecipTotal', '19_week_avrgTavg', '20_week_avrgPrecipTotal', '20_week_avrgTavg', '21_week_avrgPrecipTotal', '21_week_avrgTavg', '22_week_avrgPrecipTotal', '22_week_avrgTavg', '23_week_avrgPrecipTotal', '23_week_avrgTavg'], dtype='object'),\n",
       " Index(['Id', 'Date', 'Address', 'Species', 'Block', 'Street', 'Trap', 'AddressNumberAndStreet', 'Latitude', 'Longitude', 'AddressAccuracy', 'Station', 'Tmax', 'Tmin', 'Tavg', 'Depart', 'DewPoint', 'WetBulb', 'Heat', 'Cool', 'Sunrise', 'Sunset', 'CodeSum', 'Depth', 'SnowFall', 'PrecipTotal', 'StnPressure', 'SeaLevel', 'ResultSpeed', 'ResultDir', 'AvgSpeed', 'Year', 'Month', 'Tavg_week', 'precip_week', 'heat_dw', 'cool_dw', '1_week_avrgPrecipTotal', '1_week_avrgTavg', '2_week_avrgPrecipTotal', '2_week_avrgTavg', '3_week_avrgPrecipTotal', '3_week_avrgTavg', '4_week_avrgPrecipTotal', '4_week_avrgTavg', '5_week_avrgPrecipTotal', '5_week_avrgTavg', '6_week_avrgPrecipTotal', '6_week_avrgTavg', '7_week_avrgPrecipTotal', '7_week_avrgTavg', '8_week_avrgPrecipTotal', '8_week_avrgTavg', '9_week_avrgPrecipTotal', '9_week_avrgTavg', '10_week_avrgPrecipTotal', '10_week_avrgTavg', '11_week_avrgPrecipTotal', '11_week_avrgTavg', '12_week_avrgPrecipTotal', '12_week_avrgTavg', '13_week_avrgPrecipTotal', '13_week_avrgTavg', '14_week_avrgPrecipTotal', '14_week_avrgTavg', '15_week_avrgPrecipTotal', '15_week_avrgTavg', '16_week_avrgPrecipTotal', '16_week_avrgTavg', '17_week_avrgPrecipTotal', '17_week_avrgTavg', '18_week_avrgPrecipTotal', '18_week_avrgTavg', '19_week_avrgPrecipTotal', '19_week_avrgTavg', '20_week_avrgPrecipTotal', '20_week_avrgTavg', '21_week_avrgPrecipTotal', '21_week_avrgTavg', '22_week_avrgPrecipTotal', '22_week_avrgTavg', '23_week_avrgPrecipTotal', '23_week_avrgTavg'], dtype='object'))"
      ]
     },
     "execution_count": 6,
     "metadata": {},
     "output_type": "execute_result"
    }
   ],
   "source": [
    "df_train.columns,df_test.columns"
   ]
  },
  {
   "cell_type": "code",
   "execution_count": 7,
   "metadata": {
    "collapsed": false
   },
   "outputs": [
    {
     "data": {
      "text/plain": [
       "['Unnamed: 0', 'NumMosquitos', 'WnvPresent']"
      ]
     },
     "execution_count": 7,
     "metadata": {},
     "output_type": "execute_result"
    }
   ],
   "source": [
    "[var for var in df_train.columns if var not in df_test.columns]"
   ]
  },
  {
   "cell_type": "code",
   "execution_count": 8,
   "metadata": {
    "collapsed": false
   },
   "outputs": [],
   "source": [
    "X = df_train\n",
    "X = X.drop(['NumMosquitos','Unnamed: 0','WnvPresent'],axis=1)\n",
    "y = df_train['NumMosquitos']\n"
   ]
  },
  {
   "cell_type": "code",
   "execution_count": 9,
   "metadata": {
    "collapsed": true
   },
   "outputs": [],
   "source": [
    "clf = RandomForestRegressor(n_estimators=100)"
   ]
  },
  {
   "cell_type": "code",
   "execution_count": 10,
   "metadata": {
    "collapsed": false
   },
   "outputs": [
    {
     "ename": "ValueError",
     "evalue": "could not convert string to float: ",
     "output_type": "error",
     "traceback": [
      "\u001b[1;31m---------------------------------------------------------------------------\u001b[0m",
      "\u001b[1;31mValueError\u001b[0m                                Traceback (most recent call last)",
      "\u001b[1;32m<ipython-input-10-12b5b6bd5106>\u001b[0m in \u001b[0;36m<module>\u001b[1;34m()\u001b[0m\n\u001b[1;32m----> 1\u001b[1;33m \u001b[0mclf\u001b[0m\u001b[1;33m.\u001b[0m\u001b[0mfit\u001b[0m\u001b[1;33m(\u001b[0m\u001b[0mX\u001b[0m\u001b[1;33m,\u001b[0m\u001b[0my\u001b[0m\u001b[1;33m)\u001b[0m\u001b[1;33m\u001b[0m\u001b[0m\n\u001b[0m",
      "\u001b[1;32m/home/thomas/anaconda3/lib/python3.4/site-packages/sklearn/ensemble/forest.py\u001b[0m in \u001b[0;36mfit\u001b[1;34m(self, X, y, sample_weight)\u001b[0m\n\u001b[0;32m    222\u001b[0m \u001b[1;33m\u001b[0m\u001b[0m\n\u001b[0;32m    223\u001b[0m         \u001b[1;31m# Convert data\u001b[0m\u001b[1;33m\u001b[0m\u001b[1;33m\u001b[0m\u001b[0m\n\u001b[1;32m--> 224\u001b[1;33m         \u001b[0mX\u001b[0m\u001b[1;33m,\u001b[0m \u001b[1;33m=\u001b[0m \u001b[0mcheck_arrays\u001b[0m\u001b[1;33m(\u001b[0m\u001b[0mX\u001b[0m\u001b[1;33m,\u001b[0m \u001b[0mdtype\u001b[0m\u001b[1;33m=\u001b[0m\u001b[0mDTYPE\u001b[0m\u001b[1;33m,\u001b[0m \u001b[0msparse_format\u001b[0m\u001b[1;33m=\u001b[0m\u001b[1;34m\"dense\"\u001b[0m\u001b[1;33m)\u001b[0m\u001b[1;33m\u001b[0m\u001b[0m\n\u001b[0m\u001b[0;32m    225\u001b[0m \u001b[1;33m\u001b[0m\u001b[0m\n\u001b[0;32m    226\u001b[0m         \u001b[1;31m# Remap output\u001b[0m\u001b[1;33m\u001b[0m\u001b[1;33m\u001b[0m\u001b[0m\n",
      "\u001b[1;32m/home/thomas/anaconda3/lib/python3.4/site-packages/sklearn/utils/validation.py\u001b[0m in \u001b[0;36mcheck_arrays\u001b[1;34m(*arrays, **options)\u001b[0m\n\u001b[0;32m    279\u001b[0m                     \u001b[0marray\u001b[0m \u001b[1;33m=\u001b[0m \u001b[0mnp\u001b[0m\u001b[1;33m.\u001b[0m\u001b[0mascontiguousarray\u001b[0m\u001b[1;33m(\u001b[0m\u001b[0marray\u001b[0m\u001b[1;33m,\u001b[0m \u001b[0mdtype\u001b[0m\u001b[1;33m=\u001b[0m\u001b[0mdtype\u001b[0m\u001b[1;33m)\u001b[0m\u001b[1;33m\u001b[0m\u001b[0m\n\u001b[0;32m    280\u001b[0m                 \u001b[1;32melse\u001b[0m\u001b[1;33m:\u001b[0m\u001b[1;33m\u001b[0m\u001b[0m\n\u001b[1;32m--> 281\u001b[1;33m                     \u001b[0marray\u001b[0m \u001b[1;33m=\u001b[0m \u001b[0mnp\u001b[0m\u001b[1;33m.\u001b[0m\u001b[0masarray\u001b[0m\u001b[1;33m(\u001b[0m\u001b[0marray\u001b[0m\u001b[1;33m,\u001b[0m \u001b[0mdtype\u001b[0m\u001b[1;33m=\u001b[0m\u001b[0mdtype\u001b[0m\u001b[1;33m)\u001b[0m\u001b[1;33m\u001b[0m\u001b[0m\n\u001b[0m\u001b[0;32m    282\u001b[0m                 \u001b[1;32mif\u001b[0m \u001b[1;32mnot\u001b[0m \u001b[0mallow_nans\u001b[0m\u001b[1;33m:\u001b[0m\u001b[1;33m\u001b[0m\u001b[0m\n\u001b[0;32m    283\u001b[0m                     \u001b[0m_assert_all_finite\u001b[0m\u001b[1;33m(\u001b[0m\u001b[0marray\u001b[0m\u001b[1;33m)\u001b[0m\u001b[1;33m\u001b[0m\u001b[0m\n",
      "\u001b[1;32m/home/thomas/anaconda3/lib/python3.4/site-packages/numpy/core/numeric.py\u001b[0m in \u001b[0;36masarray\u001b[1;34m(a, dtype, order)\u001b[0m\n\u001b[0;32m    460\u001b[0m \u001b[1;33m\u001b[0m\u001b[0m\n\u001b[0;32m    461\u001b[0m     \"\"\"\n\u001b[1;32m--> 462\u001b[1;33m     \u001b[1;32mreturn\u001b[0m \u001b[0marray\u001b[0m\u001b[1;33m(\u001b[0m\u001b[0ma\u001b[0m\u001b[1;33m,\u001b[0m \u001b[0mdtype\u001b[0m\u001b[1;33m,\u001b[0m \u001b[0mcopy\u001b[0m\u001b[1;33m=\u001b[0m\u001b[1;32mFalse\u001b[0m\u001b[1;33m,\u001b[0m \u001b[0morder\u001b[0m\u001b[1;33m=\u001b[0m\u001b[0morder\u001b[0m\u001b[1;33m)\u001b[0m\u001b[1;33m\u001b[0m\u001b[0m\n\u001b[0m\u001b[0;32m    463\u001b[0m \u001b[1;33m\u001b[0m\u001b[0m\n\u001b[0;32m    464\u001b[0m \u001b[1;32mdef\u001b[0m \u001b[0masanyarray\u001b[0m\u001b[1;33m(\u001b[0m\u001b[0ma\u001b[0m\u001b[1;33m,\u001b[0m \u001b[0mdtype\u001b[0m\u001b[1;33m=\u001b[0m\u001b[1;32mNone\u001b[0m\u001b[1;33m,\u001b[0m \u001b[0morder\u001b[0m\u001b[1;33m=\u001b[0m\u001b[1;32mNone\u001b[0m\u001b[1;33m)\u001b[0m\u001b[1;33m:\u001b[0m\u001b[1;33m\u001b[0m\u001b[0m\n",
      "\u001b[1;31mValueError\u001b[0m: could not convert string to float: "
     ]
    }
   ],
   "source": [
    "clf.fit(X,y)"
   ]
  },
  {
   "cell_type": "code",
   "execution_count": 60,
   "metadata": {
    "collapsed": false
   },
   "outputs": [],
   "source": [
    "yhat = clf.predict(df_test)"
   ]
  },
  {
   "cell_type": "code",
   "execution_count": 61,
   "metadata": {
    "collapsed": false
   },
   "outputs": [
    {
     "data": {
      "text/plain": [
       "(12.853512278697886, 6.9815729129195692)"
      ]
     },
     "execution_count": 61,
     "metadata": {},
     "output_type": "execute_result"
    }
   ],
   "source": [
    "y.mean(),yhat.mean()"
   ]
  },
  {
   "cell_type": "code",
   "execution_count": 62,
   "metadata": {
    "collapsed": false
   },
   "outputs": [
    {
     "data": {
      "text/plain": [
       "1.0"
      ]
     },
     "execution_count": 62,
     "metadata": {},
     "output_type": "execute_result"
    }
   ],
   "source": [
    "clf.score(df_test,yhat)"
   ]
  },
  {
   "cell_type": "code",
   "execution_count": 63,
   "metadata": {
    "collapsed": true
   },
   "outputs": [],
   "source": [
    "df_test['NumMosquitos'] = yhat"
   ]
  },
  {
   "cell_type": "code",
   "execution_count": 66,
   "metadata": {
    "collapsed": false
   },
   "outputs": [],
   "source": [
    "df_test.to_csv('aggregated_test_NumMosquito.csv')"
   ]
  },
  {
   "cell_type": "code",
   "execution_count": 65,
   "metadata": {
    "collapsed": false
   },
   "outputs": [
    {
     "data": {
      "text/html": [
       "<div style=\"max-height:1000px;max-width:1500px;overflow:auto;\">\n",
       "<table border=\"1\" class=\"dataframe\">\n",
       "  <thead>\n",
       "    <tr style=\"text-align: right;\">\n",
       "      <th></th>\n",
       "      <th>Species</th>\n",
       "      <th>Block</th>\n",
       "      <th>Street</th>\n",
       "      <th>Trap</th>\n",
       "      <th>Latitude</th>\n",
       "      <th>Longitude</th>\n",
       "      <th>AddressAccuracy</th>\n",
       "      <th>month</th>\n",
       "      <th>day</th>\n",
       "      <th>Lat_int</th>\n",
       "      <th>...</th>\n",
       "      <th>WetBulb_y</th>\n",
       "      <th>Heat_y</th>\n",
       "      <th>Cool_y</th>\n",
       "      <th>PrecipTotal_y</th>\n",
       "      <th>StnPressure_y</th>\n",
       "      <th>SeaLevel_y</th>\n",
       "      <th>ResultSpeed_y</th>\n",
       "      <th>ResultDir_y</th>\n",
       "      <th>AvgSpeed_y</th>\n",
       "      <th>NumMosquitos</th>\n",
       "    </tr>\n",
       "  </thead>\n",
       "  <tbody>\n",
       "    <tr>\n",
       "      <th>0</th>\n",
       "      <td> 2</td>\n",
       "      <td> 41</td>\n",
       "      <td> 36</td>\n",
       "      <td> 1</td>\n",
       "      <td> 41.95469</td>\n",
       "      <td>-87.800991</td>\n",
       "      <td> 9</td>\n",
       "      <td> 6</td>\n",
       "      <td> 11</td>\n",
       "      <td> 41</td>\n",
       "      <td>...</td>\n",
       "      <td> 64</td>\n",
       "      <td> 0</td>\n",
       "      <td> 11</td>\n",
       "      <td> 0</td>\n",
       "      <td> 29.34</td>\n",
       "      <td> 29.97</td>\n",
       "      <td> 9.4</td>\n",
       "      <td> 18</td>\n",
       "      <td> 10.4</td>\n",
       "      <td> 18.268333</td>\n",
       "    </tr>\n",
       "    <tr>\n",
       "      <th>1</th>\n",
       "      <td> 3</td>\n",
       "      <td> 41</td>\n",
       "      <td> 36</td>\n",
       "      <td> 1</td>\n",
       "      <td> 41.95469</td>\n",
       "      <td>-87.800991</td>\n",
       "      <td> 9</td>\n",
       "      <td> 6</td>\n",
       "      <td> 11</td>\n",
       "      <td> 41</td>\n",
       "      <td>...</td>\n",
       "      <td> 64</td>\n",
       "      <td> 0</td>\n",
       "      <td> 11</td>\n",
       "      <td> 0</td>\n",
       "      <td> 29.34</td>\n",
       "      <td> 29.97</td>\n",
       "      <td> 9.4</td>\n",
       "      <td> 18</td>\n",
       "      <td> 10.4</td>\n",
       "      <td> 17.746500</td>\n",
       "    </tr>\n",
       "    <tr>\n",
       "      <th>2</th>\n",
       "      <td> 1</td>\n",
       "      <td> 41</td>\n",
       "      <td> 36</td>\n",
       "      <td> 1</td>\n",
       "      <td> 41.95469</td>\n",
       "      <td>-87.800991</td>\n",
       "      <td> 9</td>\n",
       "      <td> 6</td>\n",
       "      <td> 11</td>\n",
       "      <td> 41</td>\n",
       "      <td>...</td>\n",
       "      <td> 64</td>\n",
       "      <td> 0</td>\n",
       "      <td> 11</td>\n",
       "      <td> 0</td>\n",
       "      <td> 29.34</td>\n",
       "      <td> 29.97</td>\n",
       "      <td> 9.4</td>\n",
       "      <td> 18</td>\n",
       "      <td> 10.4</td>\n",
       "      <td> 13.918333</td>\n",
       "    </tr>\n",
       "    <tr>\n",
       "      <th>3</th>\n",
       "      <td> 4</td>\n",
       "      <td> 41</td>\n",
       "      <td> 36</td>\n",
       "      <td> 1</td>\n",
       "      <td> 41.95469</td>\n",
       "      <td>-87.800991</td>\n",
       "      <td> 9</td>\n",
       "      <td> 6</td>\n",
       "      <td> 11</td>\n",
       "      <td> 41</td>\n",
       "      <td>...</td>\n",
       "      <td> 64</td>\n",
       "      <td> 0</td>\n",
       "      <td> 11</td>\n",
       "      <td> 0</td>\n",
       "      <td> 29.34</td>\n",
       "      <td> 29.97</td>\n",
       "      <td> 9.4</td>\n",
       "      <td> 18</td>\n",
       "      <td> 10.4</td>\n",
       "      <td> 17.376500</td>\n",
       "    </tr>\n",
       "    <tr>\n",
       "      <th>4</th>\n",
       "      <td> 6</td>\n",
       "      <td> 41</td>\n",
       "      <td> 36</td>\n",
       "      <td> 1</td>\n",
       "      <td> 41.95469</td>\n",
       "      <td>-87.800991</td>\n",
       "      <td> 9</td>\n",
       "      <td> 6</td>\n",
       "      <td> 11</td>\n",
       "      <td> 41</td>\n",
       "      <td>...</td>\n",
       "      <td> 64</td>\n",
       "      <td> 0</td>\n",
       "      <td> 11</td>\n",
       "      <td> 0</td>\n",
       "      <td> 29.34</td>\n",
       "      <td> 29.97</td>\n",
       "      <td> 9.4</td>\n",
       "      <td> 18</td>\n",
       "      <td> 10.4</td>\n",
       "      <td> 16.566500</td>\n",
       "    </tr>\n",
       "  </tbody>\n",
       "</table>\n",
       "<p>5 rows × 43 columns</p>\n",
       "</div>"
      ],
      "text/plain": [
       "   Species  Block  Street  Trap  Latitude  Longitude  AddressAccuracy  month  \\\n",
       "0        2     41      36     1  41.95469 -87.800991                9      6   \n",
       "1        3     41      36     1  41.95469 -87.800991                9      6   \n",
       "2        1     41      36     1  41.95469 -87.800991                9      6   \n",
       "3        4     41      36     1  41.95469 -87.800991                9      6   \n",
       "4        6     41      36     1  41.95469 -87.800991                9      6   \n",
       "\n",
       "   day  Lat_int      ...       WetBulb_y  Heat_y  Cool_y  PrecipTotal_y  \\\n",
       "0   11       41      ...              64       0      11              0   \n",
       "1   11       41      ...              64       0      11              0   \n",
       "2   11       41      ...              64       0      11              0   \n",
       "3   11       41      ...              64       0      11              0   \n",
       "4   11       41      ...              64       0      11              0   \n",
       "\n",
       "   StnPressure_y  SeaLevel_y  ResultSpeed_y  ResultDir_y  AvgSpeed_y  \\\n",
       "0          29.34       29.97            9.4           18        10.4   \n",
       "1          29.34       29.97            9.4           18        10.4   \n",
       "2          29.34       29.97            9.4           18        10.4   \n",
       "3          29.34       29.97            9.4           18        10.4   \n",
       "4          29.34       29.97            9.4           18        10.4   \n",
       "\n",
       "   NumMosquitos  \n",
       "0     18.268333  \n",
       "1     17.746500  \n",
       "2     13.918333  \n",
       "3     17.376500  \n",
       "4     16.566500  \n",
       "\n",
       "[5 rows x 43 columns]"
      ]
     },
     "execution_count": 65,
     "metadata": {},
     "output_type": "execute_result"
    }
   ],
   "source": [
    "df_test.head()"
   ]
  },
  {
   "cell_type": "code",
   "execution_count": null,
   "metadata": {
    "collapsed": true
   },
   "outputs": [],
   "source": []
  }
 ],
 "metadata": {
  "kernelspec": {
   "display_name": "Python 3",
   "language": "python",
   "name": "python3"
  },
  "language_info": {
   "codemirror_mode": {
    "name": "ipython",
    "version": 3
   },
   "file_extension": ".py",
   "mimetype": "text/x-python",
   "name": "python",
   "nbconvert_exporter": "python",
   "pygments_lexer": "ipython3",
   "version": "3.4.3"
  }
 },
 "nbformat": 4,
 "nbformat_minor": 0
}
