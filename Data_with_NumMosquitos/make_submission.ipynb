{
 "cells": [
  {
   "cell_type": "code",
   "execution_count": 108,
   "metadata": {
    "collapsed": false
   },
   "outputs": [],
   "source": [
    "import pandas as pd\n",
    "\n",
    "df_train = pd.read_csv('aggregated_train_NumMosquito_no_strings.csv')\n",
    "df_train_nomosq = pd.read_csv('../train_filled_new.csv')\n",
    "df_test = pd.read_csv('aggregated_test_NumMosquito_no_strings.csv')\n",
    "df_test_nomosq = pd.read_csv('../test_filled_new.csv')"
   ]
  },
  {
   "cell_type": "code",
   "execution_count": 109,
   "metadata": {
    "collapsed": false
   },
   "outputs": [],
   "source": [
    "from sklearn.ensemble import RandomForestClassifier"
   ]
  },
  {
   "cell_type": "code",
   "execution_count": 110,
   "metadata": {
    "collapsed": true
   },
   "outputs": [],
   "source": [
    "clf = RandomForestClassifier(n_estimators = 1000,n_jobs = 2)"
   ]
  },
  {
   "cell_type": "code",
   "execution_count": 111,
   "metadata": {
    "collapsed": false
   },
   "outputs": [
    {
     "data": {
      "text/plain": [
       "['NumMosquitos',\n",
       " 'Date.1',\n",
       " 'Address.1',\n",
       " 'Street.1',\n",
       " 'AddressNumberAndStreet.1',\n",
       " 'CodeSum.1',\n",
       " 'NumMosquitos.1',\n",
       " 'Date.2',\n",
       " 'Address.2',\n",
       " 'Street.2',\n",
       " 'AddressNumberAndStreet.2',\n",
       " 'CodeSum.2',\n",
       " 'NumMosquitos.2']"
      ]
     },
     "execution_count": 111,
     "metadata": {},
     "output_type": "execute_result"
    }
   ],
   "source": [
    "st_f = [ var for var in df_test.columns if var not in df_test_nomosq.columns]\n",
    "st_f"
   ]
  },
  {
   "cell_type": "code",
   "execution_count": 112,
   "metadata": {
    "collapsed": false
   },
   "outputs": [],
   "source": [
    "y = df_train.WnvPresent\n",
    "\n",
    "string_features = ['Date','Address','Street','AddressNumberAndStreet','CodeSum']\n",
    "df_train = df_train.drop(string_features,axis= 1)\n",
    "df_test = df_test.drop(string_features,axis=1)\n",
    "df_test = df_test.drop(st_f[1:],axis=1)\n",
    "df_train2 = df_train.drop('NumMosquitos',axis=1)\n",
    "df_test2 = df_test.drop('NumMosquitos',axis=1)\n",
    "X_list = [(df_train.drop('WnvPresent',axis=1),df_test),\n",
    "          (df_train2.drop('WnvPresent',axis=1), df_test2)]\n"
   ]
  },
  {
   "cell_type": "code",
   "execution_count": 113,
   "metadata": {
    "collapsed": false
   },
   "outputs": [
    {
     "data": {
      "text/plain": [
       "Id                   int64\n",
       "Species              int64\n",
       "Block                int64\n",
       "Trap                 int64\n",
       "Latitude           float64\n",
       "Longitude          float64\n",
       "AddressAccuracy      int64\n",
       "Station              int64\n",
       "Tmax                 int64\n",
       "Tmin                 int64\n",
       "Tavg               float64\n",
       "Depart             float64\n",
       "DewPoint             int64\n",
       "WetBulb            float64\n",
       "Heat                 int64\n",
       "...\n",
       "17_week_avrgPrecipTotal    float64\n",
       "17_week_avrgTavg           float64\n",
       "18_week_avrgPrecipTotal    float64\n",
       "18_week_avrgTavg           float64\n",
       "19_week_avrgPrecipTotal    float64\n",
       "19_week_avrgTavg           float64\n",
       "20_week_avrgPrecipTotal    float64\n",
       "20_week_avrgTavg           float64\n",
       "21_week_avrgPrecipTotal    float64\n",
       "21_week_avrgTavg           float64\n",
       "22_week_avrgPrecipTotal    float64\n",
       "22_week_avrgTavg           float64\n",
       "23_week_avrgPrecipTotal    float64\n",
       "23_week_avrgTavg           float64\n",
       "NumMosquitos               float64\n",
       "Length: 79, dtype: object"
      ]
     },
     "execution_count": 113,
     "metadata": {},
     "output_type": "execute_result"
    }
   ],
   "source": [
    "df_test.dtypes"
   ]
  },
  {
   "cell_type": "code",
   "execution_count": 123,
   "metadata": {
    "collapsed": false
   },
   "outputs": [
    {
     "data": {
      "text/plain": [
       "0.052446221206929371"
      ]
     },
     "execution_count": 123,
     "metadata": {},
     "output_type": "execute_result"
    }
   ],
   "source": [
    "np.mean(y)"
   ]
  },
  {
   "cell_type": "code",
   "execution_count": 131,
   "metadata": {
    "collapsed": false
   },
   "outputs": [
    {
     "data": {
      "text/plain": [
       "array(['CULEX PIPIENS/RESTUANS', 'CULEX RESTUANS', 'CULEX PIPIENS', ...,\n",
       "       'CULEX TARSALIS', 'UNSPECIFIED CULEX', 'CULEX ERRATICUS'], dtype=object)"
      ]
     },
     "execution_count": 131,
     "metadata": {},
     "output_type": "execute_result"
    }
   ],
   "source": [
    "df_support = pd.read_csv('../test.csv')\n",
    "df_support.Species.values"
   ]
  },
  {
   "cell_type": "code",
   "execution_count": 134,
   "metadata": {
    "collapsed": false
   },
   "outputs": [
    {
     "name": "stdout",
     "output_type": "stream",
     "text": [
      "WnvPresent    0.045517\n",
      "dtype: float64\n",
      "WnvPresent    0.070049\n",
      "dtype: float64\n"
     ]
    }
   ],
   "source": [
    "import numpy as np\n",
    "i = 1\n",
    "for X,X_test in X_list:\n",
    "    i +=  1\n",
    "    clf.fit(X,y)\n",
    "    yhat = clf.predict_proba(X_test)[:,1]\n",
    "    yhat = pd.DataFrame(yhat,columns=['WnvPresent'])\n",
    "    yhat[df_support.Species=='CULEX TARSALIS']=0\n",
    "    yhat[df_support.Species=='CULEX ERRATICUS']=0\n",
    "    yhat[df_support.Species=='UNSPECIFIED CULEX']=0\n",
    "\n",
    "    yhat.index +=1\n",
    "\n",
    "    #yhat[df_support.Species=='CULEX TARSALIS']=0\n",
    "    print(np.mean(yhat))\n",
    "    yhat.to_csv(str(i) + 'submission.csv',index_label = 'Id')"
   ]
  },
  {
   "cell_type": "code",
   "execution_count": 135,
   "metadata": {
    "collapsed": false
   },
   "outputs": [
    {
     "data": {
      "text/html": [
       "<div style=\"max-height:1000px;max-width:1500px;overflow:auto;\">\n",
       "<table border=\"1\" class=\"dataframe\">\n",
       "  <thead>\n",
       "    <tr style=\"text-align: right;\">\n",
       "      <th></th>\n",
       "      <th>WnvPresent</th>\n",
       "    </tr>\n",
       "  </thead>\n",
       "  <tbody>\n",
       "    <tr>\n",
       "      <th>1</th>\n",
       "      <td> 0.004</td>\n",
       "    </tr>\n",
       "    <tr>\n",
       "      <th>2</th>\n",
       "      <td> 0.003</td>\n",
       "    </tr>\n",
       "    <tr>\n",
       "      <th>3</th>\n",
       "      <td> 0.003</td>\n",
       "    </tr>\n",
       "    <tr>\n",
       "      <th>4</th>\n",
       "      <td> 0.003</td>\n",
       "    </tr>\n",
       "    <tr>\n",
       "      <th>5</th>\n",
       "      <td> 0.003</td>\n",
       "    </tr>\n",
       "  </tbody>\n",
       "</table>\n",
       "</div>"
      ],
      "text/plain": [
       "   WnvPresent\n",
       "1       0.004\n",
       "2       0.003\n",
       "3       0.003\n",
       "4       0.003\n",
       "5       0.003"
      ]
     },
     "execution_count": 135,
     "metadata": {},
     "output_type": "execute_result"
    }
   ],
   "source": [
    "yhat.head()"
   ]
  },
  {
   "cell_type": "code",
   "execution_count": null,
   "metadata": {
    "collapsed": true
   },
   "outputs": [],
   "source": []
  }
 ],
 "metadata": {
  "kernelspec": {
   "display_name": "Python 3",
   "language": "python",
   "name": "python3"
  },
  "language_info": {
   "codemirror_mode": {
    "name": "ipython",
    "version": 3
   },
   "file_extension": ".py",
   "mimetype": "text/x-python",
   "name": "python",
   "nbconvert_exporter": "python",
   "pygments_lexer": "ipython3",
   "version": "3.4.3"
  }
 },
 "nbformat": 4,
 "nbformat_minor": 0
}
