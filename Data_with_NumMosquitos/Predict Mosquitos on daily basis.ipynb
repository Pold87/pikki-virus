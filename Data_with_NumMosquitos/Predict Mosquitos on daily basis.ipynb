{
 "cells": [
  {
   "cell_type": "code",
   "execution_count": 1,
   "metadata": {
    "collapsed": true
   },
   "outputs": [],
   "source": [
    "import pandas as pd\n",
    "from sklearn.ensemble import RandomForestRegressor,GradientBoostingRegressor\n",
    "from sklearn import cross_validation, preprocessing, metrics"
   ]
  },
  {
   "cell_type": "code",
   "execution_count": 2,
   "metadata": {
    "collapsed": true
   },
   "outputs": [],
   "source": [
    "df_train = pd.read_csv('aggregated_train_with_nummosquitos.csv')# from make_aggregated_with_Nummosquitos\n",
    "#df_test = pd.read_csv('../test_filled_new.csv')\n",
    "#orig = pd.read_csv('../test_filled_new.csv')\n",
    "df_test = pd.read_csv('../test_filled_new.csv')\n",
    "train_support = pd.read_csv('../train.csv')\n",
    "test_support = pd.read_csv('../test.csv')\n",
    "#df_train['WnvPresent'] = train_support['WnvPresent']\n",
    "#df_train.Date = train_support.Date\n",
    "#df_test.Date = test_support.Date\n",
    "df_trainSpecies = train_support.Species\n",
    "df_test.Species = test_support.Species"
   ]
  },
  {
   "cell_type": "code",
   "execution_count": 3,
   "metadata": {
    "collapsed": true
   },
   "outputs": [],
   "source": [
    "df_train['counter'] = 1"
   ]
  },
  {
   "cell_type": "code",
   "execution_count": 4,
   "metadata": {
    "collapsed": true
   },
   "outputs": [],
   "source": [
    "X = df_train.copy()\n"
   ]
  },
  {
   "cell_type": "code",
   "execution_count": 5,
   "metadata": {
    "collapsed": false
   },
   "outputs": [
    {
     "name": "stderr",
     "output_type": "stream",
     "text": [
      "/home/thomas/anaconda3/lib/python3.4/site-packages/IPython/kernel/__main__.py:8: SettingWithCopyWarning: \n",
      "A value is trying to be set on a copy of a slice from a DataFrame\n",
      "\n",
      "See the the caveats in the documentation: http://pandas.pydata.org/pandas-docs/stable/indexing.html#indexing-view-versus-copy\n"
     ]
    }
   ],
   "source": [
    "string_features = ['Address','Street','AddressNumberAndStreet','CodeSum']\n",
    "species_encoder = preprocessing.LabelEncoder()\n",
    "#trap_encoder = preprocessing.LabelEncoder()\n",
    "X_dump = X[string_features]\n",
    "df_dump = df_test[string_features]\n",
    "#X_dump = X[string_features]\n",
    "\n",
    "df_test.Species[df_test.Species == 'UNSPECIFIED CULEX'] = 'CULEX PIPIENS/RESTUANS'\n",
    "#X.Species = species_encoder.fit_transform(X.Species)\n",
    "#y = df_train['NumMosquitos']\n",
    "#df_train.Species = species_encoder.transform(df_train.Species)\n",
    "X = X.drop(string_features,axis=1)"
   ]
  },
  {
   "cell_type": "code",
   "execution_count": 6,
   "metadata": {
    "collapsed": false
   },
   "outputs": [],
   "source": [
    "groups = ['Date','Trap','Species']"
   ]
  },
  {
   "cell_type": "code",
   "execution_count": 7,
   "metadata": {
    "collapsed": false
   },
   "outputs": [],
   "source": [
    "tmp = X.groupby(groups)['NumMosquitos'].sum()\n"
   ]
  },
  {
   "cell_type": "code",
   "execution_count": 8,
   "metadata": {
    "collapsed": true
   },
   "outputs": [],
   "source": [
    "X_tmp = X.join(X.groupby(groups)['NumMosquitos'].sum(), on= groups,rsuffix='_counter')"
   ]
  },
  {
   "cell_type": "code",
   "execution_count": 9,
   "metadata": {
    "collapsed": false
   },
   "outputs": [
    {
     "data": {
      "text/plain": [
       "2532"
      ]
     },
     "execution_count": 9,
     "metadata": {},
     "output_type": "execute_result"
    }
   ],
   "source": [
    "X_tmp.NumMosquitos_counter.max()"
   ]
  },
  {
   "cell_type": "code",
   "execution_count": 10,
   "metadata": {
    "collapsed": true
   },
   "outputs": [],
   "source": [
    "y = X_tmp.NumMosquitos_counter\n"
   ]
  },
  {
   "cell_type": "code",
   "execution_count": 11,
   "metadata": {
    "collapsed": false
   },
   "outputs": [],
   "source": [
    "#X_tmp.drop('Date',axis=1)\n",
    "#X_tmp.drop('Trap',axis = 1)#del X.Trap\n",
    "del X_tmp['Trap']\n",
    "del X_tmp['Date']\n",
    "del X_tmp['NumMosquitos']\n",
    "del X_tmp['NumMosquitos_counter']\n",
    "del X_tmp['WnvPresent']\n",
    "del X_tmp['counter']\n",
    "del X_tmp['Unnamed: 0']\n",
    "#['Unnamed: 0', 'WnvPresent', 'counter']\n",
    "\n",
    "X_tmp.Species = species_encoder.fit_transform(X.Species)\n",
    "df_test.Species = species_encoder.transform(df_test.Species)\n",
    "df_train.species = species_encoder.transform(df_train.Species)"
   ]
  },
  {
   "cell_type": "code",
   "execution_count": 12,
   "metadata": {
    "collapsed": true
   },
   "outputs": [],
   "source": [
    "X = X_tmp.copy()"
   ]
  },
  {
   "cell_type": "code",
   "execution_count": 13,
   "metadata": {
    "collapsed": true
   },
   "outputs": [],
   "source": [
    "from sklearn.cross_validation import train_test_split, ShuffleSplit,cross_val_score\n",
    "from sklearn.metrics import mean_squared_error,r2_score\n",
    "from sklearn.neighbors import KNeighborsRegressor\n",
    "from sklearn.linear_model import Ridge, SGDRegressor\n",
    "import numpy as np"
   ]
  },
  {
   "cell_type": "code",
   "execution_count": 14,
   "metadata": {
    "collapsed": true
   },
   "outputs": [],
   "source": [
    "from sklearn.ensemble import RandomForestRegressor,GradientBoostingRegressor\n",
    "from sklearn import cross_validation, preprocessing, metrics\n",
    "from sklearn.preprocessing import scale\n",
    "from sklearn.decomposition import PCA"
   ]
  },
  {
   "cell_type": "code",
   "execution_count": 15,
   "metadata": {
    "collapsed": true
   },
   "outputs": [],
   "source": [
    "\n",
    "clf_list= [#RandomForestRegressor(n_estimators=100,n_jobs=-1),\n",
    "           #RandomForestRegressor(n_estimators=400,n_jobs=-1),\n",
    "           #RandomForestRegressor(n_estimators=1000,n_jobs=-1), \n",
    "           #Ridge(alpha = .01,normalize=True),\n",
    "           #Ridge(alpha = .1,normalize=True),\n",
    "           #Ridge(alpha = .1),\n",
    "           #GradientBoostingRegressor(n_estimators = 100,max_depth=7),\n",
    "          # GradientBoostingRegressor(n_estimators = 1000,max_depth=10),\n",
    "          # GradientBoostingRegressor(n_estimators = 1000,max_depth=15,subsample = .7),#so far the best one, n_es = 400\n",
    "           GradientBoostingRegressor(n_estimators = 4000,max_depth=15,learning_rate = 0.01),\n",
    "          # GradientBoostingRegressor(n_estimators = 1000,max_depth=20,subsample = .7)\n",
    "           #KNeighborsRegressor(),\n",
    "           #SGDRegressor()\n",
    "           #GradientBoostingRegressor(n_estimators = 100,max_depth=4),\n",
    "           #GradientBoostingRegressor(n_estimators = 100,max_depth=2)\n",
    "      ]\n",
    "random_state= 46\n"
   ]
  },
  {
   "cell_type": "code",
   "execution_count": 16,
   "metadata": {
    "collapsed": false
   },
   "outputs": [
    {
     "data": {
      "text/plain": [
       "Species                      int64\n",
       "Block                        int64\n",
       "Latitude                   float64\n",
       "Longitude                  float64\n",
       "AddressAccuracy              int64\n",
       "Calendar_Week                int64\n",
       "Station                      int64\n",
       "Tmax                         int64\n",
       "Tmin                         int64\n",
       "Tavg                       float64\n",
       "Depart                     float64\n",
       "DewPoint                     int64\n",
       "WetBulb                    float64\n",
       "Heat                         int64\n",
       "Cool                         int64\n",
       "Sunrise                    float64\n",
       "Sunset                     float64\n",
       "Depth                      float64\n",
       "SnowFall                   float64\n",
       "PrecipTotal                float64\n",
       "StnPressure                float64\n",
       "SeaLevel                   float64\n",
       "ResultSpeed                float64\n",
       "ResultDir                    int64\n",
       "AvgSpeed                   float64\n",
       "Year                         int64\n",
       "Month                        int64\n",
       "Tavg_week                  float64\n",
       "precip_week                float64\n",
       "heat_dw                    float64\n",
       "                            ...   \n",
       "9_week_avrgPrecipTotal     float64\n",
       "9_week_avrgTavg            float64\n",
       "10_week_avrgPrecipTotal    float64\n",
       "10_week_avrgTavg           float64\n",
       "11_week_avrgPrecipTotal    float64\n",
       "11_week_avrgTavg           float64\n",
       "12_week_avrgPrecipTotal    float64\n",
       "12_week_avrgTavg           float64\n",
       "13_week_avrgPrecipTotal    float64\n",
       "13_week_avrgTavg           float64\n",
       "14_week_avrgPrecipTotal    float64\n",
       "14_week_avrgTavg           float64\n",
       "15_week_avrgPrecipTotal    float64\n",
       "15_week_avrgTavg           float64\n",
       "16_week_avrgPrecipTotal    float64\n",
       "16_week_avrgTavg           float64\n",
       "17_week_avrgPrecipTotal    float64\n",
       "17_week_avrgTavg           float64\n",
       "18_week_avrgPrecipTotal    float64\n",
       "18_week_avrgTavg           float64\n",
       "19_week_avrgPrecipTotal    float64\n",
       "19_week_avrgTavg           float64\n",
       "20_week_avrgPrecipTotal    float64\n",
       "20_week_avrgTavg           float64\n",
       "21_week_avrgPrecipTotal    float64\n",
       "21_week_avrgTavg           float64\n",
       "22_week_avrgPrecipTotal    float64\n",
       "22_week_avrgTavg           float64\n",
       "23_week_avrgPrecipTotal    float64\n",
       "23_week_avrgTavg           float64\n",
       "dtype: object"
      ]
     },
     "execution_count": 16,
     "metadata": {},
     "output_type": "execute_result"
    }
   ],
   "source": [
    "X.dtypes"
   ]
  },
  {
   "cell_type": "code",
   "execution_count": null,
   "metadata": {
    "collapsed": false
   },
   "outputs": [],
   "source": [
    "X = scale(X)\n",
    "\n",
    "\n",
    "err = []\n",
    "r2 = []\n",
    "#get lengths of y_arr -.-\n",
    "\n",
    "X_train, X_test,y_train, y_test = train_test_split(X,y,test_size=.33, random_state= random_state)\n",
    "\n",
    "y_arr = pd.DataFrame(y_test)\n",
    "i = 1\n",
    "#clf = clf_list[1]\n",
    "for clf in clf_list:\n",
    "#for i in np.random.randint(1,size=4):\n",
    "    i += 1\n",
    "    X_train, X_test,y_train, y_test = train_test_split(X,y,test_size=.33, random_state= random_state)\n",
    "    clf.fit(X_train,y_train)\n",
    "    yhat = clf.predict(X_test)\n",
    "    err.append( mean_squared_error(yhat,y_test))\n",
    "    r2.append(r2_score(yhat,y_test))\n",
    "    y_arr[i] = yhat\n",
    "    "
   ]
  },
  {
   "cell_type": "code",
   "execution_count": null,
   "metadata": {
    "collapsed": false
   },
   "outputs": [],
   "source": [
    "y_arr_mean = y_arr.drop(0,axis=1)\n",
    "y_arr_mean = y_arr_mean.mean(axis=1)\n",
    "y_arr_mean\n",
    "r2_score(y_arr_mean,y_arr[0])"
   ]
  },
  {
   "cell_type": "code",
   "execution_count": null,
   "metadata": {
    "collapsed": false
   },
   "outputs": [],
   "source": [
    "r2"
   ]
  },
  {
   "cell_type": "code",
   "execution_count": null,
   "metadata": {
    "collapsed": false
   },
   "outputs": [],
   "source": [
    "X_tmp"
   ]
  },
  {
   "cell_type": "code",
   "execution_count": null,
   "metadata": {
    "collapsed": false
   },
   "outputs": [],
   "source": [
    "df_train['count_mosquitos'] = y"
   ]
  },
  {
   "cell_type": "code",
   "execution_count": null,
   "metadata": {
    "collapsed": false
   },
   "outputs": [],
   "source": [
    "clf.fit(X,y)"
   ]
  },
  {
   "cell_type": "code",
   "execution_count": null,
   "metadata": {
    "collapsed": true
   },
   "outputs": [],
   "source": [
    "df_test = df_test.drop(string_features,axis=1)\n"
   ]
  },
  {
   "cell_type": "code",
   "execution_count": null,
   "metadata": {
    "collapsed": false
   },
   "outputs": [],
   "source": [
    "[var for var in df_test.columns if var not in X_tmp.columns]"
   ]
  },
  {
   "cell_type": "code",
   "execution_count": null,
   "metadata": {
    "collapsed": false
   },
   "outputs": [],
   "source": [
    "[var for var in X_tmp.columns if var not in df_test.columns]"
   ]
  },
  {
   "cell_type": "code",
   "execution_count": null,
   "metadata": {
    "collapsed": true
   },
   "outputs": [],
   "source": [
    "df_test = df_test.drop(['Id', 'Date', 'Trap'],axis=1)"
   ]
  },
  {
   "cell_type": "code",
   "execution_count": null,
   "metadata": {
    "collapsed": false
   },
   "outputs": [],
   "source": [
    "[var for var in df_test.columns if var not in X_tmp.columns]"
   ]
  },
  {
   "cell_type": "code",
   "execution_count": null,
   "metadata": {
    "collapsed": false
   },
   "outputs": [],
   "source": [
    "[var for var in X_tmp.columns if var not in df_test.columns]"
   ]
  },
  {
   "cell_type": "code",
   "execution_count": null,
   "metadata": {
    "collapsed": false
   },
   "outputs": [],
   "source": [
    "[var for var in X_tmp.columns if var not in df_train.columns]"
   ]
  },
  {
   "cell_type": "code",
   "execution_count": null,
   "metadata": {
    "collapsed": false
   },
   "outputs": [],
   "source": [
    "[var for var in df_train.columns if var not in X_tmp.columns]"
   ]
  },
  {
   "cell_type": "code",
   "execution_count": null,
   "metadata": {
    "collapsed": true
   },
   "outputs": [],
   "source": [
    "df_test2 = scale(df_test)"
   ]
  },
  {
   "cell_type": "code",
   "execution_count": null,
   "metadata": {
    "collapsed": false
   },
   "outputs": [],
   "source": [
    "yhat = clf.predict(df_test2)"
   ]
  },
  {
   "cell_type": "code",
   "execution_count": null,
   "metadata": {
    "collapsed": false
   },
   "outputs": [],
   "source": [
    "yhat.mean(),yhat.std(),y.mean(),y.std()"
   ]
  },
  {
   "cell_type": "code",
   "execution_count": null,
   "metadata": {
    "collapsed": false
   },
   "outputs": [],
   "source": [
    "yhat"
   ]
  },
  {
   "cell_type": "code",
   "execution_count": null,
   "metadata": {
    "collapsed": false
   },
   "outputs": [],
   "source": [
    "df_test['count_mosquitos'] = yhat"
   ]
  },
  {
   "cell_type": "code",
   "execution_count": null,
   "metadata": {
    "collapsed": false
   },
   "outputs": [],
   "source": [
    "[var for var in df_train if var not in df_test]"
   ]
  },
  {
   "cell_type": "code",
   "execution_count": null,
   "metadata": {
    "collapsed": true
   },
   "outputs": [],
   "source": [
    "strf = ['Unnamed: 0',\n",
    " 'Date',\n",
    " 'Address',\n",
    " 'Street',\n",
    " 'Trap',\n",
    " 'AddressNumberAndStreet',\n",
    " 'NumMosquitos',\n",
    " #'WnvPresent',\n",
    " 'CodeSum',\n",
    " 'counter']"
   ]
  },
  {
   "cell_type": "code",
   "execution_count": null,
   "metadata": {
    "collapsed": false
   },
   "outputs": [],
   "source": [
    "df_train = df_train.drop(strf,axis=1)"
   ]
  },
  {
   "cell_type": "code",
   "execution_count": null,
   "metadata": {
    "collapsed": false
   },
   "outputs": [],
   "source": [
    "[var for var in df_train if var not in df_test]"
   ]
  },
  {
   "cell_type": "code",
   "execution_count": null,
   "metadata": {
    "collapsed": false
   },
   "outputs": [],
   "source": [
    "[var for var in df_test if var not in df_train]"
   ]
  },
  {
   "cell_type": "code",
   "execution_count": null,
   "metadata": {
    "collapsed": true
   },
   "outputs": [],
   "source": [
    "train_support = pd.read_csv('../train.csv')\n",
    "test_support = pd.read_csv('../test.csv')\n",
    "df_train['WnvPresent'] = train_support['WnvPresent']\n",
    "df_train.Date = train_support.Date\n",
    "df_test.Date = test_support.Date\n",
    "df_trainSpecies = train_support.Species\n",
    "df_test.Species = test_support.Species"
   ]
  },
  {
   "cell_type": "code",
   "execution_count": null,
   "metadata": {
    "collapsed": true
   },
   "outputs": [],
   "source": [
    "df_test.to_csv('new_test.csv',index_label='Id')\n",
    "df_train.to_csv('new_train.csv',index_label='Id')"
   ]
  },
  {
   "cell_type": "code",
   "execution_count": null,
   "metadata": {
    "collapsed": false
   },
   "outputs": [],
   "source": [
    "df_train.WnvPresent"
   ]
  },
  {
   "cell_type": "code",
   "execution_count": null,
   "metadata": {
    "collapsed": true
   },
   "outputs": [],
   "source": []
  }
 ],
 "metadata": {
  "kernelspec": {
   "display_name": "Python 3",
   "language": "python",
   "name": "python3"
  },
  "language_info": {
   "codemirror_mode": {
    "name": "ipython",
    "version": 3
   },
   "file_extension": ".py",
   "mimetype": "text/x-python",
   "name": "python",
   "nbconvert_exporter": "python",
   "pygments_lexer": "ipython3",
   "version": "3.4.3"
  }
 },
 "nbformat": 4,
 "nbformat_minor": 0
}
