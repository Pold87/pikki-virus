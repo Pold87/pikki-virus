{
 "cells": [
  {
   "cell_type": "code",
   "execution_count": 6,
   "metadata": {
    "collapsed": true
   },
   "outputs": [],
   "source": [
    "import pandas as pd"
   ]
  },
  {
   "cell_type": "code",
   "execution_count": 9,
   "metadata": {
    "collapsed": false
   },
   "outputs": [],
   "source": [
    "df_test = pd.read_csv(\"aggregated_test_with_predicted_mosquitonum\")\n",
    "df_train = pd.read_csv(\"aggregated_train_with_nummosquitos.csv\")"
   ]
  },
  {
   "cell_type": "code",
   "execution_count": 11,
   "metadata": {
    "collapsed": false
   },
   "outputs": [
    {
     "data": {
      "text/plain": [
       "(Index(['Unnamed: 0', 'Species', 'Block', 'Street', 'Trap', 'Latitude', 'Longitude', 'AddressAccuracy', 'month', 'day', 'Lat_int', 'Long_int', 'Tmax_x', 'Tmin_x', 'Tavg_x', 'Depart_x', 'DewPoint_x', 'WetBulb_x', 'Heat_x', 'Cool_x', 'Sunrise_x', 'Sunset_x', 'Depth_x', 'SnowFall_x', 'PrecipTotal_x', 'StnPressure_x', 'SeaLevel_x', 'ResultSpeed_x', 'ResultDir_x', 'AvgSpeed_x', 'Tmax_y', 'Tmin_y', 'Tavg_y', 'DewPoint_y', 'WetBulb_y', 'Heat_y', 'Cool_y', 'PrecipTotal_y', 'StnPressure_y', 'SeaLevel_y', 'ResultSpeed_y', 'ResultDir_y', 'AvgSpeed_y', 'WnvPresent', 'NumMosquitos'], dtype='object'),\n",
       " Index(['Unnamed: 0', 'Species', 'Block', 'Street', 'Trap', 'Latitude', 'Longitude', 'AddressAccuracy', 'month', 'day', 'Lat_int', 'Long_int', 'Tmax_x', 'Tmin_x', 'Tavg_x', 'Depart_x', 'DewPoint_x', 'WetBulb_x', 'Heat_x', 'Cool_x', 'Sunrise_x', 'Sunset_x', 'Depth_x', 'SnowFall_x', 'PrecipTotal_x', 'StnPressure_x', 'SeaLevel_x', 'ResultSpeed_x', 'ResultDir_x', 'AvgSpeed_x', 'Tmax_y', 'Tmin_y', 'Tavg_y', 'DewPoint_y', 'WetBulb_y', 'Heat_y', 'Cool_y', 'PrecipTotal_y', 'StnPressure_y', 'SeaLevel_y', 'ResultSpeed_y', 'ResultDir_y', 'AvgSpeed_y', 'NumMosquitos'], dtype='object'))"
      ]
     },
     "execution_count": 11,
     "metadata": {},
     "output_type": "execute_result"
    }
   ],
   "source": [
    "df_train.columns,df_test.columns"
   ]
  },
  {
   "cell_type": "code",
   "execution_count": 15,
   "metadata": {
    "collapsed": false
   },
   "outputs": [
    {
     "name": "stdout",
     "output_type": "stream",
     "text": [
      "(116293, 44)\n"
     ]
    }
   ],
   "source": [
    "print(df.shape)\n",
    "df_X = df_train.copy()\n",
    "df_y = df_train['WnvPresent']"
   ]
  },
  {
   "cell_type": "code",
   "execution_count": 16,
   "metadata": {
    "collapsed": false
   },
   "outputs": [],
   "source": [
    "\n",
    "try:\n",
    "    del df_X['WnvPresent']\n",
    "except:\n",
    "    print('also already deleted')\n",
    "try:\n",
    "    del df_X['Unnamed: 0']\n",
    "except:\n",
    "    print('Wat')\n"
   ]
  },
  {
   "cell_type": "code",
   "execution_count": 24,
   "metadata": {
    "collapsed": false
   },
   "outputs": [
    {
     "data": {
      "text/html": [
       "<div style=\"max-height:1000px;max-width:1500px;overflow:auto;\">\n",
       "<table border=\"1\" class=\"dataframe\">\n",
       "  <thead>\n",
       "    <tr style=\"text-align: right;\">\n",
       "      <th></th>\n",
       "      <th>Species</th>\n",
       "      <th>Block</th>\n",
       "      <th>Street</th>\n",
       "      <th>Trap</th>\n",
       "      <th>Latitude</th>\n",
       "      <th>Longitude</th>\n",
       "      <th>AddressAccuracy</th>\n",
       "      <th>month</th>\n",
       "      <th>day</th>\n",
       "      <th>Lat_int</th>\n",
       "      <th>...</th>\n",
       "      <th>WetBulb_y</th>\n",
       "      <th>Heat_y</th>\n",
       "      <th>Cool_y</th>\n",
       "      <th>PrecipTotal_y</th>\n",
       "      <th>StnPressure_y</th>\n",
       "      <th>SeaLevel_y</th>\n",
       "      <th>ResultSpeed_y</th>\n",
       "      <th>ResultDir_y</th>\n",
       "      <th>AvgSpeed_y</th>\n",
       "      <th>NumMosquitos</th>\n",
       "    </tr>\n",
       "  </thead>\n",
       "  <tbody>\n",
       "    <tr>\n",
       "      <th>0</th>\n",
       "      <td> 2</td>\n",
       "      <td> 41</td>\n",
       "      <td>  36</td>\n",
       "      <td>  1</td>\n",
       "      <td> 41.954690</td>\n",
       "      <td>-87.800991</td>\n",
       "      <td> 9</td>\n",
       "      <td> 5</td>\n",
       "      <td> 29</td>\n",
       "      <td> 41</td>\n",
       "      <td>...</td>\n",
       "      <td> 66</td>\n",
       "      <td> 0</td>\n",
       "      <td> 12</td>\n",
       "      <td> 0</td>\n",
       "      <td> 29.44</td>\n",
       "      <td> 30.09</td>\n",
       "      <td> 5.8</td>\n",
       "      <td> 16</td>\n",
       "      <td> 7.4</td>\n",
       "      <td> 1</td>\n",
       "    </tr>\n",
       "    <tr>\n",
       "      <th>1</th>\n",
       "      <td> 3</td>\n",
       "      <td> 41</td>\n",
       "      <td>  36</td>\n",
       "      <td>  1</td>\n",
       "      <td> 41.954690</td>\n",
       "      <td>-87.800991</td>\n",
       "      <td> 9</td>\n",
       "      <td> 5</td>\n",
       "      <td> 29</td>\n",
       "      <td> 41</td>\n",
       "      <td>...</td>\n",
       "      <td> 66</td>\n",
       "      <td> 0</td>\n",
       "      <td> 12</td>\n",
       "      <td> 0</td>\n",
       "      <td> 29.44</td>\n",
       "      <td> 30.09</td>\n",
       "      <td> 5.8</td>\n",
       "      <td> 16</td>\n",
       "      <td> 7.4</td>\n",
       "      <td> 1</td>\n",
       "    </tr>\n",
       "    <tr>\n",
       "      <th>2</th>\n",
       "      <td> 3</td>\n",
       "      <td> 62</td>\n",
       "      <td>  30</td>\n",
       "      <td>  8</td>\n",
       "      <td> 41.994991</td>\n",
       "      <td>-87.769279</td>\n",
       "      <td> 9</td>\n",
       "      <td> 5</td>\n",
       "      <td> 29</td>\n",
       "      <td> 41</td>\n",
       "      <td>...</td>\n",
       "      <td> 66</td>\n",
       "      <td> 0</td>\n",
       "      <td> 12</td>\n",
       "      <td> 0</td>\n",
       "      <td> 29.44</td>\n",
       "      <td> 30.09</td>\n",
       "      <td> 5.8</td>\n",
       "      <td> 16</td>\n",
       "      <td> 7.4</td>\n",
       "      <td> 1</td>\n",
       "    </tr>\n",
       "    <tr>\n",
       "      <th>3</th>\n",
       "      <td> 2</td>\n",
       "      <td> 79</td>\n",
       "      <td> 120</td>\n",
       "      <td> 15</td>\n",
       "      <td> 41.974089</td>\n",
       "      <td>-87.824812</td>\n",
       "      <td> 8</td>\n",
       "      <td> 5</td>\n",
       "      <td> 29</td>\n",
       "      <td> 41</td>\n",
       "      <td>...</td>\n",
       "      <td> 66</td>\n",
       "      <td> 0</td>\n",
       "      <td> 12</td>\n",
       "      <td> 0</td>\n",
       "      <td> 29.44</td>\n",
       "      <td> 30.09</td>\n",
       "      <td> 5.8</td>\n",
       "      <td> 16</td>\n",
       "      <td> 7.4</td>\n",
       "      <td> 1</td>\n",
       "    </tr>\n",
       "    <tr>\n",
       "      <th>4</th>\n",
       "      <td> 3</td>\n",
       "      <td> 79</td>\n",
       "      <td> 120</td>\n",
       "      <td> 15</td>\n",
       "      <td> 41.974089</td>\n",
       "      <td>-87.824812</td>\n",
       "      <td> 8</td>\n",
       "      <td> 5</td>\n",
       "      <td> 29</td>\n",
       "      <td> 41</td>\n",
       "      <td>...</td>\n",
       "      <td> 66</td>\n",
       "      <td> 0</td>\n",
       "      <td> 12</td>\n",
       "      <td> 0</td>\n",
       "      <td> 29.44</td>\n",
       "      <td> 30.09</td>\n",
       "      <td> 5.8</td>\n",
       "      <td> 16</td>\n",
       "      <td> 7.4</td>\n",
       "      <td> 4</td>\n",
       "    </tr>\n",
       "  </tbody>\n",
       "</table>\n",
       "<p>5 rows × 43 columns</p>\n",
       "</div>"
      ],
      "text/plain": [
       "   Species  Block  Street  Trap   Latitude  Longitude  AddressAccuracy  month  \\\n",
       "0        2     41      36     1  41.954690 -87.800991                9      5   \n",
       "1        3     41      36     1  41.954690 -87.800991                9      5   \n",
       "2        3     62      30     8  41.994991 -87.769279                9      5   \n",
       "3        2     79     120    15  41.974089 -87.824812                8      5   \n",
       "4        3     79     120    15  41.974089 -87.824812                8      5   \n",
       "\n",
       "   day  Lat_int      ...       WetBulb_y  Heat_y  Cool_y  PrecipTotal_y  \\\n",
       "0   29       41      ...              66       0      12              0   \n",
       "1   29       41      ...              66       0      12              0   \n",
       "2   29       41      ...              66       0      12              0   \n",
       "3   29       41      ...              66       0      12              0   \n",
       "4   29       41      ...              66       0      12              0   \n",
       "\n",
       "   StnPressure_y  SeaLevel_y  ResultSpeed_y  ResultDir_y  AvgSpeed_y  \\\n",
       "0          29.44       30.09            5.8           16         7.4   \n",
       "1          29.44       30.09            5.8           16         7.4   \n",
       "2          29.44       30.09            5.8           16         7.4   \n",
       "3          29.44       30.09            5.8           16         7.4   \n",
       "4          29.44       30.09            5.8           16         7.4   \n",
       "\n",
       "   NumMosquitos  \n",
       "0             1  \n",
       "1             1  \n",
       "2             1  \n",
       "3             1  \n",
       "4             4  \n",
       "\n",
       "[5 rows x 43 columns]"
      ]
     },
     "execution_count": 24,
     "metadata": {},
     "output_type": "execute_result"
    }
   ],
   "source": [
    "df_X.head()"
   ]
  },
  {
   "cell_type": "code",
   "execution_count": 19,
   "metadata": {
    "collapsed": false
   },
   "outputs": [
    {
     "data": {
      "text/plain": [
       "'label'"
      ]
     },
     "execution_count": 19,
     "metadata": {},
     "output_type": "execute_result"
    }
   ],
   "source": [
    "df_y.name = 'label'\n",
    "df_y.name"
   ]
  },
  {
   "cell_type": "code",
   "execution_count": 21,
   "metadata": {
    "collapsed": true
   },
   "outputs": [],
   "source": [
    "hdf = pd.HDFStore('storage.h5')"
   ]
  },
  {
   "cell_type": "code",
   "execution_count": 22,
   "metadata": {
    "collapsed": false
   },
   "outputs": [
    {
     "name": "stdout",
     "output_type": "stream",
     "text": [
      "Species\n",
      "Block\n",
      "Street\n",
      "Trap\n",
      "Latitude\n",
      "Longitude\n",
      "AddressAccuracy\n",
      "month\n",
      "day\n",
      "Lat_int\n",
      "Long_int\n",
      "Tmax_x\n",
      "Tmin_x\n",
      "Tavg_x\n",
      "Depart_x\n",
      "DewPoint_x\n",
      "WetBulb_x\n",
      "Heat_x\n",
      "Cool_x\n",
      "Sunrise_x\n",
      "Sunset_x\n",
      "Depth_x\n",
      "SnowFall_x\n",
      "PrecipTotal_x\n",
      "StnPressure_x\n",
      "SeaLevel_x\n",
      "ResultSpeed_x\n",
      "ResultDir_x\n",
      "AvgSpeed_x\n",
      "Tmax_y\n",
      "Tmin_y\n",
      "Tavg_y\n",
      "DewPoint_y\n",
      "WetBulb_y\n",
      "Heat_y\n",
      "Cool_y\n",
      "PrecipTotal_y\n",
      "StnPressure_y\n",
      "SeaLevel_y\n",
      "ResultSpeed_y\n",
      "ResultDir_y\n",
      "AvgSpeed_y\n",
      "NumMosquitos\n"
     ]
    }
   ],
   "source": [
    "for label in  df_X.columns:\n",
    "    print(label)\n",
    "    df_tmp = df_X[label]\n",
    "    df_tmp.to_hdf('storage.h5','data')"
   ]
  },
  {
   "cell_type": "code",
   "execution_count": 25,
   "metadata": {
    "collapsed": true
   },
   "outputs": [],
   "source": [
    "df_y.to_hdf('storage.h5','label')"
   ]
  },
  {
   "cell_type": "code",
   "execution_count": null,
   "metadata": {
    "collapsed": true
   },
   "outputs": [],
   "source": []
  }
 ],
 "metadata": {
  "kernelspec": {
   "display_name": "Python 3",
   "language": "python",
   "name": "python3"
  },
  "language_info": {
   "codemirror_mode": {
    "name": "ipython",
    "version": 3
   },
   "file_extension": ".py",
   "mimetype": "text/x-python",
   "name": "python",
   "nbconvert_exporter": "python",
   "pygments_lexer": "ipython3",
   "version": "3.4.3"
  }
 },
 "nbformat": 4,
 "nbformat_minor": 0
}
