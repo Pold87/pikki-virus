{
 "cells": [
  {
   "cell_type": "code",
   "execution_count": 32,
   "metadata": {
    "collapsed": true
   },
   "outputs": [],
   "source": [
    "import pandas as pd\n",
    "import numpy as np\n",
    "from sklearn import cross_validation, preprocessing, metrics\n",
    "df_train = pd.read_csv('../Data_with_NumMosquitos/unique_train.csv')\n",
    "#df_train_nomosq = pd.read_csv('../train_filled_new.csv')\n",
    "df_test = pd.read_csv('../Data_with_NumMosquitos/new_test_priors.csv')\n",
    "#df_test_nomosq = pd.read_csv('../test_filled_new.csv')"
   ]
  },
  {
   "cell_type": "code",
   "execution_count": 33,
   "metadata": {
    "collapsed": true
   },
   "outputs": [],
   "source": [
    "random_state = 42\n",
    "df_train = df_train.drop(['Block'],axis=1)\n",
    "df_test = df_test.drop(['Block'],axis=1)"
   ]
  },
  {
   "cell_type": "code",
   "execution_count": 34,
   "metadata": {
    "collapsed": true
   },
   "outputs": [],
   "source": [
    "def year_train_test_split(train, target, year):\n",
    "\n",
    "    # Create copy\n",
    "    X = train.copy()\n",
    "\n",
    "    # Retrieve target column and remove from X\n",
    "    y = X[target]\n",
    "    X.drop([target], axis=1)\n",
    "\n",
    "    # Create mask\n",
    "    msk = X.Year == year\n",
    "\n",
    "    # Drop date column\n",
    "    X = X.drop(['Year', 'WnvPresent_DateTrapSpecies'], axis=1)\n",
    "    \n",
    "    # Create dfs based on mask    \n",
    "    X_train = X[~msk]\n",
    "    X_test = X[msk]\n",
    "    X_test = X_test.drop(['count_mosquitos'], axis=1)\n",
    "    y_train = y[~msk]\n",
    "    y_test = y[msk]\n",
    "    y_train_numMosquitos = X.count_mosquitos[~msk] \n",
    "    y_test_numMosquitos = X.count_mosquitos[msk] \n",
    "    \n",
    "    return X_train, X_test, y_train, y_test, y_train_numMosquitos, y_test_numMosquitos,msk"
   ]
  },
  {
   "cell_type": "code",
   "execution_count": 35,
   "metadata": {
    "collapsed": false
   },
   "outputs": [
    {
     "data": {
      "text/plain": [
       "['Month', 'AddressAccuracy']"
      ]
     },
     "execution_count": 35,
     "metadata": {},
     "output_type": "execute_result"
    }
   ],
   "source": [
    "list1 = [#'NumMosquitos',\n",
    "                            'Trap',\n",
    "                            'Month',\n",
    "                            'Block',\n",
    "                            'AddressAccuracy',\n",
    "                            'AddressNumberAndStreet',\n",
    "                            'Address',\n",
    "                            'Street',\n",
    "                            'CodeSum'\n",
    "]\n",
    "\n",
    "[var for var in list1 if var in df_train.columns]"
   ]
  },
  {
   "cell_type": "code",
   "execution_count": 36,
   "metadata": {
    "collapsed": false
   },
   "outputs": [
    {
     "data": {
      "text/plain": [
       "['Year', 'count_mosquitos', 'WnvPresent_DateTrapSpecies']"
      ]
     },
     "execution_count": 36,
     "metadata": {},
     "output_type": "execute_result"
    }
   ],
   "source": [
    "train_for_loo = df_train.drop(['Month', 'AddressAccuracy'], axis=1)\n",
    "test_for_loo = df_test.drop(['Month','AddressAccuracy','Unnamed: 0','Year', 'count_mosquitos'],axis=1)\n",
    "[var for var in test_for_loo.columns if var not in train_for_loo], \n",
    "[var for var in train_for_loo.columns if var not in test_for_loo]"
   ]
  },
  {
   "cell_type": "code",
   "execution_count": 37,
   "metadata": {
    "collapsed": false
   },
   "outputs": [],
   "source": [
    "y_clf = train_for_loo.WnvPresent_DateTrapSpecies\n",
    "yhat_clf = pd.DataFrame(df_test.Tavg)\n",
    "#yhat_clf.Tavg"
   ]
  },
  {
   "cell_type": "code",
   "execution_count": 52,
   "metadata": {
    "collapsed": false
   },
   "outputs": [],
   "source": [
    "from sklearn.neighbors import KNeighborsClassifier\n",
    "from sklearn.ensemble import RandomForestClassifier\n",
    "#XgBoost\n",
    "#NN\n",
    "\n",
    "#clf = KNeighborsClassifier(n_neighbors=10)\n",
    "clf = RandomForestClassifier(n_estimators = 400,n_jobs = -1)"
   ]
  },
  {
   "cell_type": "code",
   "execution_count": 56,
   "metadata": {
    "collapsed": false
   },
   "outputs": [
    {
     "name": "stdout",
     "output_type": "stream",
     "text": [
      "already droped\n"
     ]
    }
   ],
   "source": [
    "#y_clf = train_for_loo.WnvPresent_DateTrapSpecies\n",
    "#y_clf = 'NaN'\n",
    "\n",
    "for year in [2007, 2009, 2011, 2013]:\n",
    "\n",
    "    X_train,X_test, y_train, y_test, y_train_numMosquitos, y_test_numMosquitos,year_mask = year_train_test_split(\n",
    "            train_for_loo,\n",
    "            'WnvPresent_DateTrapSpecies',\n",
    "            year) \n",
    "    X_train = X_train.drop('count_mosquitos',axis=1)\n",
    "    \n",
    "    clf.fit(X_train,y_train)\n",
    "    y_clf[year_mask] =clf.predict_proba(X_test)[:,1]\n",
    "    #test3 = clf.predict_proba(X_train)\n",
    "    #test2 = clf.predict_proba(X_test)\n",
    "    yhat_clf[year]= clf.predict_proba(test_for_loo)[:,1]\n",
    "\n",
    "#    test = clf.predict_proba(test_for_loo)\n",
    "try:\n",
    "    yhat_clf = yhat_clf.drop('Tavg',axis=1)\n",
    "except: \n",
    "    print('already droped')"
   ]
  },
  {
   "cell_type": "code",
   "execution_count": 69,
   "metadata": {
    "collapsed": false
   },
   "outputs": [
    {
     "data": {
      "text/plain": [
       "0         0.071250\n",
       "1         0.106250\n",
       "2         0.077500\n",
       "3         0.108125\n",
       "4         0.088125\n",
       "5         0.108125\n",
       "6         0.071250\n",
       "7         0.090000\n",
       "8         0.072500\n",
       "9         0.105625\n",
       "10        0.075000\n",
       "11        0.107500\n",
       "12        0.088125\n",
       "13        0.107500\n",
       "14        0.072500\n",
       "15        0.088750\n",
       "16        0.068750\n",
       "17        0.110625\n",
       "18        0.068750\n",
       "19        0.110625\n",
       "20        0.093750\n",
       "21        0.110625\n",
       "22        0.068750\n",
       "23        0.086250\n",
       "24        0.068750\n",
       "25        0.110625\n",
       "26        0.068125\n",
       "27        0.110625\n",
       "28        0.091875\n",
       "29        0.110625\n",
       "            ...   \n",
       "116263    0.080625\n",
       "116264    0.125000\n",
       "116265    0.103750\n",
       "116266    0.125000\n",
       "116267    0.083750\n",
       "116268    0.108125\n",
       "116269    0.075000\n",
       "116270    0.108125\n",
       "116271    0.080000\n",
       "116272    0.108125\n",
       "116273    0.092500\n",
       "116274    0.108125\n",
       "116275    0.075000\n",
       "116276    0.094375\n",
       "116277    0.070625\n",
       "116278    0.096250\n",
       "116279    0.077500\n",
       "116280    0.096250\n",
       "116281    0.086250\n",
       "116282    0.096250\n",
       "116283    0.070625\n",
       "116284    0.084375\n",
       "116285    0.087500\n",
       "116286    0.112500\n",
       "116287    0.085000\n",
       "116288    0.112500\n",
       "116289    0.099375\n",
       "116290    0.112500\n",
       "116291    0.087500\n",
       "116292    0.105625\n",
       "dtype: float64"
      ]
     },
     "execution_count": 69,
     "metadata": {},
     "output_type": "execute_result"
    }
   ],
   "source": [
    "yhat_clf.mean(axis=1)"
   ]
  },
  {
   "cell_type": "code",
   "execution_count": 73,
   "metadata": {
    "collapsed": false
   },
   "outputs": [
    {
     "data": {
      "text/plain": [
       "0       0.0550\n",
       "1       0.0325\n",
       "2       0.0275\n",
       "3       0.0400\n",
       "4       0.0400\n",
       "5       0.0425\n",
       "6       0.0175\n",
       "7       0.0375\n",
       "8       0.0375\n",
       "9       0.0375\n",
       "10      0.0375\n",
       "11      0.0375\n",
       "12      0.0375\n",
       "13      0.0375\n",
       "14      0.0375\n",
       "15      0.0425\n",
       "16      0.0475\n",
       "17      0.0375\n",
       "18      0.0325\n",
       "19      0.0400\n",
       "20      0.0400\n",
       "21      0.0400\n",
       "22      0.0375\n",
       "23      0.0425\n",
       "24      0.0400\n",
       "25      0.1675\n",
       "26      0.0700\n",
       "27      0.1625\n",
       "28      0.1500\n",
       "29      0.0550\n",
       "         ...  \n",
       "8491    0.4750\n",
       "8492    0.4700\n",
       "8493    0.4700\n",
       "8494    0.4700\n",
       "8495    0.4700\n",
       "8496    0.4700\n",
       "8497    0.4725\n",
       "8498    0.4700\n",
       "8499    0.4725\n",
       "8500    0.4725\n",
       "8501    0.4725\n",
       "8502    0.4725\n",
       "8503    0.4750\n",
       "8504    0.4700\n",
       "8505    0.4725\n",
       "8506    0.4700\n",
       "8507    0.4725\n",
       "8508    0.4725\n",
       "8509    0.4725\n",
       "8510    0.4775\n",
       "8511    0.4900\n",
       "8512    0.4700\n",
       "8513    0.4700\n",
       "8514    0.4750\n",
       "8515    0.4900\n",
       "8516    0.4700\n",
       "8517    0.4700\n",
       "8518    0.4900\n",
       "8519    0.4775\n",
       "8520    0.4875\n",
       "Name: WnvPresent_DateTrapSpecies, dtype: float64"
      ]
     },
     "execution_count": 73,
     "metadata": {},
     "output_type": "execute_result"
    }
   ],
   "source": [
    "y_clf"
   ]
  },
  {
   "cell_type": "code",
   "execution_count": 76,
   "metadata": {
    "collapsed": false
   },
   "outputs": [],
   "source": [
    "df_train['RF_Prediction'] = y_clf\n",
    "df_test['RF_Prediction'] = yhat_clf.mean(axis=1)"
   ]
  },
  {
   "cell_type": "code",
   "execution_count": 77,
   "metadata": {
    "collapsed": false
   },
   "outputs": [
    {
     "data": {
      "text/plain": [
       "0         0.071250\n",
       "1         0.106250\n",
       "2         0.077500\n",
       "3         0.108125\n",
       "4         0.088125\n",
       "5         0.108125\n",
       "6         0.071250\n",
       "7         0.090000\n",
       "8         0.072500\n",
       "9         0.105625\n",
       "10        0.075000\n",
       "11        0.107500\n",
       "12        0.088125\n",
       "13        0.107500\n",
       "14        0.072500\n",
       "15        0.088750\n",
       "16        0.068750\n",
       "17        0.110625\n",
       "18        0.068750\n",
       "19        0.110625\n",
       "20        0.093750\n",
       "21        0.110625\n",
       "22        0.068750\n",
       "23        0.086250\n",
       "24        0.068750\n",
       "25        0.110625\n",
       "26        0.068125\n",
       "27        0.110625\n",
       "28        0.091875\n",
       "29        0.110625\n",
       "            ...   \n",
       "116263    0.080625\n",
       "116264    0.125000\n",
       "116265    0.103750\n",
       "116266    0.125000\n",
       "116267    0.083750\n",
       "116268    0.108125\n",
       "116269    0.075000\n",
       "116270    0.108125\n",
       "116271    0.080000\n",
       "116272    0.108125\n",
       "116273    0.092500\n",
       "116274    0.108125\n",
       "116275    0.075000\n",
       "116276    0.094375\n",
       "116277    0.070625\n",
       "116278    0.096250\n",
       "116279    0.077500\n",
       "116280    0.096250\n",
       "116281    0.086250\n",
       "116282    0.096250\n",
       "116283    0.070625\n",
       "116284    0.084375\n",
       "116285    0.087500\n",
       "116286    0.112500\n",
       "116287    0.085000\n",
       "116288    0.112500\n",
       "116289    0.099375\n",
       "116290    0.112500\n",
       "116291    0.087500\n",
       "116292    0.105625\n",
       "Name: RF_Prediction, dtype: float64"
      ]
     },
     "execution_count": 77,
     "metadata": {},
     "output_type": "execute_result"
    }
   ],
   "source": [
    "df_test['RF_Prediction']"
   ]
  },
  {
   "cell_type": "code",
   "execution_count": 78,
   "metadata": {
    "collapsed": false
   },
   "outputs": [],
   "source": [
    "df_train.to_csv('train_plus_pred.csv',index=False)\n",
    "df_test.to_csv('test_plus_pred.csv',index=False)"
   ]
  },
  {
   "cell_type": "code",
   "execution_count": null,
   "metadata": {
    "collapsed": true
   },
   "outputs": [],
   "source": []
  }
 ],
 "metadata": {
  "kernelspec": {
   "display_name": "Python 3",
   "language": "python",
   "name": "python3"
  },
  "language_info": {
   "codemirror_mode": {
    "name": "ipython",
    "version": 3
   },
   "file_extension": ".py",
   "mimetype": "text/x-python",
   "name": "python",
   "nbconvert_exporter": "python",
   "pygments_lexer": "ipython3",
   "version": "3.4.3"
  }
 },
 "nbformat": 4,
 "nbformat_minor": 0
}
