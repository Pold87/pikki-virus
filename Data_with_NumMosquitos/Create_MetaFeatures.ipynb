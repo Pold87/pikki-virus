{
 "cells": [
  {
   "cell_type": "code",
   "execution_count": 1,
   "metadata": {
    "collapsed": true
   },
   "outputs": [],
   "source": [
    "import pandas as pd\n",
    "import numpy as np\n",
    "from sklearn import cross_validation, preprocessing, metrics\n",
    "df_train = pd.read_csv('../Data_with_NumMosquitos/unique_train.csv')\n",
    "#df_train_nomosq = pd.read_csv('../train_filled_new.csv')\n",
    "df_test = pd.read_csv('../Data_with_NumMosquitos/new_test_priors.csv')\n",
    "#df_test_nomosq = pd.read_csv('../test_filled_new.csv')"
   ]
  },
  {
   "cell_type": "code",
   "execution_count": 2,
   "metadata": {
    "collapsed": true
   },
   "outputs": [],
   "source": [
    "random_state = 42\n",
    "df_train = df_train.drop(['Block'],axis=1)\n",
    "df_test = df_test.drop(['Block'],axis=1)"
   ]
  },
  {
   "cell_type": "code",
   "execution_count": 3,
   "metadata": {
    "collapsed": true
   },
   "outputs": [],
   "source": [
    "def year_train_test_split(train, target, year):\n",
    "\n",
    "    # Create copy\n",
    "    X = train.copy()\n",
    "\n",
    "    # Retrieve target column and remove from X\n",
    "    y = X[target]\n",
    "    X.drop([target], axis=1)\n",
    "\n",
    "    # Create mask\n",
    "    msk = X.Year == year\n",
    "\n",
    "    # Drop date column\n",
    "    X = X.drop(['Year', 'WnvPresent_DateTrapSpecies'], axis=1)\n",
    "    \n",
    "    # Create dfs based on mask    \n",
    "    X_train = X[~msk]\n",
    "    X_test = X[msk]\n",
    "    X_test = X_test.drop(['count_mosquitos'], axis=1)\n",
    "    y_train = y[~msk]\n",
    "    y_test = y[msk]\n",
    "    y_train_numMosquitos = X.count_mosquitos[~msk] \n",
    "    y_test_numMosquitos = X.count_mosquitos[msk] \n",
    "    \n",
    "    return X_train, X_test, y_train, y_test, y_train_numMosquitos, y_test_numMosquitos,msk"
   ]
  },
  {
   "cell_type": "code",
   "execution_count": 4,
   "metadata": {
    "collapsed": false
   },
   "outputs": [
    {
     "data": {
      "text/plain": [
       "['Month', 'AddressAccuracy']"
      ]
     },
     "execution_count": 4,
     "metadata": {},
     "output_type": "execute_result"
    }
   ],
   "source": [
    "list1 = [#'NumMosquitos',\n",
    "                            'Trap',\n",
    "                            'Month',\n",
    "                            'Block',\n",
    "                            'AddressAccuracy',\n",
    "                            'AddressNumberAndStreet',\n",
    "                            'Address',\n",
    "                            'Street',\n",
    "                            'CodeSum'\n",
    "]\n",
    "\n",
    "[var for var in list1 if var in df_train.columns]"
   ]
  },
  {
   "cell_type": "code",
   "execution_count": 5,
   "metadata": {
    "collapsed": false
   },
   "outputs": [
    {
     "data": {
      "text/plain": [
       "['Year', 'count_mosquitos', 'WnvPresent_DateTrapSpecies']"
      ]
     },
     "execution_count": 5,
     "metadata": {},
     "output_type": "execute_result"
    }
   ],
   "source": [
    "train_for_loo = df_train.drop(['Month', 'AddressAccuracy'], axis=1)\n",
    "test_for_loo = df_test.drop(['Month','AddressAccuracy','Unnamed: 0','Year', 'count_mosquitos'],axis=1)\n",
    "[var for var in test_for_loo.columns if var not in train_for_loo], \n",
    "[var for var in train_for_loo.columns if var not in test_for_loo]"
   ]
  },
  {
   "cell_type": "code",
   "execution_count": 6,
   "metadata": {
    "collapsed": false
   },
   "outputs": [],
   "source": [
    "y_clf = train_for_loo.WnvPresent_DateTrapSpecies\n",
    "yhat_clf = pd.DataFrame(df_test.Tavg)\n",
    "#yhat_clf.Tavg"
   ]
  },
  {
   "cell_type": "markdown",
   "metadata": {},
   "source": [
    "#include Neural Net and XGBoost here!"
   ]
  },
  {
   "cell_type": "code",
   "execution_count": 23,
   "metadata": {
    "collapsed": false
   },
   "outputs": [],
   "source": [
    "from sklearn.neighbors import KNeighborsClassifier\n",
    "from sklearn.ensemble import RandomForestClassifier,GradientBoostingClassifier\n",
    "from sklearn.linear_model import LogisticRegression\n",
    "\n",
    "#XgBoost\n",
    "#NN\n",
    "\n",
    "#clf = KNeighborsClassifier(n_neighbors=10)\n",
    "clf_list = [RandomForestClassifier(n_estimators = 500,n_jobs = 3), GradientBoostingClassifier(),LogisticRegression()]\n",
    "clf_names = ['RF','GBC','LogReg']"
   ]
  },
  {
   "cell_type": "code",
   "execution_count": null,
   "metadata": {
    "collapsed": false
   },
   "outputs": [],
   "source": [
    "#y_clf = train_for_loo.WnvPresent_DateTrapSpecies\n",
    "#y_clf = 'NaN'\n",
    "\n",
    "for clf,name in zip(clf_list,clf_names):\n",
    "    for year in [2007, 2009, 2011, 2013]:\n",
    "\n",
    "        X_train,X_test, y_train, y_test, y_train_numMosquitos, y_test_numMosquitos,year_mask = year_train_test_split(\n",
    "            train_for_loo,\n",
    "            'WnvPresent_DateTrapSpecies',\n",
    "            year) \n",
    "        X_train = X_train.drop('count_mosquitos',axis=1)\n",
    "    \n",
    "        clf.fit(X_train,y_train)\n",
    "        y_clf[year_mask] =clf.predict_proba(X_test)[:,1]\n",
    "    #test3 = clf.predict_proba(X_train)\n",
    "    #test2 = clf.predict_proba(X_test)\n",
    "        yhat_clf[year]= clf.predict_proba(test_for_loo)[:,1]\n",
    "\n",
    "#    test = clf.predict_proba(test_for_loo)\n",
    "    try:\n",
    "        yhat_clf = yhat_clf.drop('Tavg',axis=1)\n",
    "    except: \n",
    "        print('already droped')\n",
    "    df_train[name+'_prediction'] = y_clf\n",
    "    df_test[name+'_prediction'] = yhat_clf.mean(axis=1)"
   ]
  },
  {
   "cell_type": "code",
   "execution_count": null,
   "metadata": {
    "collapsed": false
   },
   "outputs": [],
   "source": [
    "df_train.columns.names"
   ]
  },
  {
   "cell_type": "code",
   "execution_count": 19,
   "metadata": {
    "collapsed": true
   },
   "outputs": [],
   "source": [
    "clf = KNeighborsClassifier(n_neighbors=10)"
   ]
  },
  {
   "cell_type": "code",
   "execution_count": 20,
   "metadata": {
    "collapsed": false
   },
   "outputs": [
    {
     "ename": "IndexError",
     "evalue": "index 1 is out of bounds for axis 1 with size 1",
     "output_type": "error",
     "traceback": [
      "\u001b[1;31m---------------------------------------------------------------------------\u001b[0m",
      "\u001b[1;31mIndexError\u001b[0m                                Traceback (most recent call last)",
      "\u001b[1;32m<ipython-input-20-e90ce0958c77>\u001b[0m in \u001b[0;36m<module>\u001b[1;34m()\u001b[0m\n\u001b[0;32m      8\u001b[0m \u001b[1;33m\u001b[0m\u001b[0m\n\u001b[0;32m      9\u001b[0m     \u001b[0mclf\u001b[0m\u001b[1;33m.\u001b[0m\u001b[0mfit\u001b[0m\u001b[1;33m(\u001b[0m\u001b[0mX_train\u001b[0m\u001b[1;33m,\u001b[0m\u001b[0my_train\u001b[0m\u001b[1;33m)\u001b[0m\u001b[1;33m\u001b[0m\u001b[0m\n\u001b[1;32m---> 10\u001b[1;33m     \u001b[0my_clf\u001b[0m\u001b[1;33m[\u001b[0m\u001b[0myear_mask\u001b[0m\u001b[1;33m]\u001b[0m \u001b[1;33m=\u001b[0m\u001b[0mclf\u001b[0m\u001b[1;33m.\u001b[0m\u001b[0mpredict_proba\u001b[0m\u001b[1;33m(\u001b[0m\u001b[0mX_test\u001b[0m\u001b[1;33m)\u001b[0m\u001b[1;33m[\u001b[0m\u001b[1;33m:\u001b[0m\u001b[1;33m,\u001b[0m\u001b[1;36m1\u001b[0m\u001b[1;33m]\u001b[0m\u001b[1;33m\u001b[0m\u001b[0m\n\u001b[0m\u001b[0;32m     11\u001b[0m     \u001b[1;31m#test3 = clf.predict_proba(X_train)\u001b[0m\u001b[1;33m\u001b[0m\u001b[1;33m\u001b[0m\u001b[0m\n\u001b[0;32m     12\u001b[0m     \u001b[1;31m#test2 = clf.predict_proba(X_test)\u001b[0m\u001b[1;33m\u001b[0m\u001b[1;33m\u001b[0m\u001b[0m\n",
      "\u001b[1;31mIndexError\u001b[0m: index 1 is out of bounds for axis 1 with size 1"
     ]
    }
   ],
   "source": [
    "for year in [2007, 2009, 2011, 2013]:\n",
    "\n",
    "    X_train,X_test, y_train, y_test, y_train_numMosquitos, y_test_numMosquitos,year_mask = year_train_test_split(\n",
    "            train_for_loo,\n",
    "            'WnvPresent_DateTrapSpecies',\n",
    "            year) \n",
    "    X_train = X_train.drop('count_mosquitos',axis=1)\n",
    "    \n",
    "    clf.fit(X_train,y_train)\n",
    "    y_clf[year_mask] =clf.predict_proba(X_test)[:,1]\n",
    "    #test3 = clf.predict_proba(X_train)\n",
    "    #test2 = clf.predict_proba(X_test)\n",
    "    yhat_clf[year]= clf.predict_proba(test_for_loo)[:,1]\n",
    "\n",
    "#    test = clf.predict_proba(test_for_loo)\n",
    "try:\n",
    "    yhat_clf = yhat_clf.drop('Tavg',axis=1)\n",
    "except: \n",
    "    print('already droped')"
   ]
  },
  {
   "cell_type": "code",
   "execution_count": null,
   "metadata": {
    "collapsed": true
   },
   "outputs": [],
   "source": [
    "df_train['KNN_Prediction'] = y_clf\n",
    "df_test['KNN_Prediction'] = yhat_clf.mean(axis=1)"
   ]
  },
  {
   "cell_type": "code",
   "execution_count": null,
   "metadata": {
    "collapsed": false
   },
   "outputs": [],
   "source": [
    "df_train.to_csv('train_plus_pred.csv',index=False)\n",
    "df_test.to_csv('test_plus_pred.csv',index=False)"
   ]
  },
  {
   "cell_type": "code",
   "execution_count": null,
   "metadata": {
    "collapsed": true
   },
   "outputs": [],
   "source": []
  },
  {
   "cell_type": "code",
   "execution_count": null,
   "metadata": {
    "collapsed": true
   },
   "outputs": [],
   "source": []
  }
 ],
 "metadata": {
  "kernelspec": {
   "display_name": "Python 3",
   "language": "python",
   "name": "python3"
  },
  "language_info": {
   "codemirror_mode": {
    "name": "ipython",
    "version": 3
   },
   "file_extension": ".py",
   "mimetype": "text/x-python",
   "name": "python",
   "nbconvert_exporter": "python",
   "pygments_lexer": "ipython3",
   "version": "3.4.3"
  }
 },
 "nbformat": 4,
 "nbformat_minor": 0
}
