{
 "cells": [
  {
   "cell_type": "code",
   "execution_count": 1,
   "metadata": {
    "collapsed": true
   },
   "outputs": [],
   "source": [
    "import pandas as pd\n",
    "import numpy as np\n",
    "from sklearn import cross_validation, preprocessing, metrics\n",
    "df_train = pd.read_csv('../Data_with_NumMosquitos/unique_train.csv')\n",
    "#df_train_nomosq = pd.read_csv('../train_filled_new.csv')\n",
    "df_test = pd.read_csv('../Data_with_NumMosquitos/new_test_priors.csv')\n",
    "#df_test_nomosq = pd.read_csv('../test_filled_new.csv')"
   ]
  },
  {
   "cell_type": "code",
   "execution_count": 2,
   "metadata": {
    "collapsed": true
   },
   "outputs": [],
   "source": [
    "random_state = 42\n",
    "df_train = df_train.drop(['Block'],axis=1)\n",
    "df_test = df_test.drop(['Block'],axis=1)"
   ]
  },
  {
   "cell_type": "code",
   "execution_count": 3,
   "metadata": {
    "collapsed": true
   },
   "outputs": [],
   "source": [
    "def year_train_test_split(train, target, year):\n",
    "\n",
    "    # Create copy\n",
    "    X = train.copy()\n",
    "\n",
    "    # Retrieve target column and remove from X\n",
    "    y = X[target]\n",
    "    X.drop([target], axis=1)\n",
    "\n",
    "    # Create mask\n",
    "    msk = X.Year == year\n",
    "\n",
    "    # Drop date column\n",
    "    X = X.drop(['Year', 'WnvPresent_DateTrapSpecies'], axis=1)\n",
    "    \n",
    "    # Create dfs based on mask    \n",
    "    X_train = X[~msk]\n",
    "    X_test = X[msk]\n",
    "    X_test = X_test.drop(['count_mosquitos'], axis=1)\n",
    "    y_train = y[~msk]\n",
    "    y_test = y[msk]\n",
    "    y_train_numMosquitos = X.count_mosquitos[~msk] \n",
    "    y_test_numMosquitos = X.count_mosquitos[msk] \n",
    "    \n",
    "    return X_train, X_test, y_train, y_test, y_train_numMosquitos, y_test_numMosquitos,msk"
   ]
  },
  {
   "cell_type": "code",
   "execution_count": 4,
   "metadata": {
    "collapsed": false
   },
   "outputs": [
    {
     "data": {
      "text/plain": [
       "['Month', 'AddressAccuracy']"
      ]
     },
     "execution_count": 4,
     "metadata": {},
     "output_type": "execute_result"
    }
   ],
   "source": [
    "list1 = [#'NumMosquitos',\n",
    "                            'Trap',\n",
    "                            'Month',\n",
    "                            'Block',\n",
    "                            'AddressAccuracy',\n",
    "                            'AddressNumberAndStreet',\n",
    "                            'Address',\n",
    "                            'Street',\n",
    "                            'CodeSum'\n",
    "]\n",
    "\n",
    "[var for var in list1 if var in df_train.columns]"
   ]
  },
  {
   "cell_type": "code",
   "execution_count": 5,
   "metadata": {
    "collapsed": false
   },
   "outputs": [
    {
     "data": {
      "text/plain": [
       "['Year', 'count_mosquitos', 'WnvPresent_DateTrapSpecies']"
      ]
     },
     "execution_count": 5,
     "metadata": {},
     "output_type": "execute_result"
    }
   ],
   "source": [
    "train_for_loo = df_train.drop(['Month', 'AddressAccuracy'], axis=1)\n",
    "test_for_loo = df_test.drop(['Month','AddressAccuracy','Unnamed: 0','Year', 'count_mosquitos'],axis=1)\n",
    "[var for var in test_for_loo.columns if var not in train_for_loo], \n",
    "[var for var in train_for_loo.columns if var not in test_for_loo]"
   ]
  },
  {
   "cell_type": "code",
   "execution_count": 6,
   "metadata": {
    "collapsed": false
   },
   "outputs": [],
   "source": [
    "y_clf = train_for_loo.WnvPresent_DateTrapSpecies\n",
    "yhat_clf = pd.DataFrame(df_test.Tavg)\n",
    "#yhat_clf.Tavg"
   ]
  },
  {
   "cell_type": "code",
   "execution_count": 10,
   "metadata": {
    "collapsed": false
   },
   "outputs": [],
   "source": [
    "from sklearn.neighbors import KNeighborsClassifier\n",
    "from sklearn.ensemble import RandomForestClassifier\n",
    "#XgBoost\n",
    "#NN\n",
    "\n",
    "#clf = KNeighborsClassifier(n_neighbors=10)\n",
    "clf = RandomForestClassifier(n_estimators = 500,n_jobs = 3)"
   ]
  },
  {
   "cell_type": "code",
   "execution_count": 11,
   "metadata": {
    "collapsed": false
   },
   "outputs": [],
   "source": [
    "#y_clf = train_for_loo.WnvPresent_DateTrapSpecies\n",
    "#y_clf = 'NaN'\n",
    "\n",
    "for year in [2007, 2009, 2011, 2013]:\n",
    "\n",
    "    X_train,X_test, y_train, y_test, y_train_numMosquitos, y_test_numMosquitos,year_mask = year_train_test_split(\n",
    "            train_for_loo,\n",
    "            'WnvPresent_DateTrapSpecies',\n",
    "            year) \n",
    "    X_train = X_train.drop('count_mosquitos',axis=1)\n",
    "    \n",
    "    clf.fit(X_train,y_train)\n",
    "    y_clf[year_mask] =clf.predict_proba(X_test)[:,1]\n",
    "    #test3 = clf.predict_proba(X_train)\n",
    "    #test2 = clf.predict_proba(X_test)\n",
    "    yhat_clf[year]= clf.predict_proba(test_for_loo)[:,1]\n",
    "\n",
    "#    test = clf.predict_proba(test_for_loo)\n",
    "try:\n",
    "    yhat_clf = yhat_clf.drop('Tavg',axis=1)\n",
    "except: \n",
    "    print('already droped')"
   ]
  },
  {
   "cell_type": "code",
   "execution_count": 12,
   "metadata": {
    "collapsed": false
   },
   "outputs": [],
   "source": [
    "df_train['RF_Prediction'] = y_clf\n",
    "df_test['RF_Prediction'] = yhat_clf.mean(axis=1)"
   ]
  },
  {
   "cell_type": "code",
   "execution_count": 13,
   "metadata": {
    "collapsed": true
   },
   "outputs": [],
   "source": [
    "clf = KNeighborsClassifier(n_neighbors=10)"
   ]
  },
  {
   "cell_type": "code",
   "execution_count": 14,
   "metadata": {
    "collapsed": false
   },
   "outputs": [
    {
     "name": "stdout",
     "output_type": "stream",
     "text": [
      "already droped\n"
     ]
    }
   ],
   "source": [
    "for year in [2007, 2009, 2011, 2013]:\n",
    "\n",
    "    X_train,X_test, y_train, y_test, y_train_numMosquitos, y_test_numMosquitos,year_mask = year_train_test_split(\n",
    "            train_for_loo,\n",
    "            'WnvPresent_DateTrapSpecies',\n",
    "            year) \n",
    "    X_train = X_train.drop('count_mosquitos',axis=1)\n",
    "    \n",
    "    clf.fit(X_train,y_train)\n",
    "    y_clf[year_mask] =clf.predict_proba(X_test)[:,1]\n",
    "    #test3 = clf.predict_proba(X_train)\n",
    "    #test2 = clf.predict_proba(X_test)\n",
    "    yhat_clf[year]= clf.predict_proba(test_for_loo)[:,1]\n",
    "\n",
    "#    test = clf.predict_proba(test_for_loo)\n",
    "try:\n",
    "    yhat_clf = yhat_clf.drop('Tavg',axis=1)\n",
    "except: \n",
    "    print('already droped')"
   ]
  },
  {
   "cell_type": "code",
   "execution_count": 15,
   "metadata": {
    "collapsed": true
   },
   "outputs": [],
   "source": [
    "df_train['KNN_Prediction'] = y_clf\n",
    "df_test['KNN_Prediction'] = yhat_clf.mean(axis=1)"
   ]
  },
  {
   "cell_type": "code",
   "execution_count": null,
   "metadata": {
    "collapsed": false
   },
   "outputs": [],
   "source": [
    "df_train.to_csv('train_plus_pred.csv',index=False)\n",
    "df_test.to_csv('test_plus_pred.csv',index=False)"
   ]
  },
  {
   "cell_type": "code",
   "execution_count": null,
   "metadata": {
    "collapsed": true
   },
   "outputs": [],
   "source": []
  },
  {
   "cell_type": "code",
   "execution_count": null,
   "metadata": {
    "collapsed": true
   },
   "outputs": [],
   "source": []
  }
 ],
 "metadata": {
  "kernelspec": {
   "display_name": "Python 3",
   "language": "python",
   "name": "python3"
  },
  "language_info": {
   "codemirror_mode": {
    "name": "ipython",
    "version": 3
   },
   "file_extension": ".py",
   "mimetype": "text/x-python",
   "name": "python",
   "nbconvert_exporter": "python",
   "pygments_lexer": "ipython3",
   "version": "3.4.3"
  }
 },
 "nbformat": 4,
 "nbformat_minor": 0
}
